{
 "cells": [
  {
   "cell_type": "code",
   "execution_count": 8,
   "id": "4d8c6bbe",
   "metadata": {},
   "outputs": [],
   "source": [
    "import math\n",
    "import numpy as np\n",
    "from scipy import stats\n",
    "import matplotlib.pyplot as plt\n",
    "import pandas as pd\n",
    "import seaborn as sns\n",
    "import random\n",
    "\n",
    "%matplotlib inline\n",
    "plt.rcParams.update({\n",
    "        'font.size': 14,\n",
    "        'axes.titlesize': 15,\n",
    "        'axes.labelsize': 15,\n",
    "        'xtick.labelsize': 15,\n",
    "        'ytick.labelsize': 15,\n",
    "        'font.size': 15,\n",
    "        'figure.figsize': (10, 7),\n",
    "        'axes.grid': True,\n",
    "        'grid.linestyle': '-',\n",
    "        'grid.alpha': 0.3,\n",
    "        'lines.markersize': 5.0,\n",
    "        'xtick.minor.visible': True,\n",
    "        'xtick.direction': 'in',\n",
    "        'xtick.major.size': 20.0,\n",
    "        'xtick.minor.size': 10.0,\n",
    "        'xtick.top': False,\n",
    "        'xtick.bottom': True,\n",
    "        'ytick.minor.visible': True,\n",
    "        'ytick.direction': 'in',\n",
    "        'ytick.major.size': 12.0,\n",
    "        'ytick.minor.size': 6.0,\n",
    "        'ytick.right': True,\n",
    "        'errorbar.capsize': 0.0,\n",
    "    })\n",
    "\n",
    "# https://www.kaggle.com/competitions/practical-ml-chocolate/data\n",
    "# https://www.kaggle.com/datasets/rtatman/chocolate-bar-ratings/"
   ]
  },
  {
   "cell_type": "code",
   "execution_count": 29,
   "id": "3f61c2f7",
   "metadata": {},
   "outputs": [],
   "source": [
    "#!pip install catboost\n",
    "#!pip install optuna"
   ]
  },
  {
   "cell_type": "code",
   "execution_count": 9,
   "id": "3af85536",
   "metadata": {},
   "outputs": [
    {
     "name": "stdout",
     "output_type": "stream",
     "text": [
      "  main\u001b[m\r\n",
      "* \u001b[32mmodels\u001b[m\r\n"
     ]
    }
   ],
   "source": [
    "!git branch"
   ]
  },
  {
   "cell_type": "markdown",
   "id": "2966f292",
   "metadata": {},
   "source": [
    "# 1 Get data"
   ]
  },
  {
   "cell_type": "code",
   "execution_count": 10,
   "id": "03d1c097",
   "metadata": {},
   "outputs": [],
   "source": [
    "df_train = pd.read_csv('chocolate_train.csv')\n",
    "df_test = pd.read_csv('chocolate_test_new.csv')"
   ]
  },
  {
   "cell_type": "code",
   "execution_count": 11,
   "id": "3645f728",
   "metadata": {},
   "outputs": [],
   "source": [
    "def preprocessing_step1(data):\n",
    "    data_new = data.copy()\n",
    "    data_new['Cocoa Percent'] = data_new['Cocoa Percent'].apply(lambda x: float(x.strip('%')))\n",
    "    data_new = data_new.fillna(\"Unknown\")\n",
    "    data_new['Broad Bean Origin'] = data_new['Broad Bean Origin'].replace('\\xa0', \"Unknown\")\n",
    "    data_new['Bean Type'] = data_new['Bean Type'].replace('\\xa0', \"Unknown\")\n",
    "    data_new.replace(\n",
    "    {\n",
    "        'Eucador': 'Ecuador',\n",
    "        'Domincan Republic': 'Dominican Republic',\n",
    "        'Niacragua': 'Nicaragua'\n",
    "    },\n",
    "    inplace=True)\n",
    "    return data_new"
   ]
  },
  {
   "cell_type": "code",
   "execution_count": 12,
   "id": "f8fa13c6",
   "metadata": {},
   "outputs": [],
   "source": [
    "df_train = preprocessing_step1(df_train)\n",
    "df_test = preprocessing_step1(df_test)"
   ]
  },
  {
   "cell_type": "code",
   "execution_count": 13,
   "id": "8a43f6fa",
   "metadata": {},
   "outputs": [
    {
     "data": {
      "text/html": [
       "<div>\n",
       "<style scoped>\n",
       "    .dataframe tbody tr th:only-of-type {\n",
       "        vertical-align: middle;\n",
       "    }\n",
       "\n",
       "    .dataframe tbody tr th {\n",
       "        vertical-align: top;\n",
       "    }\n",
       "\n",
       "    .dataframe thead th {\n",
       "        text-align: right;\n",
       "    }\n",
       "</style>\n",
       "<table border=\"1\" class=\"dataframe\">\n",
       "  <thead>\n",
       "    <tr style=\"text-align: right;\">\n",
       "      <th></th>\n",
       "      <th>Company</th>\n",
       "      <th>Specific Bean Origin</th>\n",
       "      <th>REF</th>\n",
       "      <th>Review</th>\n",
       "      <th>Cocoa Percent</th>\n",
       "      <th>Company Location</th>\n",
       "      <th>Rating</th>\n",
       "      <th>Bean Type</th>\n",
       "      <th>Broad Bean Origin</th>\n",
       "    </tr>\n",
       "  </thead>\n",
       "  <tbody>\n",
       "    <tr>\n",
       "      <th>0</th>\n",
       "      <td>Willie's Cacao</td>\n",
       "      <td>Rio Caribe</td>\n",
       "      <td>457</td>\n",
       "      <td>2009</td>\n",
       "      <td>72.0</td>\n",
       "      <td>U.K.</td>\n",
       "      <td>3.25</td>\n",
       "      <td>Trinitario</td>\n",
       "      <td>Venezuela</td>\n",
       "    </tr>\n",
       "    <tr>\n",
       "      <th>1</th>\n",
       "      <td>Beschle (Felchlin)</td>\n",
       "      <td>Ocumare, Premier Cru, Quizas No. 2</td>\n",
       "      <td>508</td>\n",
       "      <td>2010</td>\n",
       "      <td>72.0</td>\n",
       "      <td>Switzerland</td>\n",
       "      <td>3.50</td>\n",
       "      <td>Unknown</td>\n",
       "      <td>Venezuela</td>\n",
       "    </tr>\n",
       "    <tr>\n",
       "      <th>2</th>\n",
       "      <td>Dark Forest</td>\n",
       "      <td>Tanzania</td>\n",
       "      <td>1554</td>\n",
       "      <td>2015</td>\n",
       "      <td>70.0</td>\n",
       "      <td>U.S.A.</td>\n",
       "      <td>3.00</td>\n",
       "      <td>Unknown</td>\n",
       "      <td>Tanzania</td>\n",
       "    </tr>\n",
       "    <tr>\n",
       "      <th>3</th>\n",
       "      <td>Brasstown aka It's Chocolate</td>\n",
       "      <td>Cooproagro</td>\n",
       "      <td>1125</td>\n",
       "      <td>2013</td>\n",
       "      <td>72.0</td>\n",
       "      <td>U.S.A.</td>\n",
       "      <td>3.00</td>\n",
       "      <td>Trinitario</td>\n",
       "      <td>Dominican Republic</td>\n",
       "    </tr>\n",
       "    <tr>\n",
       "      <th>4</th>\n",
       "      <td>Pralus</td>\n",
       "      <td>Java, Indonesie</td>\n",
       "      <td>32</td>\n",
       "      <td>2006</td>\n",
       "      <td>75.0</td>\n",
       "      <td>France</td>\n",
       "      <td>3.50</td>\n",
       "      <td>Criollo</td>\n",
       "      <td>Indonesia</td>\n",
       "    </tr>\n",
       "  </tbody>\n",
       "</table>\n",
       "</div>"
      ],
      "text/plain": [
       "                        Company                Specific Bean Origin   REF  \\\n",
       "0                Willie's Cacao                          Rio Caribe   457   \n",
       "1            Beschle (Felchlin)  Ocumare, Premier Cru, Quizas No. 2   508   \n",
       "2                   Dark Forest                            Tanzania  1554   \n",
       "3  Brasstown aka It's Chocolate                          Cooproagro  1125   \n",
       "4                        Pralus                     Java, Indonesie    32   \n",
       "\n",
       "   Review  Cocoa Percent Company Location  Rating   Bean Type  \\\n",
       "0    2009           72.0             U.K.    3.25  Trinitario   \n",
       "1    2010           72.0      Switzerland    3.50     Unknown   \n",
       "2    2015           70.0           U.S.A.    3.00     Unknown   \n",
       "3    2013           72.0           U.S.A.    3.00  Trinitario   \n",
       "4    2006           75.0           France    3.50     Criollo   \n",
       "\n",
       "    Broad Bean Origin  \n",
       "0           Venezuela  \n",
       "1           Venezuela  \n",
       "2            Tanzania  \n",
       "3  Dominican Republic  \n",
       "4           Indonesia  "
      ]
     },
     "execution_count": 13,
     "metadata": {},
     "output_type": "execute_result"
    }
   ],
   "source": [
    "df_train.head()"
   ]
  },
  {
   "cell_type": "code",
   "execution_count": 14,
   "id": "a65d6ba7",
   "metadata": {},
   "outputs": [
    {
     "data": {
      "text/plain": [
       "Company                   0\n",
       "Specific Bean Origin      0\n",
       "REF                       0\n",
       "Review                    0\n",
       "Cocoa Percent             0\n",
       "Company Location          0\n",
       "Rating                    0\n",
       "Bean Type               629\n",
       "Broad Bean Origin        56\n",
       "dtype: int64"
      ]
     },
     "execution_count": 14,
     "metadata": {},
     "output_type": "execute_result"
    }
   ],
   "source": [
    "(df_train == \"Unknown\").sum()"
   ]
  },
  {
   "cell_type": "markdown",
   "id": "8e9a89c5",
   "metadata": {},
   "source": [
    "# 2 Models"
   ]
  },
  {
   "cell_type": "code",
   "execution_count": 30,
   "id": "307590dd",
   "metadata": {},
   "outputs": [],
   "source": [
    "from sklearn.model_selection import train_test_split\n",
    "from catboost import CatBoostClassifier\n",
    "import optuna"
   ]
  },
  {
   "cell_type": "markdown",
   "id": "eba6a9c5",
   "metadata": {},
   "source": [
    "## 2.1 Broad Bean Origin"
   ]
  },
  {
   "cell_type": "markdown",
   "id": "747f1b9b",
   "metadata": {},
   "source": [
    "### 2.1.1  Split to train and test"
   ]
  },
  {
   "cell_type": "code",
   "execution_count": 15,
   "id": "60051409",
   "metadata": {},
   "outputs": [
    {
     "name": "stdout",
     "output_type": "stream",
     "text": [
      "(1199, 7)\n",
      "(56, 7)\n",
      "(522, 7)\n",
      "(18, 7)\n"
     ]
    }
   ],
   "source": [
    "# Split data to train (with no \"Unknown\" cells) and test (with \"Unknown\" cells)\n",
    "\n",
    "df_train_encoder_train = df_train[(df_train['Broad Bean Origin'] != 'Unknown')]\\\n",
    "    .drop(['Bean Type', 'Rating'], axis=1)\n",
    "df_train_encoder_test = df_train[(df_train['Broad Bean Origin'] == 'Unknown')]\\\n",
    "    .drop(['Bean Type', 'Rating'], axis=1)\n",
    "df_test_encoder_train = df_test[(df_test['Broad Bean Origin'] != 'Unknown')]\\\n",
    "    .drop(['Bean Type'], axis=1)\n",
    "df_test_encoder_test = df_test[(df_test['Broad Bean Origin'] == 'Unknown')]\\\n",
    "    .drop(['Bean Type'], axis=1)\n",
    "\n",
    "print(df_train_encoder_train.shape)\n",
    "print(df_train_encoder_test.shape)\n",
    "print(df_test_encoder_train.shape)\n",
    "print(df_test_encoder_test.shape)\n",
    "\n",
    "X = pd.concat([\n",
    "    df_train_encoder_train.drop('Broad Bean Origin', axis=1),\n",
    "    df_test_encoder_train.drop('Broad Bean Origin', axis=1)\n",
    "])\n",
    "\n",
    "y = pd.concat([\n",
    "    df_train_encoder_train['Broad Bean Origin'],\n",
    "    df_test_encoder_train['Broad Bean Origin']\n",
    "])"
   ]
  },
  {
   "cell_type": "code",
   "execution_count": 17,
   "id": "384e4632",
   "metadata": {},
   "outputs": [
    {
     "data": {
      "text/plain": [
       "Venezuela             214\n",
       "Ecuador               193\n",
       "Dominican Republic    166\n",
       "Peru                  165\n",
       "Madagascar            145\n",
       "Nicaragua              60\n",
       "Brazil                 58\n",
       "Bolivia                57\n",
       "Belize                 49\n",
       "Papua New Guinea       42\n",
       "Colombia               40\n",
       "Name: Broad Bean Origin, dtype: int64"
      ]
     },
     "execution_count": 17,
     "metadata": {},
     "output_type": "execute_result"
    }
   ],
   "source": [
    "# Train on top 11 countries\n",
    "y.value_counts()[:11]"
   ]
  },
  {
   "cell_type": "code",
   "execution_count": 20,
   "id": "a073560f",
   "metadata": {},
   "outputs": [],
   "source": [
    "# Most probable bean origins\n",
    "top_bean_origins = y.value_counts()[:11].index\n",
    "top_bean_origins_mask = y.apply(lambda x: x in top_bean_origins)\n",
    "\n",
    "# train on top 10 Broad Bean Origins only\n",
    "X_top = X[top_bean_origins_mask]\n",
    "y_top = y[top_bean_origins_mask]\n",
    "\n",
    "X_train, X_val, y_train, y_val = train_test_split(X_top, y_top, test_size=0.2)\n",
    "\n",
    "categorical_features_indices = np.where(X_top.dtypes == object)[0]"
   ]
  },
  {
   "cell_type": "code",
   "execution_count": 24,
   "id": "ba5377ce",
   "metadata": {},
   "outputs": [],
   "source": [
    "def label_accuracy(y_true, y_pred):\n",
    "    df_bbo = pd.DataFrame({'True BBO': y_true.values, 'Predicted BBO': y_pred[:, 0]})\n",
    "    return (df_bbo['True BBO'] == df_bbo['Predicted BBO']).sum() / df_bbo.shape[0]"
   ]
  },
  {
   "cell_type": "markdown",
   "id": "664309b7",
   "metadata": {},
   "source": [
    "### 2.1.2 Broad Bean Origin: train CatBoost model"
   ]
  },
  {
   "cell_type": "code",
   "execution_count": 26,
   "id": "16aa9217",
   "metadata": {},
   "outputs": [
    {
     "data": {
      "text/plain": [
       "0.6638655462184874"
      ]
     },
     "execution_count": 26,
     "metadata": {},
     "output_type": "execute_result"
    }
   ],
   "source": [
    "# CatBoost with default hyperparameters\n",
    "model = CatBoostClassifier()\n",
    "\n",
    "model.fit(X_train, y_train,\n",
    "          cat_features=categorical_features_indices,\n",
    "          logging_level='Silent')\n",
    "\n",
    "pred = model.predict(X_val)\n",
    "\n",
    "label_accuracy(y_val, pred)"
   ]
  },
  {
   "cell_type": "markdown",
   "id": "efd70889",
   "metadata": {},
   "source": [
    "### 2.1.3 Optuna"
   ]
  },
  {
   "cell_type": "code",
   "execution_count": 31,
   "id": "833cb180",
   "metadata": {},
   "outputs": [
    {
     "name": "stderr",
     "output_type": "stream",
     "text": [
      "[I 2023-08-07 12:55:49,457] A new study created in memory with name: no-name-ce7614a1-97ba-4f08-8511-c959f4b94dc8\n",
      "[I 2023-08-07 12:55:58,817] Trial 1 finished with value: 0.6596638655462185 and parameters: {'n_estimators': 302, 'max_depth': 2, 'learning_rate': 0.081}. Best is trial 1 with value: 0.6596638655462185.\n",
      "[I 2023-08-07 12:56:08,274] Trial 9 finished with value: 0.6470588235294118 and parameters: {'n_estimators': 394, 'max_depth': 3, 'learning_rate': 0.022000000000000002}. Best is trial 1 with value: 0.6596638655462185.\n",
      "[I 2023-08-07 12:56:16,857] Trial 14 finished with value: 0.6722689075630253 and parameters: {'n_estimators': 174, 'max_depth': 8, 'learning_rate': 0.031}. Best is trial 14 with value: 0.6722689075630253.\n",
      "[I 2023-08-07 12:56:20,923] Trial 15 finished with value: 0.680672268907563 and parameters: {'n_estimators': 432, 'max_depth': 4, 'learning_rate': 0.055}. Best is trial 15 with value: 0.680672268907563.\n",
      "[I 2023-08-07 12:56:23,389] Trial 7 finished with value: 0.6470588235294118 and parameters: {'n_estimators': 719, 'max_depth': 3, 'learning_rate': 0.009000000000000001}. Best is trial 15 with value: 0.680672268907563.\n",
      "[I 2023-08-07 12:56:27,387] Trial 16 finished with value: 0.680672268907563 and parameters: {'n_estimators': 217, 'max_depth': 6, 'learning_rate': 0.052000000000000005}. Best is trial 15 with value: 0.680672268907563.\n",
      "[I 2023-08-07 12:56:29,256] Trial 17 finished with value: 0.6848739495798319 and parameters: {'n_estimators': 79, 'max_depth': 9, 'learning_rate': 0.079}. Best is trial 17 with value: 0.6848739495798319.\n",
      "[I 2023-08-07 12:56:30,931] Trial 18 finished with value: 0.6722689075630253 and parameters: {'n_estimators': 30, 'max_depth': 10, 'learning_rate': 0.049}. Best is trial 17 with value: 0.6848739495798319.\n",
      "[I 2023-08-07 12:56:31,100] Trial 0 finished with value: 0.680672268907563 and parameters: {'n_estimators': 338, 'max_depth': 6, 'learning_rate': 0.043000000000000003}. Best is trial 17 with value: 0.6848739495798319.\n",
      "[I 2023-08-07 12:57:02,831] Trial 6 finished with value: 0.6932773109243697 and parameters: {'n_estimators': 382, 'max_depth': 7, 'learning_rate': 0.058}. Best is trial 6 with value: 0.6932773109243697.\n",
      "[I 2023-08-07 12:57:08,325] Trial 11 finished with value: 0.680672268907563 and parameters: {'n_estimators': 600, 'max_depth': 6, 'learning_rate': 0.08600000000000001}. Best is trial 6 with value: 0.6932773109243697.\n",
      "[I 2023-08-07 12:57:27,969] Trial 4 finished with value: 0.6680672268907563 and parameters: {'n_estimators': 738, 'max_depth': 6, 'learning_rate': 0.07100000000000001}. Best is trial 6 with value: 0.6932773109243697.\n",
      "[I 2023-08-07 12:57:28,051] Trial 2 finished with value: 0.6680672268907563 and parameters: {'n_estimators': 503, 'max_depth': 7, 'learning_rate': 0.095}. Best is trial 6 with value: 0.6932773109243697.\n",
      "[I 2023-08-07 12:58:59,808] Trial 19 finished with value: 0.6596638655462185 and parameters: {'n_estimators': 769, 'max_depth': 7, 'learning_rate': 0.093}. Best is trial 6 with value: 0.6932773109243697.\n",
      "[I 2023-08-07 12:59:51,154] Trial 3 finished with value: 0.680672268907563 and parameters: {'n_estimators': 364, 'max_depth': 10, 'learning_rate': 0.027000000000000003}. Best is trial 6 with value: 0.6932773109243697.\n",
      "[I 2023-08-07 13:00:19,008] Trial 8 finished with value: 0.6764705882352942 and parameters: {'n_estimators': 238, 'max_depth': 11, 'learning_rate': 0.018000000000000002}. Best is trial 6 with value: 0.6932773109243697.\n",
      "[I 2023-08-07 13:02:34,266] Trial 12 finished with value: 0.680672268907563 and parameters: {'n_estimators': 956, 'max_depth': 9, 'learning_rate': 0.027000000000000003}. Best is trial 6 with value: 0.6932773109243697.\n",
      "[I 2023-08-07 13:04:40,134] Trial 10 finished with value: 0.6386554621848739 and parameters: {'n_estimators': 444, 'max_depth': 12, 'learning_rate': 0.001}. Best is trial 6 with value: 0.6932773109243697.\n",
      "[I 2023-08-07 13:08:15,984] Trial 13 finished with value: 0.6638655462184874 and parameters: {'n_estimators': 751, 'max_depth': 11, 'learning_rate': 0.065}. Best is trial 6 with value: 0.6932773109243697.\n",
      "[I 2023-08-07 13:11:23,250] Trial 5 finished with value: 0.6680672268907563 and parameters: {'n_estimators': 647, 'max_depth': 12, 'learning_rate': 0.057}. Best is trial 6 with value: 0.6932773109243697.\n"
     ]
    },
    {
     "name": "stdout",
     "output_type": "stream",
     "text": [
      "FrozenTrial(number=6, state=1, values=[0.6932773109243697], datetime_start=datetime.datetime(2023, 8, 7, 12, 55, 49, 512994), datetime_complete=datetime.datetime(2023, 8, 7, 12, 57, 2, 831546), params={'n_estimators': 382, 'max_depth': 7, 'learning_rate': 0.058}, user_attrs={}, system_attrs={}, intermediate_values={}, distributions={'n_estimators': IntDistribution(high=1000, log=False, low=10, step=1), 'max_depth': IntDistribution(high=12, log=False, low=1, step=1), 'learning_rate': FloatDistribution(high=0.1, log=False, low=0.001, step=0.001)}, trial_id=6, value=None)\n"
     ]
    }
   ],
   "source": [
    "def objective(trial):\n",
    "\n",
    "    param = {\n",
    "        \"n_estimators\": trial.suggest_int(\"n_estimators\", 10, 1000),\n",
    "        \"max_depth\": trial.suggest_int(\"max_depth\", 1, 12),\n",
    "        \"learning_rate\": trial.suggest_float(\"learning_rate\", 0.001, 0.1, step=0.001)\n",
    "    }\n",
    "\n",
    "    estimator = CatBoostClassifier(**param,\n",
    "                                   cat_features=categorical_features_indices,\n",
    "                                   verbose=False)\n",
    "\n",
    "    estimator.fit(X_train, y_train)\n",
    "    pred = estimator.predict(X_val)\n",
    "\n",
    "    return label_accuracy(y_val, pred)\n",
    "\n",
    "study = optuna.create_study(direction=\"maximize\")\n",
    "study.optimize(objective, n_trials=20, n_jobs=-1)\n",
    "print(study.best_trial)"
   ]
  },
  {
   "cell_type": "code",
   "execution_count": 32,
   "id": "1370683a",
   "metadata": {},
   "outputs": [
    {
     "name": "stdout",
     "output_type": "stream",
     "text": [
      "{'n_estimators': 382, 'max_depth': 7, 'learning_rate': 0.058}\n"
     ]
    }
   ],
   "source": [
    "print(study.best_trial.params)"
   ]
  },
  {
   "cell_type": "code",
   "execution_count": 33,
   "id": "cbc4a371",
   "metadata": {},
   "outputs": [
    {
     "data": {
      "text/plain": [
       "0.6932773109243697"
      ]
     },
     "execution_count": 33,
     "metadata": {},
     "output_type": "execute_result"
    }
   ],
   "source": [
    "model = CatBoostClassifier(**study.best_params,\n",
    "                           cat_features=categorical_features_indices,\n",
    "                           logging_level='Silent')\n",
    "\n",
    "model.fit(X_train, y_train)\n",
    "pred = model.predict(X_val)\n",
    "\n",
    "label_accuracy(y_val, pred)"
   ]
  },
  {
   "cell_type": "code",
   "execution_count": 34,
   "id": "4816b1ff",
   "metadata": {},
   "outputs": [
    {
     "data": {
      "text/html": [
       "<div>\n",
       "<style scoped>\n",
       "    .dataframe tbody tr th:only-of-type {\n",
       "        vertical-align: middle;\n",
       "    }\n",
       "\n",
       "    .dataframe tbody tr th {\n",
       "        vertical-align: top;\n",
       "    }\n",
       "\n",
       "    .dataframe thead th {\n",
       "        text-align: right;\n",
       "    }\n",
       "</style>\n",
       "<table border=\"1\" class=\"dataframe\">\n",
       "  <thead>\n",
       "    <tr style=\"text-align: right;\">\n",
       "      <th></th>\n",
       "      <th>Feature</th>\n",
       "      <th>Importance</th>\n",
       "    </tr>\n",
       "  </thead>\n",
       "  <tbody>\n",
       "    <tr>\n",
       "      <th>1</th>\n",
       "      <td>Specific Bean Origin</td>\n",
       "      <td>35.094427</td>\n",
       "    </tr>\n",
       "    <tr>\n",
       "      <th>5</th>\n",
       "      <td>Company Location</td>\n",
       "      <td>28.495665</td>\n",
       "    </tr>\n",
       "    <tr>\n",
       "      <th>0</th>\n",
       "      <td>Company</td>\n",
       "      <td>17.359681</td>\n",
       "    </tr>\n",
       "    <tr>\n",
       "      <th>2</th>\n",
       "      <td>REF</td>\n",
       "      <td>10.306868</td>\n",
       "    </tr>\n",
       "    <tr>\n",
       "      <th>4</th>\n",
       "      <td>Cocoa Percent</td>\n",
       "      <td>6.784059</td>\n",
       "    </tr>\n",
       "    <tr>\n",
       "      <th>3</th>\n",
       "      <td>Review</td>\n",
       "      <td>1.959300</td>\n",
       "    </tr>\n",
       "  </tbody>\n",
       "</table>\n",
       "</div>"
      ],
      "text/plain": [
       "                Feature  Importance\n",
       "1  Specific Bean Origin   35.094427\n",
       "5      Company Location   28.495665\n",
       "0               Company   17.359681\n",
       "2                   REF   10.306868\n",
       "4         Cocoa Percent    6.784059\n",
       "3                Review    1.959300"
      ]
     },
     "execution_count": 34,
     "metadata": {},
     "output_type": "execute_result"
    }
   ],
   "source": [
    "pd.DataFrame({'Feature': model.feature_names_, \"Importance\": model.feature_importances_})\\\n",
    "    .sort_values(by='Importance', ascending=False)"
   ]
  },
  {
   "cell_type": "code",
   "execution_count": 35,
   "id": "383fffac",
   "metadata": {},
   "outputs": [
    {
     "data": {
      "text/html": [
       "<div>\n",
       "<style scoped>\n",
       "    .dataframe tbody tr th:only-of-type {\n",
       "        vertical-align: middle;\n",
       "    }\n",
       "\n",
       "    .dataframe tbody tr th {\n",
       "        vertical-align: top;\n",
       "    }\n",
       "\n",
       "    .dataframe thead th {\n",
       "        text-align: right;\n",
       "    }\n",
       "</style>\n",
       "<table border=\"1\" class=\"dataframe\">\n",
       "  <thead>\n",
       "    <tr style=\"text-align: right;\">\n",
       "      <th></th>\n",
       "      <th>Feature</th>\n",
       "      <th>Importance</th>\n",
       "    </tr>\n",
       "  </thead>\n",
       "  <tbody>\n",
       "    <tr>\n",
       "      <th>1</th>\n",
       "      <td>Specific Bean Origin</td>\n",
       "      <td>38.032739</td>\n",
       "    </tr>\n",
       "    <tr>\n",
       "      <th>5</th>\n",
       "      <td>Company Location</td>\n",
       "      <td>29.345539</td>\n",
       "    </tr>\n",
       "    <tr>\n",
       "      <th>0</th>\n",
       "      <td>Company</td>\n",
       "      <td>17.128539</td>\n",
       "    </tr>\n",
       "    <tr>\n",
       "      <th>2</th>\n",
       "      <td>REF</td>\n",
       "      <td>8.460626</td>\n",
       "    </tr>\n",
       "    <tr>\n",
       "      <th>4</th>\n",
       "      <td>Cocoa Percent</td>\n",
       "      <td>5.116700</td>\n",
       "    </tr>\n",
       "    <tr>\n",
       "      <th>3</th>\n",
       "      <td>Review</td>\n",
       "      <td>1.915857</td>\n",
       "    </tr>\n",
       "  </tbody>\n",
       "</table>\n",
       "</div>"
      ],
      "text/plain": [
       "                Feature  Importance\n",
       "1  Specific Bean Origin   38.032739\n",
       "5      Company Location   29.345539\n",
       "0               Company   17.128539\n",
       "2                   REF    8.460626\n",
       "4         Cocoa Percent    5.116700\n",
       "3                Review    1.915857"
      ]
     },
     "execution_count": 35,
     "metadata": {},
     "output_type": "execute_result"
    }
   ],
   "source": [
    "# Fit on data with top 11 countries\n",
    "model.fit(X_top, y_top)\n",
    "\n",
    "pd.DataFrame({'Feature': model.feature_names_, \"Importance\": model.feature_importances_})\\\n",
    "    .sort_values(by='Importance', ascending=False)"
   ]
  },
  {
   "cell_type": "code",
   "execution_count": 36,
   "id": "0dcf4338",
   "metadata": {},
   "outputs": [],
   "source": [
    "# Apply to dataframes with \"Unknown\" Broad Bean Origin cells\n",
    "\n",
    "pred_bbo_train = model.predict(df_train_encoder_test.drop(['Broad Bean Origin'], axis=1))\n",
    "pred_bbo_test = model.predict(df_test_encoder_test.drop(['Broad Bean Origin'], axis=1))"
   ]
  },
  {
   "cell_type": "code",
   "execution_count": 37,
   "id": "2735378b",
   "metadata": {},
   "outputs": [],
   "source": [
    "# Indices of rows with \"Unknown\" value from intiinal datasets\n",
    "index_train = df_train[(df_train['Broad Bean Origin'] == 'Unknown')].index\n",
    "index_test = df_test[(df_test['Broad Bean Origin'] == 'Unknown')].index\n",
    "\n",
    "# Get Broad Bean Origin column from initial datasets\n",
    "df_train['Broad Bean Origin'] = pd.read_csv('chocolate_train.csv')['Broad Bean Origin']\n",
    "df_test['Broad Bean Origin'] = pd.read_csv('chocolate_test_new.csv')['Broad Bean Origin']\n",
    "\n",
    "# Replace values in BBO column with model output\n",
    "df_train.loc[index_train, ['Broad Bean Origin']] = pred_bbo_train[:, 0]\n",
    "df_test.loc[index_test, ['Broad Bean Origin']] = pred_bbo_test[:, 0]"
   ]
  },
  {
   "cell_type": "code",
   "execution_count": 38,
   "id": "4784f7ca",
   "metadata": {},
   "outputs": [],
   "source": [
    "# Save these new dataframes\n",
    "df_train.to_csv(\"train_bbo.csv\", index=False)\n",
    "df_test.to_csv(\"test_bbo.csv\", index=False)"
   ]
  },
  {
   "cell_type": "code",
   "execution_count": 40,
   "id": "ac4b99b4",
   "metadata": {},
   "outputs": [],
   "source": [
    "import pickle\n",
    "\n",
    "# Save the trained model as a pickle string.\n",
    "with open('BBO_model_v1.pickle', 'wb') as f:\n",
    "    pickle.dump(model, f)\n",
    "    \n",
    "model.save_model(\"BOO_catboost_v1\")"
   ]
  },
  {
   "cell_type": "markdown",
   "id": "b150d7c7",
   "metadata": {},
   "source": [
    "## 2.2 Bean Type"
   ]
  },
  {
   "cell_type": "markdown",
   "id": "7c4f9445",
   "metadata": {},
   "source": [
    "### 2.2.1 split to train and test"
   ]
  },
  {
   "cell_type": "code",
   "execution_count": 44,
   "id": "946c660d",
   "metadata": {},
   "outputs": [
    {
     "name": "stdout",
     "output_type": "stream",
     "text": [
      "(626, 8)\n",
      "(629, 8)\n",
      "(281, 8)\n",
      "(259, 8)\n"
     ]
    }
   ],
   "source": [
    "# Split data to train (with no \"Unknown\" cells) and test (with \"Unknown\" cells)\n",
    "\n",
    "df_train_encoder_train = df_train[(df_train['Bean Type'] != 'Unknown')]\\\n",
    "    .drop(['Rating'], axis=1)\n",
    "df_train_encoder_test = df_train[(df_train['Bean Type'] == 'Unknown')]\\\n",
    "    .drop(['Rating'], axis=1)\n",
    "df_test_encoder_train = df_test[(df_test['Bean Type'] != 'Unknown')]\n",
    "df_test_encoder_test = df_test[(df_test['Bean Type'] == 'Unknown')]\n",
    "\n",
    "print(df_train_encoder_train.shape)\n",
    "print(df_train_encoder_test.shape)\n",
    "print(df_test_encoder_train.shape)\n",
    "print(df_test_encoder_test.shape)\n",
    "\n",
    "X = pd.concat([\n",
    "    df_train_encoder_train.drop('Bean Type', axis=1),\n",
    "    df_test_encoder_train.drop('Bean Type', axis=1)\n",
    "])\n",
    "\n",
    "y = pd.concat([\n",
    "    df_train_encoder_train['Bean Type'],\n",
    "    df_test_encoder_train['Bean Type']\n",
    "])"
   ]
  },
  {
   "cell_type": "code",
   "execution_count": 45,
   "id": "48c2029f",
   "metadata": {},
   "outputs": [
    {
     "data": {
      "text/plain": [
       "Trinitario              419\n",
       "Criollo                 153\n",
       "Forastero                87\n",
       "Forastero (Nacional)     52\n",
       "Blend                    41\n",
       "Criollo, Trinitario      39\n",
       "Forastero (Arriba)       37\n",
       "Name: Bean Type, dtype: int64"
      ]
     },
     "execution_count": 45,
     "metadata": {},
     "output_type": "execute_result"
    }
   ],
   "source": [
    "# Train using only 3-7 most popular types\n",
    "y.value_counts()[:7]"
   ]
  },
  {
   "cell_type": "code",
   "execution_count": 46,
   "id": "4afa195e",
   "metadata": {},
   "outputs": [],
   "source": [
    "# Most probable bean origins\n",
    "top_bean_types = y.value_counts()[:7].index\n",
    "top_bean_types_mask = y.apply(lambda x: x in top_bean_types)\n",
    "\n",
    "# train on top 10 Broad Bean Origins only\n",
    "X_top = X[top_bean_types_mask]\n",
    "y_top = y[top_bean_types_mask]\n",
    "\n",
    "X_train, X_val, y_train, y_val = train_test_split(X_top, y_top, test_size=0.2)\n",
    "\n",
    "categorical_features_indices = np.where(X_top.dtypes == object)[0]"
   ]
  },
  {
   "cell_type": "markdown",
   "id": "d990f58e",
   "metadata": {},
   "source": [
    "### 2.2.2 Catboost model"
   ]
  },
  {
   "cell_type": "code",
   "execution_count": 47,
   "id": "53f27754",
   "metadata": {},
   "outputs": [
    {
     "data": {
      "text/plain": [
       "0.7771084337349398"
      ]
     },
     "execution_count": 47,
     "metadata": {},
     "output_type": "execute_result"
    }
   ],
   "source": [
    "# CatBoost with default hyperparameters\n",
    "model = CatBoostClassifier()\n",
    "\n",
    "model.fit(X_train, y_train,\n",
    "          cat_features=categorical_features_indices,\n",
    "          logging_level='Silent')\n",
    "\n",
    "pred = model.predict(X_val)\n",
    "\n",
    "label_accuracy(y_val, pred)"
   ]
  },
  {
   "cell_type": "markdown",
   "id": "e8c30fad",
   "metadata": {},
   "source": [
    "### 2.2.3 Optuna"
   ]
  },
  {
   "cell_type": "code",
   "execution_count": 48,
   "id": "59e1e9e5",
   "metadata": {},
   "outputs": [
    {
     "name": "stderr",
     "output_type": "stream",
     "text": [
      "[I 2023-08-07 13:26:27,677] A new study created in memory with name: no-name-b0af3246-8249-4601-b6ac-a43a289119fa\n",
      "[I 2023-08-07 13:26:29,387] Trial 10 finished with value: 0.6566265060240963 and parameters: {'n_estimators': 65, 'max_depth': 3, 'learning_rate': 0.055}. Best is trial 10 with value: 0.6566265060240963.\n",
      "[I 2023-08-07 13:26:31,244] Trial 4 finished with value: 0.7530120481927711 and parameters: {'n_estimators': 137, 'max_depth': 4, 'learning_rate': 0.029}. Best is trial 4 with value: 0.7530120481927711.\n",
      "[I 2023-08-07 13:26:32,141] Trial 14 finished with value: 0.6927710843373494 and parameters: {'n_estimators': 95, 'max_depth': 7, 'learning_rate': 0.024}. Best is trial 4 with value: 0.7530120481927711.\n",
      "[I 2023-08-07 13:26:32,176] Trial 0 finished with value: 0.7710843373493976 and parameters: {'n_estimators': 348, 'max_depth': 2, 'learning_rate': 0.08700000000000001}. Best is trial 0 with value: 0.7710843373493976.\n",
      "[I 2023-08-07 13:26:32,478] Trial 18 finished with value: 0.6265060240963856 and parameters: {'n_estimators': 14, 'max_depth': 2, 'learning_rate': 0.015}. Best is trial 0 with value: 0.7710843373493976.\n",
      "[I 2023-08-07 13:26:35,515] Trial 7 finished with value: 0.7590361445783133 and parameters: {'n_estimators': 704, 'max_depth': 2, 'learning_rate': 0.047}. Best is trial 0 with value: 0.7710843373493976.\n",
      "[I 2023-08-07 13:26:36,361] Trial 2 finished with value: 0.7469879518072289 and parameters: {'n_estimators': 871, 'max_depth': 2, 'learning_rate': 0.012}. Best is trial 0 with value: 0.7710843373493976.\n",
      "[I 2023-08-07 13:26:36,484] Trial 6 finished with value: 0.7530120481927711 and parameters: {'n_estimators': 857, 'max_depth': 2, 'learning_rate': 0.039}. Best is trial 0 with value: 0.7710843373493976.\n",
      "[I 2023-08-07 13:26:51,586] Trial 1 finished with value: 0.7349397590361446 and parameters: {'n_estimators': 277, 'max_depth': 6, 'learning_rate': 0.014000000000000002}. Best is trial 0 with value: 0.7710843373493976.\n",
      "[I 2023-08-07 13:26:54,523] Trial 16 finished with value: 0.7530120481927711 and parameters: {'n_estimators': 588, 'max_depth': 5, 'learning_rate': 0.067}. Best is trial 0 with value: 0.7710843373493976.\n",
      "[I 2023-08-07 13:26:54,856] Trial 5 finished with value: 0.7530120481927711 and parameters: {'n_estimators': 465, 'max_depth': 7, 'learning_rate': 0.083}. Best is trial 0 with value: 0.7710843373493976.\n",
      "[I 2023-08-07 13:26:56,526] Trial 12 finished with value: 0.7530120481927711 and parameters: {'n_estimators': 518, 'max_depth': 7, 'learning_rate': 0.042}. Best is trial 0 with value: 0.7710843373493976.\n",
      "[I 2023-08-07 13:27:03,018] Trial 9 finished with value: 0.7650602409638554 and parameters: {'n_estimators': 783, 'max_depth': 5, 'learning_rate': 0.039}. Best is trial 0 with value: 0.7710843373493976.\n",
      "[I 2023-08-07 13:27:06,601] Trial 11 finished with value: 0.7590361445783133 and parameters: {'n_estimators': 463, 'max_depth': 8, 'learning_rate': 0.017}. Best is trial 0 with value: 0.7710843373493976.\n",
      "[I 2023-08-07 13:27:14,026] Trial 17 finished with value: 0.7590361445783133 and parameters: {'n_estimators': 298, 'max_depth': 9, 'learning_rate': 0.097}. Best is trial 0 with value: 0.7710843373493976.\n",
      "[I 2023-08-07 13:27:15,052] Trial 13 finished with value: 0.7590361445783133 and parameters: {'n_estimators': 556, 'max_depth': 6, 'learning_rate': 0.034}. Best is trial 0 with value: 0.7710843373493976.\n",
      "[I 2023-08-07 13:27:37,634] Trial 15 finished with value: 0.7409638554216867 and parameters: {'n_estimators': 864, 'max_depth': 8, 'learning_rate': 0.092}. Best is trial 0 with value: 0.7710843373493976.\n",
      "[I 2023-08-07 13:27:40,938] Trial 3 finished with value: 0.7530120481927711 and parameters: {'n_estimators': 393, 'max_depth': 10, 'learning_rate': 0.060000000000000005}. Best is trial 0 with value: 0.7710843373493976.\n",
      "[I 2023-08-07 13:27:41,301] Trial 19 finished with value: 0.7650602409638554 and parameters: {'n_estimators': 886, 'max_depth': 8, 'learning_rate': 0.054}. Best is trial 0 with value: 0.7710843373493976.\n",
      "[I 2023-08-07 13:27:50,747] Trial 8 finished with value: 0.7469879518072289 and parameters: {'n_estimators': 539, 'max_depth': 10, 'learning_rate': 0.022000000000000002}. Best is trial 0 with value: 0.7710843373493976.\n"
     ]
    },
    {
     "name": "stdout",
     "output_type": "stream",
     "text": [
      "FrozenTrial(number=0, state=1, values=[0.7710843373493976], datetime_start=datetime.datetime(2023, 8, 7, 13, 26, 27, 679573), datetime_complete=datetime.datetime(2023, 8, 7, 13, 26, 32, 176562), params={'n_estimators': 348, 'max_depth': 2, 'learning_rate': 0.08700000000000001}, user_attrs={}, system_attrs={}, intermediate_values={}, distributions={'n_estimators': IntDistribution(high=1000, log=False, low=10, step=1), 'max_depth': IntDistribution(high=10, log=False, low=1, step=1), 'learning_rate': FloatDistribution(high=0.1, log=False, low=0.001, step=0.001)}, trial_id=0, value=None)\n"
     ]
    }
   ],
   "source": [
    "def objective(trial):\n",
    "\n",
    "    param = {\n",
    "        \"n_estimators\": trial.suggest_int(\"n_estimators\", 10, 1000),\n",
    "        \"max_depth\": trial.suggest_int(\"max_depth\", 1, 10),\n",
    "        \"learning_rate\": trial.suggest_float(\"learning_rate\", 0.001, 0.1, step=0.001)\n",
    "    }\n",
    "\n",
    "    estimator = CatBoostClassifier(**param,\n",
    "                                   cat_features=categorical_features_indices,\n",
    "                                   verbose=False)\n",
    "\n",
    "    estimator.fit(X_train, y_train)\n",
    "    pred = estimator.predict(X_val)\n",
    "\n",
    "    return label_accuracy(y_val, pred)\n",
    "\n",
    "study = optuna.create_study(direction=\"maximize\")\n",
    "study.optimize(objective, n_trials=20, n_jobs=-1)\n",
    "print(study.best_trial)"
   ]
  },
  {
   "cell_type": "code",
   "execution_count": 49,
   "id": "c4fdff2f",
   "metadata": {},
   "outputs": [
    {
     "name": "stdout",
     "output_type": "stream",
     "text": [
      "{'n_estimators': 348, 'max_depth': 2, 'learning_rate': 0.08700000000000001}\n"
     ]
    }
   ],
   "source": [
    "print(study.best_trial.params)"
   ]
  },
  {
   "cell_type": "code",
   "execution_count": 50,
   "id": "561fffc6",
   "metadata": {},
   "outputs": [
    {
     "data": {
      "text/plain": [
       "0.7710843373493976"
      ]
     },
     "execution_count": 50,
     "metadata": {},
     "output_type": "execute_result"
    }
   ],
   "source": [
    "model = CatBoostClassifier(**study.best_params,\n",
    "                           cat_features=categorical_features_indices,\n",
    "                           logging_level='Silent')\n",
    "\n",
    "model.fit(X_train, y_train)\n",
    "pred = model.predict(X_val)\n",
    "\n",
    "label_accuracy(y_val, pred)"
   ]
  },
  {
   "cell_type": "code",
   "execution_count": 51,
   "id": "bf1ed457",
   "metadata": {},
   "outputs": [
    {
     "data": {
      "text/html": [
       "<div>\n",
       "<style scoped>\n",
       "    .dataframe tbody tr th:only-of-type {\n",
       "        vertical-align: middle;\n",
       "    }\n",
       "\n",
       "    .dataframe tbody tr th {\n",
       "        vertical-align: top;\n",
       "    }\n",
       "\n",
       "    .dataframe thead th {\n",
       "        text-align: right;\n",
       "    }\n",
       "</style>\n",
       "<table border=\"1\" class=\"dataframe\">\n",
       "  <thead>\n",
       "    <tr style=\"text-align: right;\">\n",
       "      <th></th>\n",
       "      <th>Feature</th>\n",
       "      <th>Importance</th>\n",
       "    </tr>\n",
       "  </thead>\n",
       "  <tbody>\n",
       "    <tr>\n",
       "      <th>6</th>\n",
       "      <td>Broad Bean Origin</td>\n",
       "      <td>66.207098</td>\n",
       "    </tr>\n",
       "    <tr>\n",
       "      <th>5</th>\n",
       "      <td>Company Location</td>\n",
       "      <td>9.674067</td>\n",
       "    </tr>\n",
       "    <tr>\n",
       "      <th>2</th>\n",
       "      <td>REF</td>\n",
       "      <td>9.188031</td>\n",
       "    </tr>\n",
       "    <tr>\n",
       "      <th>0</th>\n",
       "      <td>Company</td>\n",
       "      <td>6.179399</td>\n",
       "    </tr>\n",
       "    <tr>\n",
       "      <th>1</th>\n",
       "      <td>Specific Bean Origin</td>\n",
       "      <td>4.835454</td>\n",
       "    </tr>\n",
       "    <tr>\n",
       "      <th>3</th>\n",
       "      <td>Review</td>\n",
       "      <td>3.239825</td>\n",
       "    </tr>\n",
       "    <tr>\n",
       "      <th>4</th>\n",
       "      <td>Cocoa Percent</td>\n",
       "      <td>0.676126</td>\n",
       "    </tr>\n",
       "  </tbody>\n",
       "</table>\n",
       "</div>"
      ],
      "text/plain": [
       "                Feature  Importance\n",
       "6     Broad Bean Origin   66.207098\n",
       "5      Company Location    9.674067\n",
       "2                   REF    9.188031\n",
       "0               Company    6.179399\n",
       "1  Specific Bean Origin    4.835454\n",
       "3                Review    3.239825\n",
       "4         Cocoa Percent    0.676126"
      ]
     },
     "execution_count": 51,
     "metadata": {},
     "output_type": "execute_result"
    }
   ],
   "source": [
    "pd.DataFrame({'Feature': model.feature_names_, \"Importance\": model.feature_importances_})\\\n",
    "    .sort_values(by='Importance', ascending=False)"
   ]
  },
  {
   "cell_type": "code",
   "execution_count": 52,
   "id": "050eb474",
   "metadata": {},
   "outputs": [
    {
     "data": {
      "text/html": [
       "<div>\n",
       "<style scoped>\n",
       "    .dataframe tbody tr th:only-of-type {\n",
       "        vertical-align: middle;\n",
       "    }\n",
       "\n",
       "    .dataframe tbody tr th {\n",
       "        vertical-align: top;\n",
       "    }\n",
       "\n",
       "    .dataframe thead th {\n",
       "        text-align: right;\n",
       "    }\n",
       "</style>\n",
       "<table border=\"1\" class=\"dataframe\">\n",
       "  <thead>\n",
       "    <tr style=\"text-align: right;\">\n",
       "      <th></th>\n",
       "      <th>Feature</th>\n",
       "      <th>Importance</th>\n",
       "    </tr>\n",
       "  </thead>\n",
       "  <tbody>\n",
       "    <tr>\n",
       "      <th>6</th>\n",
       "      <td>Broad Bean Origin</td>\n",
       "      <td>63.770696</td>\n",
       "    </tr>\n",
       "    <tr>\n",
       "      <th>5</th>\n",
       "      <td>Company Location</td>\n",
       "      <td>11.776458</td>\n",
       "    </tr>\n",
       "    <tr>\n",
       "      <th>2</th>\n",
       "      <td>REF</td>\n",
       "      <td>7.216055</td>\n",
       "    </tr>\n",
       "    <tr>\n",
       "      <th>1</th>\n",
       "      <td>Specific Bean Origin</td>\n",
       "      <td>6.794736</td>\n",
       "    </tr>\n",
       "    <tr>\n",
       "      <th>0</th>\n",
       "      <td>Company</td>\n",
       "      <td>5.993364</td>\n",
       "    </tr>\n",
       "    <tr>\n",
       "      <th>3</th>\n",
       "      <td>Review</td>\n",
       "      <td>4.232767</td>\n",
       "    </tr>\n",
       "    <tr>\n",
       "      <th>4</th>\n",
       "      <td>Cocoa Percent</td>\n",
       "      <td>0.215924</td>\n",
       "    </tr>\n",
       "  </tbody>\n",
       "</table>\n",
       "</div>"
      ],
      "text/plain": [
       "                Feature  Importance\n",
       "6     Broad Bean Origin   63.770696\n",
       "5      Company Location   11.776458\n",
       "2                   REF    7.216055\n",
       "1  Specific Bean Origin    6.794736\n",
       "0               Company    5.993364\n",
       "3                Review    4.232767\n",
       "4         Cocoa Percent    0.215924"
      ]
     },
     "execution_count": 52,
     "metadata": {},
     "output_type": "execute_result"
    }
   ],
   "source": [
    "model.fit(X_top, y_top)\n",
    "\n",
    "pd.DataFrame({'Feature': model.feature_names_, \"Importance\": model.feature_importances_})\\\n",
    "    .sort_values(by='Importance', ascending=False)"
   ]
  },
  {
   "cell_type": "code",
   "execution_count": 53,
   "id": "db85cd58",
   "metadata": {},
   "outputs": [],
   "source": [
    "# Apply model to data with empty cells\n",
    "pred_bt_train = model.predict(df_train_encoder_test.drop(['Bean Type'], axis=1))\n",
    "pred_bt_test = model.predict(df_test_encoder_test.drop(['Bean Type'], axis=1))"
   ]
  },
  {
   "cell_type": "code",
   "execution_count": 54,
   "id": "5e4d3997",
   "metadata": {},
   "outputs": [],
   "source": [
    "# Replace values in Bean Type column with model output\n",
    "df_train.loc[df_train_encoder_test.index, ['Bean Type']] = pred_bt_train[:, 0]\n",
    "df_test.loc[df_test_encoder_test.index, ['Bean Type']] = pred_bt_test[:, 0]\n",
    "\n",
    "# Save files\n",
    "df_train.to_csv(\"train_bt.csv\", index=False)\n",
    "df_test.to_csv(\"test_bt.csv\", index=False)\n",
    "\n",
    "# Save model\n",
    "model.save_model(\"BT_catboost_v1\")"
   ]
  },
  {
   "cell_type": "code",
   "execution_count": 55,
   "id": "54e63889",
   "metadata": {},
   "outputs": [],
   "source": [
    "# Save files\n",
    "df_train.to_csv(\"train_no_empty_cells.csv\", index=False)\n",
    "df_test.to_csv(\"test_no_empty_cells.csv\", index=False)"
   ]
  },
  {
   "cell_type": "markdown",
   "id": "d7f14fa4",
   "metadata": {},
   "source": [
    "# 3 Check new csv files"
   ]
  },
  {
   "cell_type": "code",
   "execution_count": null,
   "id": "3eee9582",
   "metadata": {},
   "outputs": [],
   "source": []
  }
 ],
 "metadata": {
  "kernelspec": {
   "display_name": "Python 3 (ipykernel)",
   "language": "python",
   "name": "python3"
  },
  "language_info": {
   "codemirror_mode": {
    "name": "ipython",
    "version": 3
   },
   "file_extension": ".py",
   "mimetype": "text/x-python",
   "name": "python",
   "nbconvert_exporter": "python",
   "pygments_lexer": "ipython3",
   "version": "3.11.3"
  },
  "toc": {
   "base_numbering": 1,
   "nav_menu": {},
   "number_sections": true,
   "sideBar": true,
   "skip_h1_title": false,
   "title_cell": "Table of Contents",
   "title_sidebar": "Contents",
   "toc_cell": false,
   "toc_position": {},
   "toc_section_display": true,
   "toc_window_display": true
  }
 },
 "nbformat": 4,
 "nbformat_minor": 5
}
