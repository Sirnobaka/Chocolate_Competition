{
 "cells": [
  {
   "cell_type": "markdown",
   "id": "c9d8782d",
   "metadata": {
    "toc": true
   },
   "source": [
    "<h1>Table of Contents<span class=\"tocSkip\"></span></h1>\n",
    "<div class=\"toc\"><ul class=\"toc-item\"><li><span><a href=\"#Problem\" data-toc-modified-id=\"Problem-1\">Problem</a></span></li><li><span><a href=\"#Data-Info\" data-toc-modified-id=\"Data-Info-2\">Data Info</a></span></li><li><span><a href=\"#1-Get-data\" data-toc-modified-id=\"1-Get-data-3\">1 Get data</a></span><ul class=\"toc-item\"><li><span><a href=\"#1.1-Basic-data-transformations\" data-toc-modified-id=\"1.1-Basic-data-transformations-3.1\">1.1 Basic data transformations</a></span></li></ul></li><li><span><a href=\"#2-EDA\" data-toc-modified-id=\"2-EDA-4\">2 EDA</a></span><ul class=\"toc-item\"><li><span><a href=\"#2.1-Numerical-column\" data-toc-modified-id=\"2.1-Numerical-column-4.1\">2.1 Numerical column</a></span><ul class=\"toc-item\"><li><span><a href=\"#2.1.1-REF\" data-toc-modified-id=\"2.1.1-REF-4.1.1\">2.1.1 REF</a></span></li><li><span><a href=\"#2.1.2-Review\" data-toc-modified-id=\"2.1.2-Review-4.1.2\">2.1.2 Review</a></span></li><li><span><a href=\"#2.1.3-Cocoa-Percent\" data-toc-modified-id=\"2.1.3-Cocoa-Percent-4.1.3\">2.1.3 Cocoa Percent</a></span></li><li><span><a href=\"#2.1.4.-Correlation-matrix-(numeric-features)\" data-toc-modified-id=\"2.1.4.-Correlation-matrix-(numeric-features)-4.1.4\">2.1.4. Correlation matrix (numeric features)</a></span></li></ul></li><li><span><a href=\"#2.2-Categorical-features\" data-toc-modified-id=\"2.2-Categorical-features-4.2\">2.2 Categorical features</a></span></li></ul></li><li><span><a href=\"#3-Outliers\" data-toc-modified-id=\"3-Outliers-5\">3 Outliers</a></span></li><li><span><a href=\"#4-Data-Preprocessing\" data-toc-modified-id=\"4-Data-Preprocessing-6\">4 Data Preprocessing</a></span></li><li><span><a href=\"#5-Feature-Engineering\" data-toc-modified-id=\"5-Feature-Engineering-7\">5 Feature Engineering</a></span></li><li><span><a href=\"#6-Feature-selection\" data-toc-modified-id=\"6-Feature-selection-8\">6 Feature selection</a></span><ul class=\"toc-item\"><li><span><a href=\"#6.1-Numeric-features-correlation\" data-toc-modified-id=\"6.1-Numeric-features-correlation-8.1\">6.1 Numeric features correlation</a></span></li><li><span><a href=\"#6.2-Categorical-features-correlation\" data-toc-modified-id=\"6.2-Categorical-features-correlation-8.2\">6.2 Categorical features correlation</a></span></li></ul></li><li><span><a href=\"#7-Models\" data-toc-modified-id=\"7-Models-9\">7 Models</a></span><ul class=\"toc-item\"><li><span><a href=\"#7.1-CatBoost-with-defaul-hyperparameters\" data-toc-modified-id=\"7.1-CatBoost-with-defaul-hyperparameters-9.1\">7.1 CatBoost with defaul hyperparameters</a></span></li><li><span><a href=\"#7.2-Hyperparameters-tunning\" data-toc-modified-id=\"7.2-Hyperparameters-tunning-9.2\">7.2 Hyperparameters tunning</a></span></li><li><span><a href=\"#7.3-Make-predictions-with-models\" data-toc-modified-id=\"7.3-Make-predictions-with-models-9.3\">7.3 Make predictions with models</a></span></li></ul></li><li><span><a href=\"#8-Pipelines\" data-toc-modified-id=\"8-Pipelines-10\">8 Pipelines</a></span><ul class=\"toc-item\"><li><span><a href=\"#8.1-Data-preprocessing-class\" data-toc-modified-id=\"8.1-Data-preprocessing-class-10.1\">8.1 Data preprocessing class</a></span></li><li><span><a href=\"#8.2-Feature-engineering-class\" data-toc-modified-id=\"8.2-Feature-engineering-class-10.2\">8.2 Feature engineering class</a></span></li><li><span><a href=\"#8.3-FeatureFixer-class\" data-toc-modified-id=\"8.3-FeatureFixer-class-10.3\">8.3 FeatureFixer class</a></span></li></ul></li><li><span><a href=\"#9-Stacking\" data-toc-modified-id=\"9-Stacking-11\">9 Stacking</a></span><ul class=\"toc-item\"><li><span><a href=\"#9.1-Stacking-from-SKLearn\" data-toc-modified-id=\"9.1-Stacking-from-SKLearn-11.1\">9.1 Stacking from SKLearn</a></span></li><li><span><a href=\"#8.1-Stacking-pipeline\" data-toc-modified-id=\"8.1-Stacking-pipeline-11.2\">8.1 Stacking pipeline</a></span></li><li><span><a href=\"#Linear\" data-toc-modified-id=\"Linear-11.3\">Linear</a></span></li><li><span><a href=\"#Decision-tree\" data-toc-modified-id=\"Decision-tree-11.4\">Decision tree</a></span></li><li><span><a href=\"#Random-forest\" data-toc-modified-id=\"Random-forest-11.5\">Random forest</a></span></li></ul></li><li><span><a href=\"#9-Make-predictions\" data-toc-modified-id=\"9-Make-predictions-12\">9 Make predictions</a></span></li></ul></div>"
   ]
  },
  {
   "cell_type": "code",
   "execution_count": 1,
   "id": "63496771",
   "metadata": {},
   "outputs": [],
   "source": [
    "import numpy as np\n",
    "import matplotlib.pyplot as plt\n",
    "import pandas as pd\n",
    "import seaborn as sns\n",
    "\n",
    "%matplotlib inline\n",
    "plt.rcParams.update({\n",
    "        'font.size': 14,\n",
    "        'axes.titlesize': 15,\n",
    "        'axes.labelsize': 15,\n",
    "        'xtick.labelsize': 15,\n",
    "        'ytick.labelsize': 15,\n",
    "        'font.size': 15,\n",
    "        'figure.figsize': (9, 5),\n",
    "        'axes.grid': True,\n",
    "        'grid.linestyle': '-',\n",
    "        'grid.alpha': 0.3,\n",
    "        'lines.markersize': 5.0,\n",
    "        'xtick.minor.visible': True,\n",
    "        'xtick.direction': 'in',\n",
    "        'xtick.major.size': 20.0,\n",
    "        'xtick.minor.size': 10.0,\n",
    "        'xtick.top': False,\n",
    "        'xtick.bottom': True,\n",
    "        'ytick.minor.visible': True,\n",
    "        'ytick.direction': 'in',\n",
    "        'ytick.major.size': 12.0,\n",
    "        'ytick.minor.size': 6.0,\n",
    "        'ytick.right': True,\n",
    "        'errorbar.capsize': 0.0,\n",
    "    })\n",
    "\n",
    "\n",
    "from sklearn.model_selection import train_test_split\n",
    "from catboost import CatBoostClassifier\n",
    "import optuna\n",
    "#optuna.logging.set_verbosity(optuna.logging.WARNING)\n",
    "optuna.logging.set_verbosity(optuna.logging.INFO)\n",
    "\n",
    "import warnings\n",
    "warnings.filterwarnings('ignore')\n",
    "\n",
    "# https://www.kaggle.com/competitions/practical-ml-chocolate/data\n",
    "# https://www.kaggle.com/datasets/rtatman/chocolate-bar-ratings/"
   ]
  },
  {
   "cell_type": "code",
   "execution_count": 2,
   "id": "16bf8715",
   "metadata": {},
   "outputs": [
    {
     "name": "stdout",
     "output_type": "stream",
     "text": [
      "  main\u001b[m\r\n",
      "* \u001b[32mmodels\u001b[m\r\n"
     ]
    }
   ],
   "source": [
    "!git branch"
   ]
  },
  {
   "cell_type": "markdown",
   "id": "f1538164",
   "metadata": {},
   "source": [
    "# Problem"
   ]
  },
  {
   "cell_type": "markdown",
   "id": "8cde0688",
   "metadata": {},
   "source": [
    "В данном ноутбуке решается задача регрессии, предсказания рейтинга шоколада на основании данных о нём. Большинство предикторов являются категориальными и лишь несколько численными, поэтому в качестве библиотеки для построения модели был выбран регрессор CatBoost. Кроме того, в двух категориальных колонках присутсвует множество пропусков, заполнение которых наиболее вероятным заначением может негативно повлиять на качество модели. Решению данной задачи было уделено внимание."
   ]
  },
  {
   "cell_type": "markdown",
   "id": "b26a42e5",
   "metadata": {},
   "source": [
    "# Data Info"
   ]
  },
  {
   "cell_type": "markdown",
   "id": "9be983c3",
   "metadata": {},
   "source": [
    "* Company - компания производитель\n",
    "* Specific Bean Origin - географический регион происхождения\n",
    "* REF - параметр, определяющий момент внесения записи в базу данных (чем выше значение, тем \"свежее\" запись)\n",
    "* Review - дата публикации отзыва\n",
    "* Cocoa Percent - процентное содержания какао\n",
    "* Company Location - страна производитель\n",
    "* Rating - экспертный рейтинг\n",
    "* Bean Type - используемый сорт какао-бобов, если таковой имеется\n",
    "* Broad Bean Origin - географический регион происхождения какао-бобов"
   ]
  },
  {
   "cell_type": "markdown",
   "id": "9dd08d7a",
   "metadata": {},
   "source": [
    "# 1 Get data"
   ]
  },
  {
   "cell_type": "code",
   "execution_count": 3,
   "id": "f04ee5b6",
   "metadata": {},
   "outputs": [
    {
     "data": {
      "text/html": [
       "<div>\n",
       "<style scoped>\n",
       "    .dataframe tbody tr th:only-of-type {\n",
       "        vertical-align: middle;\n",
       "    }\n",
       "\n",
       "    .dataframe tbody tr th {\n",
       "        vertical-align: top;\n",
       "    }\n",
       "\n",
       "    .dataframe thead th {\n",
       "        text-align: right;\n",
       "    }\n",
       "</style>\n",
       "<table border=\"1\" class=\"dataframe\">\n",
       "  <thead>\n",
       "    <tr style=\"text-align: right;\">\n",
       "      <th></th>\n",
       "      <th>Company</th>\n",
       "      <th>Specific Bean Origin</th>\n",
       "      <th>REF</th>\n",
       "      <th>Review</th>\n",
       "      <th>Cocoa Percent</th>\n",
       "      <th>Company Location</th>\n",
       "      <th>Rating</th>\n",
       "      <th>Bean Type</th>\n",
       "      <th>Broad Bean Origin</th>\n",
       "    </tr>\n",
       "  </thead>\n",
       "  <tbody>\n",
       "    <tr>\n",
       "      <th>0</th>\n",
       "      <td>Willie's Cacao</td>\n",
       "      <td>Rio Caribe</td>\n",
       "      <td>457</td>\n",
       "      <td>2009</td>\n",
       "      <td>72%</td>\n",
       "      <td>U.K.</td>\n",
       "      <td>3.25</td>\n",
       "      <td>Trinitario</td>\n",
       "      <td>Venezuela</td>\n",
       "    </tr>\n",
       "    <tr>\n",
       "      <th>1</th>\n",
       "      <td>Beschle (Felchlin)</td>\n",
       "      <td>Ocumare, Premier Cru, Quizas No. 2</td>\n",
       "      <td>508</td>\n",
       "      <td>2010</td>\n",
       "      <td>72%</td>\n",
       "      <td>Switzerland</td>\n",
       "      <td>3.50</td>\n",
       "      <td></td>\n",
       "      <td>Venezuela</td>\n",
       "    </tr>\n",
       "    <tr>\n",
       "      <th>2</th>\n",
       "      <td>Dark Forest</td>\n",
       "      <td>Tanzania</td>\n",
       "      <td>1554</td>\n",
       "      <td>2015</td>\n",
       "      <td>70%</td>\n",
       "      <td>U.S.A.</td>\n",
       "      <td>3.00</td>\n",
       "      <td></td>\n",
       "      <td>Tanzania</td>\n",
       "    </tr>\n",
       "    <tr>\n",
       "      <th>3</th>\n",
       "      <td>Brasstown aka It's Chocolate</td>\n",
       "      <td>Cooproagro</td>\n",
       "      <td>1125</td>\n",
       "      <td>2013</td>\n",
       "      <td>72%</td>\n",
       "      <td>U.S.A.</td>\n",
       "      <td>3.00</td>\n",
       "      <td>Trinitario</td>\n",
       "      <td>Dominican Republic</td>\n",
       "    </tr>\n",
       "    <tr>\n",
       "      <th>4</th>\n",
       "      <td>Pralus</td>\n",
       "      <td>Java, Indonesie</td>\n",
       "      <td>32</td>\n",
       "      <td>2006</td>\n",
       "      <td>75%</td>\n",
       "      <td>France</td>\n",
       "      <td>3.50</td>\n",
       "      <td>Criollo</td>\n",
       "      <td>Indonesia</td>\n",
       "    </tr>\n",
       "  </tbody>\n",
       "</table>\n",
       "</div>"
      ],
      "text/plain": [
       "                        Company                Specific Bean Origin   REF  \\\n",
       "0                Willie's Cacao                          Rio Caribe   457   \n",
       "1            Beschle (Felchlin)  Ocumare, Premier Cru, Quizas No. 2   508   \n",
       "2                   Dark Forest                            Tanzania  1554   \n",
       "3  Brasstown aka It's Chocolate                          Cooproagro  1125   \n",
       "4                        Pralus                     Java, Indonesie    32   \n",
       "\n",
       "   Review Cocoa Percent Company Location  Rating   Bean Type  \\\n",
       "0    2009           72%             U.K.    3.25  Trinitario   \n",
       "1    2010           72%      Switzerland    3.50               \n",
       "2    2015           70%           U.S.A.    3.00               \n",
       "3    2013           72%           U.S.A.    3.00  Trinitario   \n",
       "4    2006           75%           France    3.50     Criollo   \n",
       "\n",
       "    Broad Bean Origin  \n",
       "0           Venezuela  \n",
       "1           Venezuela  \n",
       "2            Tanzania  \n",
       "3  Dominican Republic  \n",
       "4           Indonesia  "
      ]
     },
     "execution_count": 3,
     "metadata": {},
     "output_type": "execute_result"
    }
   ],
   "source": [
    "df_train = pd.read_csv('data_intial/chocolate_train.csv')\n",
    "df_test = pd.read_csv('data_intial/chocolate_test_new.csv')\n",
    "df_train.head()"
   ]
  },
  {
   "cell_type": "code",
   "execution_count": 4,
   "id": "cf918121",
   "metadata": {},
   "outputs": [
    {
     "name": "stdout",
     "output_type": "stream",
     "text": [
      "Train data has 9 columns and 1255 rows\n",
      "Test data has 8 columns and 540 rows\n"
     ]
    }
   ],
   "source": [
    "print(f'Train data has {df_train.shape[1]} columns and {df_train.shape[0]} rows')\n",
    "print(f'Test data has {df_test.shape[1]} columns and {df_test.shape[0]} rows')"
   ]
  },
  {
   "cell_type": "markdown",
   "id": "09c95c14",
   "metadata": {},
   "source": [
    "## 1.1 Basic data transformations"
   ]
  },
  {
   "cell_type": "code",
   "execution_count": 5,
   "id": "2f41b337",
   "metadata": {},
   "outputs": [
    {
     "name": "stdout",
     "output_type": "stream",
     "text": [
      "Train\n",
      "--------------------------------------------------\n",
      "'Bean Type' has 1 NaNs and 628 empty cells\n",
      "'Broad Bean Origin' has 1 NaNs and 55 empty cells\n",
      "--------------------------------------------------\n",
      "Test\n",
      "--------------------------------------------------\n",
      "'Bean Type' has 0 NaNs and 259 empty cells\n",
      "'Broad Bean Origin' has 0 NaNs and 18 empty cells\n"
     ]
    }
   ],
   "source": [
    "empty_cell = '\\xa0'\n",
    "\n",
    "print('Train', 50*'-', sep='\\n', end='\\n')\n",
    "for col in df_train.columns[df_train.isna().sum() > 0]:\n",
    "    print(f\"'{col}' has {df_train[col].isna().sum()} NaNs and {df_train[col].apply(lambda x: x == empty_cell).sum()} empty cells\")\n",
    "    \n",
    "print(50*'-')\n",
    "print('Test', 50*'-', sep='\\n', end='\\n')\n",
    "for col in df_test.columns[(df_test == empty_cell).sum() > 0]:\n",
    "    print(f\"'{col}' has {df_test[col].isna().sum()} NaNs and {df_test[col].apply(lambda x: x == empty_cell).sum()} empty cells\")"
   ]
  },
  {
   "cell_type": "markdown",
   "id": "24d20d81",
   "metadata": {},
   "source": [
    "Как видим, в данных есть пропуски, и это не только NaN, но и пустые ячейки. Заменим все эти пропуски уникальным значением \"Unknown\". Вдальнейшем у нас будет выбор: оставить как есть или использовать модели машинного обучения для заполнения этих пропусков. Я не заменяю пустые ячейки наиболее вероятными значениями, так как в процессе анализа качества моделей было выявлено, что такое решение является наихудшим.\n",
    "\n",
    "Кроме того, проведём простейшее преобразование признака \"Cocoa Percent\". Он является числовым, но записан как строка, нужно это исправить. Также в названиях стран присутствуют грамматические ошибки, исправим и их."
   ]
  },
  {
   "cell_type": "code",
   "execution_count": 6,
   "id": "64a6fac4",
   "metadata": {},
   "outputs": [],
   "source": [
    "def preprocessing_step1(data: pd.DataFrame) -> pd.DataFrame:\n",
    "    data_new = data.copy()\n",
    "    data_new['Cocoa Percent'] = data_new['Cocoa Percent'].apply(lambda x: float(x.strip('%')))\n",
    "    data_new = data_new.fillna(\"Unknown\")\n",
    "    data_new['Broad Bean Origin'] = data_new['Broad Bean Origin'].replace('\\xa0', \"Unknown\")\n",
    "    data_new['Bean Type'] = data_new['Bean Type'].replace('\\xa0', \"Unknown\")\n",
    "    data_new.replace(\n",
    "    {\n",
    "        'Eucador': 'Ecuador',\n",
    "        'Domincan Republic': 'Dominican Republic',\n",
    "        'Niacragua': 'Nicaragua'\n",
    "    },\n",
    "    inplace=True)\n",
    "    return data_new"
   ]
  },
  {
   "cell_type": "code",
   "execution_count": 7,
   "id": "5bbe982b",
   "metadata": {},
   "outputs": [],
   "source": [
    "df_train = preprocessing_step1(df_train)\n",
    "df_test = preprocessing_step1(df_test)"
   ]
  },
  {
   "cell_type": "markdown",
   "id": "8e65eafb",
   "metadata": {},
   "source": [
    "# 2 EDA"
   ]
  },
  {
   "cell_type": "code",
   "execution_count": 9,
   "id": "c8adf8ef",
   "metadata": {},
   "outputs": [
    {
     "name": "stdout",
     "output_type": "stream",
     "text": [
      "There are 5 categorical columns\n",
      "--------------------------------\n",
      "Company\n",
      "Specific Bean Origin\n",
      "Company Location\n",
      "Bean Type\n",
      "Broad Bean Origin\n",
      "--------------------------------\n",
      "And 4 numerical columns (one of which is target as we are looking on train data)\n",
      "--------------------------------\n",
      "REF\n",
      "Review\n",
      "Cocoa Percent\n",
      "Rating (target)\n",
      "--------------------------------\n"
     ]
    }
   ],
   "source": [
    "print(f\"There are {len(df_train.dtypes[df_train.dtypes == object])} categorical columns\", 32*'-', sep='\\n')\n",
    "for col in df_train.columns[df_train.dtypes == object]:\n",
    "    print(col)\n",
    "print(32*'-')\n",
    "\n",
    "print(f\"And {len(df_train.dtypes[(df_train.dtypes == int) | (df_train.dtypes == float)])} numerical columns (one of which is target as we are looking on train data)\",\n",
    "      32*'-', sep='\\n')\n",
    "for col in df_train.columns[(df_train.dtypes == int) | (df_train.dtypes == float)]:\n",
    "    if col == 'Rating':\n",
    "        print(f\"{col} (target)\")\n",
    "    else:\n",
    "        print(col)\n",
    "print(32*'-')"
   ]
  },
  {
   "cell_type": "markdown",
   "id": "ad04c104",
   "metadata": {},
   "source": [
    "## 2.1 Numerical column"
   ]
  },
  {
   "cell_type": "markdown",
   "id": "ef51dc1b",
   "metadata": {},
   "source": [
    "Рассмотрим числовые предикторы. Мы будем искать признаки линейной зависмсоти между числовыми предикторами и целевой переменной (также числовой), используя средние значения 'Rating' в бинах по нашим признакам. Также посмотрим на корреляцию Пирсона, которая соответствует степени линейной зависимости между признаками или признаком и целевой переменной."
   ]
  },
  {
   "cell_type": "markdown",
   "id": "f735b57e",
   "metadata": {},
   "source": [
    "### 2.1.1 REF"
   ]
  },
  {
   "cell_type": "code",
   "execution_count": 10,
   "id": "f8eed231",
   "metadata": {},
   "outputs": [],
   "source": [
    "def distribution(data: pd.DataFrame, title: str, x_label: str, y_label:str, figsize: tuple=(9,5)):\n",
    "    plt.figure(figsize=figsize)\n",
    "    plt.style.use('seaborn-pastel')\n",
    "    density = sns.barplot(x=data.index, y=data.values)\n",
    "    title = plt.title(title, fontdict={'fontsize': 20})\n",
    "    plt.xlabel(x_label)\n",
    "    plt.ylabel(y_label)\n",
    "    plt.show()"
   ]
  },
  {
   "cell_type": "markdown",
   "id": "45486b3b",
   "metadata": {},
   "source": [
    "Посмотрим на зависимость среднего 'Rating' от 'REF'"
   ]
  },
  {
   "cell_type": "code",
   "execution_count": 13,
   "id": "70183059",
   "metadata": {},
   "outputs": [],
   "source": [
    "def mean_rating_in_bins(data: pd.DataFrame, col: str, bin_edges: list):\n",
    "    bin_values = [\n",
    "        data[(data[col] > bin_edges[i])\n",
    "             & (data[col] <= bin_edges[i + 1])]['Rating'].mean()\n",
    "        for i in range(len(bin_edges) - 1)\n",
    "    ]\n",
    "    return bin_values"
   ]
  },
  {
   "cell_type": "code",
   "execution_count": 14,
   "id": "9f8b69c0",
   "metadata": {},
   "outputs": [
    {
     "data": {
      "image/png": "[encoded data removed]",
      "text/plain": [
       "<Figure size 900x500 with 1 Axes>"
      ]
     },
     "metadata": {},
     "output_type": "display_data"
    }
   ],
   "source": [
    "REF_bins = np.arange(0, 2100, 100)\n",
    "REF_bin_centers = [(REF_bins[i+1] + REF_bins[i]) / 2 for i in range(REF_bins.shape[0]-1)]\n",
    "\n",
    "plt.figure(figsize=(9, 5))\n",
    "plt.plot(REF_bin_centers, mean_rating_in_bins(df_train, 'REF', REF_bins), 'o-r')\n",
    "plt.xlabel('REF')\n",
    "plt.ylabel('Rating mean')\n",
    "plt.show()"
   ]
  },
  {
   "cell_type": "markdown",
   "id": "e27b15a5",
   "metadata": {},
   "source": [
    "На графике наблюдается что-то отдалённо напоминающее линейную зависимость Rating от REF.<br>\n",
    "Также между ними существует небольшая корреляция."
   ]
  },
  {
   "cell_type": "code",
   "execution_count": 15,
   "id": "96f800e7",
   "metadata": {},
   "outputs": [
    {
     "data": {
      "text/html": [
       "<div>\n",
       "<style scoped>\n",
       "    .dataframe tbody tr th:only-of-type {\n",
       "        vertical-align: middle;\n",
       "    }\n",
       "\n",
       "    .dataframe tbody tr th {\n",
       "        vertical-align: top;\n",
       "    }\n",
       "\n",
       "    .dataframe thead th {\n",
       "        text-align: right;\n",
       "    }\n",
       "</style>\n",
       "<table border=\"1\" class=\"dataframe\">\n",
       "  <thead>\n",
       "    <tr style=\"text-align: right;\">\n",
       "      <th></th>\n",
       "      <th>REF</th>\n",
       "      <th>Rating</th>\n",
       "    </tr>\n",
       "  </thead>\n",
       "  <tbody>\n",
       "    <tr>\n",
       "      <th>REF</th>\n",
       "      <td>1.000000</td>\n",
       "      <td>0.112792</td>\n",
       "    </tr>\n",
       "    <tr>\n",
       "      <th>Rating</th>\n",
       "      <td>0.112792</td>\n",
       "      <td>1.000000</td>\n",
       "    </tr>\n",
       "  </tbody>\n",
       "</table>\n",
       "</div>"
      ],
      "text/plain": [
       "             REF    Rating\n",
       "REF     1.000000  0.112792\n",
       "Rating  0.112792  1.000000"
      ]
     },
     "execution_count": 15,
     "metadata": {},
     "output_type": "execute_result"
    }
   ],
   "source": [
    "df_train[['REF', 'Rating']].corr()"
   ]
  },
  {
   "cell_type": "markdown",
   "id": "db861d13",
   "metadata": {},
   "source": [
    "### 2.1.2 Review"
   ]
  },
  {
   "cell_type": "markdown",
   "id": "645b018f",
   "metadata": {},
   "source": [
    "Мы видим, что предикторы 'REF' и 'Review' практически линейно зависимы. Этого стоило ожидать. В следующих шагах мы исключим один из этих предикторов для снижения мультиколлинеарности"
   ]
  },
  {
   "cell_type": "code",
   "execution_count": 16,
   "id": "b4ab7f46",
   "metadata": {},
   "outputs": [
    {
     "data": {
      "text/html": [
       "<div>\n",
       "<style scoped>\n",
       "    .dataframe tbody tr th:only-of-type {\n",
       "        vertical-align: middle;\n",
       "    }\n",
       "\n",
       "    .dataframe tbody tr th {\n",
       "        vertical-align: top;\n",
       "    }\n",
       "\n",
       "    .dataframe thead th {\n",
       "        text-align: right;\n",
       "    }\n",
       "</style>\n",
       "<table border=\"1\" class=\"dataframe\">\n",
       "  <thead>\n",
       "    <tr style=\"text-align: right;\">\n",
       "      <th></th>\n",
       "      <th>REF</th>\n",
       "      <th>Review</th>\n",
       "      <th>Rating</th>\n",
       "    </tr>\n",
       "  </thead>\n",
       "  <tbody>\n",
       "    <tr>\n",
       "      <th>REF</th>\n",
       "      <td>1.000000</td>\n",
       "      <td>0.984938</td>\n",
       "      <td>0.112792</td>\n",
       "    </tr>\n",
       "    <tr>\n",
       "      <th>Review</th>\n",
       "      <td>0.984938</td>\n",
       "      <td>1.000000</td>\n",
       "      <td>0.111826</td>\n",
       "    </tr>\n",
       "    <tr>\n",
       "      <th>Rating</th>\n",
       "      <td>0.112792</td>\n",
       "      <td>0.111826</td>\n",
       "      <td>1.000000</td>\n",
       "    </tr>\n",
       "  </tbody>\n",
       "</table>\n",
       "</div>"
      ],
      "text/plain": [
       "             REF    Review    Rating\n",
       "REF     1.000000  0.984938  0.112792\n",
       "Review  0.984938  1.000000  0.111826\n",
       "Rating  0.112792  0.111826  1.000000"
      ]
     },
     "execution_count": 16,
     "metadata": {},
     "output_type": "execute_result"
    }
   ],
   "source": [
    "df_train[['REF', 'Review', 'Rating']].corr()"
   ]
  },
  {
   "cell_type": "markdown",
   "id": "40f8b0f1",
   "metadata": {},
   "source": [
    "### 2.1.3 Cocoa Percent"
   ]
  },
  {
   "cell_type": "markdown",
   "id": "7afe0e61",
   "metadata": {},
   "source": [
    "Cocoa Percent имеет распределение близкое к нормальному, стандартное отклонение не очень велико."
   ]
  },
  {
   "cell_type": "code",
   "execution_count": 17,
   "id": "b82cbf26",
   "metadata": {},
   "outputs": [
    {
     "data": {
      "image/png": "[encoded data removed]",
      "text/plain": [
       "<Figure size 900x500 with 1 Axes>"
      ]
     },
     "metadata": {},
     "output_type": "display_data"
    }
   ],
   "source": [
    "plt.hist(df_train['Cocoa Percent'], bins=20)\n",
    "plt.title(f\"Mean = {round(df_train['Cocoa Percent'].mean(), 1)}, standard deviation = {round(df_train['Cocoa Percent'].std(), 2)}\")\n",
    "plt.xlabel('Cocoa Percent')\n",
    "plt.ylabel('Count')\n",
    "plt.show()"
   ]
  },
  {
   "cell_type": "markdown",
   "id": "b14afa1b",
   "metadata": {},
   "source": [
    "На графике наблюдается нечто похожее на линейную зависимость. Шоколад с бОльшим процентом содержания какао в среднем имеет более низкий рейтинг."
   ]
  },
  {
   "cell_type": "code",
   "execution_count": 21,
   "id": "7a93a1f7",
   "metadata": {},
   "outputs": [
    {
     "data": {
      "image/png": "[encoded data removed]",
      "text/plain": [
       "<Figure size 900x500 with 1 Axes>"
      ]
     },
     "metadata": {},
     "output_type": "display_data"
    }
   ],
   "source": [
    "CocoaPercent_bins = np.arange(45, 105, 7)\n",
    "CocoaPercent_bin_centers = [(CocoaPercent_bins[i+1] + CocoaPercent_bins[i]) / 2 for i in range(CocoaPercent_bins.shape[0]-1)]\n",
    "\n",
    "plt.plot(CocoaPercent_bin_centers,\n",
    "         mean_rating_in_bins(df_train, 'Cocoa Percent', CocoaPercent_bins),\n",
    "         'o-r')\n",
    "plt.xlabel('Cocoa Percent')\n",
    "plt.ylabel('Rating mean')\n",
    "plt.show()"
   ]
  },
  {
   "cell_type": "code",
   "execution_count": 22,
   "id": "ee798406",
   "metadata": {},
   "outputs": [
    {
     "data": {
      "text/html": [
       "<div>\n",
       "<style scoped>\n",
       "    .dataframe tbody tr th:only-of-type {\n",
       "        vertical-align: middle;\n",
       "    }\n",
       "\n",
       "    .dataframe tbody tr th {\n",
       "        vertical-align: top;\n",
       "    }\n",
       "\n",
       "    .dataframe thead th {\n",
       "        text-align: right;\n",
       "    }\n",
       "</style>\n",
       "<table border=\"1\" class=\"dataframe\">\n",
       "  <thead>\n",
       "    <tr style=\"text-align: right;\">\n",
       "      <th></th>\n",
       "      <th>Cocoa Percent</th>\n",
       "      <th>Rating</th>\n",
       "    </tr>\n",
       "  </thead>\n",
       "  <tbody>\n",
       "    <tr>\n",
       "      <th>Cocoa Percent</th>\n",
       "      <td>1.000000</td>\n",
       "      <td>-0.172411</td>\n",
       "    </tr>\n",
       "    <tr>\n",
       "      <th>Rating</th>\n",
       "      <td>-0.172411</td>\n",
       "      <td>1.000000</td>\n",
       "    </tr>\n",
       "  </tbody>\n",
       "</table>\n",
       "</div>"
      ],
      "text/plain": [
       "               Cocoa Percent    Rating\n",
       "Cocoa Percent       1.000000 -0.172411\n",
       "Rating             -0.172411  1.000000"
      ]
     },
     "execution_count": 22,
     "metadata": {},
     "output_type": "execute_result"
    }
   ],
   "source": [
    "df_train[['Cocoa Percent', 'Rating']].corr()"
   ]
  },
  {
   "cell_type": "markdown",
   "id": "95720ab8",
   "metadata": {},
   "source": [
    "### 2.1.4. Correlation matrix (numeric features)"
   ]
  },
  {
   "cell_type": "code",
   "execution_count": 23,
   "id": "384ab685",
   "metadata": {},
   "outputs": [
    {
     "data": {
      "image/png": "[encoded data removed]",
      "text/plain": [
       "<Figure size 800x600 with 2 Axes>"
      ]
     },
     "metadata": {},
     "output_type": "display_data"
    }
   ],
   "source": [
    "plt.figure(figsize = (8,6))\n",
    "plt.rcParams.update({\n",
    "    'xtick.labelsize': 13,\n",
    "    'ytick.labelsize': 13,\n",
    "})\n",
    "sns.heatmap(df_train.corr(), annot=True, cmap=\"Blues\")\n",
    "\n",
    "plt.show()"
   ]
  },
  {
   "cell_type": "markdown",
   "id": "43e12f33",
   "metadata": {},
   "source": [
    "Подводя итоги анализа численных предикторов, можно сказать:\n",
    "* Один из двух сильно скоррелированных предикторов \"REF\" и \"Review\" нужно исключить\n",
    "* Предикторы скоррелированы (хоть и не сильно) с целевой переменной \"Rating\" и могут иметь предсказательную силу. Вдальнейшем они вряд ли будут отброшены"
   ]
  },
  {
   "cell_type": "markdown",
   "id": "b78bc8e9",
   "metadata": {},
   "source": [
    "## 2.2 Categorical features"
   ]
  },
  {
   "cell_type": "markdown",
   "id": "5b8e93b6",
   "metadata": {},
   "source": [
    "В этой части мы не будем подробно изучать категориальные признаки, лишь посмотрим на количество категорий и корреляцию их друг с другом. Более подробный анализ будет предствален в главе, посвященной разработке новых предикторов на их основе (Feature Engineering)"
   ]
  },
  {
   "cell_type": "code",
   "execution_count": 24,
   "id": "39225f8c",
   "metadata": {},
   "outputs": [
    {
     "name": "stdout",
     "output_type": "stream",
     "text": [
      "Number of unique values\n",
      "------------------------------\n",
      "Company: 376\n",
      "Specific Bean Origin: 762\n",
      "Company Location: 56\n",
      "Bean Type: 38\n",
      "Broad Bean Origin: 83\n"
     ]
    }
   ],
   "source": [
    "print(\"Number of unique values\", 30*\"-\", sep='\\n')\n",
    "\n",
    "for col in df_train.columns[df_train.dtypes == object]:\n",
    "    print(f\"{col}: {df_train[col].nunique()}\")"
   ]
  },
  {
   "cell_type": "code",
   "execution_count": 25,
   "id": "50e9b170",
   "metadata": {},
   "outputs": [
    {
     "data": {
      "text/html": [
       "<div>\n",
       "<style scoped>\n",
       "    .dataframe tbody tr th:only-of-type {\n",
       "        vertical-align: middle;\n",
       "    }\n",
       "\n",
       "    .dataframe tbody tr th {\n",
       "        vertical-align: top;\n",
       "    }\n",
       "\n",
       "    .dataframe thead th {\n",
       "        text-align: right;\n",
       "    }\n",
       "</style>\n",
       "<table border=\"1\" class=\"dataframe\">\n",
       "  <thead>\n",
       "    <tr style=\"text-align: right;\">\n",
       "      <th></th>\n",
       "      <th>Company</th>\n",
       "      <th>Specific Bean Origin</th>\n",
       "      <th>Company Location</th>\n",
       "      <th>Bean Type</th>\n",
       "      <th>Broad Bean Origin</th>\n",
       "    </tr>\n",
       "  </thead>\n",
       "  <tbody>\n",
       "    <tr>\n",
       "      <th>Company</th>\n",
       "      <td>1.000000</td>\n",
       "      <td>0.771074</td>\n",
       "      <td>0.999638</td>\n",
       "      <td>0.616841</td>\n",
       "      <td>0.603562</td>\n",
       "    </tr>\n",
       "    <tr>\n",
       "      <th>Specific Bean Origin</th>\n",
       "      <td>0.771074</td>\n",
       "      <td>1.000000</td>\n",
       "      <td>0.811367</td>\n",
       "      <td>0.907956</td>\n",
       "      <td>0.985204</td>\n",
       "    </tr>\n",
       "    <tr>\n",
       "      <th>Company Location</th>\n",
       "      <td>0.999638</td>\n",
       "      <td>0.811367</td>\n",
       "      <td>1.000000</td>\n",
       "      <td>0.241511</td>\n",
       "      <td>0.389432</td>\n",
       "    </tr>\n",
       "    <tr>\n",
       "      <th>Bean Type</th>\n",
       "      <td>0.616841</td>\n",
       "      <td>0.907956</td>\n",
       "      <td>0.241511</td>\n",
       "      <td>1.000000</td>\n",
       "      <td>0.388054</td>\n",
       "    </tr>\n",
       "    <tr>\n",
       "      <th>Broad Bean Origin</th>\n",
       "      <td>0.603562</td>\n",
       "      <td>0.985204</td>\n",
       "      <td>0.389432</td>\n",
       "      <td>0.388054</td>\n",
       "      <td>1.000000</td>\n",
       "    </tr>\n",
       "  </tbody>\n",
       "</table>\n",
       "</div>"
      ],
      "text/plain": [
       "                       Company  Specific Bean Origin  Company Location  \\\n",
       "Company               1.000000              0.771074          0.999638   \n",
       "Specific Bean Origin  0.771074              1.000000          0.811367   \n",
       "Company Location      0.999638              0.811367          1.000000   \n",
       "Bean Type             0.616841              0.907956          0.241511   \n",
       "Broad Bean Origin     0.603562              0.985204          0.389432   \n",
       "\n",
       "                      Bean Type  Broad Bean Origin  \n",
       "Company                0.616841           0.603562  \n",
       "Specific Bean Origin   0.907956           0.985204  \n",
       "Company Location       0.241511           0.389432  \n",
       "Bean Type              1.000000           0.388054  \n",
       "Broad Bean Origin      0.388054           1.000000  "
      ]
     },
     "execution_count": 25,
     "metadata": {},
     "output_type": "execute_result"
    }
   ],
   "source": [
    "import association_metrics as am\n",
    "\n",
    "XC = df_train.apply(lambda x: x.astype(\"category\") if x.dtype == \"object\" else x)\n",
    "cramersv = am.CramersV(XC)\n",
    "cramersv.fit()"
   ]
  },
  {
   "cell_type": "markdown",
   "id": "b527be15",
   "metadata": {},
   "source": [
    "Сильно скоррелированные признаки:\n",
    "* Company и Company Location\n",
    "* Broad Bean Origin и Specific Bean Origin\n",
    "* Bean Type и Specific Bean Origin\n",
    "\n",
    "Возморжно, часть из этих признаков будет отброшена вдальнейшем, однако пока они нужны нам для построения новых признаков."
   ]
  },
  {
   "cell_type": "markdown",
   "id": "e4c781ae",
   "metadata": {},
   "source": [
    "# 3 Outliers"
   ]
  },
  {
   "cell_type": "markdown",
   "id": "fbde587b",
   "metadata": {},
   "source": [
    "Посмотрим на выбросы в данных лишь ради интереса. Практика показала, что исключение объектов из тренировочных данных не приводит улучшению качества моделей. Также посмотрим на распределение целевой переменной."
   ]
  },
  {
   "cell_type": "code",
   "execution_count": 26,
   "id": "e62b608d",
   "metadata": {
    "scrolled": false
   },
   "outputs": [
    {
     "data": {
      "image/png": "[encoded data removed]",
      "text/plain": [
       "<Figure size 900x500 with 1 Axes>"
      ]
     },
     "metadata": {},
     "output_type": "display_data"
    },
    {
     "data": {
      "image/png": "[encoded data removed]",
      "text/plain": [
       "<Figure size 900x500 with 1 Axes>"
      ]
     },
     "metadata": {},
     "output_type": "display_data"
    },
    {
     "data": {
      "image/png": "[encoded data removed]",
      "text/plain": [
       "<Figure size 900x500 with 1 Axes>"
      ]
     },
     "metadata": {},
     "output_type": "display_data"
    },
    {
     "data": {
      "image/png": "[encoded data removed]",
      "text/plain": [
       "<Figure size 900x500 with 1 Axes>"
      ]
     },
     "metadata": {},
     "output_type": "display_data"
    }
   ],
   "source": [
    "cat_cols = df_train.columns[df_train.dtypes == 'object']\n",
    "num_cols = df_train.columns[df_train.dtypes != 'object']\n",
    "\n",
    "for col in num_cols:\n",
    "    sns.boxplot(df_train[col])\n",
    "    plt.title(col)\n",
    "    plt.show()"
   ]
  },
  {
   "cell_type": "code",
   "execution_count": 27,
   "id": "510096cc",
   "metadata": {},
   "outputs": [
    {
     "data": {
      "image/png": "[encoded data removed]",
      "text/plain": [
       "<Figure size 800x500 with 1 Axes>"
      ]
     },
     "metadata": {},
     "output_type": "display_data"
    }
   ],
   "source": [
    "plt.figure(figsize=(8, 5))\n",
    "plt.hist(df_train['Rating'], bins=16)\n",
    "plt.xlabel('Rating')\n",
    "plt.ylabel(\"Counts\")\n",
    "plt.show()"
   ]
  },
  {
   "cell_type": "markdown",
   "id": "3a6db06f",
   "metadata": {},
   "source": [
    "Выводы:\n",
    "* Целевая переменная 'Rating' имеет точки, которые можно интерпретировать как выбросы, однако мы не будем удалять их\n",
    "* Переменная 'Cocoa Percent', как мы видели выше, имеет очень узкое распределение, поэтому много точек потенциально могут быть интерпретированы как выбросы, но объекты с такими параметрами мы также не будем исключать из тренировочной выборки"
   ]
  },
  {
   "cell_type": "markdown",
   "id": "276918c1",
   "metadata": {},
   "source": [
    "# 4 Data Preprocessing"
   ]
  },
  {
   "cell_type": "markdown",
   "id": "f4952c2f",
   "metadata": {},
   "source": [
    "Теперь попробуем заполнить пропуски в колонках \"Bean Type\" и \"Broad Bean Origin\" с помощью классификатороа CatBoost. Потенциально это может улучшить качество конечной модели.\n",
    "\n",
    "Хоть перемешивать тренировочные данные с тестовыми и тренировать на них некий трансформатор и неправильно, именно этим мы и будем заниматься. Здесь мы лишь тестируем метод для заполнения пропусков. В главе 8 (Pipelines) класс FeatureFixer, заполняющий пропуски, будет переопределён, чтобы обучаться только на тренировочных данных и тогда будет работать как надо.\n",
    "\n",
    "В целом несколько ячеек ниже можно пропустить, так как позже будет дано более корректное определение класса для заполнения пропусков."
   ]
  },
  {
   "cell_type": "code",
   "execution_count": 28,
   "id": "7d3d934d",
   "metadata": {},
   "outputs": [],
   "source": [
    "optuna.logging.set_verbosity(optuna.logging.INFO)"
   ]
  },
  {
   "cell_type": "code",
   "execution_count": 31,
   "id": "8057a117",
   "metadata": {},
   "outputs": [],
   "source": [
    "class FeatureFixer:\n",
    "    \n",
    "    \"\"\"\n",
    "    column - признак, который мы будем прогнозировать ('Broad Bean Origin' или 'Bean Type')\n",
    "    train - тренировочный набор данных\n",
    "    test - тестовый набор данных\n",
    "    \"\"\"\n",
    "    def __init__(self, column: str, train: pd.DataFrame, test: pd.DataFrame):\n",
    "        self.train_init = train\n",
    "        self.test_init = test\n",
    "        self.column = column\n",
    "        \n",
    "\n",
    "    @staticmethod\n",
    "    def label_accuracy(y_true: pd.Series, y_pred: np.ndarray):\n",
    "        \"\"\"Простая метрика для оценки качества модели\"\"\"\n",
    "        df_pred = pd.DataFrame({'True values': y_true.values, 'Predicted values': y_pred[:, 0]})\n",
    "        return (df_pred['True values'] == df_pred['Predicted values']).sum() / df_pred.shape[0]\n",
    "    \n",
    "    \n",
    "    def resplit(self, cols_to_drop: list, n_top: int):\n",
    "        \"\"\"\n",
    "        Переразбивает изначальные train и test для работы над прогнозированием колонки\n",
    "        cols_to_drop - признаки, от кооторых нужно избавиться. Это 'Rating' и тот признак, который мы ещё не спрогнозировали\n",
    "        \"\"\"\n",
    "        # from initial train\n",
    "        # train\n",
    "        train_col_from_train = self.train_init[(self.train_init[self.column] != 'Unknown')]\\\n",
    "            .drop(cols_to_drop, axis=1)\n",
    "        # test\n",
    "        test_col_from_train = self.train_init[(self.train_init[self.column] == 'Unknown')]\\\n",
    "            .drop(cols_to_drop, axis=1)\n",
    "        \n",
    "        # from initial test\n",
    "        # train\n",
    "        cols_to_drop.remove('Rating')\n",
    "        train_col_from_test = self.test_init[(self.test_init[self.column] != 'Unknown')]\\\n",
    "            .drop(cols_to_drop, axis=1)\n",
    "        # test\n",
    "        test_col_from_test = self.test_init[(self.test_init[self.column] == 'Unknown')]\\\n",
    "            .drop(cols_to_drop, axis=1)\n",
    "        \n",
    "        # train\n",
    "        self.X = pd.concat([\n",
    "            train_col_from_train.drop(self.column, axis=1),\n",
    "            train_col_from_test.drop(self.column, axis=1)\n",
    "        ])\n",
    "\n",
    "        self.y = pd.concat([\n",
    "            train_col_from_train[self.column],\n",
    "            train_col_from_test[self.column]\n",
    "        ])\n",
    "        \n",
    "        # test (\"Unknown\" parts of datasets)\n",
    "        self.X_test_from_train = test_col_from_train.drop([self.column], axis=1)\n",
    "        self.X_test_from_test = test_col_from_test.drop([self.column], axis=1)\n",
    "        \n",
    "        # Most probable bean origins\n",
    "        top_values = self.y.value_counts()[:n_top].index\n",
    "        top_values_mask = self.y.apply(lambda x: x in top_values)\n",
    "\n",
    "        # train on top n values of column only\n",
    "        self.X = self.X[top_values_mask]\n",
    "        self.y = self.y[top_values_mask]\n",
    "\n",
    "        self.X_train, self.X_val, self.y_train, self.y_val = train_test_split(self.X, self.y, test_size=0.2)\n",
    "        self.categorical_features_indices = np.where(self.X.dtypes == object)[0]\n",
    "        \n",
    "        \n",
    "    def hyperparameters_tunning(self, n_trials: int):\n",
    "        \"\"\"Подбор гиперпараметров модели\"\"\"\n",
    "        def objective(trial):\n",
    "            param = {\n",
    "                \"n_estimators\": trial.suggest_int(\"n_estimators\", 10, 1000),\n",
    "                \"max_depth\": trial.suggest_int(\"max_depth\", 1, 10),\n",
    "                \"learning_rate\": trial.suggest_float(\"learning_rate\", 0.001, 0.1, step=0.001)\n",
    "            }\n",
    "\n",
    "            estimator = CatBoostClassifier(**param,\n",
    "                                           cat_features=self.categorical_features_indices,\n",
    "                                           verbose=False)\n",
    "\n",
    "            estimator.fit(self.X_train, self.y_train)\n",
    "            pred = estimator.predict(self.X_val)\n",
    "\n",
    "            return self.label_accuracy(self.y_val, pred)\n",
    "\n",
    "        study = optuna.create_study(direction=\"maximize\")\n",
    "        study.optimize(objective, n_trials=n_trials, n_jobs=-1)\n",
    "        #print(study.best_trial)\n",
    "        \n",
    "        \n",
    "        self.best_params = study.best_params\n",
    "        self.model = CatBoostClassifier(**study.best_params,\n",
    "                                       cat_features=self.categorical_features_indices,\n",
    "                                       logging_level='Silent')\n",
    "        \n",
    "        self.model.fit(self.X_train, self.y_train)\n",
    "        y_pred = self.model.predict(self.X_val)\n",
    "        \n",
    "        print(f\"Best accuracy = {self.label_accuracy(self.y_val, y_pred)}\")\n",
    "        \n",
    "        self.df_importance = pd.DataFrame({'Feature': self.model.feature_names_,\n",
    "                                           'CatBoost Importance': self.model.feature_importances_})\\\n",
    "                                           .sort_values(by='CatBoost Importance', ascending=False)\n",
    "        display(self.df_importance)\n",
    "        \n",
    "        \n",
    "    def fit(self):\n",
    "        self.model.fit(self.X, self.y)\n",
    "        \n",
    "        \n",
    "    def predict(self):\n",
    "        pred_train = self.model.predict(self.X_test_from_train)\n",
    "        pred_test = self.model.predict(self.X_test_from_test)\n",
    "        \n",
    "        # Indices of rows with \"Unknown\" value from intiinal datasets\n",
    "        index_train = self.train_init[(self.train_init[self.column] == 'Unknown')].index\n",
    "        index_test = self.test_init[(self.test_init[self.column] == 'Unknown')].index\n",
    "        \n",
    "        train_output = self.train_init.copy()\n",
    "        test_output = self.test_init.copy()\n",
    "        \n",
    "        # Replace values in chosen column with model output\n",
    "        train_output.loc[index_train, [self.column]] = pred_train[:, 0]\n",
    "        test_output.loc[index_test, [self.column]] = pred_test[:, 0]\n",
    "        \n",
    "        return train_output, test_output\n",
    "    "
   ]
  },
  {
   "cell_type": "code",
   "execution_count": 26,
   "id": "cce88c3c",
   "metadata": {},
   "outputs": [
    {
     "name": "stderr",
     "output_type": "stream",
     "text": [
      "[I 2023-08-12 10:49:30,665] A new study created in memory with name: no-name-ec71c5b2-2e12-4f9c-97ab-55368c770f1b\n",
      "[I 2023-08-12 10:49:33,740] Trial 0 finished with value: 0.6134453781512605 and parameters: {'n_estimators': 376, 'max_depth': 1, 'learning_rate': 0.078}. Best is trial 0 with value: 0.6134453781512605.\n",
      "[I 2023-08-12 10:49:37,035] Trial 12 finished with value: 0.6512605042016807 and parameters: {'n_estimators': 81, 'max_depth': 8, 'learning_rate': 0.026000000000000002}. Best is trial 12 with value: 0.6512605042016807.\n",
      "[I 2023-08-12 10:49:38,652] Trial 4 finished with value: 0.6050420168067226 and parameters: {'n_estimators': 490, 'max_depth': 2, 'learning_rate': 0.016}. Best is trial 12 with value: 0.6512605042016807.\n",
      "[I 2023-08-12 10:49:40,108] Trial 7 finished with value: 0.6848739495798319 and parameters: {'n_estimators': 259, 'max_depth': 4, 'learning_rate': 0.060000000000000005}. Best is trial 7 with value: 0.6848739495798319.\n",
      "[I 2023-08-12 10:49:42,615] Trial 8 finished with value: 0.680672268907563 and parameters: {'n_estimators': 748, 'max_depth': 2, 'learning_rate': 0.051000000000000004}. Best is trial 7 with value: 0.6848739495798319.\n",
      "[I 2023-08-12 10:49:42,873] Trial 15 finished with value: 0.6428571428571429 and parameters: {'n_estimators': 763, 'max_depth': 2, 'learning_rate': 0.030000000000000002}. Best is trial 7 with value: 0.6848739495798319.\n",
      "[I 2023-08-12 10:49:44,175] Trial 16 finished with value: 0.6764705882352942 and parameters: {'n_estimators': 432, 'max_depth': 3, 'learning_rate': 0.1}. Best is trial 7 with value: 0.6848739495798319.\n",
      "[I 2023-08-12 10:49:48,747] Trial 18 finished with value: 0.6596638655462185 and parameters: {'n_estimators': 406, 'max_depth': 3, 'learning_rate': 0.091}. Best is trial 7 with value: 0.6848739495798319.\n",
      "[I 2023-08-12 10:49:51,399] Trial 1 finished with value: 0.6554621848739496 and parameters: {'n_estimators': 869, 'max_depth': 3, 'learning_rate': 0.076}. Best is trial 7 with value: 0.6848739495798319.\n",
      "[I 2023-08-12 10:49:51,471] Trial 10 finished with value: 0.6764705882352942 and parameters: {'n_estimators': 606, 'max_depth': 4, 'learning_rate': 0.054}. Best is trial 7 with value: 0.6848739495798319.\n",
      "[I 2023-08-12 10:49:59,441] Trial 14 finished with value: 0.6512605042016807 and parameters: {'n_estimators': 157, 'max_depth': 10, 'learning_rate': 0.063}. Best is trial 7 with value: 0.6848739495798319.\n",
      "[I 2023-08-12 10:49:59,863] Trial 13 finished with value: 0.6722689075630253 and parameters: {'n_estimators': 296, 'max_depth': 5, 'learning_rate': 0.094}. Best is trial 7 with value: 0.6848739495798319.\n",
      "[I 2023-08-12 10:50:05,774] Trial 9 finished with value: 0.6848739495798319 and parameters: {'n_estimators': 381, 'max_depth': 5, 'learning_rate': 0.056}. Best is trial 7 with value: 0.6848739495798319.\n",
      "[I 2023-08-12 10:50:21,042] Trial 5 finished with value: 0.6596638655462185 and parameters: {'n_estimators': 997, 'max_depth': 6, 'learning_rate': 0.083}. Best is trial 7 with value: 0.6848739495798319.\n",
      "[I 2023-08-12 10:50:23,738] Trial 6 finished with value: 0.6638655462184874 and parameters: {'n_estimators': 772, 'max_depth': 7, 'learning_rate': 0.075}. Best is trial 7 with value: 0.6848739495798319.\n",
      "[I 2023-08-12 10:50:26,879] Trial 2 finished with value: 0.6764705882352942 and parameters: {'n_estimators': 717, 'max_depth': 5, 'learning_rate': 0.022000000000000002}. Best is trial 7 with value: 0.6848739495798319.\n",
      "[I 2023-08-12 10:50:28,114] Trial 19 finished with value: 0.6764705882352942 and parameters: {'n_estimators': 567, 'max_depth': 5, 'learning_rate': 0.04}. Best is trial 7 with value: 0.6848739495798319.\n",
      "[I 2023-08-12 10:50:42,276] Trial 17 finished with value: 0.6722689075630253 and parameters: {'n_estimators': 830, 'max_depth': 5, 'learning_rate': 0.079}. Best is trial 7 with value: 0.6848739495798319.\n",
      "[I 2023-08-12 10:50:58,954] Trial 11 finished with value: 0.6722689075630253 and parameters: {'n_estimators': 475, 'max_depth': 10, 'learning_rate': 0.007}. Best is trial 7 with value: 0.6848739495798319.\n",
      "[I 2023-08-12 10:51:29,404] Trial 3 finished with value: 0.6764705882352942 and parameters: {'n_estimators': 735, 'max_depth': 10, 'learning_rate': 0.012}. Best is trial 7 with value: 0.6848739495798319.\n"
     ]
    },
    {
     "name": "stdout",
     "output_type": "stream",
     "text": [
      "Best accuracy = 0.6848739495798319\n"
     ]
    },
    {
     "data": {
      "text/html": [
       "<div>\n",
       "<style scoped>\n",
       "    .dataframe tbody tr th:only-of-type {\n",
       "        vertical-align: middle;\n",
       "    }\n",
       "\n",
       "    .dataframe tbody tr th {\n",
       "        vertical-align: top;\n",
       "    }\n",
       "\n",
       "    .dataframe thead th {\n",
       "        text-align: right;\n",
       "    }\n",
       "</style>\n",
       "<table border=\"1\" class=\"dataframe\">\n",
       "  <thead>\n",
       "    <tr style=\"text-align: right;\">\n",
       "      <th></th>\n",
       "      <th>Feature</th>\n",
       "      <th>CatBoost Importance</th>\n",
       "    </tr>\n",
       "  </thead>\n",
       "  <tbody>\n",
       "    <tr>\n",
       "      <th>1</th>\n",
       "      <td>Specific Bean Origin</td>\n",
       "      <td>55.114251</td>\n",
       "    </tr>\n",
       "    <tr>\n",
       "      <th>5</th>\n",
       "      <td>Company Location</td>\n",
       "      <td>25.864169</td>\n",
       "    </tr>\n",
       "    <tr>\n",
       "      <th>0</th>\n",
       "      <td>Company</td>\n",
       "      <td>9.945164</td>\n",
       "    </tr>\n",
       "    <tr>\n",
       "      <th>2</th>\n",
       "      <td>REF</td>\n",
       "      <td>4.768802</td>\n",
       "    </tr>\n",
       "    <tr>\n",
       "      <th>4</th>\n",
       "      <td>Cocoa Percent</td>\n",
       "      <td>2.624140</td>\n",
       "    </tr>\n",
       "    <tr>\n",
       "      <th>3</th>\n",
       "      <td>Review</td>\n",
       "      <td>1.683474</td>\n",
       "    </tr>\n",
       "  </tbody>\n",
       "</table>\n",
       "</div>"
      ],
      "text/plain": [
       "                Feature  CatBoost Importance\n",
       "1  Specific Bean Origin            55.114251\n",
       "5      Company Location            25.864169\n",
       "0               Company             9.945164\n",
       "2                   REF             4.768802\n",
       "4         Cocoa Percent             2.624140\n",
       "3                Review             1.683474"
      ]
     },
     "metadata": {},
     "output_type": "display_data"
    }
   ],
   "source": [
    "# class to impute Broad Bean Origin\n",
    "fixer_bbo = FeatureFixer('Broad Bean Origin', df_train, df_test)\n",
    "fixer_bbo.resplit(cols_to_drop=['Bean Type', 'Rating'], n_top=11)\n",
    "fixer_bbo.hyperparameters_tunning(n_trials=20)\n",
    "fixer_bbo.fit()\n",
    "df_train_new, df_test_new = fixer_bbo.predict()"
   ]
  },
  {
   "cell_type": "code",
   "execution_count": 27,
   "id": "40945a59",
   "metadata": {
    "scrolled": false
   },
   "outputs": [
    {
     "name": "stderr",
     "output_type": "stream",
     "text": [
      "[I 2023-08-12 10:54:17,372] A new study created in memory with name: no-name-bab11154-8dee-4c71-a853-1e7a8e69cc2d\n",
      "[I 2023-08-12 10:54:18,013] Trial 6 finished with value: 0.6867469879518072 and parameters: {'n_estimators': 74, 'max_depth': 2, 'learning_rate': 0.034}. Best is trial 6 with value: 0.6867469879518072.\n",
      "[I 2023-08-12 10:54:18,098] Trial 15 finished with value: 0.7108433734939759 and parameters: {'n_estimators': 53, 'max_depth': 2, 'learning_rate': 0.078}. Best is trial 15 with value: 0.7108433734939759.\n",
      "[I 2023-08-12 10:54:18,404] Trial 10 finished with value: 0.7530120481927711 and parameters: {'n_estimators': 240, 'max_depth': 1, 'learning_rate': 0.097}. Best is trial 10 with value: 0.7530120481927711.\n",
      "[I 2023-08-12 10:54:18,943] Trial 2 finished with value: 0.7349397590361446 and parameters: {'n_estimators': 162, 'max_depth': 3, 'learning_rate': 0.046}. Best is trial 10 with value: 0.7530120481927711.\n",
      "[I 2023-08-12 10:54:20,001] Trial 8 finished with value: 0.7530120481927711 and parameters: {'n_estimators': 826, 'max_depth': 1, 'learning_rate': 0.067}. Best is trial 10 with value: 0.7530120481927711.\n",
      "[I 2023-08-12 10:54:21,951] Trial 4 finished with value: 0.7771084337349398 and parameters: {'n_estimators': 644, 'max_depth': 2, 'learning_rate': 0.076}. Best is trial 4 with value: 0.7771084337349398.\n",
      "[I 2023-08-12 10:54:21,984] Trial 16 finished with value: 0.7650602409638554 and parameters: {'n_estimators': 101, 'max_depth': 8, 'learning_rate': 0.082}. Best is trial 4 with value: 0.7771084337349398.\n",
      "[I 2023-08-12 10:54:22,045] Trial 17 finished with value: 0.7710843373493976 and parameters: {'n_estimators': 342, 'max_depth': 3, 'learning_rate': 0.07200000000000001}. Best is trial 4 with value: 0.7771084337349398.\n",
      "[I 2023-08-12 10:54:22,454] Trial 5 finished with value: 0.7469879518072289 and parameters: {'n_estimators': 735, 'max_depth': 2, 'learning_rate': 0.024}. Best is trial 4 with value: 0.7771084337349398.\n",
      "[I 2023-08-12 10:54:23,481] Trial 12 finished with value: 0.7590361445783133 and parameters: {'n_estimators': 68, 'max_depth': 10, 'learning_rate': 0.059000000000000004}. Best is trial 4 with value: 0.7771084337349398.\n",
      "[I 2023-08-12 10:54:25,178] Trial 7 finished with value: 0.7590361445783133 and parameters: {'n_estimators': 795, 'max_depth': 3, 'learning_rate': 0.015}. Best is trial 4 with value: 0.7771084337349398.\n",
      "[I 2023-08-12 10:54:25,198] Trial 1 finished with value: 0.7951807228915663 and parameters: {'n_estimators': 530, 'max_depth': 4, 'learning_rate': 0.056}. Best is trial 1 with value: 0.7951807228915663.\n",
      "[I 2023-08-12 10:54:25,416] Trial 11 finished with value: 0.7590361445783133 and parameters: {'n_estimators': 148, 'max_depth': 6, 'learning_rate': 0.074}. Best is trial 1 with value: 0.7951807228915663.\n",
      "[I 2023-08-12 10:54:28,426] Trial 9 finished with value: 0.7951807228915663 and parameters: {'n_estimators': 358, 'max_depth': 5, 'learning_rate': 0.057}. Best is trial 1 with value: 0.7951807228915663.\n",
      "[I 2023-08-12 10:54:32,647] Trial 19 finished with value: 0.7108433734939759 and parameters: {'n_estimators': 609, 'max_depth': 5, 'learning_rate': 0.004}. Best is trial 1 with value: 0.7951807228915663.\n",
      "[I 2023-08-12 10:54:33,515] Trial 3 finished with value: 0.8072289156626506 and parameters: {'n_estimators': 547, 'max_depth': 5, 'learning_rate': 0.08800000000000001}. Best is trial 3 with value: 0.8072289156626506.\n",
      "[I 2023-08-12 10:54:42,949] Trial 14 finished with value: 0.7951807228915663 and parameters: {'n_estimators': 633, 'max_depth': 8, 'learning_rate': 0.08}. Best is trial 3 with value: 0.8072289156626506.\n",
      "[I 2023-08-12 10:54:45,465] Trial 0 finished with value: 0.8012048192771084 and parameters: {'n_estimators': 746, 'max_depth': 8, 'learning_rate': 0.031}. Best is trial 3 with value: 0.8072289156626506.\n",
      "[I 2023-08-12 10:54:55,449] Trial 13 finished with value: 0.7951807228915663 and parameters: {'n_estimators': 974, 'max_depth': 6, 'learning_rate': 0.032}. Best is trial 3 with value: 0.8072289156626506.\n",
      "[I 2023-08-12 10:55:20,105] Trial 18 finished with value: 0.8012048192771084 and parameters: {'n_estimators': 939, 'max_depth': 10, 'learning_rate': 0.055}. Best is trial 3 with value: 0.8072289156626506.\n"
     ]
    },
    {
     "name": "stdout",
     "output_type": "stream",
     "text": [
      "Best accuracy = 0.8072289156626506\n"
     ]
    },
    {
     "data": {
      "text/html": [
       "<div>\n",
       "<style scoped>\n",
       "    .dataframe tbody tr th:only-of-type {\n",
       "        vertical-align: middle;\n",
       "    }\n",
       "\n",
       "    .dataframe tbody tr th {\n",
       "        vertical-align: top;\n",
       "    }\n",
       "\n",
       "    .dataframe thead th {\n",
       "        text-align: right;\n",
       "    }\n",
       "</style>\n",
       "<table border=\"1\" class=\"dataframe\">\n",
       "  <thead>\n",
       "    <tr style=\"text-align: right;\">\n",
       "      <th></th>\n",
       "      <th>Feature</th>\n",
       "      <th>CatBoost Importance</th>\n",
       "    </tr>\n",
       "  </thead>\n",
       "  <tbody>\n",
       "    <tr>\n",
       "      <th>6</th>\n",
       "      <td>Broad Bean Origin</td>\n",
       "      <td>48.806846</td>\n",
       "    </tr>\n",
       "    <tr>\n",
       "      <th>5</th>\n",
       "      <td>Company Location</td>\n",
       "      <td>22.521837</td>\n",
       "    </tr>\n",
       "    <tr>\n",
       "      <th>0</th>\n",
       "      <td>Company</td>\n",
       "      <td>11.125140</td>\n",
       "    </tr>\n",
       "    <tr>\n",
       "      <th>2</th>\n",
       "      <td>REF</td>\n",
       "      <td>10.994016</td>\n",
       "    </tr>\n",
       "    <tr>\n",
       "      <th>4</th>\n",
       "      <td>Cocoa Percent</td>\n",
       "      <td>2.763653</td>\n",
       "    </tr>\n",
       "    <tr>\n",
       "      <th>1</th>\n",
       "      <td>Specific Bean Origin</td>\n",
       "      <td>2.634258</td>\n",
       "    </tr>\n",
       "    <tr>\n",
       "      <th>3</th>\n",
       "      <td>Review</td>\n",
       "      <td>1.154250</td>\n",
       "    </tr>\n",
       "  </tbody>\n",
       "</table>\n",
       "</div>"
      ],
      "text/plain": [
       "                Feature  CatBoost Importance\n",
       "6     Broad Bean Origin            48.806846\n",
       "5      Company Location            22.521837\n",
       "0               Company            11.125140\n",
       "2                   REF            10.994016\n",
       "4         Cocoa Percent             2.763653\n",
       "1  Specific Bean Origin             2.634258\n",
       "3                Review             1.154250"
      ]
     },
     "metadata": {},
     "output_type": "display_data"
    }
   ],
   "source": [
    "# class to impute Broad Bean Origin\n",
    "fixer_bt = FeatureFixer('Bean Type', df_train_new, df_test_new)\n",
    "fixer_bt.resplit(cols_to_drop=['Rating'], n_top=7)\n",
    "fixer_bt.hyperparameters_tunning(n_trials=20)\n",
    "fixer_bt.fit()\n",
    "df_train_new, df_test_new = fixer_bt.predict()"
   ]
  },
  {
   "cell_type": "markdown",
   "id": "3d21a9b6",
   "metadata": {},
   "source": [
    "# 5 Feature Engineering"
   ]
  },
  {
   "cell_type": "markdown",
   "id": "c60dcb5d",
   "metadata": {},
   "source": [
    "На этом этапе мы постараемся создать новые предикторы на основе уже существующих, чтобы улучшить качество предсказаний на данных. Ниже будет приведён список некоторых идей, которые я применял на этапе исследования. Не все они будут реализованы в этом ноутбуке (финальной версии исследования), так как многие из них приводят к ухудшению качества предсказаний на данных.\n",
    "\n",
    "1. На основании страны производителя ('Company Location') построить переменную региона производства ('Broad Company Location'). Это будет континент или часть света (Africa, Caribbean, etc)\n",
    "2. Проделать то же самое для колонки 'Broad Bean Origin' ($\\rightarrow$ 'Bean Origin World')\n",
    "3. Анализ текста переменных 'Specific Bean Origin' и 'Company'. Здесь всё становится интереснее. Я провёл аналогию с виноделием: чем более специфическим является регион выращивания винограда, тем, как мы считаем, выше качество продукта (IGT, DOC, DOCG, ...). Аналогия не точная, так как маркировка вина базируется на более неочевидных для меня критериях, но смысл понятен: чем более \"комплексное\" название имеет специфический регион происхождения какао-бобов (Specific Bean Origin), тем выше вкусовые свойства шоколада.\n",
    "\n",
    "\n",
    "Отброшенные идеи генерации предикторов, в том числе, на основании экзогенных данных:\n",
    "1. Бинарный предиктор, содержащий информацию о том, присутствует ли страна-производитель в списке стран, которые знамениты качеством шоколада. Такую информацию можно взять из какого-нибудь рейтинга в интернете. Здесь такой предиктор не создаётся, так как было выяснено, что добавление его не улучшает качество предсказания на данных. Более того, похоже, что интернет-рейтинги не сильно коррелируют с рейтингом в наших данных.\n",
    "2. Бинарный предиктор для стран, производящих наибольшее количество какао (Company Location или Bean Origin соответствуют такой стране). Как и в случае с предыдущим не был использован.\n",
    "3. Бинарный предиктор, говорящий о том, свопадает ли 'Company Location' с 'Broad Bean Origin'. Не помогает\n",
    "4. Цена плитки шоколада данной компании в долларах США (можно нормировать на 100 г). Очевидное преположение: чем дороже шоколад, тем он лучше. Цены на шоколад некоторых производителей из списка можно найти в интернете, однако в данных рейтинг присваивался конкретной плитке шоколада и найти именно её цену - слишком сложная задача для ручного поиска (не всегда выполнимая). Также мною было замечено, что шоколад стоит дороже в некоторых странах, например, США и существенной корреляции с рейтингом обнаружено не было.\n",
    "\n",
    "Можно пойти и дальше. Существуют сайты, которые дают оценку шоколаду, например <br>\n",
    "https://www.c-spot.com/\n",
    "\n",
    "Многие компании из списка можно найти там, возможно даже конкретные плитки шоколада. Я не стал включать этот экзогенный признак, так как <br>\n",
    "а) Необходимо писать scrapper, а выхлоп может оказаться минимальным (хотя на этом этапе мы уже боремся за сотые, если не тысячные R2 score) <br>\n",
    "б) В широком смысле можно рассматривать это как читинг, ведь это тоже рейтинг, хоть и независимый\n"
   ]
  },
  {
   "cell_type": "code",
   "execution_count": 28,
   "id": "3cc5f5e3",
   "metadata": {},
   "outputs": [],
   "source": [
    "from string import digits"
   ]
  },
  {
   "cell_type": "code",
   "execution_count": 33,
   "id": "31a43c2c",
   "metadata": {},
   "outputs": [],
   "source": [
    "broad_locations = {'Europe': ['U.K.', 'Switzerland', 'France', 'Belgium', 'Spain', 'Italy',\n",
    "                              'Austria', 'Sweden', 'Ireland', 'Poland', 'Hungary', 'Germany',\n",
    "                              'Denmark', 'Lithuania', 'Scotland', 'Finland', 'Iceland',\n",
    "                              'Amsterdam', 'Wales', 'Netherlands', 'Portugal', 'Czech Republic'],\n",
    "                   'North America': ['U.S.A.', 'Canada'],\n",
    "                   'Africa': ['Madagascar', 'South Africa', 'Ghana', 'Sao Tome', 'Tanzania',\n",
    "                              'Indonesia', 'Congo', 'Liberia', 'Principe', 'Sao Tome & Principe',\n",
    "                              'Gabon', 'Ivory Coast', 'Uganda', 'Nigeria', 'West Africa'],\n",
    "                   'Caribbean': ['Colombia', 'Venezuela', 'Honduras', 'Guatemala',\n",
    "                                 'Domincan Republic', 'Grenada', 'Puerto Rico', 'Costa Rica',\n",
    "                                 'St. Lucia', 'Nicaragua', 'Martinique', 'Niacragua', 'Cost Rica, Ven',\n",
    "                                 'Trinidad', 'Panama', 'Jamaica', 'Haiti', 'Cuba', 'Venezuela, Ghana',\n",
    "                                 'Ven.,Ecu.,Peru,Nic.', 'Tobago', 'Carribean(DR/Jam/Tri)',\n",
    "                                 'Venezuela, Java', 'Ven, Bolivia, D.R.', 'Venezuela, Carribean',\n",
    "                                 'Dominican Republic', 'Carribean'],\n",
    "                   'Asia & Oceania': ['Japan', 'Vietnam', 'Philippines', 'Fiji', 'Australia',\n",
    "                                      'South Korea', 'Israel', 'Singapore', 'India', 'Russia',\n",
    "                                      'New Zealand', 'Papua New Guinea', 'Hawaii', 'Solomon Islands',\n",
    "                                      'Sri Lanka', 'Malaysia', 'Samoa', 'Philippines', 'Togo',\n",
    "                                      'Vanuatu'],\n",
    "                   'South America': ['Ecuador', 'Brazil', 'Peru', 'Eucador', 'Argentina',\n",
    "                                     'Chile', 'Mexico', 'Bolivia', 'Suriname', 'Peru, Dom. Rep',\n",
    "                                     'Central and S. America', 'Colombia, Ecuador', 'Dom. Rep., Madagascar',\n",
    "                                     'South America', 'Belize', 'El Salvador'],\n",
    "                   'Mixed': ['Trinidad, Ecuador', 'South America, Africa', 'PNG, Vanuatu, Mad',\n",
    "                             'Mad., Java, PNG', 'Peru, Mad., Dom. Rep.', 'Indonesia, Ghana', 'Madagascar & Ecuador',\n",
    "                             'Venez,Africa,Brasil,Peru,Mex', 'DR, Ecuador, Peru', 'Dominican Rep., Bali',\n",
    "                             'Peru, Madagascar', 'Venezuela, Dom. Rep.', 'Peru, Ecuador, Venezuela',\n",
    "                             'Ven., Trinidad, Mad.', 'Ven., Indonesia, Ecuad.', 'Ghana, Domin. Rep',\n",
    "                             'Peru, Belize', 'Guat., D.R., Peru, Mad., PNG']\n",
    "                   }\n",
    "\n",
    "def location_in_list(location: str, locations_dict:dict=broad_locations) -> str:\n",
    "    for k, v in broad_locations.items():\n",
    "        if location in v:\n",
    "            return k\n",
    "    return 'Other'\n",
    "\n",
    "def length_bin(s: str, min_val:int=0, max_val:int=50, step:int=10) -> int:\n",
    "    n = len(s)\n",
    "    bins = np.arange(min_val, max_val+step, step)\n",
    "    for i in range(bins.shape[0]):\n",
    "        if n > bins[i] and n <= bins[i+1]:\n",
    "            return i"
   ]
  },
  {
   "cell_type": "code",
   "execution_count": 34,
   "id": "7e6f786e",
   "metadata": {},
   "outputs": [],
   "source": [
    "def add_features(data: pd.DataFrame) -> pd.DataFrame:\n",
    "    data_new = data.copy()\n",
    "    # Broad Locations\n",
    "    data_new['Broad Company Location'] = data_new['Company Location'].apply(lambda x: location_in_list(x))\n",
    "    data_new['Bean Origin World'] = data_new['Broad Bean Origin'].apply(lambda x: location_in_list(x))\n",
    "    # Comlexity of names\n",
    "    data_new['SBO complexity'] = data_new['Specific Bean Origin'].apply(lambda x: x.count('.') + x.count(',') + x.count(' '))\n",
    "    data_new['SBO length'] = data_new['Specific Bean Origin'].apply(lambda x: length_bin(x))\n",
    "    \n",
    "    return data_new"
   ]
  },
  {
   "cell_type": "code",
   "execution_count": 31,
   "id": "9220dca2",
   "metadata": {},
   "outputs": [],
   "source": [
    "df_train_new = add_features(df_train_new)\n",
    "df_test_new = add_features(df_test_new)"
   ]
  },
  {
   "cell_type": "code",
   "execution_count": 32,
   "id": "69f17c81",
   "metadata": {},
   "outputs": [],
   "source": [
    "df_train = add_features(df_train)\n",
    "df_test = add_features(df_test)"
   ]
  },
  {
   "cell_type": "markdown",
   "id": "def97eae",
   "metadata": {},
   "source": [
    "# 6 Feature selection"
   ]
  },
  {
   "cell_type": "markdown",
   "id": "df28963f",
   "metadata": {},
   "source": [
    "На данном этапе мы отбросим некоторые признаки и попробуем обосновать их исключение.<br>\n",
    "В простейшем случае признаки отбрасываются, если они имеют маленькую корреляцию с целевой переменной и/или большую корреляцию друг с другом, так как это увеличивает мультиколлинеарность. Снижение мультиколлинеарности не обязательно приводит к улучшению качетва модели, так как модели типа boosting устойчивы к эффектам мультиколлинеарности, но улучшает интерпретируемость её результатов. Например, сильно скоррелированные признаки будут делить друг с другом важность (feature importance)."
   ]
  },
  {
   "cell_type": "markdown",
   "id": "d551c191",
   "metadata": {},
   "source": [
    "## 6.1 Numeric features correlation"
   ]
  },
  {
   "cell_type": "code",
   "execution_count": 33,
   "id": "70c14ce6",
   "metadata": {},
   "outputs": [
    {
     "data": {
      "image/png": "[encoded data removed]",
      "text/plain": [
       "<Figure size 900x700 with 2 Axes>"
      ]
     },
     "metadata": {},
     "output_type": "display_data"
    }
   ],
   "source": [
    "plt.figure(figsize = (9, 7))\n",
    "plt.rcParams.update({\n",
    "    'xtick.labelsize': 13,\n",
    "    'ytick.labelsize': 13,\n",
    "})\n",
    "\n",
    "df_train_Rating = df_train_new.Rating\n",
    "df_train_new.drop(['Rating'], axis=1, inplace=True)\n",
    "df_train_new['Rating'] = df_train_Rating\n",
    "\n",
    "sns.heatmap(df_train_new.corr(), annot=True, cmap=\"Blues\")\n",
    "\n",
    "plt.show()"
   ]
  },
  {
   "cell_type": "markdown",
   "id": "53fec35e",
   "metadata": {},
   "source": [
    "Здесь мы видим, что некоторые переменные попарно скоррелированы друг с другом на уровне выше, чем 0.9:\n",
    "* 'REF' и 'Review'\n",
    "* 'SBO complexity' и 'SBO length'\n",
    "\n",
    "Во второй паре отбросим ту переменную, которая имеет меньшую корреляцию с 'Rating', целевой переменной. Из первой пары исключим 'Review', так как 'REF' имеет несколько более очевидную связь с целевой переменной."
   ]
  },
  {
   "cell_type": "code",
   "execution_count": 34,
   "id": "04c69600",
   "metadata": {},
   "outputs": [],
   "source": [
    "df_train_new = df_train_new.drop(['Review', 'SBO length'], axis=1)\n",
    "df_test_new = df_test_new.drop(['Review', 'SBO length'], axis=1)"
   ]
  },
  {
   "cell_type": "code",
   "execution_count": 35,
   "id": "7f7bff14",
   "metadata": {},
   "outputs": [],
   "source": [
    "df_train = df_train.drop(['Review', 'SBO length'], axis=1)\n",
    "df_test = df_test.drop(['Review', 'SBO length'], axis=1)"
   ]
  },
  {
   "cell_type": "markdown",
   "id": "79d7de9d",
   "metadata": {},
   "source": [
    "## 6.2 Categorical features correlation"
   ]
  },
  {
   "cell_type": "markdown",
   "id": "648e74b7",
   "metadata": {},
   "source": [
    "Исследуем связь между категориальными признаками, используя V-меру Крамера."
   ]
  },
  {
   "cell_type": "code",
   "execution_count": 37,
   "id": "58f7e746",
   "metadata": {},
   "outputs": [
    {
     "data": {
      "text/html": [
       "<div>\n",
       "<style scoped>\n",
       "    .dataframe tbody tr th:only-of-type {\n",
       "        vertical-align: middle;\n",
       "    }\n",
       "\n",
       "    .dataframe tbody tr th {\n",
       "        vertical-align: top;\n",
       "    }\n",
       "\n",
       "    .dataframe thead th {\n",
       "        text-align: right;\n",
       "    }\n",
       "</style>\n",
       "<table border=\"1\" class=\"dataframe\">\n",
       "  <thead>\n",
       "    <tr style=\"text-align: right;\">\n",
       "      <th></th>\n",
       "      <th>Company</th>\n",
       "      <th>Specific Bean Origin</th>\n",
       "      <th>Company Location</th>\n",
       "      <th>Bean Type</th>\n",
       "      <th>Broad Bean Origin</th>\n",
       "      <th>Broad Company Location</th>\n",
       "      <th>Bean Origin World</th>\n",
       "    </tr>\n",
       "  </thead>\n",
       "  <tbody>\n",
       "    <tr>\n",
       "      <th>Company</th>\n",
       "      <td>1.000000</td>\n",
       "      <td>0.771074</td>\n",
       "      <td>0.999638</td>\n",
       "      <td>0.621855</td>\n",
       "      <td>0.602729</td>\n",
       "      <td>0.998283</td>\n",
       "      <td>0.631676</td>\n",
       "    </tr>\n",
       "    <tr>\n",
       "      <th>Specific Bean Origin</th>\n",
       "      <td>0.771074</td>\n",
       "      <td>1.000000</td>\n",
       "      <td>0.811367</td>\n",
       "      <td>0.908351</td>\n",
       "      <td>0.985490</td>\n",
       "      <td>0.843555</td>\n",
       "      <td>0.994290</td>\n",
       "    </tr>\n",
       "    <tr>\n",
       "      <th>Company Location</th>\n",
       "      <td>0.999638</td>\n",
       "      <td>0.811367</td>\n",
       "      <td>1.000000</td>\n",
       "      <td>0.252452</td>\n",
       "      <td>0.388194</td>\n",
       "      <td>1.000000</td>\n",
       "      <td>0.365214</td>\n",
       "    </tr>\n",
       "    <tr>\n",
       "      <th>Bean Type</th>\n",
       "      <td>0.621855</td>\n",
       "      <td>0.908351</td>\n",
       "      <td>0.252452</td>\n",
       "      <td>1.000000</td>\n",
       "      <td>0.401308</td>\n",
       "      <td>0.321343</td>\n",
       "      <td>0.432985</td>\n",
       "    </tr>\n",
       "    <tr>\n",
       "      <th>Broad Bean Origin</th>\n",
       "      <td>0.602729</td>\n",
       "      <td>0.985490</td>\n",
       "      <td>0.388194</td>\n",
       "      <td>0.401308</td>\n",
       "      <td>1.000000</td>\n",
       "      <td>0.452780</td>\n",
       "      <td>1.000000</td>\n",
       "    </tr>\n",
       "    <tr>\n",
       "      <th>Broad Company Location</th>\n",
       "      <td>0.998283</td>\n",
       "      <td>0.843555</td>\n",
       "      <td>1.000000</td>\n",
       "      <td>0.321343</td>\n",
       "      <td>0.452780</td>\n",
       "      <td>1.000000</td>\n",
       "      <td>0.297693</td>\n",
       "    </tr>\n",
       "    <tr>\n",
       "      <th>Bean Origin World</th>\n",
       "      <td>0.631676</td>\n",
       "      <td>0.994290</td>\n",
       "      <td>0.365214</td>\n",
       "      <td>0.432985</td>\n",
       "      <td>1.000000</td>\n",
       "      <td>0.297693</td>\n",
       "      <td>1.000000</td>\n",
       "    </tr>\n",
       "  </tbody>\n",
       "</table>\n",
       "</div>"
      ],
      "text/plain": [
       "                         Company  Specific Bean Origin  Company Location  \\\n",
       "Company                 1.000000              0.771074          0.999638   \n",
       "Specific Bean Origin    0.771074              1.000000          0.811367   \n",
       "Company Location        0.999638              0.811367          1.000000   \n",
       "Bean Type               0.621855              0.908351          0.252452   \n",
       "Broad Bean Origin       0.602729              0.985490          0.388194   \n",
       "Broad Company Location  0.998283              0.843555          1.000000   \n",
       "Bean Origin World       0.631676              0.994290          0.365214   \n",
       "\n",
       "                        Bean Type  Broad Bean Origin  Broad Company Location  \\\n",
       "Company                  0.621855           0.602729                0.998283   \n",
       "Specific Bean Origin     0.908351           0.985490                0.843555   \n",
       "Company Location         0.252452           0.388194                1.000000   \n",
       "Bean Type                1.000000           0.401308                0.321343   \n",
       "Broad Bean Origin        0.401308           1.000000                0.452780   \n",
       "Broad Company Location   0.321343           0.452780                1.000000   \n",
       "Bean Origin World        0.432985           1.000000                0.297693   \n",
       "\n",
       "                        Bean Origin World  \n",
       "Company                          0.631676  \n",
       "Specific Bean Origin             0.994290  \n",
       "Company Location                 0.365214  \n",
       "Bean Type                        0.432985  \n",
       "Broad Bean Origin                1.000000  \n",
       "Broad Company Location           0.297693  \n",
       "Bean Origin World                1.000000  "
      ]
     },
     "execution_count": 37,
     "metadata": {},
     "output_type": "execute_result"
    }
   ],
   "source": [
    "import association_metrics as am\n",
    "\n",
    "XC = df_train_new.apply(lambda x: x.astype(\"category\") if x.dtype == \"object\" else x)\n",
    "cramersv = am.CramersV(XC)\n",
    "cramersv.fit()"
   ]
  },
  {
   "cell_type": "markdown",
   "id": "c7000807",
   "metadata": {},
   "source": [
    "Мы видим, что нектоторые признаки имеют значение V-меры связи близкую к 1 (максимуму):\n",
    "* Broad Company Location и Company\n",
    "* Company Location и Company\n",
    "* Broad Bean Origin и Bean Origin\n",
    "\n",
    "Но пока не будем спешить отбрасывать часть их этих признаков. Они могут повысить качество модели, тренированной на данных с ними."
   ]
  },
  {
   "cell_type": "markdown",
   "id": "214b7803",
   "metadata": {},
   "source": [
    "# 7 Models"
   ]
  },
  {
   "cell_type": "markdown",
   "id": "28dd3750",
   "metadata": {},
   "source": [
    "На этом этапе мы будем строить модели регрессии для предсказания рейтинга шоколада. Будем использовать CatBooostRegressor. Эта библиотека сама кодирует категориальные признаки, переданные модели. В данных содержится множество категориальных признаков и кодирование их с применением стандартных техник не только отнимет много времени на разработку, но и может дать результат, худший, чем тот, который покажет CatBoost."
   ]
  },
  {
   "cell_type": "code",
   "execution_count": 38,
   "id": "f06b0a26",
   "metadata": {},
   "outputs": [],
   "source": [
    "from sklearn.model_selection import train_test_split\n",
    "from sklearn.metrics import r2_score, mean_squared_error, mean_absolute_error, explained_variance_score\n",
    "\n",
    "from category_encoders.ordinal import OrdinalEncoder\n",
    "from category_encoders.one_hot import OneHotEncoder\n",
    "from category_encoders.target_encoder import TargetEncoder\n",
    "from category_encoders.leave_one_out import LeaveOneOutEncoder\n",
    "\n",
    "from sklearn.preprocessing import StandardScaler, MinMaxScaler\n",
    "from sklearn.inspection import permutation_importance\n",
    "\n",
    "from sklearn.model_selection import GridSearchCV, cross_val_score\n",
    "\n",
    "from catboost import CatBoostRegressor"
   ]
  },
  {
   "cell_type": "markdown",
   "id": "94f11fe1",
   "metadata": {},
   "source": [
    "## 7.1 CatBoost with defaul hyperparameters"
   ]
  },
  {
   "cell_type": "markdown",
   "id": "cf3d6085",
   "metadata": {},
   "source": [
    "Сначала посмотрим, как покажет себя регрессор с гиперпараметрами по умолчанию"
   ]
  },
  {
   "cell_type": "code",
   "execution_count": 39,
   "id": "eba5965f",
   "metadata": {},
   "outputs": [],
   "source": [
    "def train_cb_regressor(data_train: pd.DataFrame, tunning:bool=False, n_trials:int=10):\n",
    "    X = data_train.drop('Rating', axis=1)\n",
    "    y = data_train.Rating\n",
    "\n",
    "    X_train, X_val, y_train, y_val = train_test_split(X, y, test_size=0.3)\n",
    "\n",
    "    categorical_features_indices = np.where(X.dtypes == object)[0]\n",
    "    \n",
    "    model = CatBoostRegressor(cat_features=categorical_features_indices,\n",
    "                              logging_level='Silent')\n",
    "    \n",
    "    # Optuna\n",
    "    if tunning:\n",
    "        def objective(trial):\n",
    "            param = {\n",
    "                \"n_estimators\": trial.suggest_int(\"n_estimators\", 10, 1000),\n",
    "                \"max_depth\": trial.suggest_int(\"max_depth\", 1, 10),\n",
    "                \"learning_rate\": trial.suggest_float(\"learning_rate\", 0.001, 0.2, step=0.001)\n",
    "                #\"min_child_samples\": trial.suggest_categorical('min_child_samples', [1, 4, 8, 16, 32])\n",
    "            }\n",
    "\n",
    "            estimator = CatBoostRegressor(**param,\n",
    "                                          cat_features=categorical_features_indices,\n",
    "                                          custom_metric='R2',\n",
    "                                          verbose=False)\n",
    "\n",
    "            estimator.fit(X_train, y_train)\n",
    "            pred = estimator.predict(X_val)\n",
    "\n",
    "            return mean_squared_error(y_val, pred, squared=False)\n",
    "        \n",
    "        study = optuna.create_study(direction=\"minimize\")\n",
    "        study.optimize(objective, n_trials=n_trials, n_jobs=-1)\n",
    "        #print(study.best_trial)\n",
    "        print(\"Best params:\", study.best_trial.params)\n",
    "        model = CatBoostRegressor(**study.best_params,\n",
    "                                 cat_features=categorical_features_indices,\n",
    "                                 logging_level='Silent')\n",
    "    \n",
    "    cv_scores = cross_val_score(model, X, y, cv=3, scoring='r2')\n",
    "    model.fit(X_train, y_train,\n",
    "             eval_set=(X_val, y_val))\n",
    "\n",
    "    y_pred_val = model.predict(X_val)\n",
    "\n",
    "    print(\"R2 scores\")\n",
    "    print(f\"On validation sample = {round(r2_score(y_val, y_pred_val), 3)}\")\n",
    "    print(f\"All CV scores = {', '.join(map(lambda x: str(round(x, 3)), cv_scores))}\")\n",
    "    print(f\"Mean CV score = {round(cv_scores.mean(), 3)}\")\n",
    "    \n",
    "    model_permutation_importance = permutation_importance(model,\n",
    "                                                          X_val,\n",
    "                                                          y_val,\n",
    "                                                          scoring='r2',\n",
    "                                                          n_repeats=20,\n",
    "                                                          random_state=0,\n",
    "                                                          n_jobs=-1)\n",
    "\n",
    "    df_importance = pd.DataFrame({'Feature': model.feature_names_,\n",
    "                                  'CatBoost Importance': model.feature_importances_,\n",
    "                                  'Permutation Importance': model_permutation_importance.importances_mean,\n",
    "                                  'Permutation Importance std': model_permutation_importance.importances_std})\\\n",
    "                                  .sort_values(by='CatBoost Importance', ascending=False)\n",
    "    display(df_importance)\n",
    "    return model"
   ]
  },
  {
   "cell_type": "markdown",
   "id": "cacf1c05",
   "metadata": {},
   "source": [
    "Ниже мы тренируем CatBoost с гиперпараметрам по умолчанию на данных с заполненными и незаполненными пропусками"
   ]
  },
  {
   "cell_type": "code",
   "execution_count": 40,
   "id": "124cfb98",
   "metadata": {
    "scrolled": false
   },
   "outputs": [
    {
     "name": "stdout",
     "output_type": "stream",
     "text": [
      "R2 scores\n",
      "On validation sample = 0.162\n",
      "All CV scores = 0.123, 0.215, 0.227\n",
      "Mean CV score = 0.188\n"
     ]
    },
    {
     "data": {
      "text/html": [
       "<div>\n",
       "<style scoped>\n",
       "    .dataframe tbody tr th:only-of-type {\n",
       "        vertical-align: middle;\n",
       "    }\n",
       "\n",
       "    .dataframe tbody tr th {\n",
       "        vertical-align: top;\n",
       "    }\n",
       "\n",
       "    .dataframe thead th {\n",
       "        text-align: right;\n",
       "    }\n",
       "</style>\n",
       "<table border=\"1\" class=\"dataframe\">\n",
       "  <thead>\n",
       "    <tr style=\"text-align: right;\">\n",
       "      <th></th>\n",
       "      <th>Feature</th>\n",
       "      <th>CatBoost Importance</th>\n",
       "      <th>Permutation Importance</th>\n",
       "      <th>Permutation Importance std</th>\n",
       "    </tr>\n",
       "  </thead>\n",
       "  <tbody>\n",
       "    <tr>\n",
       "      <th>0</th>\n",
       "      <td>Company</td>\n",
       "      <td>22.090936</td>\n",
       "      <td>0.166913</td>\n",
       "      <td>0.032002</td>\n",
       "    </tr>\n",
       "    <tr>\n",
       "      <th>3</th>\n",
       "      <td>Cocoa Percent</td>\n",
       "      <td>16.975121</td>\n",
       "      <td>0.098663</td>\n",
       "      <td>0.025402</td>\n",
       "    </tr>\n",
       "    <tr>\n",
       "      <th>2</th>\n",
       "      <td>REF</td>\n",
       "      <td>12.341331</td>\n",
       "      <td>0.028499</td>\n",
       "      <td>0.011918</td>\n",
       "    </tr>\n",
       "    <tr>\n",
       "      <th>5</th>\n",
       "      <td>Bean Type</td>\n",
       "      <td>9.875161</td>\n",
       "      <td>0.011758</td>\n",
       "      <td>0.008720</td>\n",
       "    </tr>\n",
       "    <tr>\n",
       "      <th>4</th>\n",
       "      <td>Company Location</td>\n",
       "      <td>9.384172</td>\n",
       "      <td>-0.008095</td>\n",
       "      <td>0.009695</td>\n",
       "    </tr>\n",
       "    <tr>\n",
       "      <th>6</th>\n",
       "      <td>Broad Bean Origin</td>\n",
       "      <td>8.850745</td>\n",
       "      <td>0.003921</td>\n",
       "      <td>0.006809</td>\n",
       "    </tr>\n",
       "    <tr>\n",
       "      <th>8</th>\n",
       "      <td>Bean Origin World</td>\n",
       "      <td>8.365662</td>\n",
       "      <td>0.001631</td>\n",
       "      <td>0.006352</td>\n",
       "    </tr>\n",
       "    <tr>\n",
       "      <th>7</th>\n",
       "      <td>Broad Company Location</td>\n",
       "      <td>5.818937</td>\n",
       "      <td>-0.004920</td>\n",
       "      <td>0.004214</td>\n",
       "    </tr>\n",
       "    <tr>\n",
       "      <th>9</th>\n",
       "      <td>SBO complexity</td>\n",
       "      <td>4.473043</td>\n",
       "      <td>0.030658</td>\n",
       "      <td>0.006768</td>\n",
       "    </tr>\n",
       "    <tr>\n",
       "      <th>1</th>\n",
       "      <td>Specific Bean Origin</td>\n",
       "      <td>1.824892</td>\n",
       "      <td>0.003643</td>\n",
       "      <td>0.003470</td>\n",
       "    </tr>\n",
       "  </tbody>\n",
       "</table>\n",
       "</div>"
      ],
      "text/plain": [
       "                  Feature  CatBoost Importance  Permutation Importance  \\\n",
       "0                 Company            22.090936                0.166913   \n",
       "3           Cocoa Percent            16.975121                0.098663   \n",
       "2                     REF            12.341331                0.028499   \n",
       "5               Bean Type             9.875161                0.011758   \n",
       "4        Company Location             9.384172               -0.008095   \n",
       "6       Broad Bean Origin             8.850745                0.003921   \n",
       "8       Bean Origin World             8.365662                0.001631   \n",
       "7  Broad Company Location             5.818937               -0.004920   \n",
       "9          SBO complexity             4.473043                0.030658   \n",
       "1    Specific Bean Origin             1.824892                0.003643   \n",
       "\n",
       "   Permutation Importance std  \n",
       "0                    0.032002  \n",
       "3                    0.025402  \n",
       "2                    0.011918  \n",
       "5                    0.008720  \n",
       "4                    0.009695  \n",
       "6                    0.006809  \n",
       "8                    0.006352  \n",
       "7                    0.004214  \n",
       "9                    0.006768  \n",
       "1                    0.003470  "
      ]
     },
     "metadata": {},
     "output_type": "display_data"
    },
    {
     "data": {
      "text/plain": [
       "<catboost.core.CatBoostRegressor at 0x7f8ab2f8c250>"
      ]
     },
     "execution_count": 40,
     "metadata": {},
     "output_type": "execute_result"
    }
   ],
   "source": [
    "# Пропуски заполнены\n",
    "train_cb_regressor(df_train_new)"
   ]
  },
  {
   "cell_type": "code",
   "execution_count": 41,
   "id": "89787120",
   "metadata": {},
   "outputs": [
    {
     "name": "stdout",
     "output_type": "stream",
     "text": [
      "R2 scores\n",
      "On validation sample = 0.238\n",
      "All CV scores = 0.105, 0.234, 0.241\n",
      "Mean CV score = 0.193\n"
     ]
    },
    {
     "data": {
      "text/html": [
       "<div>\n",
       "<style scoped>\n",
       "    .dataframe tbody tr th:only-of-type {\n",
       "        vertical-align: middle;\n",
       "    }\n",
       "\n",
       "    .dataframe tbody tr th {\n",
       "        vertical-align: top;\n",
       "    }\n",
       "\n",
       "    .dataframe thead th {\n",
       "        text-align: right;\n",
       "    }\n",
       "</style>\n",
       "<table border=\"1\" class=\"dataframe\">\n",
       "  <thead>\n",
       "    <tr style=\"text-align: right;\">\n",
       "      <th></th>\n",
       "      <th>Feature</th>\n",
       "      <th>CatBoost Importance</th>\n",
       "      <th>Permutation Importance</th>\n",
       "      <th>Permutation Importance std</th>\n",
       "    </tr>\n",
       "  </thead>\n",
       "  <tbody>\n",
       "    <tr>\n",
       "      <th>0</th>\n",
       "      <td>Company</td>\n",
       "      <td>18.540511</td>\n",
       "      <td>0.239727</td>\n",
       "      <td>0.030059</td>\n",
       "    </tr>\n",
       "    <tr>\n",
       "      <th>3</th>\n",
       "      <td>Cocoa Percent</td>\n",
       "      <td>16.420824</td>\n",
       "      <td>0.119255</td>\n",
       "      <td>0.020995</td>\n",
       "    </tr>\n",
       "    <tr>\n",
       "      <th>2</th>\n",
       "      <td>REF</td>\n",
       "      <td>13.971535</td>\n",
       "      <td>0.094680</td>\n",
       "      <td>0.022020</td>\n",
       "    </tr>\n",
       "    <tr>\n",
       "      <th>6</th>\n",
       "      <td>Broad Bean Origin</td>\n",
       "      <td>10.931403</td>\n",
       "      <td>0.025234</td>\n",
       "      <td>0.008380</td>\n",
       "    </tr>\n",
       "    <tr>\n",
       "      <th>5</th>\n",
       "      <td>Bean Type</td>\n",
       "      <td>9.471151</td>\n",
       "      <td>0.038030</td>\n",
       "      <td>0.015659</td>\n",
       "    </tr>\n",
       "    <tr>\n",
       "      <th>4</th>\n",
       "      <td>Company Location</td>\n",
       "      <td>7.539625</td>\n",
       "      <td>0.013629</td>\n",
       "      <td>0.006780</td>\n",
       "    </tr>\n",
       "    <tr>\n",
       "      <th>8</th>\n",
       "      <td>Bean Origin World</td>\n",
       "      <td>6.859504</td>\n",
       "      <td>-0.004471</td>\n",
       "      <td>0.005159</td>\n",
       "    </tr>\n",
       "    <tr>\n",
       "      <th>9</th>\n",
       "      <td>SBO complexity</td>\n",
       "      <td>6.057822</td>\n",
       "      <td>0.028881</td>\n",
       "      <td>0.010850</td>\n",
       "    </tr>\n",
       "    <tr>\n",
       "      <th>7</th>\n",
       "      <td>Broad Company Location</td>\n",
       "      <td>5.994164</td>\n",
       "      <td>0.007917</td>\n",
       "      <td>0.006173</td>\n",
       "    </tr>\n",
       "    <tr>\n",
       "      <th>1</th>\n",
       "      <td>Specific Bean Origin</td>\n",
       "      <td>4.213462</td>\n",
       "      <td>0.008395</td>\n",
       "      <td>0.007711</td>\n",
       "    </tr>\n",
       "  </tbody>\n",
       "</table>\n",
       "</div>"
      ],
      "text/plain": [
       "                  Feature  CatBoost Importance  Permutation Importance  \\\n",
       "0                 Company            18.540511                0.239727   \n",
       "3           Cocoa Percent            16.420824                0.119255   \n",
       "2                     REF            13.971535                0.094680   \n",
       "6       Broad Bean Origin            10.931403                0.025234   \n",
       "5               Bean Type             9.471151                0.038030   \n",
       "4        Company Location             7.539625                0.013629   \n",
       "8       Bean Origin World             6.859504               -0.004471   \n",
       "9          SBO complexity             6.057822                0.028881   \n",
       "7  Broad Company Location             5.994164                0.007917   \n",
       "1    Specific Bean Origin             4.213462                0.008395   \n",
       "\n",
       "   Permutation Importance std  \n",
       "0                    0.030059  \n",
       "3                    0.020995  \n",
       "2                    0.022020  \n",
       "6                    0.008380  \n",
       "5                    0.015659  \n",
       "4                    0.006780  \n",
       "8                    0.005159  \n",
       "9                    0.010850  \n",
       "7                    0.006173  \n",
       "1                    0.007711  "
      ]
     },
     "metadata": {},
     "output_type": "display_data"
    },
    {
     "data": {
      "text/plain": [
       "<catboost.core.CatBoostRegressor at 0x7f8ab2ab3bd0>"
      ]
     },
     "execution_count": 41,
     "metadata": {},
     "output_type": "execute_result"
    }
   ],
   "source": [
    "# В пропусках уникальное значение \"Unknown\"\n",
    "train_cb_regressor(df_train)"
   ]
  },
  {
   "cell_type": "markdown",
   "id": "536b4d28",
   "metadata": {},
   "source": [
    "Как видно, результаты сильно зависят от разбиения выборки на тренировчную и тестовую часть. Но одно можно сказать наверняка: колонку \"Specific Bean Origin\" можно выкинуть. Также мы видим, что качество предсказаний (на валидационной части и cross validation) очень близко для данных с заполненными пропусками и с незаполненными"
   ]
  },
  {
   "cell_type": "code",
   "execution_count": 42,
   "id": "55b0a148",
   "metadata": {},
   "outputs": [],
   "source": [
    "df_train = df_train.drop('Specific Bean Origin', axis=1)\n",
    "df_test = df_test.drop('Specific Bean Origin', axis=1)\n",
    "df_train_new = df_train_new.drop('Specific Bean Origin', axis=1)\n",
    "df_test_new = df_test_new.drop('Specific Bean Origin', axis=1)"
   ]
  },
  {
   "cell_type": "markdown",
   "id": "bf1f8a49",
   "metadata": {},
   "source": [
    "## 7.2 Hyperparameters tunning"
   ]
  },
  {
   "cell_type": "markdown",
   "id": "071800b3",
   "metadata": {},
   "source": [
    "Подберём гиперпараметры регрессора"
   ]
  },
  {
   "cell_type": "code",
   "execution_count": 61,
   "id": "fc4edaf9",
   "metadata": {
    "scrolled": true
   },
   "outputs": [
    {
     "name": "stderr",
     "output_type": "stream",
     "text": [
      "[I 2023-08-12 11:23:33,633] A new study created in memory with name: no-name-f8c6541f-d2c9-4618-9107-5475471c7e1b\n",
      "[I 2023-08-12 11:23:33,821] Trial 2 finished with value: 0.42583329282843824 and parameters: {'n_estimators': 188, 'max_depth': 1, 'learning_rate': 0.155}. Best is trial 2 with value: 0.42583329282843824.\n",
      "[I 2023-08-12 11:23:33,854] Trial 10 finished with value: 0.42944705994613575 and parameters: {'n_estimators': 207, 'max_depth': 1, 'learning_rate': 0.045}. Best is trial 2 with value: 0.42583329282843824.\n",
      "[I 2023-08-12 11:23:33,869] Trial 8 finished with value: 0.4194115275275393 and parameters: {'n_estimators': 46, 'max_depth': 5, 'learning_rate': 0.107}. Best is trial 8 with value: 0.4194115275275393.\n",
      "[I 2023-08-12 11:23:33,874] Trial 13 finished with value: 0.4179301244910912 and parameters: {'n_estimators': 49, 'max_depth': 6, 'learning_rate': 0.128}. Best is trial 13 with value: 0.4179301244910912.\n",
      "[I 2023-08-12 11:23:34,145] Trial 9 finished with value: 0.4232505778133265 and parameters: {'n_estimators': 235, 'max_depth': 2, 'learning_rate': 0.14400000000000002}. Best is trial 13 with value: 0.4179301244910912.\n",
      "[I 2023-08-12 11:23:34,163] Trial 19 finished with value: 0.4219086396097185 and parameters: {'n_estimators': 158, 'max_depth': 3, 'learning_rate': 0.068}. Best is trial 13 with value: 0.4179301244910912.\n",
      "[I 2023-08-12 11:23:34,298] Trial 12 finished with value: 0.4195479711408983 and parameters: {'n_estimators': 197, 'max_depth': 5, 'learning_rate': 0.07300000000000001}. Best is trial 13 with value: 0.4179301244910912.\n",
      "[I 2023-08-12 11:23:34,319] Trial 18 finished with value: 0.4236891591604942 and parameters: {'n_estimators': 240, 'max_depth': 2, 'learning_rate': 0.082}. Best is trial 13 with value: 0.4179301244910912.\n",
      "[I 2023-08-12 11:23:34,537] Trial 6 finished with value: 0.42121617276761836 and parameters: {'n_estimators': 186, 'max_depth': 7, 'learning_rate': 0.027000000000000003}. Best is trial 13 with value: 0.4179301244910912.\n",
      "[I 2023-08-12 11:23:34,718] Trial 3 finished with value: 0.42837200442188994 and parameters: {'n_estimators': 796, 'max_depth': 2, 'learning_rate': 0.131}. Best is trial 13 with value: 0.4179301244910912.\n",
      "[I 2023-08-12 11:23:35,014] Trial 17 finished with value: 0.45006655719256244 and parameters: {'n_estimators': 733, 'max_depth': 2, 'learning_rate': 0.002}. Best is trial 13 with value: 0.4179301244910912.\n",
      "[I 2023-08-12 11:23:35,129] Trial 24 finished with value: 0.4225285964882382 and parameters: {'n_estimators': 123, 'max_depth': 7, 'learning_rate': 0.041}. Best is trial 13 with value: 0.4179301244910912.\n",
      "[I 2023-08-12 11:23:35,379] Trial 26 finished with value: 0.44947183351873526 and parameters: {'n_estimators': 10, 'max_depth': 10, 'learning_rate': 0.194}. Best is trial 13 with value: 0.4179301244910912.\n",
      "[I 2023-08-12 11:23:35,764] Trial 23 finished with value: 0.4331948292935546 and parameters: {'n_estimators': 985, 'max_depth': 2, 'learning_rate': 0.15}. Best is trial 13 with value: 0.4179301244910912.\n",
      "[I 2023-08-12 11:23:36,545] Trial 1 finished with value: 0.43144263138968403 and parameters: {'n_estimators': 211, 'max_depth': 7, 'learning_rate': 0.168}. Best is trial 13 with value: 0.4179301244910912.\n",
      "[I 2023-08-12 11:23:37,066] Trial 5 finished with value: 0.43331790780822904 and parameters: {'n_estimators': 601, 'max_depth': 5, 'learning_rate': 0.16}. Best is trial 13 with value: 0.4179301244910912.\n",
      "[I 2023-08-12 11:23:38,122] Trial 28 finished with value: 0.4267404593867058 and parameters: {'n_estimators': 415, 'max_depth': 5, 'learning_rate': 0.117}. Best is trial 13 with value: 0.4179301244910912.\n",
      "[I 2023-08-12 11:23:38,475] Trial 15 finished with value: 0.4476024270997765 and parameters: {'n_estimators': 256, 'max_depth': 8, 'learning_rate': 0.183}. Best is trial 13 with value: 0.4179301244910912.\n",
      "[I 2023-08-12 11:23:38,597] Trial 29 finished with value: 0.4292120073724024 and parameters: {'n_estimators': 426, 'max_depth': 5, 'learning_rate': 0.114}. Best is trial 13 with value: 0.4179301244910912.\n",
      "[I 2023-08-12 11:23:38,836] Trial 34 finished with value: 0.4268978826560838 and parameters: {'n_estimators': 50, 'max_depth': 4, 'learning_rate': 0.101}. Best is trial 13 with value: 0.4179301244910912.\n",
      "[I 2023-08-12 11:23:39,066] Trial 11 finished with value: 0.42249144364753605 and parameters: {'n_estimators': 301, 'max_depth': 8, 'learning_rate': 0.111}. Best is trial 13 with value: 0.4179301244910912.\n",
      "[I 2023-08-12 11:23:39,164] Trial 30 finished with value: 0.4247009311145538 and parameters: {'n_estimators': 416, 'max_depth': 5, 'learning_rate': 0.112}. Best is trial 13 with value: 0.4179301244910912.\n",
      "[I 2023-08-12 11:23:39,504] Trial 36 finished with value: 0.42241138269411166 and parameters: {'n_estimators': 76, 'max_depth': 6, 'learning_rate': 0.068}. Best is trial 13 with value: 0.4179301244910912.\n",
      "[I 2023-08-12 11:23:39,589] Trial 37 finished with value: 0.41737045417864094 and parameters: {'n_estimators': 85, 'max_depth': 6, 'learning_rate': 0.08}. Best is trial 37 with value: 0.41737045417864094.\n",
      "[I 2023-08-12 11:23:39,675] Trial 38 finished with value: 0.45909259946476955 and parameters: {'n_estimators': 11, 'max_depth': 4, 'learning_rate': 0.083}. Best is trial 37 with value: 0.41737045417864094.\n",
      "[I 2023-08-12 11:23:39,945] Trial 33 finished with value: 0.42871342401590307 and parameters: {'n_estimators': 413, 'max_depth': 4, 'learning_rate': 0.10400000000000001}. Best is trial 37 with value: 0.41737045417864094.\n",
      "[I 2023-08-12 11:23:40,548] Trial 41 finished with value: 0.41365910433023895 and parameters: {'n_estimators': 94, 'max_depth': 6, 'learning_rate': 0.132}. Best is trial 41 with value: 0.41365910433023895.\n",
      "[I 2023-08-12 11:23:40,636] Trial 0 finished with value: 0.4299190475372072 and parameters: {'n_estimators': 732, 'max_depth': 6, 'learning_rate': 0.075}. Best is trial 41 with value: 0.41365910433023895.\n",
      "[I 2023-08-12 11:23:41,318] Trial 4 finished with value: 0.42560783936776403 and parameters: {'n_estimators': 430, 'max_depth': 8, 'learning_rate': 0.061}. Best is trial 41 with value: 0.41365910433023895.\n",
      "[I 2023-08-12 11:23:41,630] Trial 7 finished with value: 0.42201298551187927 and parameters: {'n_estimators': 453, 'max_depth': 8, 'learning_rate': 0.051000000000000004}. Best is trial 41 with value: 0.41365910433023895.\n",
      "[I 2023-08-12 11:23:41,897] Trial 44 finished with value: 0.4108176150672813 and parameters: {'n_estimators': 111, 'max_depth': 6, 'learning_rate': 0.132}. Best is trial 44 with value: 0.4108176150672813.\n",
      "[I 2023-08-12 11:23:42,062] Trial 39 finished with value: 0.42239434782421753 and parameters: {'n_estimators': 329, 'max_depth': 6, 'learning_rate': 0.08800000000000001}. Best is trial 44 with value: 0.4108176150672813.\n",
      "[I 2023-08-12 11:23:42,349] Trial 46 finished with value: 0.42015618285256484 and parameters: {'n_estimators': 108, 'max_depth': 6, 'learning_rate': 0.126}. Best is trial 44 with value: 0.4108176150672813.\n",
      "[I 2023-08-12 11:23:42,422] Trial 16 finished with value: 0.4718311722230574 and parameters: {'n_estimators': 377, 'max_depth': 10, 'learning_rate': 0.001}. Best is trial 44 with value: 0.4108176150672813.\n",
      "[I 2023-08-12 11:23:42,596] Trial 40 finished with value: 0.4203377236442937 and parameters: {'n_estimators': 323, 'max_depth': 6, 'learning_rate': 0.132}. Best is trial 44 with value: 0.4108176150672813.\n",
      "[I 2023-08-12 11:23:42,914] Trial 47 finished with value: 0.4169591647162842 and parameters: {'n_estimators': 120, 'max_depth': 7, 'learning_rate': 0.137}. Best is trial 44 with value: 0.4108176150672813.\n",
      "[I 2023-08-12 11:23:43,215] Trial 48 finished with value: 0.4191275213574916 and parameters: {'n_estimators': 132, 'max_depth': 7, 'learning_rate': 0.139}. Best is trial 44 with value: 0.4108176150672813.\n",
      "[I 2023-08-12 11:23:43,346] Trial 42 finished with value: 0.42687791356515137 and parameters: {'n_estimators': 339, 'max_depth': 6, 'learning_rate': 0.133}. Best is trial 44 with value: 0.4108176150672813.\n",
      "[I 2023-08-12 11:23:44,168] Trial 45 finished with value: 0.42995462618986807 and parameters: {'n_estimators': 330, 'max_depth': 6, 'learning_rate': 0.128}. Best is trial 44 with value: 0.4108176150672813.\n"
     ]
    },
    {
     "name": "stderr",
     "output_type": "stream",
     "text": [
      "[I 2023-08-12 11:23:45,933] Trial 21 finished with value: 0.43980866211382574 and parameters: {'n_estimators': 959, 'max_depth': 7, 'learning_rate': 0.199}. Best is trial 44 with value: 0.4108176150672813.\n",
      "[I 2023-08-12 11:23:47,168] Trial 27 finished with value: 0.43585192466991 and parameters: {'n_estimators': 482, 'max_depth': 10, 'learning_rate': 0.111}. Best is trial 44 with value: 0.4108176150672813.\n",
      "[I 2023-08-12 11:23:47,677] Trial 56 finished with value: 0.4253656087401817 and parameters: {'n_estimators': 97, 'max_depth': 7, 'learning_rate': 0.166}. Best is trial 44 with value: 0.4108176150672813.\n",
      "[I 2023-08-12 11:23:47,889] Trial 49 finished with value: 0.4432135250731865 and parameters: {'n_estimators': 553, 'max_depth': 7, 'learning_rate': 0.135}. Best is trial 44 with value: 0.4108176150672813.\n",
      "[I 2023-08-12 11:23:48,301] Trial 50 finished with value: 0.43479578585331047 and parameters: {'n_estimators': 569, 'max_depth': 7, 'learning_rate': 0.139}. Best is trial 44 with value: 0.4108176150672813.\n",
      "[I 2023-08-12 11:23:48,641] Trial 51 finished with value: 0.4380275638126357 and parameters: {'n_estimators': 573, 'max_depth': 7, 'learning_rate': 0.14100000000000001}. Best is trial 44 with value: 0.4108176150672813.\n",
      "[I 2023-08-12 11:23:48,717] Trial 58 finished with value: 0.4176390166486776 and parameters: {'n_estimators': 164, 'max_depth': 7, 'learning_rate': 0.094}. Best is trial 44 with value: 0.4108176150672813.\n",
      "[I 2023-08-12 11:23:48,812] Trial 25 finished with value: 0.4435685552884927 and parameters: {'n_estimators': 523, 'max_depth': 10, 'learning_rate': 0.197}. Best is trial 44 with value: 0.4108176150672813.\n",
      "[I 2023-08-12 11:23:49,499] Trial 54 finished with value: 0.435754734494681 and parameters: {'n_estimators': 559, 'max_depth': 7, 'learning_rate': 0.157}. Best is trial 44 with value: 0.4108176150672813.\n",
      "[I 2023-08-12 11:23:49,691] Trial 60 finished with value: 0.42626050335597415 and parameters: {'n_estimators': 154, 'max_depth': 8, 'learning_rate': 0.157}. Best is trial 44 with value: 0.4108176150672813.\n",
      "[I 2023-08-12 11:23:49,775] Trial 61 finished with value: 0.41943254717114925 and parameters: {'n_estimators': 152, 'max_depth': 8, 'learning_rate': 0.092}. Best is trial 44 with value: 0.4108176150672813.\n",
      "[I 2023-08-12 11:23:49,874] Trial 20 finished with value: 0.4459234011821146 and parameters: {'n_estimators': 618, 'max_depth': 10, 'learning_rate': 0.17500000000000002}. Best is trial 44 with value: 0.4108176150672813.\n",
      "[I 2023-08-12 11:23:50,961] Trial 66 finished with value: 0.42508615091722435 and parameters: {'n_estimators': 61, 'max_depth': 9, 'learning_rate': 0.122}. Best is trial 44 with value: 0.4108176150672813.\n",
      "[I 2023-08-12 11:23:51,317] Trial 59 finished with value: 0.4327442454072282 and parameters: {'n_estimators': 155, 'max_depth': 9, 'learning_rate': 0.152}. Best is trial 44 with value: 0.4108176150672813.\n",
      "[I 2023-08-12 11:23:51,665] Trial 62 finished with value: 0.4270657472208407 and parameters: {'n_estimators': 163, 'max_depth': 9, 'learning_rate': 0.08700000000000001}. Best is trial 44 with value: 0.4108176150672813.\n",
      "[I 2023-08-12 11:23:52,242] Trial 63 finished with value: 0.4238837069363972 and parameters: {'n_estimators': 158, 'max_depth': 9, 'learning_rate': 0.094}. Best is trial 44 with value: 0.4108176150672813.\n",
      "[I 2023-08-12 11:23:53,087] Trial 67 finished with value: 0.42970776972577934 and parameters: {'n_estimators': 278, 'max_depth': 6, 'learning_rate': 0.15}. Best is trial 44 with value: 0.4108176150672813.\n",
      "[I 2023-08-12 11:23:53,365] Trial 69 finished with value: 0.42063719297094204 and parameters: {'n_estimators': 227, 'max_depth': 6, 'learning_rate': 0.121}. Best is trial 44 with value: 0.4108176150672813.\n",
      "[I 2023-08-12 11:23:53,455] Trial 68 finished with value: 0.42195245484048505 and parameters: {'n_estimators': 273, 'max_depth': 6, 'learning_rate': 0.093}. Best is trial 44 with value: 0.4108176150672813.\n",
      "[I 2023-08-12 11:23:53,733] Trial 72 finished with value: 0.4179158713937485 and parameters: {'n_estimators': 87, 'max_depth': 5, 'learning_rate': 0.078}. Best is trial 44 with value: 0.4108176150672813.\n",
      "[I 2023-08-12 11:23:53,810] Trial 73 finished with value: 0.42098673639615986 and parameters: {'n_estimators': 84, 'max_depth': 5, 'learning_rate': 0.074}. Best is trial 44 with value: 0.4108176150672813.\n",
      "[I 2023-08-12 11:23:53,826] Trial 57 finished with value: 0.43807858273027683 and parameters: {'n_estimators': 624, 'max_depth': 7, 'learning_rate': 0.095}. Best is trial 44 with value: 0.4108176150672813.\n",
      "[I 2023-08-12 11:23:53,888] Trial 64 finished with value: 0.4255479357394903 and parameters: {'n_estimators': 255, 'max_depth': 8, 'learning_rate': 0.098}. Best is trial 44 with value: 0.4108176150672813.\n",
      "[I 2023-08-12 11:23:54,162] Trial 76 finished with value: 0.44001189537048757 and parameters: {'n_estimators': 35, 'max_depth': 5, 'learning_rate': 0.056}. Best is trial 44 with value: 0.4108176150672813.\n",
      "[I 2023-08-12 11:23:54,189] Trial 74 finished with value: 0.4203493523076511 and parameters: {'n_estimators': 190, 'max_depth': 4, 'learning_rate': 0.057}. Best is trial 44 with value: 0.4108176150672813.\n",
      "[I 2023-08-12 11:23:54,204] Trial 70 finished with value: 0.4254807275795325 and parameters: {'n_estimators': 267, 'max_depth': 6, 'learning_rate': 0.123}. Best is trial 44 with value: 0.4108176150672813.\n",
      "[I 2023-08-12 11:23:54,271] Trial 71 finished with value: 0.41983346313611564 and parameters: {'n_estimators': 210, 'max_depth': 5, 'learning_rate': 0.055}. Best is trial 44 with value: 0.4108176150672813.\n",
      "[I 2023-08-12 11:23:54,497] Trial 77 finished with value: 0.4193805899762847 and parameters: {'n_estimators': 192, 'max_depth': 5, 'learning_rate': 0.055}. Best is trial 44 with value: 0.4108176150672813.\n",
      "[I 2023-08-12 11:23:54,622] Trial 80 finished with value: 0.4156247088663664 and parameters: {'n_estimators': 98, 'max_depth': 5, 'learning_rate': 0.068}. Best is trial 44 with value: 0.4108176150672813.\n",
      "[I 2023-08-12 11:23:54,646] Trial 79 finished with value: 0.4203025826908449 and parameters: {'n_estimators': 112, 'max_depth': 5, 'learning_rate': 0.10500000000000001}. Best is trial 44 with value: 0.4108176150672813.\n",
      "[I 2023-08-12 11:23:54,686] Trial 81 finished with value: 0.41469614881498873 and parameters: {'n_estimators': 117, 'max_depth': 5, 'learning_rate': 0.078}. Best is trial 44 with value: 0.4108176150672813.\n",
      "[I 2023-08-12 11:23:54,712] Trial 75 finished with value: 0.41986277755394624 and parameters: {'n_estimators': 200, 'max_depth': 4, 'learning_rate': 0.045}. Best is trial 44 with value: 0.4108176150672813.\n",
      "[I 2023-08-12 11:23:54,726] Trial 78 finished with value: 0.4198141787248333 and parameters: {'n_estimators': 197, 'max_depth': 4, 'learning_rate': 0.079}. Best is trial 44 with value: 0.4108176150672813.\n",
      "[I 2023-08-12 11:23:54,916] Trial 82 finished with value: 0.41658994334210836 and parameters: {'n_estimators': 108, 'max_depth': 6, 'learning_rate': 0.079}. Best is trial 44 with value: 0.4108176150672813.\n",
      "[I 2023-08-12 11:23:55,114] Trial 84 finished with value: 0.43702450566481804 and parameters: {'n_estimators': 37, 'max_depth': 3, 'learning_rate': 0.067}. Best is trial 44 with value: 0.4108176150672813.\n",
      "[I 2023-08-12 11:23:55,115] Trial 85 finished with value: 0.4354165947930952 and parameters: {'n_estimators': 41, 'max_depth': 3, 'learning_rate': 0.067}. Best is trial 44 with value: 0.4108176150672813.\n",
      "[I 2023-08-12 11:23:55,122] Trial 88 finished with value: 0.4403262527259571 and parameters: {'n_estimators': 29, 'max_depth': 3, 'learning_rate': 0.066}. Best is trial 44 with value: 0.4108176150672813.\n",
      "[I 2023-08-12 11:23:55,146] Trial 87 finished with value: 0.4255278989486527 and parameters: {'n_estimators': 78, 'max_depth': 3, 'learning_rate': 0.066}. Best is trial 44 with value: 0.4108176150672813.\n",
      "[I 2023-08-12 11:23:55,185] Trial 86 finished with value: 0.4272670992247445 and parameters: {'n_estimators': 61, 'max_depth': 4, 'learning_rate': 0.07200000000000001}. Best is trial 44 with value: 0.4108176150672813.\n",
      "[I 2023-08-12 11:23:55,217] Trial 83 finished with value: 0.42083631810351235 and parameters: {'n_estimators': 117, 'max_depth': 3, 'learning_rate': 0.067}. Best is trial 44 with value: 0.4108176150672813.\n"
     ]
    },
    {
     "name": "stderr",
     "output_type": "stream",
     "text": [
      "[I 2023-08-12 11:23:55,371] Trial 14 finished with value: 0.4371269608967406 and parameters: {'n_estimators': 392, 'max_depth': 9, 'learning_rate': 0.1}. Best is trial 44 with value: 0.4108176150672813.\n",
      "[I 2023-08-12 11:23:55,842] Trial 90 finished with value: 0.41597362539811994 and parameters: {'n_estimators': 70, 'max_depth': 6, 'learning_rate': 0.085}. Best is trial 44 with value: 0.4108176150672813.\n",
      "[I 2023-08-12 11:23:55,939] Trial 89 finished with value: 0.42516462213138356 and parameters: {'n_estimators': 108, 'max_depth': 6, 'learning_rate': 0.037000000000000005}. Best is trial 44 with value: 0.4108176150672813.\n",
      "[I 2023-08-12 11:23:55,951] Trial 91 finished with value: 0.42985835793821986 and parameters: {'n_estimators': 128, 'max_depth': 6, 'learning_rate': 0.023}. Best is trial 44 with value: 0.4108176150672813.\n",
      "[I 2023-08-12 11:23:55,952] Trial 92 finished with value: 0.4118732870275296 and parameters: {'n_estimators': 128, 'max_depth': 6, 'learning_rate': 0.085}. Best is trial 44 with value: 0.4108176150672813.\n",
      "[I 2023-08-12 11:23:56,004] Trial 94 finished with value: 0.42267448399240626 and parameters: {'n_estimators': 117, 'max_depth': 6, 'learning_rate': 0.034}. Best is trial 44 with value: 0.4108176150672813.\n",
      "[I 2023-08-12 11:23:56,054] Trial 95 finished with value: 0.41477142077515594 and parameters: {'n_estimators': 133, 'max_depth': 6, 'learning_rate': 0.08600000000000001}. Best is trial 44 with value: 0.4108176150672813.\n",
      "[I 2023-08-12 11:23:56,188] Trial 96 finished with value: 0.41499281796255294 and parameters: {'n_estimators': 124, 'max_depth': 6, 'learning_rate': 0.089}. Best is trial 44 with value: 0.4108176150672813.\n",
      "[I 2023-08-12 11:23:56,287] Trial 99 finished with value: 0.45520764779921813 and parameters: {'n_estimators': 11, 'max_depth': 6, 'learning_rate': 0.08}. Best is trial 44 with value: 0.4108176150672813.\n",
      "[I 2023-08-12 11:23:56,378] Trial 97 finished with value: 0.41614634376772736 and parameters: {'n_estimators': 65, 'max_depth': 6, 'learning_rate': 0.08600000000000001}. Best is trial 44 with value: 0.4108176150672813.\n",
      "[I 2023-08-12 11:23:56,551] Trial 98 finished with value: 0.41336273942052765 and parameters: {'n_estimators': 133, 'max_depth': 6, 'learning_rate': 0.08700000000000001}. Best is trial 44 with value: 0.4108176150672813.\n",
      "[I 2023-08-12 11:23:57,570] Trial 31 finished with value: 0.4348361584660706 and parameters: {'n_estimators': 340, 'max_depth': 9, 'learning_rate': 0.114}. Best is trial 44 with value: 0.4108176150672813.\n",
      "[I 2023-08-12 11:23:58,935] Trial 43 finished with value: 0.4328022794369285 and parameters: {'n_estimators': 328, 'max_depth': 9, 'learning_rate': 0.139}. Best is trial 44 with value: 0.4108176150672813.\n",
      "[I 2023-08-12 11:23:59,366] Trial 35 finished with value: 0.4265874516513353 and parameters: {'n_estimators': 359, 'max_depth': 9, 'learning_rate': 0.092}. Best is trial 44 with value: 0.4108176150672813.\n",
      "[I 2023-08-12 11:24:00,175] Trial 32 finished with value: 0.43653779093530454 and parameters: {'n_estimators': 391, 'max_depth': 9, 'learning_rate': 0.10400000000000001}. Best is trial 44 with value: 0.4108176150672813.\n",
      "[I 2023-08-12 11:24:00,190] Trial 93 finished with value: 0.433310566980117 and parameters: {'n_estimators': 835, 'max_depth': 6, 'learning_rate': 0.082}. Best is trial 44 with value: 0.4108176150672813.\n",
      "[I 2023-08-12 11:24:00,594] Trial 65 finished with value: 0.42682341027725035 and parameters: {'n_estimators': 249, 'max_depth': 9, 'learning_rate': 0.095}. Best is trial 44 with value: 0.4108176150672813.\n",
      "[I 2023-08-12 11:24:03,661] Trial 53 finished with value: 0.43362378144434977 and parameters: {'n_estimators': 531, 'max_depth': 9, 'learning_rate': 0.167}. Best is trial 44 with value: 0.4108176150672813.\n",
      "[I 2023-08-12 11:24:03,937] Trial 52 finished with value: 0.44162163659358283 and parameters: {'n_estimators': 563, 'max_depth': 9, 'learning_rate': 0.169}. Best is trial 44 with value: 0.4108176150672813.\n",
      "[I 2023-08-12 11:24:04,209] Trial 55 finished with value: 0.4413925888964641 and parameters: {'n_estimators': 541, 'max_depth': 9, 'learning_rate': 0.169}. Best is trial 44 with value: 0.4108176150672813.\n",
      "[I 2023-08-12 11:24:04,321] Trial 22 finished with value: 0.4299099661998806 and parameters: {'n_estimators': 790, 'max_depth': 9, 'learning_rate': 0.112}. Best is trial 44 with value: 0.4108176150672813.\n"
     ]
    },
    {
     "name": "stdout",
     "output_type": "stream",
     "text": [
      "Best params: {'n_estimators': 111, 'max_depth': 6, 'learning_rate': 0.132}\n",
      "R2 scores\n",
      "On validation sample = 0.288\n",
      "All CV scores = 0.129, 0.248, 0.275\n",
      "Mean CV score = 0.217\n"
     ]
    },
    {
     "data": {
      "text/html": [
       "<div>\n",
       "<style scoped>\n",
       "    .dataframe tbody tr th:only-of-type {\n",
       "        vertical-align: middle;\n",
       "    }\n",
       "\n",
       "    .dataframe tbody tr th {\n",
       "        vertical-align: top;\n",
       "    }\n",
       "\n",
       "    .dataframe thead th {\n",
       "        text-align: right;\n",
       "    }\n",
       "</style>\n",
       "<table border=\"1\" class=\"dataframe\">\n",
       "  <thead>\n",
       "    <tr style=\"text-align: right;\">\n",
       "      <th></th>\n",
       "      <th>Feature</th>\n",
       "      <th>CatBoost Importance</th>\n",
       "      <th>Permutation Importance</th>\n",
       "      <th>Permutation Importance std</th>\n",
       "    </tr>\n",
       "  </thead>\n",
       "  <tbody>\n",
       "    <tr>\n",
       "      <th>0</th>\n",
       "      <td>Company</td>\n",
       "      <td>24.053512</td>\n",
       "      <td>0.243671</td>\n",
       "      <td>0.037180</td>\n",
       "    </tr>\n",
       "    <tr>\n",
       "      <th>2</th>\n",
       "      <td>Cocoa Percent</td>\n",
       "      <td>18.161645</td>\n",
       "      <td>0.157706</td>\n",
       "      <td>0.038156</td>\n",
       "    </tr>\n",
       "    <tr>\n",
       "      <th>1</th>\n",
       "      <td>REF</td>\n",
       "      <td>15.359669</td>\n",
       "      <td>0.113443</td>\n",
       "      <td>0.018243</td>\n",
       "    </tr>\n",
       "    <tr>\n",
       "      <th>4</th>\n",
       "      <td>Bean Type</td>\n",
       "      <td>9.579782</td>\n",
       "      <td>0.020687</td>\n",
       "      <td>0.007829</td>\n",
       "    </tr>\n",
       "    <tr>\n",
       "      <th>3</th>\n",
       "      <td>Company Location</td>\n",
       "      <td>8.505967</td>\n",
       "      <td>0.016871</td>\n",
       "      <td>0.012316</td>\n",
       "    </tr>\n",
       "    <tr>\n",
       "      <th>8</th>\n",
       "      <td>SBO complexity</td>\n",
       "      <td>8.410915</td>\n",
       "      <td>0.024965</td>\n",
       "      <td>0.009984</td>\n",
       "    </tr>\n",
       "    <tr>\n",
       "      <th>7</th>\n",
       "      <td>Bean Origin World</td>\n",
       "      <td>5.801680</td>\n",
       "      <td>0.009751</td>\n",
       "      <td>0.003353</td>\n",
       "    </tr>\n",
       "    <tr>\n",
       "      <th>6</th>\n",
       "      <td>Broad Company Location</td>\n",
       "      <td>5.585312</td>\n",
       "      <td>0.008241</td>\n",
       "      <td>0.005079</td>\n",
       "    </tr>\n",
       "    <tr>\n",
       "      <th>5</th>\n",
       "      <td>Broad Bean Origin</td>\n",
       "      <td>4.541518</td>\n",
       "      <td>0.004163</td>\n",
       "      <td>0.005259</td>\n",
       "    </tr>\n",
       "  </tbody>\n",
       "</table>\n",
       "</div>"
      ],
      "text/plain": [
       "                  Feature  CatBoost Importance  Permutation Importance  \\\n",
       "0                 Company            24.053512                0.243671   \n",
       "2           Cocoa Percent            18.161645                0.157706   \n",
       "1                     REF            15.359669                0.113443   \n",
       "4               Bean Type             9.579782                0.020687   \n",
       "3        Company Location             8.505967                0.016871   \n",
       "8          SBO complexity             8.410915                0.024965   \n",
       "7       Bean Origin World             5.801680                0.009751   \n",
       "6  Broad Company Location             5.585312                0.008241   \n",
       "5       Broad Bean Origin             4.541518                0.004163   \n",
       "\n",
       "   Permutation Importance std  \n",
       "0                    0.037180  \n",
       "2                    0.038156  \n",
       "1                    0.018243  \n",
       "4                    0.007829  \n",
       "3                    0.012316  \n",
       "8                    0.009984  \n",
       "7                    0.003353  \n",
       "6                    0.005079  \n",
       "5                    0.005259  "
      ]
     },
     "metadata": {},
     "output_type": "display_data"
    }
   ],
   "source": [
    "model_cb1 = train_cb_regressor(df_train_new, True, 100)"
   ]
  },
  {
   "cell_type": "code",
   "execution_count": 64,
   "id": "f4eb0e2d",
   "metadata": {
    "scrolled": true
   },
   "outputs": [
    {
     "name": "stderr",
     "output_type": "stream",
     "text": [
      "[I 2023-08-12 11:25:29,850] A new study created in memory with name: no-name-c095c74c-f583-4c6a-b3b7-bb253923d625\n",
      "[I 2023-08-12 11:25:30,142] Trial 15 finished with value: 0.40847406013163784 and parameters: {'n_estimators': 42, 'max_depth': 6, 'learning_rate': 0.10200000000000001}. Best is trial 15 with value: 0.40847406013163784.\n",
      "[I 2023-08-12 11:25:30,201] Trial 1 finished with value: 0.41078421394410086 and parameters: {'n_estimators': 457, 'max_depth': 1, 'learning_rate': 0.089}. Best is trial 15 with value: 0.40847406013163784.\n",
      "[I 2023-08-12 11:25:30,312] Trial 7 finished with value: 0.40817651745996425 and parameters: {'n_estimators': 170, 'max_depth': 5, 'learning_rate': 0.109}. Best is trial 7 with value: 0.40817651745996425.\n",
      "[I 2023-08-12 11:25:30,530] Trial 8 finished with value: 0.4131430561995459 and parameters: {'n_estimators': 535, 'max_depth': 2, 'learning_rate': 0.122}. Best is trial 7 with value: 0.40817651745996425.\n",
      "[I 2023-08-12 11:25:30,566] Trial 6 finished with value: 0.4153376015554436 and parameters: {'n_estimators': 991, 'max_depth': 1, 'learning_rate': 0.1}. Best is trial 7 with value: 0.40817651745996425.\n",
      "[I 2023-08-12 11:25:30,977] Trial 20 finished with value: 0.40732200671763447 and parameters: {'n_estimators': 141, 'max_depth': 3, 'learning_rate': 0.135}. Best is trial 20 with value: 0.40732200671763447.\n",
      "[I 2023-08-12 11:25:31,078] Trial 19 finished with value: 0.4053340724363244 and parameters: {'n_estimators': 109, 'max_depth': 7, 'learning_rate': 0.126}. Best is trial 19 with value: 0.4053340724363244.\n",
      "[I 2023-08-12 11:25:31,204] Trial 3 finished with value: 0.4078785647567016 and parameters: {'n_estimators': 511, 'max_depth': 3, 'learning_rate': 0.017}. Best is trial 19 with value: 0.4053340724363244.\n",
      "[I 2023-08-12 11:25:31,403] Trial 17 finished with value: 0.4203674472888477 and parameters: {'n_estimators': 884, 'max_depth': 2, 'learning_rate': 0.17}. Best is trial 19 with value: 0.4053340724363244.\n",
      "[I 2023-08-12 11:25:31,772] Trial 16 finished with value: 0.42390102240175204 and parameters: {'n_estimators': 422, 'max_depth': 4, 'learning_rate': 0.17200000000000001}. Best is trial 19 with value: 0.4053340724363244.\n",
      "[I 2023-08-12 11:25:31,855] Trial 11 finished with value: 0.4131386546620577 and parameters: {'n_estimators': 96, 'max_depth': 9, 'learning_rate': 0.16}. Best is trial 19 with value: 0.4053340724363244.\n",
      "[I 2023-08-12 11:25:31,953] Trial 13 finished with value: 0.4146963350345209 and parameters: {'n_estimators': 817, 'max_depth': 3, 'learning_rate': 0.060000000000000005}. Best is trial 19 with value: 0.4053340724363244.\n",
      "[I 2023-08-12 11:25:32,448] Trial 22 finished with value: 0.41215618522859887 and parameters: {'n_estimators': 950, 'max_depth': 2, 'learning_rate': 0.079}. Best is trial 19 with value: 0.4053340724363244.\n",
      "[I 2023-08-12 11:25:32,830] Trial 18 finished with value: 0.4183555524118443 and parameters: {'n_estimators': 426, 'max_depth': 5, 'learning_rate': 0.083}. Best is trial 19 with value: 0.4053340724363244.\n",
      "[I 2023-08-12 11:25:32,991] Trial 9 finished with value: 0.43058287827360425 and parameters: {'n_estimators': 552, 'max_depth': 5, 'learning_rate': 0.168}. Best is trial 19 with value: 0.4053340724363244.\n",
      "[I 2023-08-12 11:25:34,579] Trial 12 finished with value: 0.4165611155929567 and parameters: {'n_estimators': 288, 'max_depth': 8, 'learning_rate': 0.18}. Best is trial 19 with value: 0.4053340724363244.\n",
      "[I 2023-08-12 11:25:35,378] Trial 27 finished with value: 0.41423660445948524 and parameters: {'n_estimators': 268, 'max_depth': 7, 'learning_rate': 0.139}. Best is trial 19 with value: 0.4053340724363244.\n",
      "[I 2023-08-12 11:25:35,450] Trial 26 finished with value: 0.4064435682505051 and parameters: {'n_estimators': 252, 'max_depth': 7, 'learning_rate': 0.052000000000000005}. Best is trial 19 with value: 0.4053340724363244.\n",
      "[I 2023-08-12 11:25:35,545] Trial 4 finished with value: 0.42027377150476625 and parameters: {'n_estimators': 636, 'max_depth': 6, 'learning_rate': 0.097}. Best is trial 19 with value: 0.4053340724363244.\n",
      "[I 2023-08-12 11:25:36,197] Trial 28 finished with value: 0.42023123944293755 and parameters: {'n_estimators': 279, 'max_depth': 7, 'learning_rate': 0.14200000000000002}. Best is trial 19 with value: 0.4053340724363244.\n",
      "[I 2023-08-12 11:25:38,303] Trial 29 finished with value: 0.4085738762120827 and parameters: {'n_estimators': 252, 'max_depth': 8, 'learning_rate': 0.14}. Best is trial 19 with value: 0.4053340724363244.\n",
      "[I 2023-08-12 11:25:38,414] Trial 30 finished with value: 0.41550063592062747 and parameters: {'n_estimators': 249, 'max_depth': 8, 'learning_rate': 0.137}. Best is trial 19 with value: 0.4053340724363244.\n",
      "[I 2023-08-12 11:25:38,833] Trial 31 finished with value: 0.409468288947459 and parameters: {'n_estimators': 259, 'max_depth': 7, 'learning_rate': 0.138}. Best is trial 19 with value: 0.4053340724363244.\n",
      "[I 2023-08-12 11:25:39,013] Trial 38 finished with value: 0.45148079120836543 and parameters: {'n_estimators': 11, 'max_depth': 4, 'learning_rate': 0.043000000000000003}. Best is trial 19 with value: 0.4053340724363244.\n",
      "[I 2023-08-12 11:25:40,172] Trial 37 finished with value: 0.4059704937537424 and parameters: {'n_estimators': 134, 'max_depth': 10, 'learning_rate': 0.038}. Best is trial 19 with value: 0.4053340724363244.\n",
      "[I 2023-08-12 11:25:40,770] Trial 39 finished with value: 0.4369563342282348 and parameters: {'n_estimators': 158, 'max_depth': 10, 'learning_rate': 0.005}. Best is trial 19 with value: 0.4053340724363244.\n",
      "[I 2023-08-12 11:25:41,105] Trial 24 finished with value: 0.42237473458024194 and parameters: {'n_estimators': 852, 'max_depth': 7, 'learning_rate': 0.002}. Best is trial 19 with value: 0.4053340724363244.\n",
      "[I 2023-08-12 11:25:41,336] Trial 14 finished with value: 0.41674093288254566 and parameters: {'n_estimators': 703, 'max_depth': 8, 'learning_rate': 0.148}. Best is trial 19 with value: 0.4053340724363244.\n",
      "[I 2023-08-12 11:25:41,384] Trial 36 finished with value: 0.40336618414712144 and parameters: {'n_estimators': 113, 'max_depth': 9, 'learning_rate': 0.051000000000000004}. Best is trial 36 with value: 0.40336618414712144.\n",
      "[I 2023-08-12 11:25:41,523] Trial 40 finished with value: 0.45466587721384477 and parameters: {'n_estimators': 150, 'max_depth': 10, 'learning_rate': 0.001}. Best is trial 36 with value: 0.40336618414712144.\n",
      "[I 2023-08-12 11:25:42,316] Trial 23 finished with value: 0.42623005473484815 and parameters: {'n_estimators': 962, 'max_depth': 7, 'learning_rate': 0.14100000000000001}. Best is trial 36 with value: 0.40336618414712144.\n",
      "[I 2023-08-12 11:25:42,608] Trial 35 finished with value: 0.4091821584864043 and parameters: {'n_estimators': 229, 'max_depth': 10, 'learning_rate': 0.030000000000000002}. Best is trial 36 with value: 0.40336618414712144.\n",
      "[I 2023-08-12 11:25:42,654] Trial 33 finished with value: 0.4108554829208437 and parameters: {'n_estimators': 261, 'max_depth': 10, 'learning_rate': 0.042}. Best is trial 36 with value: 0.40336618414712144.\n",
      "[I 2023-08-12 11:25:42,748] Trial 2 finished with value: 0.4083163710577851 and parameters: {'n_estimators': 488, 'max_depth': 10, 'learning_rate': 0.011}. Best is trial 36 with value: 0.40336618414712144.\n",
      "[I 2023-08-12 11:25:43,490] Trial 34 finished with value: 0.40888791589941625 and parameters: {'n_estimators': 274, 'max_depth': 10, 'learning_rate': 0.032}. Best is trial 36 with value: 0.40336618414712144.\n",
      "[I 2023-08-12 11:25:43,700] Trial 0 finished with value: 0.4143863840572237 and parameters: {'n_estimators': 931, 'max_depth': 8, 'learning_rate': 0.108}. Best is trial 36 with value: 0.40336618414712144.\n",
      "[I 2023-08-12 11:25:44,122] Trial 49 finished with value: 0.41124771885920014 and parameters: {'n_estimators': 62, 'max_depth': 9, 'learning_rate': 0.064}. Best is trial 36 with value: 0.40336618414712144.\n",
      "[I 2023-08-12 11:25:48,778] Trial 41 finished with value: 0.40830913874155084 and parameters: {'n_estimators': 357, 'max_depth': 10, 'learning_rate': 0.049}. Best is trial 36 with value: 0.40336618414712144.\n",
      "[I 2023-08-12 11:25:48,911] Trial 42 finished with value: 0.40930644820128603 and parameters: {'n_estimators': 352, 'max_depth': 10, 'learning_rate': 0.039}. Best is trial 36 with value: 0.40336618414712144.\n"
     ]
    },
    {
     "name": "stderr",
     "output_type": "stream",
     "text": [
      "[I 2023-08-12 11:25:49,015] Trial 43 finished with value: 0.4107478653024347 and parameters: {'n_estimators': 351, 'max_depth': 10, 'learning_rate': 0.042}. Best is trial 36 with value: 0.40336618414712144.\n",
      "[I 2023-08-12 11:25:49,106] Trial 25 finished with value: 0.4064934797137231 and parameters: {'n_estimators': 264, 'max_depth': 9, 'learning_rate': 0.05}. Best is trial 36 with value: 0.40336618414712144.\n",
      "[I 2023-08-12 11:25:49,556] Trial 44 finished with value: 0.4092022895642974 and parameters: {'n_estimators': 373, 'max_depth': 10, 'learning_rate': 0.032}. Best is trial 36 with value: 0.40336618414712144.\n",
      "[I 2023-08-12 11:25:50,506] Trial 55 finished with value: 0.40572976675946804 and parameters: {'n_estimators': 99, 'max_depth': 9, 'learning_rate': 0.064}. Best is trial 36 with value: 0.40336618414712144.\n",
      "[I 2023-08-12 11:25:50,572] Trial 54 finished with value: 0.409212888844419 and parameters: {'n_estimators': 98, 'max_depth': 9, 'learning_rate': 0.197}. Best is trial 36 with value: 0.40336618414712144.\n",
      "[I 2023-08-12 11:25:50,628] Trial 56 finished with value: 0.42087352936386335 and parameters: {'n_estimators': 101, 'max_depth': 9, 'learning_rate': 0.018000000000000002}. Best is trial 36 with value: 0.40336618414712144.\n",
      "[I 2023-08-12 11:25:51,034] Trial 57 finished with value: 0.4179625408484009 and parameters: {'n_estimators': 106, 'max_depth': 9, 'learning_rate': 0.019000000000000003}. Best is trial 36 with value: 0.40336618414712144.\n",
      "[I 2023-08-12 11:25:51,188] Trial 59 finished with value: 0.40962484368143504 and parameters: {'n_estimators': 196, 'max_depth': 6, 'learning_rate': 0.018000000000000002}. Best is trial 36 with value: 0.40336618414712144.\n",
      "[I 2023-08-12 11:25:51,215] Trial 60 finished with value: 0.4089142100522675 and parameters: {'n_estimators': 174, 'max_depth': 6, 'learning_rate': 0.069}. Best is trial 36 with value: 0.40336618414712144.\n",
      "[I 2023-08-12 11:25:51,641] Trial 63 finished with value: 0.4022747366142769 and parameters: {'n_estimators': 52, 'max_depth': 8, 'learning_rate': 0.11900000000000001}. Best is trial 63 with value: 0.4022747366142769.\n",
      "[I 2023-08-12 11:25:51,721] Trial 61 finished with value: 0.40954365258255615 and parameters: {'n_estimators': 191, 'max_depth': 6, 'learning_rate': 0.069}. Best is trial 63 with value: 0.4022747366142769.\n",
      "[I 2023-08-12 11:25:51,864] Trial 64 finished with value: 0.42767456736947024 and parameters: {'n_estimators': 11, 'max_depth': 8, 'learning_rate': 0.117}. Best is trial 63 with value: 0.4022747366142769.\n",
      "[I 2023-08-12 11:25:52,121] Trial 65 finished with value: 0.4022747366142769 and parameters: {'n_estimators': 52, 'max_depth': 8, 'learning_rate': 0.11900000000000001}. Best is trial 63 with value: 0.4022747366142769.\n",
      "[I 2023-08-12 11:25:52,143] Trial 58 finished with value: 0.40475676235742847 and parameters: {'n_estimators': 89, 'max_depth': 9, 'learning_rate': 0.068}. Best is trial 63 with value: 0.4022747366142769.\n",
      "[I 2023-08-12 11:25:52,262] Trial 66 finished with value: 0.4054995449030173 and parameters: {'n_estimators': 55, 'max_depth': 8, 'learning_rate': 0.116}. Best is trial 63 with value: 0.4022747366142769.\n",
      "[I 2023-08-12 11:25:52,350] Trial 62 finished with value: 0.4038662306798659 and parameters: {'n_estimators': 191, 'max_depth': 8, 'learning_rate': 0.066}. Best is trial 63 with value: 0.4022747366142769.\n",
      "[I 2023-08-12 11:25:52,520] Trial 68 finished with value: 0.4055871163001773 and parameters: {'n_estimators': 57, 'max_depth': 8, 'learning_rate': 0.092}. Best is trial 63 with value: 0.4022747366142769.\n",
      "[I 2023-08-12 11:25:52,569] Trial 67 finished with value: 0.408052344849584 and parameters: {'n_estimators': 59, 'max_depth': 8, 'learning_rate': 0.125}. Best is trial 63 with value: 0.4022747366142769.\n",
      "[I 2023-08-12 11:25:52,622] Trial 69 finished with value: 0.40509586738637854 and parameters: {'n_estimators': 53, 'max_depth': 8, 'learning_rate': 0.11800000000000001}. Best is trial 63 with value: 0.4022747366142769.\n",
      "[I 2023-08-12 11:25:52,681] Trial 32 finished with value: 0.42501182067354704 and parameters: {'n_estimators': 694, 'max_depth': 10, 'learning_rate': 0.139}. Best is trial 63 with value: 0.4022747366142769.\n",
      "[I 2023-08-12 11:25:52,724] Trial 70 finished with value: 0.40942310402892035 and parameters: {'n_estimators': 57, 'max_depth': 8, 'learning_rate': 0.096}. Best is trial 63 with value: 0.4022747366142769.\n",
      "[I 2023-08-12 11:25:53,064] Trial 74 finished with value: 0.41579823159636675 and parameters: {'n_estimators': 23, 'max_depth': 8, 'learning_rate': 0.10500000000000001}. Best is trial 63 with value: 0.4022747366142769.\n",
      "[I 2023-08-12 11:25:53,164] Trial 75 finished with value: 0.4261686763028643 and parameters: {'n_estimators': 16, 'max_depth': 9, 'learning_rate': 0.10300000000000001}. Best is trial 63 with value: 0.4022747366142769.\n",
      "[I 2023-08-12 11:25:53,797] Trial 76 finished with value: 0.4025665021339087 and parameters: {'n_estimators': 128, 'max_depth': 7, 'learning_rate': 0.081}. Best is trial 63 with value: 0.4022747366142769.\n",
      "[I 2023-08-12 11:25:54,415] Trial 78 finished with value: 0.4054716652887291 and parameters: {'n_estimators': 122, 'max_depth': 7, 'learning_rate': 0.084}. Best is trial 63 with value: 0.4022747366142769.\n",
      "[I 2023-08-12 11:25:54,466] Trial 5 finished with value: 0.4257324041201352 and parameters: {'n_estimators': 391, 'max_depth': 9, 'learning_rate': 0.17200000000000001}. Best is trial 63 with value: 0.4022747366142769.\n",
      "[I 2023-08-12 11:25:55,651] Trial 77 finished with value: 0.415884074746215 and parameters: {'n_estimators': 212, 'max_depth': 7, 'learning_rate': 0.128}. Best is trial 63 with value: 0.4022747366142769.\n",
      "[I 2023-08-12 11:25:57,359] Trial 81 finished with value: 0.40534196706962056 and parameters: {'n_estimators': 80, 'max_depth': 9, 'learning_rate': 0.076}. Best is trial 63 with value: 0.4022747366142769.\n",
      "[I 2023-08-12 11:25:58,265] Trial 80 finished with value: 0.41317567991155485 and parameters: {'n_estimators': 213, 'max_depth': 8, 'learning_rate': 0.075}. Best is trial 63 with value: 0.4022747366142769.\n",
      "[I 2023-08-12 11:25:58,326] Trial 82 finished with value: 0.40054338353971536 and parameters: {'n_estimators': 137, 'max_depth': 8, 'learning_rate': 0.114}. Best is trial 82 with value: 0.40054338353971536.\n",
      "[I 2023-08-12 11:25:59,339] Trial 83 finished with value: 0.40395316390072433 and parameters: {'n_estimators': 137, 'max_depth': 8, 'learning_rate': 0.111}. Best is trial 82 with value: 0.40054338353971536.\n",
      "[I 2023-08-12 11:26:00,058] Trial 85 finished with value: 0.4130887357378588 and parameters: {'n_estimators': 133, 'max_depth': 7, 'learning_rate': 0.111}. Best is trial 82 with value: 0.40054338353971536.\n",
      "[I 2023-08-12 11:26:01,530] Trial 71 finished with value: 0.42437510106041393 and parameters: {'n_estimators': 576, 'max_depth': 8, 'learning_rate': 0.123}. Best is trial 82 with value: 0.40054338353971536.\n",
      "[I 2023-08-12 11:26:01,608] Trial 72 finished with value: 0.4179298380087314 and parameters: {'n_estimators': 581, 'max_depth': 8, 'learning_rate': 0.106}. Best is trial 82 with value: 0.40054338353971536.\n",
      "[I 2023-08-12 11:26:03,359] Trial 86 finished with value: 0.40643419191188884 and parameters: {'n_estimators': 164, 'max_depth': 9, 'learning_rate': 0.152}. Best is trial 82 with value: 0.40054338353971536.\n",
      "[I 2023-08-12 11:26:03,759] Trial 73 finished with value: 0.4202562607518097 and parameters: {'n_estimators': 698, 'max_depth': 8, 'learning_rate': 0.111}. Best is trial 82 with value: 0.40054338353971536.\n",
      "[I 2023-08-12 11:26:04,921] Trial 89 finished with value: 0.40858703913567257 and parameters: {'n_estimators': 82, 'max_depth': 9, 'learning_rate': 0.056}. Best is trial 82 with value: 0.40054338353971536.\n",
      "[I 2023-08-12 11:26:05,215] Trial 87 finished with value: 0.410722687448681 and parameters: {'n_estimators': 188, 'max_depth': 9, 'learning_rate': 0.155}. Best is trial 82 with value: 0.40054338353971536.\n",
      "[I 2023-08-12 11:26:05,881] Trial 45 finished with value: 0.4088570467828916 and parameters: {'n_estimators': 357, 'max_depth': 9, 'learning_rate': 0.030000000000000002}. Best is trial 82 with value: 0.40054338353971536.\n",
      "[I 2023-08-12 11:26:06,418] Trial 47 finished with value: 0.41132034422478525 and parameters: {'n_estimators': 343, 'max_depth': 9, 'learning_rate': 0.064}. Best is trial 82 with value: 0.40054338353971536.\n"
     ]
    },
    {
     "name": "stderr",
     "output_type": "stream",
     "text": [
      "[I 2023-08-12 11:26:06,587] Trial 93 finished with value: 0.4058798677073318 and parameters: {'n_estimators': 137, 'max_depth': 7, 'learning_rate': 0.091}. Best is trial 82 with value: 0.40054338353971536.\n",
      "[I 2023-08-12 11:26:06,643] Trial 48 finished with value: 0.40919259317205486 and parameters: {'n_estimators': 360, 'max_depth': 9, 'learning_rate': 0.067}. Best is trial 82 with value: 0.40054338353971536.\n",
      "[I 2023-08-12 11:26:07,026] Trial 46 finished with value: 0.4093888960536759 and parameters: {'n_estimators': 374, 'max_depth': 9, 'learning_rate': 0.039}. Best is trial 82 with value: 0.40054338353971536.\n",
      "[I 2023-08-12 11:26:07,542] Trial 91 finished with value: 0.4014465564936515 and parameters: {'n_estimators': 128, 'max_depth': 9, 'learning_rate': 0.089}. Best is trial 82 with value: 0.40054338353971536.\n",
      "[I 2023-08-12 11:26:07,680] Trial 97 finished with value: 0.4031465151223726 and parameters: {'n_estimators': 77, 'max_depth': 8, 'learning_rate': 0.132}. Best is trial 82 with value: 0.40054338353971536.\n",
      "[I 2023-08-12 11:26:07,871] Trial 50 finished with value: 0.4057073489660049 and parameters: {'n_estimators': 349, 'max_depth': 9, 'learning_rate': 0.07}. Best is trial 82 with value: 0.40054338353971536.\n",
      "[I 2023-08-12 11:26:08,046] Trial 98 finished with value: 0.4098640501279106 and parameters: {'n_estimators': 80, 'max_depth': 8, 'learning_rate': 0.082}. Best is trial 82 with value: 0.40054338353971536.\n",
      "[I 2023-08-12 11:26:08,288] Trial 92 finished with value: 0.4134813044489223 and parameters: {'n_estimators': 306, 'max_depth': 7, 'learning_rate': 0.08800000000000001}. Best is trial 82 with value: 0.40054338353971536.\n",
      "[I 2023-08-12 11:26:08,362] Trial 99 finished with value: 0.4046543684891832 and parameters: {'n_estimators': 123, 'max_depth': 7, 'learning_rate': 0.131}. Best is trial 82 with value: 0.40054338353971536.\n",
      "[I 2023-08-12 11:26:08,746] Trial 52 finished with value: 0.4124544362215245 and parameters: {'n_estimators': 355, 'max_depth': 9, 'learning_rate': 0.063}. Best is trial 82 with value: 0.40054338353971536.\n",
      "[I 2023-08-12 11:26:08,900] Trial 51 finished with value: 0.41228819244277 and parameters: {'n_estimators': 362, 'max_depth': 9, 'learning_rate': 0.063}. Best is trial 82 with value: 0.40054338353971536.\n",
      "[I 2023-08-12 11:26:09,286] Trial 94 finished with value: 0.4097261996535516 and parameters: {'n_estimators': 304, 'max_depth': 7, 'learning_rate': 0.08700000000000001}. Best is trial 82 with value: 0.40054338353971536.\n",
      "[I 2023-08-12 11:26:09,290] Trial 79 finished with value: 0.40788182764900766 and parameters: {'n_estimators': 209, 'max_depth': 9, 'learning_rate': 0.077}. Best is trial 82 with value: 0.40054338353971536.\n",
      "[I 2023-08-12 11:26:09,601] Trial 95 finished with value: 0.4112686665180865 and parameters: {'n_estimators': 302, 'max_depth': 7, 'learning_rate': 0.085}. Best is trial 82 with value: 0.40054338353971536.\n",
      "[I 2023-08-12 11:26:10,160] Trial 10 finished with value: 0.4260966978216385 and parameters: {'n_estimators': 659, 'max_depth': 9, 'learning_rate': 0.178}. Best is trial 82 with value: 0.40054338353971536.\n",
      "[I 2023-08-12 11:26:10,401] Trial 96 finished with value: 0.4199833918240762 and parameters: {'n_estimators': 306, 'max_depth': 8, 'learning_rate': 0.131}. Best is trial 82 with value: 0.40054338353971536.\n",
      "[I 2023-08-12 11:26:10,837] Trial 53 finished with value: 0.4119326254453582 and parameters: {'n_estimators': 358, 'max_depth': 9, 'learning_rate': 0.066}. Best is trial 82 with value: 0.40054338353971536.\n",
      "[I 2023-08-12 11:26:12,071] Trial 21 finished with value: 0.4064853452868398 and parameters: {'n_estimators': 711, 'max_depth': 9, 'learning_rate': 0.022000000000000002}. Best is trial 82 with value: 0.40054338353971536.\n",
      "[I 2023-08-12 11:26:12,267] Trial 84 finished with value: 0.41276728781228456 and parameters: {'n_estimators': 303, 'max_depth': 9, 'learning_rate': 0.109}. Best is trial 82 with value: 0.40054338353971536.\n",
      "[I 2023-08-12 11:26:12,573] Trial 88 finished with value: 0.4118025721296561 and parameters: {'n_estimators': 306, 'max_depth': 9, 'learning_rate': 0.089}. Best is trial 82 with value: 0.40054338353971536.\n",
      "[I 2023-08-12 11:26:12,684] Trial 90 finished with value: 0.41300081197894445 and parameters: {'n_estimators': 299, 'max_depth': 9, 'learning_rate': 0.131}. Best is trial 82 with value: 0.40054338353971536.\n"
     ]
    },
    {
     "name": "stdout",
     "output_type": "stream",
     "text": [
      "Best params: {'n_estimators': 137, 'max_depth': 8, 'learning_rate': 0.114}\n",
      "R2 scores\n",
      "On validation sample = 0.241\n",
      "All CV scores = 0.069, 0.203, 0.27\n",
      "Mean CV score = 0.181\n"
     ]
    },
    {
     "data": {
      "text/html": [
       "<div>\n",
       "<style scoped>\n",
       "    .dataframe tbody tr th:only-of-type {\n",
       "        vertical-align: middle;\n",
       "    }\n",
       "\n",
       "    .dataframe tbody tr th {\n",
       "        vertical-align: top;\n",
       "    }\n",
       "\n",
       "    .dataframe thead th {\n",
       "        text-align: right;\n",
       "    }\n",
       "</style>\n",
       "<table border=\"1\" class=\"dataframe\">\n",
       "  <thead>\n",
       "    <tr style=\"text-align: right;\">\n",
       "      <th></th>\n",
       "      <th>Feature</th>\n",
       "      <th>CatBoost Importance</th>\n",
       "      <th>Permutation Importance</th>\n",
       "      <th>Permutation Importance std</th>\n",
       "    </tr>\n",
       "  </thead>\n",
       "  <tbody>\n",
       "    <tr>\n",
       "      <th>0</th>\n",
       "      <td>Company</td>\n",
       "      <td>20.370036</td>\n",
       "      <td>0.184607</td>\n",
       "      <td>0.026651</td>\n",
       "    </tr>\n",
       "    <tr>\n",
       "      <th>1</th>\n",
       "      <td>REF</td>\n",
       "      <td>13.735292</td>\n",
       "      <td>0.081599</td>\n",
       "      <td>0.023061</td>\n",
       "    </tr>\n",
       "    <tr>\n",
       "      <th>4</th>\n",
       "      <td>Bean Type</td>\n",
       "      <td>13.062287</td>\n",
       "      <td>0.061589</td>\n",
       "      <td>0.013334</td>\n",
       "    </tr>\n",
       "    <tr>\n",
       "      <th>2</th>\n",
       "      <td>Cocoa Percent</td>\n",
       "      <td>11.772287</td>\n",
       "      <td>0.103071</td>\n",
       "      <td>0.018439</td>\n",
       "    </tr>\n",
       "    <tr>\n",
       "      <th>3</th>\n",
       "      <td>Company Location</td>\n",
       "      <td>10.113379</td>\n",
       "      <td>0.036413</td>\n",
       "      <td>0.010409</td>\n",
       "    </tr>\n",
       "    <tr>\n",
       "      <th>5</th>\n",
       "      <td>Broad Bean Origin</td>\n",
       "      <td>9.793171</td>\n",
       "      <td>0.025152</td>\n",
       "      <td>0.011688</td>\n",
       "    </tr>\n",
       "    <tr>\n",
       "      <th>8</th>\n",
       "      <td>SBO complexity</td>\n",
       "      <td>7.643143</td>\n",
       "      <td>0.038259</td>\n",
       "      <td>0.012593</td>\n",
       "    </tr>\n",
       "    <tr>\n",
       "      <th>6</th>\n",
       "      <td>Broad Company Location</td>\n",
       "      <td>7.196338</td>\n",
       "      <td>0.012717</td>\n",
       "      <td>0.006744</td>\n",
       "    </tr>\n",
       "    <tr>\n",
       "      <th>7</th>\n",
       "      <td>Bean Origin World</td>\n",
       "      <td>6.314067</td>\n",
       "      <td>0.014972</td>\n",
       "      <td>0.005942</td>\n",
       "    </tr>\n",
       "  </tbody>\n",
       "</table>\n",
       "</div>"
      ],
      "text/plain": [
       "                  Feature  CatBoost Importance  Permutation Importance  \\\n",
       "0                 Company            20.370036                0.184607   \n",
       "1                     REF            13.735292                0.081599   \n",
       "4               Bean Type            13.062287                0.061589   \n",
       "2           Cocoa Percent            11.772287                0.103071   \n",
       "3        Company Location            10.113379                0.036413   \n",
       "5       Broad Bean Origin             9.793171                0.025152   \n",
       "8          SBO complexity             7.643143                0.038259   \n",
       "6  Broad Company Location             7.196338                0.012717   \n",
       "7       Bean Origin World             6.314067                0.014972   \n",
       "\n",
       "   Permutation Importance std  \n",
       "0                    0.026651  \n",
       "1                    0.023061  \n",
       "4                    0.013334  \n",
       "2                    0.018439  \n",
       "3                    0.010409  \n",
       "5                    0.011688  \n",
       "8                    0.012593  \n",
       "6                    0.006744  \n",
       "7                    0.005942  "
      ]
     },
     "metadata": {},
     "output_type": "display_data"
    }
   ],
   "source": [
    "model_cb2 = train_cb_regressor(df_train, True, 100)"
   ]
  },
  {
   "cell_type": "markdown",
   "id": "fb4df586",
   "metadata": {},
   "source": [
    "## 7.3 Make predictions with models"
   ]
  },
  {
   "cell_type": "code",
   "execution_count": 46,
   "id": "b881ee23",
   "metadata": {},
   "outputs": [],
   "source": [
    "def make_prediction(model, data_train, data_test):\n",
    "    X = data_train.drop('Rating', axis=1)\n",
    "    y = data_train['Rating']\n",
    "    model.fit(X, y)\n",
    "    pred = model.predict(data_test)\n",
    "    \n",
    "    df_submission = data_test.copy()\n",
    "    df_submission['id'] = np.arange(len(data_test))\n",
    "    df_submission['Rating'] = pred\n",
    "    df_submission = df_submission[['id','Rating']]\n",
    "    return df_submission"
   ]
  },
  {
   "cell_type": "markdown",
   "id": "4f18cf31",
   "metadata": {},
   "source": [
    "# 8 Pipelines"
   ]
  },
  {
   "cell_type": "markdown",
   "id": "766ea67a",
   "metadata": {},
   "source": [
    "Здесь мы напишем классы вместо наших функций предобработки, чтобы их можно было обернуть в sklearn Pipeline"
   ]
  },
  {
   "cell_type": "code",
   "execution_count": 113,
   "id": "ade2f2df",
   "metadata": {},
   "outputs": [],
   "source": [
    "from sklearn.base import BaseEstimator, TransformerMixin\n",
    "from sklearn.pipeline import Pipeline"
   ]
  },
  {
   "cell_type": "markdown",
   "id": "a167ed1e",
   "metadata": {},
   "source": [
    "## 8.1 Data preprocessing class"
   ]
  },
  {
   "cell_type": "markdown",
   "id": "b4f06191",
   "metadata": {},
   "source": [
    "Весь процесс предобработки данных до замены пропусков"
   ]
  },
  {
   "cell_type": "code",
   "execution_count": 127,
   "id": "76624539",
   "metadata": {},
   "outputs": [],
   "source": [
    "class DataPreprocessor(BaseEstimator, TransformerMixin):\n",
    "    \"\"\"\n",
    "    Класс форматирует данные, чтобы подготовить их к работе.\n",
    "    Этот класс можно в ключать в sklearn.Pipeline\n",
    "    \"\"\"\n",
    "    def __init__(self):\n",
    "        pass\n",
    "        \n",
    "    \"\"\"Метод fit() этому классу не нужен, он ничего не делает\"\"\"\n",
    "    def fit(self, X: pd.DataFrame, y: pd.Series=None):\n",
    "        return self\n",
    "    \n",
    "    \"\"\"Метод transform() преобразует данные\"\"\"\n",
    "    def transform(self, X: pd.DataFrame, y: pd.Series=None) -> pd.DataFrame:\n",
    "        X_ = X.copy()\n",
    "        X_['Cocoa Percent'] = X_['Cocoa Percent'].apply(lambda x: float(x.strip('%')))\n",
    "        X_ = X_.fillna(\"Unknown\")\n",
    "        X_['Broad Bean Origin'] = X_['Broad Bean Origin'].replace('\\xa0', \"Unknown\")\n",
    "        X_['Bean Type'] = X_['Bean Type'].replace('\\xa0', \"Unknown\")\n",
    "        X_.replace(\n",
    "        {\n",
    "            'Eucador': 'Ecuador',\n",
    "            'Domincan Republic': 'Dominican Republic',\n",
    "            'Niacragua': 'Nicaragua'\n",
    "        },\n",
    "        inplace=True)\n",
    "        \n",
    "        return X_"
   ]
  },
  {
   "cell_type": "markdown",
   "id": "5b97b12c",
   "metadata": {},
   "source": [
    "## 8.2 Feature engineering class"
   ]
  },
  {
   "cell_type": "markdown",
   "id": "ac18fa08",
   "metadata": {},
   "source": [
    "Добавление новых предикторов"
   ]
  },
  {
   "cell_type": "code",
   "execution_count": 115,
   "id": "3ef1e2f1",
   "metadata": {},
   "outputs": [],
   "source": [
    "class FeatureEngineering(BaseEstimator, TransformerMixin):\n",
    "    \"\"\"Класс для добавления новых признаков в данные\n",
    "    Может быть включен в sklearn.Pipeline\n",
    "    \"\"\"\n",
    "    BROAD_LOCATION = {'Europe': ['U.K.', 'Switzerland', 'France', 'Belgium', 'Spain', 'Italy',\n",
    "                                  'Austria', 'Sweden', 'Ireland', 'Poland', 'Hungary', 'Germany',\n",
    "                                  'Denmark', 'Lithuania', 'Scotland', 'Finland', 'Iceland',\n",
    "                                  'Amsterdam', 'Wales', 'Netherlands', 'Portugal', 'Czech Republic'],\n",
    "                       'North America': ['U.S.A.', 'Canada'],\n",
    "                       'Africa': ['Madagascar', 'South Africa', 'Ghana', 'Sao Tome', 'Tanzania',\n",
    "                                  'Indonesia', 'Congo', 'Liberia', 'Principe', 'Sao Tome & Principe',\n",
    "                                  'Gabon', 'Ivory Coast', 'Uganda', 'Nigeria', 'West Africa'],\n",
    "                       'Caribbean': ['Colombia', 'Venezuela', 'Honduras', 'Guatemala',\n",
    "                                     'Domincan Republic', 'Grenada', 'Puerto Rico', 'Costa Rica',\n",
    "                                     'St. Lucia', 'Nicaragua', 'Martinique', 'Niacragua', 'Cost Rica, Ven',\n",
    "                                     'Trinidad', 'Panama', 'Jamaica', 'Haiti', 'Cuba', 'Venezuela, Ghana',\n",
    "                                     'Ven.,Ecu.,Peru,Nic.', 'Tobago', 'Carribean(DR/Jam/Tri)',\n",
    "                                     'Venezuela, Java', 'Ven, Bolivia, D.R.', 'Venezuela, Carribean',\n",
    "                                     'Dominican Republic', 'Carribean'],\n",
    "                       'Asia & Oceania': ['Japan', 'Vietnam', 'Philippines', 'Fiji', 'Australia',\n",
    "                                          'South Korea', 'Israel', 'Singapore', 'India', 'Russia',\n",
    "                                          'New Zealand', 'Papua New Guinea', 'Hawaii', 'Solomon Islands',\n",
    "                                          'Sri Lanka', 'Malaysia', 'Samoa', 'Philippines', 'Togo',\n",
    "                                          'Vanuatu'],\n",
    "                       'South America': ['Ecuador', 'Brazil', 'Peru', 'Eucador', 'Argentina',\n",
    "                                         'Chile', 'Mexico', 'Bolivia', 'Suriname', 'Peru, Dom. Rep',\n",
    "                                         'Central and S. America', 'Colombia, Ecuador', 'Dom. Rep., Madagascar',\n",
    "                                         'South America', 'Belize', 'El Salvador'],\n",
    "                       'Mixed': ['Trinidad, Ecuador', 'South America, Africa', 'PNG, Vanuatu, Mad',\n",
    "                                 'Mad., Java, PNG', 'Peru, Mad., Dom. Rep.', 'Indonesia, Ghana', 'Madagascar & Ecuador',\n",
    "                                 'Venez,Africa,Brasil,Peru,Mex', 'DR, Ecuador, Peru', 'Dominican Rep., Bali',\n",
    "                                 'Peru, Madagascar', 'Venezuela, Dom. Rep.', 'Peru, Ecuador, Venezuela',\n",
    "                                 'Ven., Trinidad, Mad.', 'Ven., Indonesia, Ecuad.', 'Ghana, Domin. Rep',\n",
    "                                 'Peru, Belize', 'Guat., D.R., Peru, Mad., PNG']\n",
    "                       }\n",
    "    \n",
    "    \n",
    "    def __init__(self):\n",
    "        pass\n",
    "    \n",
    "    def location_in_list(self, location: str):\n",
    "        for k, v in self.BROAD_LOCATION.items():\n",
    "            if location in v:\n",
    "                return k\n",
    "        return 'Other'\n",
    "\n",
    "    @staticmethod\n",
    "    def length_bin(s: str, min_val:int=0, max_val:int=50, step:int=10) -> int:\n",
    "        n = len(s)\n",
    "        bins = np.arange(min_val, max_val+step, step)\n",
    "        for i in range(bins.shape[0]):\n",
    "            if n > bins[i] and n <= bins[i+1]:\n",
    "                return i\n",
    "        \n",
    "    def fit(self, X: pd.DataFrame, y: pd.Series=None):\n",
    "        return self\n",
    "    \n",
    "    def transform(self, X: pd.DataFrame, y: pd.Series=None) -> pd.DataFrame:\n",
    "        X_ = X.copy()\n",
    "        # Broad Locations\n",
    "        X_['Broad Company Location'] = X_['Company Location'].apply(lambda x: self.location_in_list(x))\n",
    "        X_['Bean Origin World'] = X_['Broad Bean Origin'].apply(lambda x: self.location_in_list(x))\n",
    "        X_['SBO complexity'] = X_['Specific Bean Origin'].apply(lambda x: x.count('.') + x.count(',') + x.count(' '))\n",
    "        \n",
    "        return X_"
   ]
  },
  {
   "cell_type": "markdown",
   "id": "1c8a3c30",
   "metadata": {},
   "source": [
    "## 8.3 FeatureFixer class"
   ]
  },
  {
   "cell_type": "markdown",
   "id": "7018aa3a",
   "metadata": {},
   "source": [
    "Адаптируем функцию заполнения пропусков FeatureFixer для построения Pipilines. Также, исключим момент обучения его на тестовых данных (что, скорее всего ухудшит качество прогнозов)."
   ]
  },
  {
   "cell_type": "code",
   "execution_count": 116,
   "id": "8e58eddc",
   "metadata": {},
   "outputs": [],
   "source": [
    "optuna.logging.set_verbosity(optuna.logging.INFO)"
   ]
  },
  {
   "cell_type": "code",
   "execution_count": 117,
   "id": "14295616",
   "metadata": {},
   "outputs": [],
   "source": [
    "class FeatureFixer(BaseEstimator, TransformerMixin):\n",
    "    \n",
    "    \"\"\"\n",
    "    column - признак, который мы будем прогнозировать ('Broad Bean Origin' или 'Bean Type')\n",
    "    cols_to_drop - колонки, которые необходимо исключить при обуении модели, наприме, если в них есть пропуски\n",
    "    n_top - число наиболее часто встречающихся значений для обучения\n",
    "    n_trial - число итераций обучения для Optuna\n",
    "    \"\"\"\n",
    "    def __init__(self, column:str, cols_to_drop:list, n_top:int, tunning:bool=False, n_trials:int=3, marker:str=\"Unknown\", target:str='Rating'):\n",
    "        self.column = column\n",
    "        self.cols_to_drop = cols_to_drop\n",
    "        self.n_top = n_top\n",
    "        self.n_trials = n_trials\n",
    "        self.marker = marker\n",
    "        self.tunning = tunning\n",
    "        self.target = target\n",
    "        self.model = CatBoostClassifier()\n",
    "        \n",
    "    \n",
    "    @staticmethod\n",
    "    def label_accuracy(y_true: pd.Series, y_pred: np.ndarray):\n",
    "        \"\"\"Простая метрика для оценки качества модели\"\"\"\n",
    "        df_pred = pd.DataFrame({'True values': y_true.values, 'Predicted values': y_pred[:, 0]})\n",
    "        return (df_pred['True values'] == df_pred['Predicted values']).sum() / df_pred.shape[0]\n",
    "        \n",
    "        \n",
    "    def hyperparameters_tunning(self, X:pd.DataFrame, y:pd.Series, categorical_features_indices: pd.Series) -> CatBoostClassifier:\n",
    "        \"\"\"Подбор гиперпараметров модели\"\"\"\n",
    "        X_train, X_val, y_train, y_val = train_test_split(X, y, test_size=0.3)\n",
    "        \n",
    "        def objective(trial):\n",
    "            param = {\n",
    "                \"n_estimators\": trial.suggest_int(\"n_estimators\", 10, 1000),\n",
    "                \"max_depth\": trial.suggest_int(\"max_depth\", 1, 10),\n",
    "                \"learning_rate\": trial.suggest_float(\"learning_rate\", 0.001, 0.1, step=0.001)\n",
    "            }\n",
    "\n",
    "            estimator = CatBoostClassifier(**param,\n",
    "                                           cat_features=categorical_features_indices,\n",
    "                                           verbose=False)\n",
    "\n",
    "            estimator.fit(X_train, y_train)\n",
    "            pred = estimator.predict(X_val)\n",
    "\n",
    "            return self.label_accuracy(y_val, pred)\n",
    "\n",
    "        study = optuna.create_study(direction=\"maximize\")\n",
    "        study.optimize(objective, n_trials=self.n_trials, n_jobs=-1)\n",
    "        #print(study.best_trial)\n",
    "        \n",
    "        self.best_params = study.best_params\n",
    "        best_model = CatBoostClassifier(**study.best_params,\n",
    "                                       cat_features=categorical_features_indices,\n",
    "                                       logging_level='Silent')\n",
    "        \n",
    "        self.model.fit(X_train, y_train)\n",
    "        y_pred = self.model.predict(X_val)\n",
    "        \n",
    "        print(f\"Best accuracy = {self.label_accuracy(y_val, y_pred)}\")\n",
    "        return best_model\n",
    "        \n",
    "        \n",
    "    \"\"\"Fit imputer (train dataframe only)\"\"\"\n",
    "    def fit(self, X: pd.DataFrame, y=None):\n",
    "        # part of data to train on\n",
    "        X_train = X[(X[self.column] != self.marker)].drop(self.cols_to_drop+[self.column], axis=1)\n",
    "        y_train = X[(X[self.column] != self.marker)][self.column]\n",
    "        \n",
    "        # Most probable bean origins\n",
    "        top_values = y_train.value_counts()[:self.n_top].index\n",
    "        top_values_mask = y_train.apply(lambda x: x in top_values)\n",
    "\n",
    "        # train on top n values of column only\n",
    "        X_train = X_train[top_values_mask]\n",
    "        y_train = y_train[top_values_mask]\n",
    "        \n",
    "        categorical_features_indices = np.where(X_train.dtypes == object)[0]\n",
    "        self.model = CatBoostClassifier(cat_features=categorical_features_indices, verbose=False)\n",
    "        if self.tunning:\n",
    "            self.model = self.hyperparameters_tunning(X_train, y_train, categorical_features_indices)\n",
    "        self.model.fit(X_train, y_train)\n",
    "        self.df_importance = pd.DataFrame({'Feature': self.model.feature_names_,\n",
    "                                           'CatBoost Importance': self.model.feature_importances_})\\\n",
    "                                           .sort_values(by='CatBoost Importance', ascending=False)\n",
    "        \n",
    "        return self\n",
    "        \n",
    "    \n",
    "    def transform(self, X: pd.DataFrame) -> pd.DataFrame:\n",
    "        X_ = X.copy()\n",
    "        # part of data to apply to\n",
    "        if self.target in X.columns:\n",
    "            X_test = X_[(X_[self.column] == self.marker)].drop(self.cols_to_drop+[self.column], axis=1)\n",
    "        else:\n",
    "            X_test = X_[(X_[self.column] == self.marker)].drop(self.cols_to_drop+[self.column], axis=1)\n",
    "        # prediction for column\n",
    "        column_pred = self.model.predict(X_test)\n",
    "        X_.loc[(X_[self.column] == self.marker), self.column] = column_pred\n",
    "        return X_\n",
    "\n",
    "    \n",
    "    def fit_transform(self, X: pd.DataFrame, y=None) -> pd.DataFrame:\n",
    "        self.fit(X, y)\n",
    "        return self.transform(X)\n",
    "        \n",
    "        \n",
    "    def predict(self, X_test: pd.DataFrame) -> np.ndarray:\n",
    "        y_pred = self.model.predict(X_test)\n",
    "        return y_pred[:, 0]\n",
    "    "
   ]
  },
  {
   "cell_type": "code",
   "execution_count": 118,
   "id": "e7cb1e78",
   "metadata": {},
   "outputs": [],
   "source": [
    "df_train = pd.read_csv('data_intial/chocolate_train.csv')\n",
    "df_test = pd.read_csv('data_intial/chocolate_test_new.csv')\n",
    "\n",
    "X_train = df_train.drop('Rating', axis=1)\n",
    "y_train = df_train['Rating']\n",
    "\n",
    "X_test = df_test"
   ]
  },
  {
   "cell_type": "code",
   "execution_count": 120,
   "id": "10494cf4",
   "metadata": {},
   "outputs": [],
   "source": [
    "pipeline = Pipeline(steps=[\n",
    "    ('data_preprocessor', DataPreprocessor()),\n",
    "    ('feature_adder', FeatureEngineering()),\n",
    "    ('feature_fixer_1', FeatureFixer('Broad Bean Origin', ['Bean Type'], n_top=11)),\n",
    "    ('feature_fixer_2', FeatureFixer('Bean Type', [], n_top=7)),\n",
    "    ])"
   ]
  },
  {
   "cell_type": "code",
   "execution_count": 121,
   "id": "a19144bd",
   "metadata": {
    "scrolled": false
   },
   "outputs": [
    {
     "data": {
      "text/html": [
       "<div>\n",
       "<style scoped>\n",
       "    .dataframe tbody tr th:only-of-type {\n",
       "        vertical-align: middle;\n",
       "    }\n",
       "\n",
       "    .dataframe tbody tr th {\n",
       "        vertical-align: top;\n",
       "    }\n",
       "\n",
       "    .dataframe thead th {\n",
       "        text-align: right;\n",
       "    }\n",
       "</style>\n",
       "<table border=\"1\" class=\"dataframe\">\n",
       "  <thead>\n",
       "    <tr style=\"text-align: right;\">\n",
       "      <th></th>\n",
       "      <th>Company</th>\n",
       "      <th>Specific Bean Origin</th>\n",
       "      <th>REF</th>\n",
       "      <th>Review</th>\n",
       "      <th>Cocoa Percent</th>\n",
       "      <th>Company Location</th>\n",
       "      <th>Bean Type</th>\n",
       "      <th>Broad Bean Origin</th>\n",
       "      <th>Broad Company Location</th>\n",
       "      <th>Bean Origin World</th>\n",
       "      <th>SBO complexity</th>\n",
       "    </tr>\n",
       "  </thead>\n",
       "  <tbody>\n",
       "    <tr>\n",
       "      <th>0</th>\n",
       "      <td>Willie's Cacao</td>\n",
       "      <td>Rio Caribe</td>\n",
       "      <td>457</td>\n",
       "      <td>2009</td>\n",
       "      <td>72.0</td>\n",
       "      <td>U.K.</td>\n",
       "      <td>Trinitario</td>\n",
       "      <td>Venezuela</td>\n",
       "      <td>Europe</td>\n",
       "      <td>Caribbean</td>\n",
       "      <td>1</td>\n",
       "    </tr>\n",
       "    <tr>\n",
       "      <th>1</th>\n",
       "      <td>Beschle (Felchlin)</td>\n",
       "      <td>Ocumare, Premier Cru, Quizas No. 2</td>\n",
       "      <td>508</td>\n",
       "      <td>2010</td>\n",
       "      <td>72.0</td>\n",
       "      <td>Switzerland</td>\n",
       "      <td>Criollo</td>\n",
       "      <td>Venezuela</td>\n",
       "      <td>Europe</td>\n",
       "      <td>Caribbean</td>\n",
       "      <td>8</td>\n",
       "    </tr>\n",
       "    <tr>\n",
       "      <th>2</th>\n",
       "      <td>Dark Forest</td>\n",
       "      <td>Tanzania</td>\n",
       "      <td>1554</td>\n",
       "      <td>2015</td>\n",
       "      <td>70.0</td>\n",
       "      <td>U.S.A.</td>\n",
       "      <td>Trinitario</td>\n",
       "      <td>Tanzania</td>\n",
       "      <td>North America</td>\n",
       "      <td>Africa</td>\n",
       "      <td>0</td>\n",
       "    </tr>\n",
       "    <tr>\n",
       "      <th>3</th>\n",
       "      <td>Brasstown aka It's Chocolate</td>\n",
       "      <td>Cooproagro</td>\n",
       "      <td>1125</td>\n",
       "      <td>2013</td>\n",
       "      <td>72.0</td>\n",
       "      <td>U.S.A.</td>\n",
       "      <td>Trinitario</td>\n",
       "      <td>Dominican Republic</td>\n",
       "      <td>North America</td>\n",
       "      <td>Caribbean</td>\n",
       "      <td>0</td>\n",
       "    </tr>\n",
       "    <tr>\n",
       "      <th>4</th>\n",
       "      <td>Pralus</td>\n",
       "      <td>Java, Indonesie</td>\n",
       "      <td>32</td>\n",
       "      <td>2006</td>\n",
       "      <td>75.0</td>\n",
       "      <td>France</td>\n",
       "      <td>Criollo</td>\n",
       "      <td>Indonesia</td>\n",
       "      <td>Europe</td>\n",
       "      <td>Africa</td>\n",
       "      <td>2</td>\n",
       "    </tr>\n",
       "    <tr>\n",
       "      <th>...</th>\n",
       "      <td>...</td>\n",
       "      <td>...</td>\n",
       "      <td>...</td>\n",
       "      <td>...</td>\n",
       "      <td>...</td>\n",
       "      <td>...</td>\n",
       "      <td>...</td>\n",
       "      <td>...</td>\n",
       "      <td>...</td>\n",
       "      <td>...</td>\n",
       "      <td>...</td>\n",
       "    </tr>\n",
       "    <tr>\n",
       "      <th>1250</th>\n",
       "      <td>Artisan du Chocolat</td>\n",
       "      <td>Madagascar</td>\n",
       "      <td>363</td>\n",
       "      <td>2009</td>\n",
       "      <td>80.0</td>\n",
       "      <td>U.K.</td>\n",
       "      <td>Criollo, Trinitario</td>\n",
       "      <td>Madagascar</td>\n",
       "      <td>Europe</td>\n",
       "      <td>Africa</td>\n",
       "      <td>0</td>\n",
       "    </tr>\n",
       "    <tr>\n",
       "      <th>1251</th>\n",
       "      <td>Marana</td>\n",
       "      <td>Cusco</td>\n",
       "      <td>1884</td>\n",
       "      <td>2016</td>\n",
       "      <td>70.0</td>\n",
       "      <td>Peru</td>\n",
       "      <td>Criollo</td>\n",
       "      <td>Peru</td>\n",
       "      <td>South America</td>\n",
       "      <td>South America</td>\n",
       "      <td>0</td>\n",
       "    </tr>\n",
       "    <tr>\n",
       "      <th>1252</th>\n",
       "      <td>Arete</td>\n",
       "      <td>Nacional</td>\n",
       "      <td>1534</td>\n",
       "      <td>2015</td>\n",
       "      <td>68.0</td>\n",
       "      <td>U.S.A.</td>\n",
       "      <td>Forastero (Nacional)</td>\n",
       "      <td>Peru</td>\n",
       "      <td>North America</td>\n",
       "      <td>South America</td>\n",
       "      <td>0</td>\n",
       "    </tr>\n",
       "    <tr>\n",
       "      <th>1253</th>\n",
       "      <td>Fresco</td>\n",
       "      <td>Conacado, #212, LR, SC</td>\n",
       "      <td>642</td>\n",
       "      <td>2011</td>\n",
       "      <td>72.0</td>\n",
       "      <td>U.S.A.</td>\n",
       "      <td>Trinitario</td>\n",
       "      <td>Dominican Republic</td>\n",
       "      <td>North America</td>\n",
       "      <td>Caribbean</td>\n",
       "      <td>6</td>\n",
       "    </tr>\n",
       "    <tr>\n",
       "      <th>1254</th>\n",
       "      <td>Zak's</td>\n",
       "      <td>Madagascar, Batch 2</td>\n",
       "      <td>1578</td>\n",
       "      <td>2015</td>\n",
       "      <td>70.0</td>\n",
       "      <td>U.S.A.</td>\n",
       "      <td>Trinitario</td>\n",
       "      <td>Madagascar</td>\n",
       "      <td>North America</td>\n",
       "      <td>Africa</td>\n",
       "      <td>3</td>\n",
       "    </tr>\n",
       "  </tbody>\n",
       "</table>\n",
       "<p>1255 rows × 11 columns</p>\n",
       "</div>"
      ],
      "text/plain": [
       "                           Company                Specific Bean Origin   REF  \\\n",
       "0                   Willie's Cacao                          Rio Caribe   457   \n",
       "1               Beschle (Felchlin)  Ocumare, Premier Cru, Quizas No. 2   508   \n",
       "2                      Dark Forest                            Tanzania  1554   \n",
       "3     Brasstown aka It's Chocolate                          Cooproagro  1125   \n",
       "4                           Pralus                     Java, Indonesie    32   \n",
       "...                            ...                                 ...   ...   \n",
       "1250           Artisan du Chocolat                          Madagascar   363   \n",
       "1251                        Marana                               Cusco  1884   \n",
       "1252                         Arete                            Nacional  1534   \n",
       "1253                        Fresco              Conacado, #212, LR, SC   642   \n",
       "1254                         Zak's                 Madagascar, Batch 2  1578   \n",
       "\n",
       "      Review  Cocoa Percent Company Location             Bean Type  \\\n",
       "0       2009           72.0             U.K.            Trinitario   \n",
       "1       2010           72.0      Switzerland               Criollo   \n",
       "2       2015           70.0           U.S.A.            Trinitario   \n",
       "3       2013           72.0           U.S.A.            Trinitario   \n",
       "4       2006           75.0           France               Criollo   \n",
       "...      ...            ...              ...                   ...   \n",
       "1250    2009           80.0             U.K.   Criollo, Trinitario   \n",
       "1251    2016           70.0             Peru               Criollo   \n",
       "1252    2015           68.0           U.S.A.  Forastero (Nacional)   \n",
       "1253    2011           72.0           U.S.A.            Trinitario   \n",
       "1254    2015           70.0           U.S.A.            Trinitario   \n",
       "\n",
       "       Broad Bean Origin Broad Company Location Bean Origin World  \\\n",
       "0              Venezuela                 Europe         Caribbean   \n",
       "1              Venezuela                 Europe         Caribbean   \n",
       "2               Tanzania          North America            Africa   \n",
       "3     Dominican Republic          North America         Caribbean   \n",
       "4              Indonesia                 Europe            Africa   \n",
       "...                  ...                    ...               ...   \n",
       "1250          Madagascar                 Europe            Africa   \n",
       "1251                Peru          South America     South America   \n",
       "1252                Peru          North America     South America   \n",
       "1253  Dominican Republic          North America         Caribbean   \n",
       "1254          Madagascar          North America            Africa   \n",
       "\n",
       "      SBO complexity  \n",
       "0                  1  \n",
       "1                  8  \n",
       "2                  0  \n",
       "3                  0  \n",
       "4                  2  \n",
       "...              ...  \n",
       "1250               0  \n",
       "1251               0  \n",
       "1252               0  \n",
       "1253               6  \n",
       "1254               3  \n",
       "\n",
       "[1255 rows x 11 columns]"
      ]
     },
     "execution_count": 121,
     "metadata": {},
     "output_type": "execute_result"
    }
   ],
   "source": [
    "pipeline.fit_transform(X_train, y_train)"
   ]
  },
  {
   "cell_type": "code",
   "execution_count": 123,
   "id": "a335da60",
   "metadata": {},
   "outputs": [],
   "source": [
    "X_test = pipeline.transform(X_test)"
   ]
  },
  {
   "cell_type": "markdown",
   "id": "d5370e35",
   "metadata": {},
   "source": [
    "# 9 Stacking"
   ]
  },
  {
   "cell_type": "markdown",
   "id": "17f7856f",
   "metadata": {},
   "source": [
    "## 9.1 Stacking from SKLearn"
   ]
  },
  {
   "cell_type": "markdown",
   "id": "7e4f665a",
   "metadata": {},
   "source": [
    "Разбиваем тренировочные данные на две части"
   ]
  },
  {
   "cell_type": "code",
   "execution_count": null,
   "id": "79063ca2",
   "metadata": {},
   "outputs": [],
   "source": [
    "RANDOM_STATE = 20"
   ]
  },
  {
   "cell_type": "code",
   "execution_count": 130,
   "id": "6aca4ac5",
   "metadata": {},
   "outputs": [],
   "source": [
    "from sklearn.ensemble import StackingRegressor\n",
    "from sklearn.linear_model import LinearRegression\n",
    "from sklearn.tree import DecisionTreeRegressor\n",
    "from sklearn.ensemble import RandomForestRegressor\n",
    "from sklearn.model_selection import cross_validate"
   ]
  },
  {
   "cell_type": "code",
   "execution_count": 129,
   "id": "7094c0b6",
   "metadata": {},
   "outputs": [
    {
     "data": {
      "text/html": [
       "<style>#sk-container-id-1 {color: black;background-color: white;}#sk-container-id-1 pre{padding: 0;}#sk-container-id-1 div.sk-toggleable {background-color: white;}#sk-container-id-1 label.sk-toggleable__label {cursor: pointer;display: block;width: 100%;margin-bottom: 0;padding: 0.3em;box-sizing: border-box;text-align: center;}#sk-container-id-1 label.sk-toggleable__label-arrow:before {content: \"▸\";float: left;margin-right: 0.25em;color: #696969;}#sk-container-id-1 label.sk-toggleable__label-arrow:hover:before {color: black;}#sk-container-id-1 div.sk-estimator:hover label.sk-toggleable__label-arrow:before {color: black;}#sk-container-id-1 div.sk-toggleable__content {max-height: 0;max-width: 0;overflow: hidden;text-align: left;background-color: #f0f8ff;}#sk-container-id-1 div.sk-toggleable__content pre {margin: 0.2em;color: black;border-radius: 0.25em;background-color: #f0f8ff;}#sk-container-id-1 input.sk-toggleable__control:checked~div.sk-toggleable__content {max-height: 200px;max-width: 100%;overflow: auto;}#sk-container-id-1 input.sk-toggleable__control:checked~label.sk-toggleable__label-arrow:before {content: \"▾\";}#sk-container-id-1 div.sk-estimator input.sk-toggleable__control:checked~label.sk-toggleable__label {background-color: #d4ebff;}#sk-container-id-1 div.sk-label input.sk-toggleable__control:checked~label.sk-toggleable__label {background-color: #d4ebff;}#sk-container-id-1 input.sk-hidden--visually {border: 0;clip: rect(1px 1px 1px 1px);clip: rect(1px, 1px, 1px, 1px);height: 1px;margin: -1px;overflow: hidden;padding: 0;position: absolute;width: 1px;}#sk-container-id-1 div.sk-estimator {font-family: monospace;background-color: #f0f8ff;border: 1px dotted black;border-radius: 0.25em;box-sizing: border-box;margin-bottom: 0.5em;}#sk-container-id-1 div.sk-estimator:hover {background-color: #d4ebff;}#sk-container-id-1 div.sk-parallel-item::after {content: \"\";width: 100%;border-bottom: 1px solid gray;flex-grow: 1;}#sk-container-id-1 div.sk-label:hover label.sk-toggleable__label {background-color: #d4ebff;}#sk-container-id-1 div.sk-serial::before {content: \"\";position: absolute;border-left: 1px solid gray;box-sizing: border-box;top: 0;bottom: 0;left: 50%;z-index: 0;}#sk-container-id-1 div.sk-serial {display: flex;flex-direction: column;align-items: center;background-color: white;padding-right: 0.2em;padding-left: 0.2em;position: relative;}#sk-container-id-1 div.sk-item {position: relative;z-index: 1;}#sk-container-id-1 div.sk-parallel {display: flex;align-items: stretch;justify-content: center;background-color: white;position: relative;}#sk-container-id-1 div.sk-item::before, #sk-container-id-1 div.sk-parallel-item::before {content: \"\";position: absolute;border-left: 1px solid gray;box-sizing: border-box;top: 0;bottom: 0;left: 50%;z-index: -1;}#sk-container-id-1 div.sk-parallel-item {display: flex;flex-direction: column;z-index: 1;position: relative;background-color: white;}#sk-container-id-1 div.sk-parallel-item:first-child::after {align-self: flex-end;width: 50%;}#sk-container-id-1 div.sk-parallel-item:last-child::after {align-self: flex-start;width: 50%;}#sk-container-id-1 div.sk-parallel-item:only-child::after {width: 0;}#sk-container-id-1 div.sk-dashed-wrapped {border: 1px dashed gray;margin: 0 0.4em 0.5em 0.4em;box-sizing: border-box;padding-bottom: 0.4em;background-color: white;}#sk-container-id-1 div.sk-label label {font-family: monospace;font-weight: bold;display: inline-block;line-height: 1.2em;}#sk-container-id-1 div.sk-label-container {text-align: center;}#sk-container-id-1 div.sk-container {/* jupyter's `normalize.less` sets `[hidden] { display: none; }` but bootstrap.min.css set `[hidden] { display: none !important; }` so we also need the `!important` here to be able to override the default hidden behavior on the sphinx rendered scikit-learn.org. See: https://github.com/scikit-learn/scikit-learn/issues/21755 */display: inline-block !important;position: relative;}#sk-container-id-1 div.sk-text-repr-fallback {display: none;}</style><div id=\"sk-container-id-1\" class=\"sk-top-container\"><div class=\"sk-text-repr-fallback\"><pre>StackingRegressor(estimators=[(&#x27;CatBoost imputer&#x27;,\n",
       "                               &lt;catboost.core.CatBoostRegressor object at 0x7f8a56f23ad0&gt;),\n",
       "                              (&#x27;CatBoost initial&#x27;,\n",
       "                               &lt;catboost.core.CatBoostRegressor object at 0x7f8a57be4090&gt;)],\n",
       "                  final_estimator=RandomForestRegressor())</pre><b>In a Jupyter environment, please rerun this cell to show the HTML representation or trust the notebook. <br />On GitHub, the HTML representation is unable to render, please try loading this page with nbviewer.org.</b></div><div class=\"sk-container\" hidden><div class=\"sk-item sk-dashed-wrapped\"><div class=\"sk-label-container\"><div class=\"sk-label sk-toggleable\"><input class=\"sk-toggleable__control sk-hidden--visually\" id=\"sk-estimator-id-1\" type=\"checkbox\" ><label for=\"sk-estimator-id-1\" class=\"sk-toggleable__label sk-toggleable__label-arrow\">StackingRegressor</label><div class=\"sk-toggleable__content\"><pre>StackingRegressor(estimators=[(&#x27;CatBoost imputer&#x27;,\n",
       "                               &lt;catboost.core.CatBoostRegressor object at 0x7f8a56f23ad0&gt;),\n",
       "                              (&#x27;CatBoost initial&#x27;,\n",
       "                               &lt;catboost.core.CatBoostRegressor object at 0x7f8a57be4090&gt;)],\n",
       "                  final_estimator=RandomForestRegressor())</pre></div></div></div><div class=\"sk-serial\"><div class=\"sk-item\"><div class=\"sk-parallel\"><div class=\"sk-parallel-item\"><div class=\"sk-item\"><div class=\"sk-label-container\"><div class=\"sk-label sk-toggleable\"><label>CatBoost imputer</label></div></div><div class=\"sk-serial\"><div class=\"sk-item\"><div class=\"sk-estimator sk-toggleable\"><input class=\"sk-toggleable__control sk-hidden--visually\" id=\"sk-estimator-id-2\" type=\"checkbox\" ><label for=\"sk-estimator-id-2\" class=\"sk-toggleable__label sk-toggleable__label-arrow\">CatBoostRegressor</label><div class=\"sk-toggleable__content\"><pre>&lt;catboost.core.CatBoostRegressor object at 0x7f8a56f23ad0&gt;</pre></div></div></div></div></div></div><div class=\"sk-parallel-item\"><div class=\"sk-item\"><div class=\"sk-label-container\"><div class=\"sk-label sk-toggleable\"><label>CatBoost initial</label></div></div><div class=\"sk-serial\"><div class=\"sk-item\"><div class=\"sk-estimator sk-toggleable\"><input class=\"sk-toggleable__control sk-hidden--visually\" id=\"sk-estimator-id-3\" type=\"checkbox\" ><label for=\"sk-estimator-id-3\" class=\"sk-toggleable__label sk-toggleable__label-arrow\">CatBoostRegressor</label><div class=\"sk-toggleable__content\"><pre>&lt;catboost.core.CatBoostRegressor object at 0x7f8a57be4090&gt;</pre></div></div></div></div></div></div></div></div><div class=\"sk-item\"><div class=\"sk-parallel\"><div class=\"sk-parallel-item\"><div class=\"sk-item\"><div class=\"sk-label-container\"><div class=\"sk-label sk-toggleable\"><label>final_estimator</label></div></div><div class=\"sk-serial\"><div class=\"sk-item\"><div class=\"sk-estimator sk-toggleable\"><input class=\"sk-toggleable__control sk-hidden--visually\" id=\"sk-estimator-id-4\" type=\"checkbox\" ><label for=\"sk-estimator-id-4\" class=\"sk-toggleable__label sk-toggleable__label-arrow\">RandomForestRegressor</label><div class=\"sk-toggleable__content\"><pre>RandomForestRegressor()</pre></div></div></div></div></div></div></div></div></div></div></div></div>"
      ],
      "text/plain": [
       "StackingRegressor(estimators=[('CatBoost imputer',\n",
       "                               <catboost.core.CatBoostRegressor object at 0x7f8a56f23ad0>),\n",
       "                              ('CatBoost initial',\n",
       "                               <catboost.core.CatBoostRegressor object at 0x7f8a57be4090>)],\n",
       "                  final_estimator=RandomForestRegressor())"
      ]
     },
     "execution_count": 129,
     "metadata": {},
     "output_type": "execute_result"
    }
   ],
   "source": [
    "estimators = [(\"CatBoost imputer\", model_cb1), (\"CatBoost initial\", model_cb2)]\n",
    "stacking_model = StackingRegressor(estimators=estimators, final_estimator=RandomForestRegressor())\n",
    "stacking_model"
   ]
  },
  {
   "cell_type": "code",
   "execution_count": null,
   "id": "7489fd82",
   "metadata": {},
   "outputs": [],
   "source": []
  },
  {
   "cell_type": "code",
   "execution_count": 78,
   "id": "e70d12db",
   "metadata": {},
   "outputs": [],
   "source": []
  },
  {
   "cell_type": "code",
   "execution_count": null,
   "id": "998166fe",
   "metadata": {},
   "outputs": [],
   "source": []
  },
  {
   "cell_type": "code",
   "execution_count": null,
   "id": "61762742",
   "metadata": {},
   "outputs": [],
   "source": []
  },
  {
   "cell_type": "code",
   "execution_count": null,
   "id": "b83ab31c",
   "metadata": {},
   "outputs": [],
   "source": []
  },
  {
   "cell_type": "code",
   "execution_count": null,
   "id": "da81c6f9",
   "metadata": {},
   "outputs": [],
   "source": []
  },
  {
   "cell_type": "markdown",
   "id": "b27ac43a",
   "metadata": {},
   "source": [
    "## 8.1 Stacking pipeline"
   ]
  },
  {
   "cell_type": "code",
   "execution_count": 98,
   "id": "b7d7b204",
   "metadata": {},
   "outputs": [],
   "source": [
    "train_init_sample1 = df_train.sample(900, random_state=20).sort_index()\n",
    "train_init_sample2 = df_train.iloc[[i for i in df_train.index if not np.isin(i, train_init_sample1.index)]]\n",
    "\n",
    "train_new_sample1 = df_train_new.sample(900, random_state=20).sort_index()\n",
    "train_new_sample2 = df_train_new.iloc[[i for i in df_train_new.index if not np.isin(i, train_new_sample1.index)]]\n",
    "\n",
    "model_cb1.fit(train_new_sample1.drop('Rating', axis=1), train_new_sample1['Rating'])\n",
    "model_cb2.fit(train_init_sample1.drop('Rating', axis=1), train_init_sample1['Rating'])\n",
    "\n",
    "model_cb1_pred = model_cb1.predict(train_new_sample2.drop('Rating', axis=1))\n",
    "model_cb2_pred = model_cb2.predict(train_init_sample2.drop('Rating', axis=1))"
   ]
  },
  {
   "cell_type": "code",
   "execution_count": 119,
   "id": "bcfdaefe",
   "metadata": {},
   "outputs": [
    {
     "data": {
      "text/plain": [
       "<matplotlib.legend.Legend at 0x7f89feef3c90>"
      ]
     },
     "execution_count": 119,
     "metadata": {},
     "output_type": "execute_result"
    },
    {
     "data": {
      "image/png": "[encoded data removed]",
      "text/plain": [
       "<Figure size 900x500 with 1 Axes>"
      ]
     },
     "metadata": {},
     "output_type": "display_data"
    }
   ],
   "source": [
    "plt.scatter(np.arange(len(model_cb1_pred)), model_cb1_pred, label=\"imputer\")\n",
    "plt.scatter(np.arange(len(model_cb2_pred)), model_cb2_pred, label=\"simple\", c='green', alpha=0.5)\n",
    "plt.scatter(np.arange(len(train_new_sample2['Rating'])), train_new_sample2['Rating'], label=\"true\", c='red', alpha=0.5)\n",
    "plt.legend()"
   ]
  },
  {
   "cell_type": "code",
   "execution_count": null,
   "id": "e6829b68",
   "metadata": {},
   "outputs": [],
   "source": [
    "RANDOM_STATE = 23\n",
    "\n",
    "X_train_init = df_train.drop('Rating', axis=1)\n",
    "y_train_init = df_train['Rating']\n",
    "\n",
    "X_train_new = df_train.drop('Rating', axis=1)\n",
    "y_train_new = df_train['Rating']\n",
    "\n",
    "X_init_train1, X_init_train2, y_init_train1, y_init_train2 = train_test_split(\n",
    "    X_train_init, y_train_init, test_size=0.3, random_state=RANDOM_STATE)\n",
    "\n",
    "X_new_train1, X_new_train2, y_new_train1, y_new_train2 = train_test_split(\n",
    "    X_train_new, y_train_new, test_size=0.3, random_state=RANDOM_STATE)"
   ]
  },
  {
   "cell_type": "code",
   "execution_count": null,
   "id": "4ac569f3",
   "metadata": {},
   "outputs": [],
   "source": [
    "model_cb1.fit(X_new_train1, y_new_train1)\n",
    "model_cb2.fit(X_init_train1, y_init_train1)"
   ]
  },
  {
   "cell_type": "code",
   "execution_count": null,
   "id": "1f3875a5",
   "metadata": {},
   "outputs": [],
   "source": [
    "pred_cb1 = model_cb1.predict(X_new_train2)\n",
    "pred_cb2 = model_cb2.predict(X_init_train2)"
   ]
  },
  {
   "cell_type": "code",
   "execution_count": null,
   "id": "da834526",
   "metadata": {},
   "outputs": [],
   "source": [
    "df_meta = pd.DataFrame({'model_new': pred_cb1, 'model_init': pred_cb2, 'y_true': y_new_train2.values})\n",
    "df_meta.head()"
   ]
  },
  {
   "cell_type": "code",
   "execution_count": null,
   "id": "00124d0e",
   "metadata": {},
   "outputs": [],
   "source": [
    "X_meta = df_meta.drop('y_true', axis=1)\n",
    "y_meta = df_meta['y_true']"
   ]
  },
  {
   "cell_type": "markdown",
   "id": "82a95b63",
   "metadata": {},
   "source": [
    "## Linear"
   ]
  },
  {
   "cell_type": "code",
   "execution_count": null,
   "id": "a2963906",
   "metadata": {},
   "outputs": [],
   "source": [
    "from sklearn.linear_model import LinearRegression\n",
    "\n",
    "linear_meta = LinearRegression()\n",
    "linear_meta.fit(X_meta, y_meta)\n",
    "\n",
    "df_coeff = pd.DataFrame({'Model': linear_meta.feature_names_in_,\n",
    "                        'Coeff': linear_meta.coef_})\n",
    "\n",
    "y_pred = linear_meta.predict(X_meta)\n",
    "print(f\"R2 score = {r2_score(y_meta, y_pred)}\")\n",
    "\n",
    "df_coeff = pd.concat([df_coeff, pd.DataFrame({'Model': 'Intercept', 'Coeff': linear_meta.intercept_}, index=[2])])\n",
    "df_coeff"
   ]
  },
  {
   "cell_type": "markdown",
   "id": "e0deb093",
   "metadata": {},
   "source": [
    "## Decision tree"
   ]
  },
  {
   "cell_type": "code",
   "execution_count": null,
   "id": "3397c15e",
   "metadata": {
    "scrolled": false
   },
   "outputs": [],
   "source": [
    "from sklearn.tree import DecisionTreeRegressor\n",
    "from sklearn.tree import plot_tree\n",
    "\n",
    "tree_meta = DecisionTreeRegressor()\n",
    "\n",
    "# parameters of model to optimise\n",
    "parameters = {'criterion': ['friedman_mse', 'squared_error', 'absolute_error', 'poisson'],\n",
    "              'max_depth': range(1, 4),\n",
    "              'min_samples_leaf': np.arange(1, 4),\n",
    "              'min_samples_split': np.arange(1, 4)\n",
    "              }\n",
    "\n",
    "search = GridSearchCV(tree_meta, parameters, cv=3)\n",
    "search.fit(X_meta, y_meta)\n",
    "\n",
    "print(search.best_params_)\n",
    "print(search.best_score_)"
   ]
  },
  {
   "cell_type": "code",
   "execution_count": null,
   "id": "56cc86f1",
   "metadata": {},
   "outputs": [],
   "source": [
    "tree_meta = search.best_estimator_\n",
    "tree_meta.fit(X_meta, y_meta)\n",
    "\n",
    "y_pred = tree_meta.predict(X_meta)\n",
    "print(f\"R2 score = {r2_score(y_meta, y_pred)}\")"
   ]
  },
  {
   "cell_type": "code",
   "execution_count": null,
   "id": "d8b9e2f7",
   "metadata": {},
   "outputs": [],
   "source": [
    "plot_tree(tree_meta)\n",
    "plt.show()"
   ]
  },
  {
   "cell_type": "markdown",
   "id": "a12581b4",
   "metadata": {},
   "source": [
    "## Random forest"
   ]
  },
  {
   "cell_type": "code",
   "execution_count": null,
   "id": "a61299fa",
   "metadata": {},
   "outputs": [],
   "source": [
    "from sklearn.ensemble import RandomForestRegressor\n",
    "\n",
    "forest_meta = RandomForestRegressor()\n",
    "\n",
    "parameters = {'n_estimators': np.arange(1, 20),\n",
    "              'criterion': ['friedman_mse', 'squared_error', 'absolute_error', 'poisson'],\n",
    "              'max_depth': range(1, 4),\n",
    "              'min_samples_leaf': np.arange(1, 4),\n",
    "              'min_samples_split': np.arange(1, 4)\n",
    "             }\n",
    "\n",
    "search = GridSearchCV(forest_meta, parameters, cv=3, n_jobs=-1)\n",
    "search.fit(X_meta, y_meta)\n",
    "\n",
    "print(search.best_params_)\n",
    "print(search.best_score_)"
   ]
  },
  {
   "cell_type": "code",
   "execution_count": 123,
   "id": "b4916b87",
   "metadata": {},
   "outputs": [
    {
     "ename": "NameError",
     "evalue": "name 'search' is not defined",
     "output_type": "error",
     "traceback": [
      "\u001b[0;31m---------------------------------------------------------------------------\u001b[0m",
      "\u001b[0;31mNameError\u001b[0m                                 Traceback (most recent call last)",
      "Cell \u001b[0;32mIn[123], line 1\u001b[0m\n\u001b[0;32m----> 1\u001b[0m forest_meta \u001b[38;5;241m=\u001b[39m search\u001b[38;5;241m.\u001b[39mbest_estimator_\n\u001b[1;32m      2\u001b[0m forest_meta\u001b[38;5;241m.\u001b[39mfit(X_meta, y_meta)\n\u001b[1;32m      4\u001b[0m y_pred \u001b[38;5;241m=\u001b[39m forest_meta\u001b[38;5;241m.\u001b[39mpredict(X_meta)\n",
      "\u001b[0;31mNameError\u001b[0m: name 'search' is not defined"
     ]
    }
   ],
   "source": [
    "forest_meta = search.best_estimator_\n",
    "forest_meta.fit(X_meta, y_meta)\n",
    "\n",
    "y_pred = forest_meta.predict(X_meta)\n",
    "print(f\"R2 score = {r2_score(y_meta, y_pred)}\")"
   ]
  },
  {
   "cell_type": "code",
   "execution_count": null,
   "id": "b9ac1d52",
   "metadata": {},
   "outputs": [],
   "source": []
  },
  {
   "cell_type": "code",
   "execution_count": null,
   "id": "d70e9a05",
   "metadata": {},
   "outputs": [],
   "source": []
  },
  {
   "cell_type": "code",
   "execution_count": null,
   "id": "018ba865",
   "metadata": {},
   "outputs": [],
   "source": []
  },
  {
   "cell_type": "code",
   "execution_count": null,
   "id": "106f5472",
   "metadata": {},
   "outputs": [],
   "source": []
  },
  {
   "cell_type": "code",
   "execution_count": null,
   "id": "394edc53",
   "metadata": {},
   "outputs": [],
   "source": []
  },
  {
   "cell_type": "code",
   "execution_count": null,
   "id": "56faff39",
   "metadata": {},
   "outputs": [],
   "source": []
  },
  {
   "cell_type": "markdown",
   "id": "591bd3fa",
   "metadata": {},
   "source": [
    "# 9 Make predictions"
   ]
  },
  {
   "cell_type": "code",
   "execution_count": null,
   "id": "3149ff37",
   "metadata": {},
   "outputs": [],
   "source": [
    "X_new = df_train_new.drop('Rating', axis=1)\n",
    "y_new = df_train_new['Rating']\n",
    "\n",
    "X_init = df_train.drop('Rating', axis=1)\n",
    "y_init = df_train['Rating']\n",
    "\n",
    "model_cb1.fit(X_new, y_new)\n",
    "model_cb2.fit(X_init, y_init)"
   ]
  },
  {
   "cell_type": "code",
   "execution_count": null,
   "id": "a25535c5",
   "metadata": {},
   "outputs": [],
   "source": [
    "pred_new = model_cb1.predict(df_test_new)\n",
    "print(df_test.shape)\n",
    "pred_new[:10]"
   ]
  },
  {
   "cell_type": "code",
   "execution_count": null,
   "id": "769853d2",
   "metadata": {},
   "outputs": [],
   "source": [
    "pred_init = model_cb2.predict(df_test)\n",
    "print(df_test.shape)\n",
    "pred_init[:10]"
   ]
  },
  {
   "cell_type": "code",
   "execution_count": null,
   "id": "b3a6fac7",
   "metadata": {},
   "outputs": [],
   "source": [
    "df_meta_test = pd.DataFrame({'model_new': pred_new, 'model_init': pred_init})\n",
    "print(df_meta_test.shape)\n",
    "df_meta_test.head()"
   ]
  },
  {
   "cell_type": "code",
   "execution_count": null,
   "id": "f9a8f8a4",
   "metadata": {},
   "outputs": [],
   "source": [
    "y_pred_test = forest_meta.predict(df_meta_test)\n",
    "y_pred_test[:10]"
   ]
  },
  {
   "cell_type": "code",
   "execution_count": null,
   "id": "20ac1f4f",
   "metadata": {},
   "outputs": [],
   "source": [
    "# Simple mean\n",
    "df_submission = df_test.copy()\n",
    "df_submission['id'] = np.arange(len(df_test))\n",
    "df_submission['Rating'] = y_pred_test\n",
    "df_submission = df_submission[['id','Rating']]\n",
    "df_submission.to_csv(\"Stacking_forest_v1.csv\", index=False)"
   ]
  },
  {
   "cell_type": "code",
   "execution_count": null,
   "id": "d5dec90e",
   "metadata": {},
   "outputs": [],
   "source": []
  },
  {
   "cell_type": "code",
   "execution_count": null,
   "id": "c015a91d",
   "metadata": {},
   "outputs": [],
   "source": []
  },
  {
   "cell_type": "code",
   "execution_count": null,
   "id": "6475ebf4",
   "metadata": {},
   "outputs": [],
   "source": []
  }
 ],
 "metadata": {
  "kernelspec": {
   "display_name": "Python 3 (ipykernel)",
   "language": "python",
   "name": "python3"
  },
  "language_info": {
   "codemirror_mode": {
    "name": "ipython",
    "version": 3
   },
   "file_extension": ".py",
   "mimetype": "text/x-python",
   "name": "python",
   "nbconvert_exporter": "python",
   "pygments_lexer": "ipython3",
   "version": "3.11.3"
  },
  "toc": {
   "base_numbering": 1,
   "nav_menu": {},
   "number_sections": false,
   "sideBar": true,
   "skip_h1_title": false,
   "title_cell": "Table of Contents",
   "title_sidebar": "Contents",
   "toc_cell": true,
   "toc_position": {
    "height": "calc(100% - 180px)",
    "left": "10px",
    "top": "150px",
    "width": "215.4px"
   },
   "toc_section_display": true,
   "toc_window_display": true
  }
 },
 "nbformat": 4,
 "nbformat_minor": 5
}
