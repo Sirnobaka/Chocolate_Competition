{
 "cells": [
  {
   "cell_type": "markdown",
   "id": "c9d8782d",
   "metadata": {
    "toc": true
   },
   "source": [
    "<h1>Table of Contents<span class=\"tocSkip\"></span></h1>\n",
    "<div class=\"toc\"><ul class=\"toc-item\"><li><span><a href=\"#Problem\" data-toc-modified-id=\"Problem-1\">Problem</a></span></li><li><span><a href=\"#Data-Info\" data-toc-modified-id=\"Data-Info-2\">Data Info</a></span></li><li><span><a href=\"#1-Get-data\" data-toc-modified-id=\"1-Get-data-3\">1 Get data</a></span><ul class=\"toc-item\"><li><span><a href=\"#1.1-Basic-data-transformations\" data-toc-modified-id=\"1.1-Basic-data-transformations-3.1\">1.1 Basic data transformations</a></span></li></ul></li><li><span><a href=\"#2-EDA\" data-toc-modified-id=\"2-EDA-4\">2 EDA</a></span><ul class=\"toc-item\"><li><span><a href=\"#2.1-Numerical-column\" data-toc-modified-id=\"2.1-Numerical-column-4.1\">2.1 Numerical column</a></span><ul class=\"toc-item\"><li><span><a href=\"#2.1.1-REF\" data-toc-modified-id=\"2.1.1-REF-4.1.1\">2.1.1 REF</a></span></li><li><span><a href=\"#2.1.2-Review\" data-toc-modified-id=\"2.1.2-Review-4.1.2\">2.1.2 Review</a></span></li><li><span><a href=\"#2.1.3-Cocoa-Percent\" data-toc-modified-id=\"2.1.3-Cocoa-Percent-4.1.3\">2.1.3 Cocoa Percent</a></span></li><li><span><a href=\"#2.1.4.-Correlation-matrix-(numeric-features)\" data-toc-modified-id=\"2.1.4.-Correlation-matrix-(numeric-features)-4.1.4\">2.1.4. Correlation matrix (numeric features)</a></span></li></ul></li><li><span><a href=\"#2.2-Categorical-features\" data-toc-modified-id=\"2.2-Categorical-features-4.2\">2.2 Categorical features</a></span></li></ul></li><li><span><a href=\"#3-Outliers\" data-toc-modified-id=\"3-Outliers-5\">3 Outliers</a></span></li><li><span><a href=\"#4-Data-Preprocessing\" data-toc-modified-id=\"4-Data-Preprocessing-6\">4 Data Preprocessing</a></span></li><li><span><a href=\"#5-Feature-Engineering\" data-toc-modified-id=\"5-Feature-Engineering-7\">5 Feature Engineering</a></span></li><li><span><a href=\"#6-Feature-selection\" data-toc-modified-id=\"6-Feature-selection-8\">6 Feature selection</a></span><ul class=\"toc-item\"><li><span><a href=\"#6.1-Numeric-features-correlation\" data-toc-modified-id=\"6.1-Numeric-features-correlation-8.1\">6.1 Numeric features correlation</a></span></li><li><span><a href=\"#6.2-Categorical-features-correlation\" data-toc-modified-id=\"6.2-Categorical-features-correlation-8.2\">6.2 Categorical features correlation</a></span></li></ul></li><li><span><a href=\"#7-Models\" data-toc-modified-id=\"7-Models-9\">7 Models</a></span><ul class=\"toc-item\"><li><span><a href=\"#7.1-CatBoost-with-default-hyperparameters\" data-toc-modified-id=\"7.1-CatBoost-with-default-hyperparameters-9.1\">7.1 CatBoost with default hyperparameters</a></span></li><li><span><a href=\"#7.2-Hyperparameters-tunning\" data-toc-modified-id=\"7.2-Hyperparameters-tunning-9.2\">7.2 Hyperparameters tunning</a></span></li></ul></li><li><span><a href=\"#8-Pipelines\" data-toc-modified-id=\"8-Pipelines-10\">8 Pipelines</a></span><ul class=\"toc-item\"><li><span><a href=\"#8.1-Data-preprocessing-class\" data-toc-modified-id=\"8.1-Data-preprocessing-class-10.1\">8.1 Data preprocessing class</a></span></li><li><span><a href=\"#8.2-Feature-engineering-class\" data-toc-modified-id=\"8.2-Feature-engineering-class-10.2\">8.2 Feature engineering class</a></span></li><li><span><a href=\"#8.3-FeatureFixer-class\" data-toc-modified-id=\"8.3-FeatureFixer-class-10.3\">8.3 FeatureFixer class</a></span></li><li><span><a href=\"#8.4-Regression-class-(for-estimation-of-rating)\" data-toc-modified-id=\"8.4-Regression-class-(for-estimation-of-rating)-10.4\">8.4 Regression class (for estimation of rating)</a></span></li></ul></li><li><span><a href=\"#9-Stacking\" data-toc-modified-id=\"9-Stacking-11\">9 Stacking</a></span><ul class=\"toc-item\"><li><span><a href=\"#9.1-Stacking-from-SKLearn-Linear-model\" data-toc-modified-id=\"9.1-Stacking-from-SKLearn-Linear-model-11.1\">9.1 Stacking from SKLearn Linear model</a></span></li><li><span><a href=\"#9.2-Save-model\" data-toc-modified-id=\"9.2-Save-model-11.2\">9.2 Save model</a></span></li></ul></li><li><span><a href=\"#10-More-models\" data-toc-modified-id=\"10-More-models-12\">10 More models</a></span><ul class=\"toc-item\"><li><span><a href=\"#10.1-New-models\" data-toc-modified-id=\"10.1-New-models-12.1\">10.1 New models</a></span></li></ul></li></ul></div>"
   ]
  },
  {
   "cell_type": "code",
   "execution_count": 36,
   "id": "63496771",
   "metadata": {},
   "outputs": [],
   "source": [
    "import numpy as np\n",
    "import matplotlib.pyplot as plt\n",
    "import pandas as pd\n",
    "import seaborn as sns\n",
    "\n",
    "%matplotlib inline\n",
    "plt.rcParams.update({\n",
    "        'font.size': 14,\n",
    "        'axes.titlesize': 15,\n",
    "        'axes.labelsize': 15,\n",
    "        'xtick.labelsize': 15,\n",
    "        'ytick.labelsize': 15,\n",
    "        'font.size': 15,\n",
    "        'figure.figsize': (9, 5),\n",
    "        'axes.grid': True,\n",
    "        'grid.linestyle': '-',\n",
    "        'grid.alpha': 0.3,\n",
    "        'lines.markersize': 5.0,\n",
    "        'xtick.minor.visible': True,\n",
    "        'xtick.direction': 'in',\n",
    "        'xtick.major.size': 20.0,\n",
    "        'xtick.minor.size': 10.0,\n",
    "        'xtick.top': False,\n",
    "        'xtick.bottom': True,\n",
    "        'ytick.minor.visible': True,\n",
    "        'ytick.direction': 'in',\n",
    "        'ytick.major.size': 12.0,\n",
    "        'ytick.minor.size': 6.0,\n",
    "        'ytick.right': True,\n",
    "        'errorbar.capsize': 0.0,\n",
    "    })\n",
    "\n",
    "\n",
    "from sklearn.model_selection import train_test_split\n",
    "import optuna\n",
    "#optuna.logging.set_verbosity(optuna.logging.WARNING)\n",
    "optuna.logging.set_verbosity(optuna.logging.INFO)\n",
    "\n",
    "from sklearn.metrics import r2_score, mean_squared_error, mean_absolute_error, explained_variance_score\n",
    "from sklearn.base import BaseEstimator, TransformerMixin, RegressorMixin\n",
    "from sklearn.pipeline import Pipeline\n",
    "\n",
    "from category_encoders.ordinal import OrdinalEncoder\n",
    "from category_encoders.one_hot import OneHotEncoder\n",
    "from category_encoders.target_encoder import TargetEncoder\n",
    "from category_encoders.leave_one_out import LeaveOneOutEncoder\n",
    "\n",
    "from sklearn.preprocessing import StandardScaler, MinMaxScaler\n",
    "from sklearn.inspection import permutation_importance\n",
    "from sklearn.model_selection import GridSearchCV, cross_val_score\n",
    "\n",
    "from catboost import CatBoostRegressor, CatBoostClassifier\n",
    "import pickle\n",
    "\n",
    "import warnings\n",
    "warnings.filterwarnings('ignore')\n",
    "\n",
    "# https://www.kaggle.com/competitions/practical-ml-chocolate/data\n",
    "# https://www.kaggle.com/datasets/rtatman/chocolate-bar-ratings/"
   ]
  },
  {
   "cell_type": "code",
   "execution_count": 2,
   "id": "16bf8715",
   "metadata": {},
   "outputs": [
    {
     "name": "stdout",
     "output_type": "stream",
     "text": [
      "  backup\u001b[m\r\n",
      "  main\u001b[m\r\n",
      "* \u001b[32mmodels\u001b[m\r\n"
     ]
    }
   ],
   "source": [
    "!git branch"
   ]
  },
  {
   "cell_type": "markdown",
   "id": "f1538164",
   "metadata": {},
   "source": [
    "# Problem"
   ]
  },
  {
   "cell_type": "markdown",
   "id": "8cde0688",
   "metadata": {},
   "source": [
    "В данном ноутбуке решается задача регрессии, предсказания рейтинга шоколада на основании данных о нём. Большинство предикторов являются категориальными и лишь несколько численными, поэтому в качестве библиотеки для построения модели был выбран регрессор CatBoost. Кроме того, в двух категориальных колонках присутсвует множество пропусков, заполнение которых наиболее вероятным заначением может негативно повлиять на качество модели. Решению данной задачи было уделено внимание."
   ]
  },
  {
   "cell_type": "markdown",
   "id": "b26a42e5",
   "metadata": {},
   "source": [
    "# Data Info"
   ]
  },
  {
   "cell_type": "markdown",
   "id": "9be983c3",
   "metadata": {},
   "source": [
    "* Company - компания производитель\n",
    "* Specific Bean Origin - географический регион происхождения\n",
    "* REF - параметр, определяющий момент внесения записи в базу данных (чем выше значение, тем \"свежее\" запись)\n",
    "* Review - дата публикации отзыва\n",
    "* Cocoa Percent - процентное содержания какао\n",
    "* Company Location - страна производитель\n",
    "* Rating - экспертный рейтинг\n",
    "* Bean Type - используемый сорт какао-бобов, если таковой имеется\n",
    "* Broad Bean Origin - географический регион происхождения какао-бобов"
   ]
  },
  {
   "cell_type": "markdown",
   "id": "9dd08d7a",
   "metadata": {},
   "source": [
    "# 1 Get data"
   ]
  },
  {
   "cell_type": "code",
   "execution_count": 3,
   "id": "f04ee5b6",
   "metadata": {},
   "outputs": [
    {
     "data": {
      "text/html": [
       "<div>\n",
       "<style scoped>\n",
       "    .dataframe tbody tr th:only-of-type {\n",
       "        vertical-align: middle;\n",
       "    }\n",
       "\n",
       "    .dataframe tbody tr th {\n",
       "        vertical-align: top;\n",
       "    }\n",
       "\n",
       "    .dataframe thead th {\n",
       "        text-align: right;\n",
       "    }\n",
       "</style>\n",
       "<table border=\"1\" class=\"dataframe\">\n",
       "  <thead>\n",
       "    <tr style=\"text-align: right;\">\n",
       "      <th></th>\n",
       "      <th>Company</th>\n",
       "      <th>Specific Bean Origin</th>\n",
       "      <th>REF</th>\n",
       "      <th>Review</th>\n",
       "      <th>Cocoa Percent</th>\n",
       "      <th>Company Location</th>\n",
       "      <th>Rating</th>\n",
       "      <th>Bean Type</th>\n",
       "      <th>Broad Bean Origin</th>\n",
       "    </tr>\n",
       "  </thead>\n",
       "  <tbody>\n",
       "    <tr>\n",
       "      <th>0</th>\n",
       "      <td>Willie's Cacao</td>\n",
       "      <td>Rio Caribe</td>\n",
       "      <td>457</td>\n",
       "      <td>2009</td>\n",
       "      <td>72%</td>\n",
       "      <td>U.K.</td>\n",
       "      <td>3.25</td>\n",
       "      <td>Trinitario</td>\n",
       "      <td>Venezuela</td>\n",
       "    </tr>\n",
       "    <tr>\n",
       "      <th>1</th>\n",
       "      <td>Beschle (Felchlin)</td>\n",
       "      <td>Ocumare, Premier Cru, Quizas No. 2</td>\n",
       "      <td>508</td>\n",
       "      <td>2010</td>\n",
       "      <td>72%</td>\n",
       "      <td>Switzerland</td>\n",
       "      <td>3.50</td>\n",
       "      <td></td>\n",
       "      <td>Venezuela</td>\n",
       "    </tr>\n",
       "    <tr>\n",
       "      <th>2</th>\n",
       "      <td>Dark Forest</td>\n",
       "      <td>Tanzania</td>\n",
       "      <td>1554</td>\n",
       "      <td>2015</td>\n",
       "      <td>70%</td>\n",
       "      <td>U.S.A.</td>\n",
       "      <td>3.00</td>\n",
       "      <td></td>\n",
       "      <td>Tanzania</td>\n",
       "    </tr>\n",
       "    <tr>\n",
       "      <th>3</th>\n",
       "      <td>Brasstown aka It's Chocolate</td>\n",
       "      <td>Cooproagro</td>\n",
       "      <td>1125</td>\n",
       "      <td>2013</td>\n",
       "      <td>72%</td>\n",
       "      <td>U.S.A.</td>\n",
       "      <td>3.00</td>\n",
       "      <td>Trinitario</td>\n",
       "      <td>Dominican Republic</td>\n",
       "    </tr>\n",
       "    <tr>\n",
       "      <th>4</th>\n",
       "      <td>Pralus</td>\n",
       "      <td>Java, Indonesie</td>\n",
       "      <td>32</td>\n",
       "      <td>2006</td>\n",
       "      <td>75%</td>\n",
       "      <td>France</td>\n",
       "      <td>3.50</td>\n",
       "      <td>Criollo</td>\n",
       "      <td>Indonesia</td>\n",
       "    </tr>\n",
       "  </tbody>\n",
       "</table>\n",
       "</div>"
      ],
      "text/plain": [
       "                        Company                Specific Bean Origin   REF  \\\n",
       "0                Willie's Cacao                          Rio Caribe   457   \n",
       "1            Beschle (Felchlin)  Ocumare, Premier Cru, Quizas No. 2   508   \n",
       "2                   Dark Forest                            Tanzania  1554   \n",
       "3  Brasstown aka It's Chocolate                          Cooproagro  1125   \n",
       "4                        Pralus                     Java, Indonesie    32   \n",
       "\n",
       "   Review Cocoa Percent Company Location  Rating   Bean Type  \\\n",
       "0    2009           72%             U.K.    3.25  Trinitario   \n",
       "1    2010           72%      Switzerland    3.50               \n",
       "2    2015           70%           U.S.A.    3.00               \n",
       "3    2013           72%           U.S.A.    3.00  Trinitario   \n",
       "4    2006           75%           France    3.50     Criollo   \n",
       "\n",
       "    Broad Bean Origin  \n",
       "0           Venezuela  \n",
       "1           Venezuela  \n",
       "2            Tanzania  \n",
       "3  Dominican Republic  \n",
       "4           Indonesia  "
      ]
     },
     "execution_count": 3,
     "metadata": {},
     "output_type": "execute_result"
    }
   ],
   "source": [
    "df_train = pd.read_csv('data_initial/chocolate_train.csv')\n",
    "df_test = pd.read_csv('data_initial/chocolate_test_new.csv')\n",
    "df_train.head()"
   ]
  },
  {
   "cell_type": "code",
   "execution_count": 4,
   "id": "cf918121",
   "metadata": {},
   "outputs": [
    {
     "name": "stdout",
     "output_type": "stream",
     "text": [
      "Train data has 9 columns and 1255 rows\n",
      "Test data has 8 columns and 540 rows\n"
     ]
    }
   ],
   "source": [
    "print(f'Train data has {df_train.shape[1]} columns and {df_train.shape[0]} rows')\n",
    "print(f'Test data has {df_test.shape[1]} columns and {df_test.shape[0]} rows')"
   ]
  },
  {
   "cell_type": "markdown",
   "id": "09c95c14",
   "metadata": {},
   "source": [
    "## 1.1 Basic data transformations"
   ]
  },
  {
   "cell_type": "code",
   "execution_count": 5,
   "id": "2f41b337",
   "metadata": {},
   "outputs": [
    {
     "name": "stdout",
     "output_type": "stream",
     "text": [
      "Train\n",
      "--------------------------------------------------\n",
      "'Bean Type' has 1 NaNs and 628 empty cells\n",
      "'Broad Bean Origin' has 1 NaNs and 55 empty cells\n",
      "--------------------------------------------------\n",
      "Test\n",
      "--------------------------------------------------\n",
      "'Bean Type' has 0 NaNs and 259 empty cells\n",
      "'Broad Bean Origin' has 0 NaNs and 18 empty cells\n"
     ]
    }
   ],
   "source": [
    "empty_cell = '\\xa0'\n",
    "\n",
    "print('Train', 50*'-', sep='\\n', end='\\n')\n",
    "for col in df_train.columns[df_train.isna().sum() > 0]:\n",
    "    print(f\"'{col}' has {df_train[col].isna().sum()} NaNs and {df_train[col].apply(lambda x: x == empty_cell).sum()} empty cells\")\n",
    "    \n",
    "print(50*'-')\n",
    "print('Test', 50*'-', sep='\\n', end='\\n')\n",
    "for col in df_test.columns[(df_test == empty_cell).sum() > 0]:\n",
    "    print(f\"'{col}' has {df_test[col].isna().sum()} NaNs and {df_test[col].apply(lambda x: x == empty_cell).sum()} empty cells\")"
   ]
  },
  {
   "cell_type": "markdown",
   "id": "24d20d81",
   "metadata": {},
   "source": [
    "Как видим, в данных есть пропуски, и это не только NaN, но и пустые ячейки. Заменим все эти пропуски уникальным значением \"Unknown\". Вдальнейшем у нас будет выбор: оставить как есть или использовать модели машинного обучения для заполнения этих пропусков. Я не заменяю пустые ячейки наиболее вероятными значениями, так как в процессе анализа качества моделей было выявлено, что такое решение является наихудшим.\n",
    "\n",
    "Кроме того, проведём простейшее преобразование признака \"Cocoa Percent\". Он является числовым, но записан как строка, нужно это исправить. Также в названиях стран присутствуют грамматические ошибки, исправим и их."
   ]
  },
  {
   "cell_type": "code",
   "execution_count": 38,
   "id": "64a6fac4",
   "metadata": {},
   "outputs": [],
   "source": [
    "def preprocessing_step1(data: pd.DataFrame) -> pd.DataFrame:\n",
    "    data_new = data.copy()\n",
    "    data_new['Cocoa Percent'] = data_new['Cocoa Percent'].apply(lambda x: float(x.strip('%')))\n",
    "    data_new = data_new.fillna(\"Unknown\")\n",
    "    data_new['Broad Bean Origin'] = data_new['Broad Bean Origin'].replace('\\xa0', \"Unknown\")\n",
    "    data_new['Bean Type'] = data_new['Bean Type'].replace('\\xa0', \"Unknown\")\n",
    "    data_new.replace(\n",
    "    {\n",
    "        'Eucador': 'Ecuador',\n",
    "        'Domincan Republic': 'Dominican Republic',\n",
    "        'Niacragua': 'Nicaragua'\n",
    "    },\n",
    "    inplace=True)\n",
    "    return data_new"
   ]
  },
  {
   "cell_type": "code",
   "execution_count": 7,
   "id": "5bbe982b",
   "metadata": {},
   "outputs": [],
   "source": [
    "df_train = preprocessing_step1(df_train)\n",
    "df_test = preprocessing_step1(df_test)"
   ]
  },
  {
   "cell_type": "markdown",
   "id": "8e65eafb",
   "metadata": {},
   "source": [
    "# 2 EDA"
   ]
  },
  {
   "cell_type": "markdown",
   "id": "3eda09c7",
   "metadata": {},
   "source": [
    "В этом исследовании не будет обширного EDA, так как большинство интересующих нас признаков являются не только категориальными, но и имеют множество уникальных значений."
   ]
  },
  {
   "cell_type": "code",
   "execution_count": 8,
   "id": "c8adf8ef",
   "metadata": {},
   "outputs": [
    {
     "name": "stdout",
     "output_type": "stream",
     "text": [
      "There are 5 categorical columns\n",
      "--------------------------------\n",
      "Company\n",
      "Specific Bean Origin\n",
      "Company Location\n",
      "Bean Type\n",
      "Broad Bean Origin\n",
      "--------------------------------\n",
      "And 4 numerical columns (one of which is target as we are looking on train data)\n",
      "--------------------------------\n",
      "REF\n",
      "Review\n",
      "Cocoa Percent\n",
      "Rating (target)\n",
      "--------------------------------\n"
     ]
    }
   ],
   "source": [
    "print(f\"There are {len(df_train.dtypes[df_train.dtypes == object])} categorical columns\", 32*'-', sep='\\n')\n",
    "for col in df_train.columns[df_train.dtypes == object]:\n",
    "    print(col)\n",
    "print(32*'-')\n",
    "\n",
    "print(f\"And {len(df_train.dtypes[(df_train.dtypes == int) | (df_train.dtypes == float)])} numerical columns (one of which is target as we are looking on train data)\",\n",
    "      32*'-', sep='\\n')\n",
    "for col in df_train.columns[(df_train.dtypes == int) | (df_train.dtypes == float)]:\n",
    "    if col == 'Rating':\n",
    "        print(f\"{col} (target)\")\n",
    "    else:\n",
    "        print(col)\n",
    "print(32*'-')"
   ]
  },
  {
   "cell_type": "markdown",
   "id": "ad04c104",
   "metadata": {},
   "source": [
    "## 2.1 Numerical column"
   ]
  },
  {
   "cell_type": "markdown",
   "id": "ef51dc1b",
   "metadata": {},
   "source": [
    "Рассмотрим числовые предикторы. Мы будем искать признаки линейной зависмсоти между числовыми предикторами и целевой переменной (также числовой), используя средние значения 'Rating' в бинах по нашим признакам. Также посмотрим на корреляцию Пирсона, которая соответствует степени линейной зависимости между признаками или признаком и целевой переменной."
   ]
  },
  {
   "cell_type": "markdown",
   "id": "f735b57e",
   "metadata": {},
   "source": [
    "### 2.1.1 REF"
   ]
  },
  {
   "cell_type": "code",
   "execution_count": 9,
   "id": "f8eed231",
   "metadata": {},
   "outputs": [],
   "source": [
    "def distribution(data: pd.DataFrame, title: str, x_label: str, y_label:str, figsize: tuple=(9,5)):\n",
    "    plt.figure(figsize=figsize)\n",
    "    plt.style.use('seaborn-pastel')\n",
    "    density = sns.barplot(x=data.index, y=data.values)\n",
    "    title = plt.title(title, fontdict={'fontsize': 20})\n",
    "    plt.xlabel(x_label)\n",
    "    plt.ylabel(y_label)\n",
    "    plt.show()"
   ]
  },
  {
   "cell_type": "markdown",
   "id": "45486b3b",
   "metadata": {},
   "source": [
    "Посмотрим на зависимость среднего 'Rating' от 'REF'"
   ]
  },
  {
   "cell_type": "code",
   "execution_count": 10,
   "id": "70183059",
   "metadata": {},
   "outputs": [],
   "source": [
    "def mean_rating_in_bins(data: pd.DataFrame, col: str, bin_edges: list):\n",
    "    bin_values = [\n",
    "        data[(data[col] > bin_edges[i])\n",
    "             & (data[col] <= bin_edges[i + 1])]['Rating'].mean()\n",
    "        for i in range(len(bin_edges) - 1)\n",
    "    ]\n",
    "    return bin_values"
   ]
  },
  {
   "cell_type": "code",
   "execution_count": 11,
   "id": "9f8b69c0",
   "metadata": {},
   "outputs": [
    {
     "data": {
      "image/png": "[encoded data removed]",
      "text/plain": [
       "<Figure size 900x500 with 1 Axes>"
      ]
     },
     "metadata": {},
     "output_type": "display_data"
    }
   ],
   "source": [
    "REF_bins = np.arange(0, 2100, 100)\n",
    "REF_bin_centers = [(REF_bins[i+1] + REF_bins[i]) / 2 for i in range(REF_bins.shape[0]-1)]\n",
    "\n",
    "plt.figure(figsize=(9, 5))\n",
    "plt.plot(REF_bin_centers, mean_rating_in_bins(df_train, 'REF', REF_bins), 'o-r')\n",
    "plt.xlabel('REF')\n",
    "plt.ylabel('Rating mean')\n",
    "plt.show()"
   ]
  },
  {
   "cell_type": "markdown",
   "id": "e27b15a5",
   "metadata": {},
   "source": [
    "На графике наблюдается что-то отдалённо напоминающее зависимость Rating от REF. Чем выше значение предиктора REF, тем выше вероятность того, что у шоколада будет выский рейтинг.<br>\n",
    "Также между ними существует небольшая корреляция."
   ]
  },
  {
   "cell_type": "code",
   "execution_count": 12,
   "id": "96f800e7",
   "metadata": {},
   "outputs": [
    {
     "data": {
      "text/html": [
       "<div>\n",
       "<style scoped>\n",
       "    .dataframe tbody tr th:only-of-type {\n",
       "        vertical-align: middle;\n",
       "    }\n",
       "\n",
       "    .dataframe tbody tr th {\n",
       "        vertical-align: top;\n",
       "    }\n",
       "\n",
       "    .dataframe thead th {\n",
       "        text-align: right;\n",
       "    }\n",
       "</style>\n",
       "<table border=\"1\" class=\"dataframe\">\n",
       "  <thead>\n",
       "    <tr style=\"text-align: right;\">\n",
       "      <th></th>\n",
       "      <th>REF</th>\n",
       "      <th>Rating</th>\n",
       "    </tr>\n",
       "  </thead>\n",
       "  <tbody>\n",
       "    <tr>\n",
       "      <th>REF</th>\n",
       "      <td>1.000000</td>\n",
       "      <td>0.112792</td>\n",
       "    </tr>\n",
       "    <tr>\n",
       "      <th>Rating</th>\n",
       "      <td>0.112792</td>\n",
       "      <td>1.000000</td>\n",
       "    </tr>\n",
       "  </tbody>\n",
       "</table>\n",
       "</div>"
      ],
      "text/plain": [
       "             REF    Rating\n",
       "REF     1.000000  0.112792\n",
       "Rating  0.112792  1.000000"
      ]
     },
     "execution_count": 12,
     "metadata": {},
     "output_type": "execute_result"
    }
   ],
   "source": [
    "df_train[['REF', 'Rating']].corr()"
   ]
  },
  {
   "cell_type": "markdown",
   "id": "db861d13",
   "metadata": {},
   "source": [
    "### 2.1.2 Review"
   ]
  },
  {
   "cell_type": "markdown",
   "id": "645b018f",
   "metadata": {},
   "source": [
    "Мы видим, что предикторы 'REF' и 'Review' практически линейно зависимы. Этого стоило ожидать. В целом можно исключить один из них и даже нужно, если мы будем строить линейные модели."
   ]
  },
  {
   "cell_type": "code",
   "execution_count": 13,
   "id": "b4ab7f46",
   "metadata": {},
   "outputs": [
    {
     "data": {
      "text/html": [
       "<div>\n",
       "<style scoped>\n",
       "    .dataframe tbody tr th:only-of-type {\n",
       "        vertical-align: middle;\n",
       "    }\n",
       "\n",
       "    .dataframe tbody tr th {\n",
       "        vertical-align: top;\n",
       "    }\n",
       "\n",
       "    .dataframe thead th {\n",
       "        text-align: right;\n",
       "    }\n",
       "</style>\n",
       "<table border=\"1\" class=\"dataframe\">\n",
       "  <thead>\n",
       "    <tr style=\"text-align: right;\">\n",
       "      <th></th>\n",
       "      <th>REF</th>\n",
       "      <th>Review</th>\n",
       "      <th>Rating</th>\n",
       "    </tr>\n",
       "  </thead>\n",
       "  <tbody>\n",
       "    <tr>\n",
       "      <th>REF</th>\n",
       "      <td>1.000000</td>\n",
       "      <td>0.984938</td>\n",
       "      <td>0.112792</td>\n",
       "    </tr>\n",
       "    <tr>\n",
       "      <th>Review</th>\n",
       "      <td>0.984938</td>\n",
       "      <td>1.000000</td>\n",
       "      <td>0.111826</td>\n",
       "    </tr>\n",
       "    <tr>\n",
       "      <th>Rating</th>\n",
       "      <td>0.112792</td>\n",
       "      <td>0.111826</td>\n",
       "      <td>1.000000</td>\n",
       "    </tr>\n",
       "  </tbody>\n",
       "</table>\n",
       "</div>"
      ],
      "text/plain": [
       "             REF    Review    Rating\n",
       "REF     1.000000  0.984938  0.112792\n",
       "Review  0.984938  1.000000  0.111826\n",
       "Rating  0.112792  0.111826  1.000000"
      ]
     },
     "execution_count": 13,
     "metadata": {},
     "output_type": "execute_result"
    }
   ],
   "source": [
    "df_train[['REF', 'Review', 'Rating']].corr()"
   ]
  },
  {
   "cell_type": "markdown",
   "id": "40f8b0f1",
   "metadata": {},
   "source": [
    "### 2.1.3 Cocoa Percent"
   ]
  },
  {
   "cell_type": "markdown",
   "id": "7afe0e61",
   "metadata": {},
   "source": [
    "Cocoa Percent имеет распределение близкое к нормальному, стандартное отклонение не очень велико."
   ]
  },
  {
   "cell_type": "code",
   "execution_count": 14,
   "id": "b82cbf26",
   "metadata": {},
   "outputs": [
    {
     "data": {
      "image/png": "[encoded data removed]",
      "text/plain": [
       "<Figure size 900x500 with 1 Axes>"
      ]
     },
     "metadata": {},
     "output_type": "display_data"
    }
   ],
   "source": [
    "plt.hist(df_train['Cocoa Percent'], bins=20)\n",
    "plt.title(f\"Mean = {round(df_train['Cocoa Percent'].mean(), 1)}, standard deviation = {round(df_train['Cocoa Percent'].std(), 2)}\")\n",
    "plt.xlabel('Cocoa Percent')\n",
    "plt.ylabel('Count')\n",
    "plt.show()"
   ]
  },
  {
   "cell_type": "markdown",
   "id": "b14afa1b",
   "metadata": {},
   "source": [
    "На графике видно, что шоколад с очень большим процентом содержания какао в среднем имеет более низкий рейтинг."
   ]
  },
  {
   "cell_type": "code",
   "execution_count": 15,
   "id": "7a93a1f7",
   "metadata": {},
   "outputs": [
    {
     "data": {
      "image/png": "[encoded data removed]",
      "text/plain": [
       "<Figure size 900x500 with 1 Axes>"
      ]
     },
     "metadata": {},
     "output_type": "display_data"
    }
   ],
   "source": [
    "CocoaPercent_bins = np.arange(45, 105, 7)\n",
    "CocoaPercent_bin_centers = [(CocoaPercent_bins[i+1] + CocoaPercent_bins[i]) / 2 for i in range(CocoaPercent_bins.shape[0]-1)]\n",
    "\n",
    "plt.plot(CocoaPercent_bin_centers,\n",
    "         mean_rating_in_bins(df_train, 'Cocoa Percent', CocoaPercent_bins),\n",
    "         'o-r')\n",
    "plt.xlabel('Cocoa Percent')\n",
    "plt.ylabel('Rating mean')\n",
    "plt.show()"
   ]
  },
  {
   "cell_type": "code",
   "execution_count": 16,
   "id": "ee798406",
   "metadata": {},
   "outputs": [
    {
     "data": {
      "text/html": [
       "<div>\n",
       "<style scoped>\n",
       "    .dataframe tbody tr th:only-of-type {\n",
       "        vertical-align: middle;\n",
       "    }\n",
       "\n",
       "    .dataframe tbody tr th {\n",
       "        vertical-align: top;\n",
       "    }\n",
       "\n",
       "    .dataframe thead th {\n",
       "        text-align: right;\n",
       "    }\n",
       "</style>\n",
       "<table border=\"1\" class=\"dataframe\">\n",
       "  <thead>\n",
       "    <tr style=\"text-align: right;\">\n",
       "      <th></th>\n",
       "      <th>Cocoa Percent</th>\n",
       "      <th>Rating</th>\n",
       "    </tr>\n",
       "  </thead>\n",
       "  <tbody>\n",
       "    <tr>\n",
       "      <th>Cocoa Percent</th>\n",
       "      <td>1.000000</td>\n",
       "      <td>-0.172411</td>\n",
       "    </tr>\n",
       "    <tr>\n",
       "      <th>Rating</th>\n",
       "      <td>-0.172411</td>\n",
       "      <td>1.000000</td>\n",
       "    </tr>\n",
       "  </tbody>\n",
       "</table>\n",
       "</div>"
      ],
      "text/plain": [
       "               Cocoa Percent    Rating\n",
       "Cocoa Percent       1.000000 -0.172411\n",
       "Rating             -0.172411  1.000000"
      ]
     },
     "execution_count": 16,
     "metadata": {},
     "output_type": "execute_result"
    }
   ],
   "source": [
    "df_train[['Cocoa Percent', 'Rating']].corr()"
   ]
  },
  {
   "cell_type": "markdown",
   "id": "95720ab8",
   "metadata": {},
   "source": [
    "### 2.1.4. Correlation matrix (numeric features)"
   ]
  },
  {
   "cell_type": "code",
   "execution_count": 17,
   "id": "384ab685",
   "metadata": {},
   "outputs": [
    {
     "data": {
      "image/png": "[encoded data removed]",
      "text/plain": [
       "<Figure size 700x500 with 2 Axes>"
      ]
     },
     "metadata": {},
     "output_type": "display_data"
    }
   ],
   "source": [
    "plt.figure(figsize = (7,5))\n",
    "plt.rcParams.update({\n",
    "    'xtick.labelsize': 13,\n",
    "    'ytick.labelsize': 13,\n",
    "})\n",
    "sns.heatmap(df_train.corr(), annot=True, cmap=\"Blues\")\n",
    "\n",
    "plt.show()"
   ]
  },
  {
   "cell_type": "markdown",
   "id": "43e12f33",
   "metadata": {},
   "source": [
    "Подводя итоги анализа численных предикторов, можно сказать:\n",
    "* Один из двух сильно скоррелированных предикторов \"REF\" и \"Review\" можно исключить\n",
    "* Предикторы скоррелированы (хоть и не сильно) с целевой переменной \"Rating\" и могут иметь предсказательную силу. Вдальнейшем они вряд ли будут отброшены"
   ]
  },
  {
   "cell_type": "markdown",
   "id": "b78bc8e9",
   "metadata": {},
   "source": [
    "## 2.2 Categorical features"
   ]
  },
  {
   "cell_type": "markdown",
   "id": "5b8e93b6",
   "metadata": {},
   "source": [
    "В этой части мы не будем подробно изучать категориальные признаки, лишь посмотрим на количество категорий и корреляцию их друг с другом. Более подробный анализ будет предствален в главе, посвященной разработке новых предикторов на их основе (Feature Engineering)"
   ]
  },
  {
   "cell_type": "code",
   "execution_count": 18,
   "id": "39225f8c",
   "metadata": {},
   "outputs": [
    {
     "name": "stdout",
     "output_type": "stream",
     "text": [
      "Number of unique values\n",
      "------------------------------\n",
      "Company: 376\n",
      "Specific Bean Origin: 762\n",
      "Company Location: 56\n",
      "Bean Type: 38\n",
      "Broad Bean Origin: 83\n"
     ]
    }
   ],
   "source": [
    "print(\"Number of unique values\", 30*\"-\", sep='\\n')\n",
    "\n",
    "for col in df_train.columns[df_train.dtypes == object]:\n",
    "    print(f\"{col}: {df_train[col].nunique()}\")"
   ]
  },
  {
   "cell_type": "code",
   "execution_count": 19,
   "id": "50e9b170",
   "metadata": {},
   "outputs": [
    {
     "data": {
      "text/html": [
       "<div>\n",
       "<style scoped>\n",
       "    .dataframe tbody tr th:only-of-type {\n",
       "        vertical-align: middle;\n",
       "    }\n",
       "\n",
       "    .dataframe tbody tr th {\n",
       "        vertical-align: top;\n",
       "    }\n",
       "\n",
       "    .dataframe thead th {\n",
       "        text-align: right;\n",
       "    }\n",
       "</style>\n",
       "<table border=\"1\" class=\"dataframe\">\n",
       "  <thead>\n",
       "    <tr style=\"text-align: right;\">\n",
       "      <th></th>\n",
       "      <th>Company</th>\n",
       "      <th>Specific Bean Origin</th>\n",
       "      <th>Company Location</th>\n",
       "      <th>Bean Type</th>\n",
       "      <th>Broad Bean Origin</th>\n",
       "    </tr>\n",
       "  </thead>\n",
       "  <tbody>\n",
       "    <tr>\n",
       "      <th>Company</th>\n",
       "      <td>1.000000</td>\n",
       "      <td>0.771074</td>\n",
       "      <td>0.999638</td>\n",
       "      <td>0.616841</td>\n",
       "      <td>0.603562</td>\n",
       "    </tr>\n",
       "    <tr>\n",
       "      <th>Specific Bean Origin</th>\n",
       "      <td>0.771074</td>\n",
       "      <td>1.000000</td>\n",
       "      <td>0.811367</td>\n",
       "      <td>0.907956</td>\n",
       "      <td>0.985204</td>\n",
       "    </tr>\n",
       "    <tr>\n",
       "      <th>Company Location</th>\n",
       "      <td>0.999638</td>\n",
       "      <td>0.811367</td>\n",
       "      <td>1.000000</td>\n",
       "      <td>0.241511</td>\n",
       "      <td>0.389432</td>\n",
       "    </tr>\n",
       "    <tr>\n",
       "      <th>Bean Type</th>\n",
       "      <td>0.616841</td>\n",
       "      <td>0.907956</td>\n",
       "      <td>0.241511</td>\n",
       "      <td>1.000000</td>\n",
       "      <td>0.388054</td>\n",
       "    </tr>\n",
       "    <tr>\n",
       "      <th>Broad Bean Origin</th>\n",
       "      <td>0.603562</td>\n",
       "      <td>0.985204</td>\n",
       "      <td>0.389432</td>\n",
       "      <td>0.388054</td>\n",
       "      <td>1.000000</td>\n",
       "    </tr>\n",
       "  </tbody>\n",
       "</table>\n",
       "</div>"
      ],
      "text/plain": [
       "                       Company  Specific Bean Origin  Company Location  \\\n",
       "Company               1.000000              0.771074          0.999638   \n",
       "Specific Bean Origin  0.771074              1.000000          0.811367   \n",
       "Company Location      0.999638              0.811367          1.000000   \n",
       "Bean Type             0.616841              0.907956          0.241511   \n",
       "Broad Bean Origin     0.603562              0.985204          0.389432   \n",
       "\n",
       "                      Bean Type  Broad Bean Origin  \n",
       "Company                0.616841           0.603562  \n",
       "Specific Bean Origin   0.907956           0.985204  \n",
       "Company Location       0.241511           0.389432  \n",
       "Bean Type              1.000000           0.388054  \n",
       "Broad Bean Origin      0.388054           1.000000  "
      ]
     },
     "execution_count": 19,
     "metadata": {},
     "output_type": "execute_result"
    }
   ],
   "source": [
    "import association_metrics as am\n",
    "\n",
    "XC = df_train.apply(lambda x: x.astype(\"category\") if x.dtype == \"object\" else x)\n",
    "cramersv = am.CramersV(XC)\n",
    "cramersv.fit()"
   ]
  },
  {
   "cell_type": "markdown",
   "id": "b527be15",
   "metadata": {},
   "source": [
    "Сильно скоррелированные признаки:\n",
    "* Company и Company Location\n",
    "* Broad Bean Origin и Specific Bean Origin\n",
    "* Bean Type и Specific Bean Origin\n",
    "\n",
    "Возморжно, часть из этих признаков будет отброшена вдальнейшем, однако пока они нужны нам для построения новых признаков."
   ]
  },
  {
   "cell_type": "markdown",
   "id": "e4c781ae",
   "metadata": {},
   "source": [
    "# 3 Outliers"
   ]
  },
  {
   "cell_type": "markdown",
   "id": "fbde587b",
   "metadata": {},
   "source": [
    "Посмотрим на выбросы в данных лишь ради интереса. Практика показала, что исключение объектов из тренировочных данных не приводит улучшению качества моделей. Также посмотрим на распределение целевой переменной."
   ]
  },
  {
   "cell_type": "code",
   "execution_count": 20,
   "id": "e62b608d",
   "metadata": {
    "scrolled": false
   },
   "outputs": [
    {
     "data": {
      "image/png": "[encoded data removed]",
      "text/plain": [
       "<Figure size 1600x500 with 4 Axes>"
      ]
     },
     "metadata": {},
     "output_type": "display_data"
    }
   ],
   "source": [
    "cat_cols = df_train.columns[df_train.dtypes == 'object']\n",
    "num_cols = df_train.columns[df_train.dtypes != 'object']\n",
    "\n",
    "fig, ax = plt.subplots(1, 4, figsize=(16, 5))\n",
    "\n",
    "for i, col in enumerate(num_cols):\n",
    "    sns.boxplot(df_train[col], ax=ax[i])\n",
    "    ax[i].set_title(col)\n",
    "\n",
    "plt.show()"
   ]
  },
  {
   "cell_type": "markdown",
   "id": "c4702544",
   "metadata": {},
   "source": [
    "Целевая переменная: рейтинг от 1 до 5 с шагом 0.25"
   ]
  },
  {
   "cell_type": "code",
   "execution_count": 21,
   "id": "510096cc",
   "metadata": {},
   "outputs": [
    {
     "data": {
      "image/png": "[encoded data removed]",
      "text/plain": [
       "<Figure size 800x400 with 1 Axes>"
      ]
     },
     "metadata": {},
     "output_type": "display_data"
    }
   ],
   "source": [
    "plt.figure(figsize=(8, 4))\n",
    "plt.hist(df_train['Rating'], bins=16)\n",
    "plt.xlabel('Rating')\n",
    "plt.ylabel(\"Counts\")\n",
    "plt.show()"
   ]
  },
  {
   "cell_type": "markdown",
   "id": "3a6db06f",
   "metadata": {},
   "source": [
    "Выводы:\n",
    "* Целевая переменная 'Rating' имеет точки, которые можно интерпретировать как выбросы, однако мы не будем удалять их\n",
    "* Переменная 'Cocoa Percent', как мы видели выше, имеет очень узкое распределение, поэтому много точек потенциально могут быть интерпретированы как выбросы, но объекты с такими параметрами мы также не будем исключать из тренировочной выборки"
   ]
  },
  {
   "cell_type": "markdown",
   "id": "276918c1",
   "metadata": {},
   "source": [
    "# 4 Data Preprocessing"
   ]
  },
  {
   "cell_type": "markdown",
   "id": "f4952c2f",
   "metadata": {},
   "source": [
    "Теперь попробуем заполнить пропуски в колонках \"Bean Type\" и \"Broad Bean Origin\" с помощью классификатороа CatBoost. Потенциально это может улучшить качество конечной модели.\n",
    "\n",
    "Хоть перемешивать тренировочные данные с тестовыми и тренировать на них некий трансформатор и неправильно, именно этим мы и будем заниматься. Здесь мы лишь тестируем метод для заполнения пропусков. В главе 8 (Pipelines) класс FeatureFixer, заполняющий пропуски, будет переопределён, чтобы обучаться только на тренировочных данных и тогда будет работать как надо.\n",
    "\n",
    "В целом несколько эту главу __можно пропустить__, так как позже __в главе 8__ будет дано более корректное определение класса для заполнения пропусков."
   ]
  },
  {
   "cell_type": "code",
   "execution_count": 22,
   "id": "7d3d934d",
   "metadata": {},
   "outputs": [],
   "source": [
    "optuna.logging.set_verbosity(optuna.logging.INFO)\n",
    "optuna.logging.set_verbosity(optuna.logging.WARNING)"
   ]
  },
  {
   "cell_type": "code",
   "execution_count": 23,
   "id": "8057a117",
   "metadata": {},
   "outputs": [],
   "source": [
    "class FeatureFixer:\n",
    "    \n",
    "    \"\"\"\n",
    "    column - признак, который мы будем прогнозировать ('Broad Bean Origin' или 'Bean Type')\n",
    "    train - тренировочный набор данных\n",
    "    test - тестовый набор данных\n",
    "    \"\"\"\n",
    "    def __init__(self, column: str, train: pd.DataFrame, test: pd.DataFrame):\n",
    "        self.train_init = train\n",
    "        self.test_init = test\n",
    "        self.column = column\n",
    "        \n",
    "\n",
    "    @staticmethod\n",
    "    def label_accuracy(y_true: pd.Series, y_pred: np.ndarray):\n",
    "        \"\"\"Простая метрика для оценки качества модели\"\"\"\n",
    "        df_pred = pd.DataFrame({'True values': y_true.values, 'Predicted values': y_pred[:, 0]})\n",
    "        return (df_pred['True values'] == df_pred['Predicted values']).sum() / df_pred.shape[0]\n",
    "    \n",
    "    \n",
    "    def resplit(self, cols_to_drop: list, n_top: int):\n",
    "        \"\"\"\n",
    "        Переразбивает изначальные train и test для работы над прогнозированием колонки\n",
    "        cols_to_drop - признаки, от кооторых нужно избавиться. Это 'Rating' и тот признак, который мы ещё не спрогнозировали\n",
    "        \"\"\"\n",
    "        # from initial train\n",
    "        # train\n",
    "        train_col_from_train = self.train_init[(self.train_init[self.column] != 'Unknown')]\\\n",
    "            .drop(cols_to_drop, axis=1)\n",
    "        # test\n",
    "        test_col_from_train = self.train_init[(self.train_init[self.column] == 'Unknown')]\\\n",
    "            .drop(cols_to_drop, axis=1)\n",
    "        \n",
    "        # from initial test\n",
    "        # train\n",
    "        cols_to_drop.remove('Rating')\n",
    "        train_col_from_test = self.test_init[(self.test_init[self.column] != 'Unknown')]\\\n",
    "            .drop(cols_to_drop, axis=1)\n",
    "        # test\n",
    "        test_col_from_test = self.test_init[(self.test_init[self.column] == 'Unknown')]\\\n",
    "            .drop(cols_to_drop, axis=1)\n",
    "        \n",
    "        # train\n",
    "        self.X = pd.concat([\n",
    "            train_col_from_train.drop(self.column, axis=1),\n",
    "            train_col_from_test.drop(self.column, axis=1)\n",
    "        ])\n",
    "\n",
    "        self.y = pd.concat([\n",
    "            train_col_from_train[self.column],\n",
    "            train_col_from_test[self.column]\n",
    "        ])\n",
    "        \n",
    "        # test (\"Unknown\" parts of datasets)\n",
    "        self.X_test_from_train = test_col_from_train.drop([self.column], axis=1)\n",
    "        self.X_test_from_test = test_col_from_test.drop([self.column], axis=1)\n",
    "        \n",
    "        # Most probable bean origins\n",
    "        top_values = self.y.value_counts()[:n_top].index\n",
    "        top_values_mask = self.y.apply(lambda x: x in top_values)\n",
    "\n",
    "        # train on top n values of column only\n",
    "        self.X = self.X[top_values_mask]\n",
    "        self.y = self.y[top_values_mask]\n",
    "\n",
    "        self.X_train, self.X_val, self.y_train, self.y_val = train_test_split(self.X, self.y, test_size=0.2)\n",
    "        self.categorical_features_indices = np.where(self.X.dtypes == object)[0]\n",
    "        \n",
    "        \n",
    "    def hyperparameters_tunning(self, n_trials: int):\n",
    "        \"\"\"Подбор гиперпараметров модели\"\"\"\n",
    "        def objective(trial):\n",
    "            param = {\n",
    "                \"n_estimators\": trial.suggest_int(\"n_estimators\", 10, 1000),\n",
    "                \"max_depth\": trial.suggest_int(\"max_depth\", 1, 10),\n",
    "                \"learning_rate\": trial.suggest_float(\"learning_rate\", 0.001, 0.1, step=0.001)\n",
    "            }\n",
    "\n",
    "            estimator = CatBoostClassifier(**param,\n",
    "                                           cat_features=self.categorical_features_indices,\n",
    "                                           verbose=False)\n",
    "\n",
    "            estimator.fit(self.X_train, self.y_train)\n",
    "            pred = estimator.predict(self.X_val)\n",
    "\n",
    "            return self.label_accuracy(self.y_val, pred)\n",
    "\n",
    "        study = optuna.create_study(direction=\"maximize\")\n",
    "        study.optimize(objective, n_trials=n_trials, n_jobs=-1)\n",
    "        #print(study.best_trial)\n",
    "        \n",
    "        \n",
    "        self.best_params = study.best_params\n",
    "        self.model = CatBoostClassifier(**study.best_params,\n",
    "                                       cat_features=self.categorical_features_indices,\n",
    "                                       logging_level='Silent')\n",
    "        \n",
    "        self.model.fit(self.X_train, self.y_train)\n",
    "        y_pred = self.model.predict(self.X_val)\n",
    "        \n",
    "        print(f\"Best accuracy = {self.label_accuracy(self.y_val, y_pred)}\")\n",
    "        \n",
    "        self.df_importance = pd.DataFrame({'Feature': self.model.feature_names_,\n",
    "                                           'CatBoost Importance': self.model.feature_importances_})\\\n",
    "                                           .sort_values(by='CatBoost Importance', ascending=False)\n",
    "        display(self.df_importance)\n",
    "        \n",
    "        \n",
    "    def fit(self):\n",
    "        self.model.fit(self.X, self.y)\n",
    "        \n",
    "        \n",
    "    def predict(self):\n",
    "        pred_train = self.model.predict(self.X_test_from_train)\n",
    "        pred_test = self.model.predict(self.X_test_from_test)\n",
    "        \n",
    "        # Indices of rows with \"Unknown\" value from intiinal datasets\n",
    "        index_train = self.train_init[(self.train_init[self.column] == 'Unknown')].index\n",
    "        index_test = self.test_init[(self.test_init[self.column] == 'Unknown')].index\n",
    "        \n",
    "        train_output = self.train_init.copy()\n",
    "        test_output = self.test_init.copy()\n",
    "        \n",
    "        # Replace values in chosen column with model output\n",
    "        train_output.loc[index_train, [self.column]] = pred_train[:, 0]\n",
    "        test_output.loc[index_test, [self.column]] = pred_test[:, 0]\n",
    "        \n",
    "        return train_output, test_output\n",
    "    "
   ]
  },
  {
   "cell_type": "markdown",
   "id": "39c11bd9",
   "metadata": {},
   "source": [
    "Проверим, что класс работает, как задумано. Подобранные гиперпараметры моделей не так важны, так как вдальнейшем мы подберём их снова с учётом новых предикторов."
   ]
  },
  {
   "cell_type": "code",
   "execution_count": 25,
   "id": "cce88c3c",
   "metadata": {},
   "outputs": [
    {
     "name": "stdout",
     "output_type": "stream",
     "text": [
      "Best accuracy = 0.6680672268907563\n"
     ]
    },
    {
     "data": {
      "text/html": [
       "<div>\n",
       "<style scoped>\n",
       "    .dataframe tbody tr th:only-of-type {\n",
       "        vertical-align: middle;\n",
       "    }\n",
       "\n",
       "    .dataframe tbody tr th {\n",
       "        vertical-align: top;\n",
       "    }\n",
       "\n",
       "    .dataframe thead th {\n",
       "        text-align: right;\n",
       "    }\n",
       "</style>\n",
       "<table border=\"1\" class=\"dataframe\">\n",
       "  <thead>\n",
       "    <tr style=\"text-align: right;\">\n",
       "      <th></th>\n",
       "      <th>Feature</th>\n",
       "      <th>CatBoost Importance</th>\n",
       "    </tr>\n",
       "  </thead>\n",
       "  <tbody>\n",
       "    <tr>\n",
       "      <th>1</th>\n",
       "      <td>Specific Bean Origin</td>\n",
       "      <td>57.346744</td>\n",
       "    </tr>\n",
       "    <tr>\n",
       "      <th>5</th>\n",
       "      <td>Company Location</td>\n",
       "      <td>22.614843</td>\n",
       "    </tr>\n",
       "    <tr>\n",
       "      <th>0</th>\n",
       "      <td>Company</td>\n",
       "      <td>11.202929</td>\n",
       "    </tr>\n",
       "    <tr>\n",
       "      <th>2</th>\n",
       "      <td>REF</td>\n",
       "      <td>5.882546</td>\n",
       "    </tr>\n",
       "    <tr>\n",
       "      <th>4</th>\n",
       "      <td>Cocoa Percent</td>\n",
       "      <td>2.026798</td>\n",
       "    </tr>\n",
       "    <tr>\n",
       "      <th>3</th>\n",
       "      <td>Review</td>\n",
       "      <td>0.926140</td>\n",
       "    </tr>\n",
       "  </tbody>\n",
       "</table>\n",
       "</div>"
      ],
      "text/plain": [
       "                Feature  CatBoost Importance\n",
       "1  Specific Bean Origin            57.346744\n",
       "5      Company Location            22.614843\n",
       "0               Company            11.202929\n",
       "2                   REF             5.882546\n",
       "4         Cocoa Percent             2.026798\n",
       "3                Review             0.926140"
      ]
     },
     "metadata": {},
     "output_type": "display_data"
    },
    {
     "name": "stdout",
     "output_type": "stream",
     "text": [
      "{'learning_rate': 0.079, 'logging_level': 'Silent', 'max_depth': 2, 'n_estimators': 698, 'cat_features': array([0, 1, 5])}\n"
     ]
    }
   ],
   "source": [
    "# class to impute Broad Bean Origin\n",
    "fixer_bbo = FeatureFixer('Broad Bean Origin', df_train, df_test)\n",
    "fixer_bbo.resplit(cols_to_drop=['Bean Type', 'Rating'], n_top=11)\n",
    "fixer_bbo.hyperparameters_tunning(n_trials=3)\n",
    "fixer_bbo.fit()\n",
    "df_train_new, df_test_new = fixer_bbo.predict()"
   ]
  },
  {
   "cell_type": "code",
   "execution_count": 26,
   "id": "40945a59",
   "metadata": {
    "scrolled": false
   },
   "outputs": [
    {
     "name": "stdout",
     "output_type": "stream",
     "text": [
      "Best accuracy = 0.7590361445783133\n"
     ]
    },
    {
     "data": {
      "text/html": [
       "<div>\n",
       "<style scoped>\n",
       "    .dataframe tbody tr th:only-of-type {\n",
       "        vertical-align: middle;\n",
       "    }\n",
       "\n",
       "    .dataframe tbody tr th {\n",
       "        vertical-align: top;\n",
       "    }\n",
       "\n",
       "    .dataframe thead th {\n",
       "        text-align: right;\n",
       "    }\n",
       "</style>\n",
       "<table border=\"1\" class=\"dataframe\">\n",
       "  <thead>\n",
       "    <tr style=\"text-align: right;\">\n",
       "      <th></th>\n",
       "      <th>Feature</th>\n",
       "      <th>CatBoost Importance</th>\n",
       "    </tr>\n",
       "  </thead>\n",
       "  <tbody>\n",
       "    <tr>\n",
       "      <th>6</th>\n",
       "      <td>Broad Bean Origin</td>\n",
       "      <td>65.933653</td>\n",
       "    </tr>\n",
       "    <tr>\n",
       "      <th>5</th>\n",
       "      <td>Company Location</td>\n",
       "      <td>13.683082</td>\n",
       "    </tr>\n",
       "    <tr>\n",
       "      <th>1</th>\n",
       "      <td>Specific Bean Origin</td>\n",
       "      <td>7.599277</td>\n",
       "    </tr>\n",
       "    <tr>\n",
       "      <th>0</th>\n",
       "      <td>Company</td>\n",
       "      <td>6.280127</td>\n",
       "    </tr>\n",
       "    <tr>\n",
       "      <th>3</th>\n",
       "      <td>Review</td>\n",
       "      <td>3.483163</td>\n",
       "    </tr>\n",
       "    <tr>\n",
       "      <th>2</th>\n",
       "      <td>REF</td>\n",
       "      <td>2.684343</td>\n",
       "    </tr>\n",
       "    <tr>\n",
       "      <th>4</th>\n",
       "      <td>Cocoa Percent</td>\n",
       "      <td>0.336355</td>\n",
       "    </tr>\n",
       "  </tbody>\n",
       "</table>\n",
       "</div>"
      ],
      "text/plain": [
       "                Feature  CatBoost Importance\n",
       "6     Broad Bean Origin            65.933653\n",
       "5      Company Location            13.683082\n",
       "1  Specific Bean Origin             7.599277\n",
       "0               Company             6.280127\n",
       "3                Review             3.483163\n",
       "2                   REF             2.684343\n",
       "4         Cocoa Percent             0.336355"
      ]
     },
     "metadata": {},
     "output_type": "display_data"
    },
    {
     "name": "stdout",
     "output_type": "stream",
     "text": [
      "{'learning_rate': 0.005, 'logging_level': 'Silent', 'max_depth': 5, 'n_estimators': 974, 'cat_features': array([0, 1, 5, 6])}\n"
     ]
    }
   ],
   "source": [
    "# class to impute Broad Bean Origin\n",
    "fixer_bt = FeatureFixer('Bean Type', df_train_new, df_test_new)\n",
    "fixer_bt.resplit(cols_to_drop=['Rating'], n_top=7)\n",
    "fixer_bt.hyperparameters_tunning(n_trials=3)\n",
    "fixer_bt.fit()\n",
    "df_train_new, df_test_new = fixer_bt.predict()"
   ]
  },
  {
   "cell_type": "markdown",
   "id": "3d21a9b6",
   "metadata": {},
   "source": [
    "# 5 Feature Engineering"
   ]
  },
  {
   "cell_type": "markdown",
   "id": "c60dcb5d",
   "metadata": {},
   "source": [
    "На этом этапе мы постараемся создать новые предикторы на основе уже существующих, чтобы улучшить качество предсказаний на данных. Ниже будет приведён список некоторых идей, которые я применял на этапе исследования. Не все они будут реализованы в этом ноутбуке (финальной версии исследования), так как многие из них приводят к ухудшению качества предсказаний на данных.\n",
    "\n",
    "1. На основании страны производителя ('Company Location') построить переменную региона производства ('Broad Company Location'). Это будет континент или часть света (Africa, Caribbean, etc)\n",
    "2. Проделать то же самое для колонки 'Broad Bean Origin' ($\\rightarrow$ 'Bean Origin World')\n",
    "3. Анализ текста переменных 'Specific Bean Origin' и 'Company'. Здесь всё становится интереснее. Я провёл аналогию с виноделием: чем более специфическим является регион выращивания винограда, тем, как мы считаем, выше качество продукта (IGT, DOC, DOCG, ...). Аналогия не точная, так как маркировка вина базируется на более неочевидных для меня критериях, но смысл понятен: чем более \"комплексное\" название имеет специфический регион происхождения какао-бобов (Specific Bean Origin), тем выше вкусовые свойства шоколада.\n",
    "\n",
    "\n",
    "Отброшенные идеи генерации предикторов, в том числе, на основании экзогенных данных:\n",
    "1. Бинарный предиктор, содержащий информацию о том, присутствует ли страна-производитель в списке стран, которые знамениты качеством шоколада. Такую информацию можно взять из какого-нибудь рейтинга в интернете. Здесь такой предиктор не создаётся, так как было выяснено, что добавление его не улучшает качество предсказания на данных. Более того, похоже, что интернет-рейтинги не сильно коррелируют с рейтингом в наших данных.\n",
    "2. Бинарный предиктор для стран, производящих наибольшее количество какао (Company Location или Bean Origin соответствуют такой стране). Как и в случае с предыдущим не был использован.\n",
    "3. Бинарный предиктор, говорящий о том, свопадает ли 'Company Location' с 'Broad Bean Origin'. Не помогает\n",
    "4. Цена плитки шоколада данной компании в долларах США (можно нормировать на 100 г). Очевидное преположение: чем дороже шоколад, тем он лучше. Цены на шоколад некоторых производителей из списка можно найти в интернете, однако в данных рейтинг присваивался конкретной плитке шоколада и найти именно её цену - слишком сложная задача для ручного поиска (не всегда выполнимая). Также мною было замечено, что шоколад стоит дороже в некоторых странах, например, США и существенной корреляции с рейтингом обнаружено не было.\n",
    "\n",
    "Можно пойти и дальше. Существуют сайты, которые дают оценку шоколаду, например <br>\n",
    "https://www.c-spot.com/\n",
    "\n",
    "Многие компании из списка можно найти там, возможно даже конкретные плитки шоколада. Я не стал включать этот экзогенный признак, так как <br>\n",
    "а) Необходимо писать scrapper, а выхлоп может оказаться минимальным (хотя на этом этапе мы уже боремся за сотые, если не тысячные R2 score) <br>\n",
    "б) В широком смысле можно рассматривать это как читинг, ведь это тоже рейтинг, хоть и независимый\n"
   ]
  },
  {
   "cell_type": "code",
   "execution_count": 27,
   "id": "2962757f",
   "metadata": {},
   "outputs": [],
   "source": [
    "df_train = pd.read_csv('data_initial/chocolate_train.csv')\n",
    "df_test = pd.read_csv('data_initial/chocolate_test_new.csv')\n",
    "\n",
    "df_train = preprocessing_step1(df_train)\n",
    "df_test = preprocessing_step1(df_test)\n",
    "\n",
    "df_train_new = df_train.copy()\n",
    "df_test_new = df_test.copy()"
   ]
  },
  {
   "cell_type": "code",
   "execution_count": 28,
   "id": "3cc5f5e3",
   "metadata": {},
   "outputs": [],
   "source": [
    "from string import digits"
   ]
  },
  {
   "cell_type": "code",
   "execution_count": 29,
   "id": "31a43c2c",
   "metadata": {},
   "outputs": [],
   "source": [
    "broad_locations = {'Europe': ['U.K.', 'Switzerland', 'France', 'Belgium', 'Spain', 'Italy',\n",
    "                              'Austria', 'Sweden', 'Ireland', 'Poland', 'Hungary', 'Germany',\n",
    "                              'Denmark', 'Lithuania', 'Scotland', 'Finland', 'Iceland',\n",
    "                              'Amsterdam', 'Wales', 'Netherlands', 'Portugal', 'Czech Republic'],\n",
    "                   'North America': ['U.S.A.', 'Canada'],\n",
    "                   'Africa': ['Madagascar', 'South Africa', 'Ghana', 'Sao Tome', 'Tanzania',\n",
    "                              'Indonesia', 'Congo', 'Liberia', 'Principe', 'Sao Tome & Principe',\n",
    "                              'Gabon', 'Ivory Coast', 'Uganda', 'Nigeria', 'West Africa'],\n",
    "                   'Caribbean': ['Colombia', 'Venezuela', 'Honduras', 'Guatemala',\n",
    "                                 'Domincan Republic', 'Grenada', 'Puerto Rico', 'Costa Rica',\n",
    "                                 'St. Lucia', 'Nicaragua', 'Martinique', 'Niacragua', 'Cost Rica, Ven',\n",
    "                                 'Trinidad', 'Panama', 'Jamaica', 'Haiti', 'Cuba', 'Venezuela, Ghana',\n",
    "                                 'Ven.,Ecu.,Peru,Nic.', 'Tobago', 'Carribean(DR/Jam/Tri)',\n",
    "                                 'Venezuela, Java', 'Ven, Bolivia, D.R.', 'Venezuela, Carribean',\n",
    "                                 'Dominican Republic', 'Carribean'],\n",
    "                   'Asia & Oceania': ['Japan', 'Vietnam', 'Philippines', 'Fiji', 'Australia',\n",
    "                                      'South Korea', 'Israel', 'Singapore', 'India', 'Russia',\n",
    "                                      'New Zealand', 'Papua New Guinea', 'Hawaii', 'Solomon Islands',\n",
    "                                      'Sri Lanka', 'Malaysia', 'Samoa', 'Philippines', 'Togo',\n",
    "                                      'Vanuatu'],\n",
    "                   'South America': ['Ecuador', 'Brazil', 'Peru', 'Eucador', 'Argentina',\n",
    "                                     'Chile', 'Mexico', 'Bolivia', 'Suriname', 'Peru, Dom. Rep',\n",
    "                                     'Central and S. America', 'Colombia, Ecuador', 'Dom. Rep., Madagascar',\n",
    "                                     'South America', 'Belize', 'El Salvador'],\n",
    "                   'Mixed': ['Trinidad, Ecuador', 'South America, Africa', 'PNG, Vanuatu, Mad',\n",
    "                             'Mad., Java, PNG', 'Peru, Mad., Dom. Rep.', 'Indonesia, Ghana', 'Madagascar & Ecuador',\n",
    "                             'Venez,Africa,Brasil,Peru,Mex', 'DR, Ecuador, Peru', 'Dominican Rep., Bali',\n",
    "                             'Peru, Madagascar', 'Venezuela, Dom. Rep.', 'Peru, Ecuador, Venezuela',\n",
    "                             'Ven., Trinidad, Mad.', 'Ven., Indonesia, Ecuad.', 'Ghana, Domin. Rep',\n",
    "                             'Peru, Belize', 'Guat., D.R., Peru, Mad., PNG']\n",
    "                   }\n",
    "\n",
    "def location_in_list(location: str, locations_dict:dict=broad_locations) -> str:\n",
    "    for k, v in broad_locations.items():\n",
    "        if location in v:\n",
    "            return k\n",
    "    return 'Other'\n",
    "\n",
    "def length_bin(s: str, min_val:int=0, max_val:int=50, step:int=10) -> int:\n",
    "    n = len(s)\n",
    "    bins = np.arange(min_val, max_val+step, step)\n",
    "    for i in range(bins.shape[0]):\n",
    "        if n > bins[i] and n <= bins[i+1]:\n",
    "            return i"
   ]
  },
  {
   "cell_type": "code",
   "execution_count": 30,
   "id": "7e6f786e",
   "metadata": {},
   "outputs": [],
   "source": [
    "def add_features(data: pd.DataFrame) -> pd.DataFrame:\n",
    "    data_new = data.copy()\n",
    "    # Broad Locations\n",
    "    data_new['Broad Company Location'] = data_new['Company Location'].apply(lambda x: location_in_list(x))\n",
    "    # Comlexity of names\n",
    "    data_new['SBO complexity'] = data_new['Specific Bean Origin'].apply(lambda x: x.count('.') + x.count(',') + x.count(' '))\n",
    "    \n",
    "    return data_new"
   ]
  },
  {
   "cell_type": "code",
   "execution_count": 31,
   "id": "4fdaa022",
   "metadata": {},
   "outputs": [],
   "source": [
    "def add_features2(data: pd.DataFrame) -> pd.DataFrame:\n",
    "    data_new = data.copy()\n",
    "    # Broad Locations\n",
    "    data_new['Bean Origin World'] = data_new['Broad Bean Origin'].apply(lambda x: location_in_list(x))\n",
    "    \n",
    "    return data_new"
   ]
  },
  {
   "cell_type": "code",
   "execution_count": 32,
   "id": "9220dca2",
   "metadata": {},
   "outputs": [],
   "source": [
    "df_train_new = add_features(df_train_new)\n",
    "df_test_new = add_features(df_test_new)\n",
    "\n",
    "df_train = add_features(df_train)\n",
    "df_test = add_features(df_test)"
   ]
  },
  {
   "cell_type": "markdown",
   "id": "4c5769b1",
   "metadata": {},
   "source": [
    "Здесь мы подбираем гиперпараметры моделей заполнения пропусков, чтобы вдальнейшем их использовать. "
   ]
  },
  {
   "cell_type": "code",
   "execution_count": 33,
   "id": "8c27a8ae",
   "metadata": {},
   "outputs": [
    {
     "name": "stdout",
     "output_type": "stream",
     "text": [
      "Best accuracy = 0.6722689075630253\n"
     ]
    },
    {
     "data": {
      "text/html": [
       "<div>\n",
       "<style scoped>\n",
       "    .dataframe tbody tr th:only-of-type {\n",
       "        vertical-align: middle;\n",
       "    }\n",
       "\n",
       "    .dataframe tbody tr th {\n",
       "        vertical-align: top;\n",
       "    }\n",
       "\n",
       "    .dataframe thead th {\n",
       "        text-align: right;\n",
       "    }\n",
       "</style>\n",
       "<table border=\"1\" class=\"dataframe\">\n",
       "  <thead>\n",
       "    <tr style=\"text-align: right;\">\n",
       "      <th></th>\n",
       "      <th>Feature</th>\n",
       "      <th>CatBoost Importance</th>\n",
       "    </tr>\n",
       "  </thead>\n",
       "  <tbody>\n",
       "    <tr>\n",
       "      <th>1</th>\n",
       "      <td>Specific Bean Origin</td>\n",
       "      <td>61.641183</td>\n",
       "    </tr>\n",
       "    <tr>\n",
       "      <th>5</th>\n",
       "      <td>Company Location</td>\n",
       "      <td>15.985350</td>\n",
       "    </tr>\n",
       "    <tr>\n",
       "      <th>6</th>\n",
       "      <td>Broad Company Location</td>\n",
       "      <td>13.550605</td>\n",
       "    </tr>\n",
       "    <tr>\n",
       "      <th>0</th>\n",
       "      <td>Company</td>\n",
       "      <td>3.915358</td>\n",
       "    </tr>\n",
       "    <tr>\n",
       "      <th>2</th>\n",
       "      <td>REF</td>\n",
       "      <td>1.791844</td>\n",
       "    </tr>\n",
       "    <tr>\n",
       "      <th>3</th>\n",
       "      <td>Review</td>\n",
       "      <td>1.319091</td>\n",
       "    </tr>\n",
       "    <tr>\n",
       "      <th>7</th>\n",
       "      <td>SBO complexity</td>\n",
       "      <td>1.233868</td>\n",
       "    </tr>\n",
       "    <tr>\n",
       "      <th>4</th>\n",
       "      <td>Cocoa Percent</td>\n",
       "      <td>0.562701</td>\n",
       "    </tr>\n",
       "  </tbody>\n",
       "</table>\n",
       "</div>"
      ],
      "text/plain": [
       "                  Feature  CatBoost Importance\n",
       "1    Specific Bean Origin            61.641183\n",
       "5        Company Location            15.985350\n",
       "6  Broad Company Location            13.550605\n",
       "0                 Company             3.915358\n",
       "2                     REF             1.791844\n",
       "3                  Review             1.319091\n",
       "7          SBO complexity             1.233868\n",
       "4           Cocoa Percent             0.562701"
      ]
     },
     "metadata": {},
     "output_type": "display_data"
    },
    {
     "name": "stdout",
     "output_type": "stream",
     "text": [
      "CPU times: user 2h 47min 21s, sys: 2min 56s, total: 2h 50min 18s\n",
      "Wall time: 10min 55s\n"
     ]
    }
   ],
   "source": [
    "%%time\n",
    "\n",
    "# class to impute Broad Bean Origin\n",
    "fixer_bbo = FeatureFixer('Broad Bean Origin', df_train, df_test)\n",
    "fixer_bbo.resplit(cols_to_drop=['Bean Type', 'Rating'], n_top=11)\n",
    "fixer_bbo.hyperparameters_tunning(n_trials=30)\n",
    "fixer_bbo.fit()"
   ]
  },
  {
   "cell_type": "code",
   "execution_count": 34,
   "id": "71335781",
   "metadata": {},
   "outputs": [
    {
     "name": "stdout",
     "output_type": "stream",
     "text": [
      "{'learning_rate': 0.012, 'logging_level': 'Silent', 'max_depth': 9, 'n_estimators': 341, 'cat_features': array([0, 1, 5, 6])}\n"
     ]
    }
   ],
   "source": [
    "df_train_new, df_test_new = fixer_bbo.predict()\n",
    "\n",
    "fixer1_params = fixer_bbo.model.get_params()\n",
    "print(fixer1_params)"
   ]
  },
  {
   "cell_type": "code",
   "execution_count": 35,
   "id": "a1b0678e",
   "metadata": {
    "scrolled": true
   },
   "outputs": [
    {
     "name": "stdout",
     "output_type": "stream",
     "text": [
      "Best accuracy = 0.8132530120481928\n"
     ]
    },
    {
     "data": {
      "text/html": [
       "<div>\n",
       "<style scoped>\n",
       "    .dataframe tbody tr th:only-of-type {\n",
       "        vertical-align: middle;\n",
       "    }\n",
       "\n",
       "    .dataframe tbody tr th {\n",
       "        vertical-align: top;\n",
       "    }\n",
       "\n",
       "    .dataframe thead th {\n",
       "        text-align: right;\n",
       "    }\n",
       "</style>\n",
       "<table border=\"1\" class=\"dataframe\">\n",
       "  <thead>\n",
       "    <tr style=\"text-align: right;\">\n",
       "      <th></th>\n",
       "      <th>Feature</th>\n",
       "      <th>CatBoost Importance</th>\n",
       "    </tr>\n",
       "  </thead>\n",
       "  <tbody>\n",
       "    <tr>\n",
       "      <th>6</th>\n",
       "      <td>Broad Bean Origin</td>\n",
       "      <td>46.452729</td>\n",
       "    </tr>\n",
       "    <tr>\n",
       "      <th>7</th>\n",
       "      <td>Broad Company Location</td>\n",
       "      <td>14.005850</td>\n",
       "    </tr>\n",
       "    <tr>\n",
       "      <th>5</th>\n",
       "      <td>Company Location</td>\n",
       "      <td>12.791394</td>\n",
       "    </tr>\n",
       "    <tr>\n",
       "      <th>0</th>\n",
       "      <td>Company</td>\n",
       "      <td>8.370913</td>\n",
       "    </tr>\n",
       "    <tr>\n",
       "      <th>2</th>\n",
       "      <td>REF</td>\n",
       "      <td>8.197982</td>\n",
       "    </tr>\n",
       "    <tr>\n",
       "      <th>1</th>\n",
       "      <td>Specific Bean Origin</td>\n",
       "      <td>3.260292</td>\n",
       "    </tr>\n",
       "    <tr>\n",
       "      <th>8</th>\n",
       "      <td>SBO complexity</td>\n",
       "      <td>2.832763</td>\n",
       "    </tr>\n",
       "    <tr>\n",
       "      <th>3</th>\n",
       "      <td>Review</td>\n",
       "      <td>2.106675</td>\n",
       "    </tr>\n",
       "    <tr>\n",
       "      <th>4</th>\n",
       "      <td>Cocoa Percent</td>\n",
       "      <td>1.981403</td>\n",
       "    </tr>\n",
       "  </tbody>\n",
       "</table>\n",
       "</div>"
      ],
      "text/plain": [
       "                  Feature  CatBoost Importance\n",
       "6       Broad Bean Origin            46.452729\n",
       "7  Broad Company Location            14.005850\n",
       "5        Company Location            12.791394\n",
       "0                 Company             8.370913\n",
       "2                     REF             8.197982\n",
       "1    Specific Bean Origin             3.260292\n",
       "8          SBO complexity             2.832763\n",
       "3                  Review             2.106675\n",
       "4           Cocoa Percent             1.981403"
      ]
     },
     "metadata": {},
     "output_type": "display_data"
    },
    {
     "name": "stdout",
     "output_type": "stream",
     "text": [
      "CPU times: user 37min 5s, sys: 3min 16s, total: 40min 21s\n",
      "Wall time: 2min 44s\n"
     ]
    }
   ],
   "source": [
    "%%time\n",
    "\n",
    "# class to impute Broad Bean Origin\n",
    "fixer_bt = FeatureFixer('Bean Type', df_train_new, df_test_new)\n",
    "fixer_bt.resplit(cols_to_drop=['Rating'], n_top=7)\n",
    "fixer_bt.hyperparameters_tunning(n_trials=30)\n",
    "fixer_bt.fit()\n",
    "df_train_new, df_test_new = fixer_bt.predict()"
   ]
  },
  {
   "cell_type": "code",
   "execution_count": 36,
   "id": "9895e8f0",
   "metadata": {},
   "outputs": [
    {
     "name": "stdout",
     "output_type": "stream",
     "text": [
      "{'learning_rate': 0.041, 'logging_level': 'Silent', 'max_depth': 6, 'n_estimators': 782, 'cat_features': array([0, 1, 5, 6, 7])}\n"
     ]
    }
   ],
   "source": [
    "fixer2_params = fixer_bt.model.get_params()\n",
    "print(fixer2_params)"
   ]
  },
  {
   "cell_type": "code",
   "execution_count": 37,
   "id": "b3296046",
   "metadata": {},
   "outputs": [],
   "source": [
    "df_train_new = add_features2(df_train_new)\n",
    "df_test_new = add_features2(df_test_new)\n",
    "\n",
    "df_train = add_features2(df_train)\n",
    "df_test = add_features2(df_test)"
   ]
  },
  {
   "cell_type": "code",
   "execution_count": 39,
   "id": "06687196",
   "metadata": {},
   "outputs": [
    {
     "data": {
      "text/html": [
       "<div>\n",
       "<style scoped>\n",
       "    .dataframe tbody tr th:only-of-type {\n",
       "        vertical-align: middle;\n",
       "    }\n",
       "\n",
       "    .dataframe tbody tr th {\n",
       "        vertical-align: top;\n",
       "    }\n",
       "\n",
       "    .dataframe thead th {\n",
       "        text-align: right;\n",
       "    }\n",
       "</style>\n",
       "<table border=\"1\" class=\"dataframe\">\n",
       "  <thead>\n",
       "    <tr style=\"text-align: right;\">\n",
       "      <th></th>\n",
       "      <th>Company</th>\n",
       "      <th>Specific Bean Origin</th>\n",
       "      <th>REF</th>\n",
       "      <th>Review</th>\n",
       "      <th>Cocoa Percent</th>\n",
       "      <th>Company Location</th>\n",
       "      <th>Bean Type</th>\n",
       "      <th>Broad Bean Origin</th>\n",
       "      <th>Broad Company Location</th>\n",
       "      <th>SBO complexity</th>\n",
       "      <th>Bean Origin World</th>\n",
       "    </tr>\n",
       "  </thead>\n",
       "  <tbody>\n",
       "    <tr>\n",
       "      <th>0</th>\n",
       "      <td>Ohiyo</td>\n",
       "      <td>San Juan Estate, Gran Couva</td>\n",
       "      <td>1594</td>\n",
       "      <td>2015</td>\n",
       "      <td>70.0</td>\n",
       "      <td>U.S.A.</td>\n",
       "      <td>Trinitario</td>\n",
       "      <td>Trinidad</td>\n",
       "      <td>North America</td>\n",
       "      <td>5</td>\n",
       "      <td>Caribbean</td>\n",
       "    </tr>\n",
       "    <tr>\n",
       "      <th>1</th>\n",
       "      <td>Blanxart</td>\n",
       "      <td>Organic Dark</td>\n",
       "      <td>322</td>\n",
       "      <td>2009</td>\n",
       "      <td>72.0</td>\n",
       "      <td>Spain</td>\n",
       "      <td>Criollo</td>\n",
       "      <td>Venezuela</td>\n",
       "      <td>Europe</td>\n",
       "      <td>1</td>\n",
       "      <td>Caribbean</td>\n",
       "    </tr>\n",
       "    <tr>\n",
       "      <th>2</th>\n",
       "      <td>Brazen</td>\n",
       "      <td>Maya Mountain</td>\n",
       "      <td>1518</td>\n",
       "      <td>2015</td>\n",
       "      <td>80.0</td>\n",
       "      <td>U.S.A.</td>\n",
       "      <td>Trinitario</td>\n",
       "      <td>Belize</td>\n",
       "      <td>North America</td>\n",
       "      <td>1</td>\n",
       "      <td>South America</td>\n",
       "    </tr>\n",
       "    <tr>\n",
       "      <th>3</th>\n",
       "      <td>Patric</td>\n",
       "      <td>Madagascar</td>\n",
       "      <td>439</td>\n",
       "      <td>2009</td>\n",
       "      <td>67.0</td>\n",
       "      <td>U.S.A.</td>\n",
       "      <td>Trinitario</td>\n",
       "      <td>Madagascar</td>\n",
       "      <td>North America</td>\n",
       "      <td>0</td>\n",
       "      <td>Africa</td>\n",
       "    </tr>\n",
       "    <tr>\n",
       "      <th>4</th>\n",
       "      <td>Potomac</td>\n",
       "      <td>Upala, Batch 12</td>\n",
       "      <td>607</td>\n",
       "      <td>2010</td>\n",
       "      <td>82.0</td>\n",
       "      <td>U.S.A.</td>\n",
       "      <td>Matina</td>\n",
       "      <td>Costa Rica</td>\n",
       "      <td>North America</td>\n",
       "      <td>3</td>\n",
       "      <td>Caribbean</td>\n",
       "    </tr>\n",
       "  </tbody>\n",
       "</table>\n",
       "</div>"
      ],
      "text/plain": [
       "    Company         Specific Bean Origin   REF  Review  Cocoa Percent  \\\n",
       "0     Ohiyo  San Juan Estate, Gran Couva  1594    2015           70.0   \n",
       "1  Blanxart                 Organic Dark   322    2009           72.0   \n",
       "2    Brazen                Maya Mountain  1518    2015           80.0   \n",
       "3    Patric                   Madagascar   439    2009           67.0   \n",
       "4   Potomac              Upala, Batch 12   607    2010           82.0   \n",
       "\n",
       "  Company Location   Bean Type Broad Bean Origin Broad Company Location  \\\n",
       "0           U.S.A.  Trinitario          Trinidad          North America   \n",
       "1            Spain     Criollo         Venezuela                 Europe   \n",
       "2           U.S.A.  Trinitario            Belize          North America   \n",
       "3           U.S.A.  Trinitario        Madagascar          North America   \n",
       "4           U.S.A.      Matina        Costa Rica          North America   \n",
       "\n",
       "   SBO complexity Bean Origin World  \n",
       "0               5         Caribbean  \n",
       "1               1         Caribbean  \n",
       "2               1     South America  \n",
       "3               0            Africa  \n",
       "4               3         Caribbean  "
      ]
     },
     "execution_count": 39,
     "metadata": {},
     "output_type": "execute_result"
    }
   ],
   "source": [
    "df_test_new.head()"
   ]
  },
  {
   "cell_type": "markdown",
   "id": "def97eae",
   "metadata": {},
   "source": [
    "# 6 Feature selection"
   ]
  },
  {
   "cell_type": "markdown",
   "id": "df28963f",
   "metadata": {},
   "source": [
    "На данном этапе мы посмотрим, насколько скоррелированы признаки.<br>\n",
    "В случае применения линейной регрессии признаки отбрасываются, если они имеют маленькую корреляцию с целевой переменной и/или большую корреляцию друг с другом, так как это увеличивает мультиколлинеарность. Снижение мультиколлинеарности не обязательно приводит к улучшению качетва любой модели, так как модели типа boosting устойчивы к эффектам мультиколлинеарности, но улучшает интерпретируемость её результатов. Например, сильно скоррелированные признаки будут делить друг с другом важность (feature importance)."
   ]
  },
  {
   "cell_type": "markdown",
   "id": "d551c191",
   "metadata": {},
   "source": [
    "## 6.1 Numeric features correlation"
   ]
  },
  {
   "cell_type": "code",
   "execution_count": 44,
   "id": "70c14ce6",
   "metadata": {},
   "outputs": [
    {
     "data": {
      "image/png": "[encoded data removed]",
      "text/plain": [
       "<Figure size 800x600 with 2 Axes>"
      ]
     },
     "metadata": {},
     "output_type": "display_data"
    }
   ],
   "source": [
    "plt.figure(figsize = (8, 6))\n",
    "plt.rcParams.update({\n",
    "    'xtick.labelsize': 13,\n",
    "    'ytick.labelsize': 13,\n",
    "})\n",
    "\n",
    "df_train_Rating = df_train_new.Rating\n",
    "df_train_new.drop(['Rating'], axis=1, inplace=True)\n",
    "df_train_new['Rating'] = df_train_Rating\n",
    "\n",
    "sns.heatmap(df_train_new.corr(method='spearman'), annot=True, cmap=\"Blues\")\n",
    "\n",
    "plt.show()"
   ]
  },
  {
   "cell_type": "markdown",
   "id": "53fec35e",
   "metadata": {},
   "source": [
    "Здесь мы видим, что переменные 'REF' и 'Review' скоррелированы друг с другом на уровне выше, чем 0.9."
   ]
  },
  {
   "cell_type": "markdown",
   "id": "79d7de9d",
   "metadata": {},
   "source": [
    "## 6.2 Categorical features correlation"
   ]
  },
  {
   "cell_type": "markdown",
   "id": "648e74b7",
   "metadata": {},
   "source": [
    "Исследуем связь между категориальными признаками, используя V-меру Крамера."
   ]
  },
  {
   "cell_type": "code",
   "execution_count": 45,
   "id": "58f7e746",
   "metadata": {},
   "outputs": [
    {
     "data": {
      "text/html": [
       "<div>\n",
       "<style scoped>\n",
       "    .dataframe tbody tr th:only-of-type {\n",
       "        vertical-align: middle;\n",
       "    }\n",
       "\n",
       "    .dataframe tbody tr th {\n",
       "        vertical-align: top;\n",
       "    }\n",
       "\n",
       "    .dataframe thead th {\n",
       "        text-align: right;\n",
       "    }\n",
       "</style>\n",
       "<table border=\"1\" class=\"dataframe\">\n",
       "  <thead>\n",
       "    <tr style=\"text-align: right;\">\n",
       "      <th></th>\n",
       "      <th>Company</th>\n",
       "      <th>Specific Bean Origin</th>\n",
       "      <th>Company Location</th>\n",
       "      <th>Bean Type</th>\n",
       "      <th>Broad Bean Origin</th>\n",
       "      <th>Broad Company Location</th>\n",
       "      <th>Bean Origin World</th>\n",
       "    </tr>\n",
       "  </thead>\n",
       "  <tbody>\n",
       "    <tr>\n",
       "      <th>Company</th>\n",
       "      <td>1.000000</td>\n",
       "      <td>0.771074</td>\n",
       "      <td>0.999638</td>\n",
       "      <td>0.623592</td>\n",
       "      <td>0.602960</td>\n",
       "      <td>0.998283</td>\n",
       "      <td>0.632280</td>\n",
       "    </tr>\n",
       "    <tr>\n",
       "      <th>Specific Bean Origin</th>\n",
       "      <td>0.771074</td>\n",
       "      <td>1.000000</td>\n",
       "      <td>0.811367</td>\n",
       "      <td>0.908851</td>\n",
       "      <td>0.985489</td>\n",
       "      <td>0.843555</td>\n",
       "      <td>0.994288</td>\n",
       "    </tr>\n",
       "    <tr>\n",
       "      <th>Company Location</th>\n",
       "      <td>0.999638</td>\n",
       "      <td>0.811367</td>\n",
       "      <td>1.000000</td>\n",
       "      <td>0.256445</td>\n",
       "      <td>0.388509</td>\n",
       "      <td>1.000000</td>\n",
       "      <td>0.365876</td>\n",
       "    </tr>\n",
       "    <tr>\n",
       "      <th>Bean Type</th>\n",
       "      <td>0.623592</td>\n",
       "      <td>0.908851</td>\n",
       "      <td>0.256445</td>\n",
       "      <td>1.000000</td>\n",
       "      <td>0.399026</td>\n",
       "      <td>0.334257</td>\n",
       "      <td>0.428427</td>\n",
       "    </tr>\n",
       "    <tr>\n",
       "      <th>Broad Bean Origin</th>\n",
       "      <td>0.602960</td>\n",
       "      <td>0.985489</td>\n",
       "      <td>0.388509</td>\n",
       "      <td>0.399026</td>\n",
       "      <td>1.000000</td>\n",
       "      <td>0.454140</td>\n",
       "      <td>1.000000</td>\n",
       "    </tr>\n",
       "    <tr>\n",
       "      <th>Broad Company Location</th>\n",
       "      <td>0.998283</td>\n",
       "      <td>0.843555</td>\n",
       "      <td>1.000000</td>\n",
       "      <td>0.334257</td>\n",
       "      <td>0.454140</td>\n",
       "      <td>1.000000</td>\n",
       "      <td>0.298511</td>\n",
       "    </tr>\n",
       "    <tr>\n",
       "      <th>Bean Origin World</th>\n",
       "      <td>0.632280</td>\n",
       "      <td>0.994288</td>\n",
       "      <td>0.365876</td>\n",
       "      <td>0.428427</td>\n",
       "      <td>1.000000</td>\n",
       "      <td>0.298511</td>\n",
       "      <td>1.000000</td>\n",
       "    </tr>\n",
       "  </tbody>\n",
       "</table>\n",
       "</div>"
      ],
      "text/plain": [
       "                         Company  Specific Bean Origin  Company Location  \\\n",
       "Company                 1.000000              0.771074          0.999638   \n",
       "Specific Bean Origin    0.771074              1.000000          0.811367   \n",
       "Company Location        0.999638              0.811367          1.000000   \n",
       "Bean Type               0.623592              0.908851          0.256445   \n",
       "Broad Bean Origin       0.602960              0.985489          0.388509   \n",
       "Broad Company Location  0.998283              0.843555          1.000000   \n",
       "Bean Origin World       0.632280              0.994288          0.365876   \n",
       "\n",
       "                        Bean Type  Broad Bean Origin  Broad Company Location  \\\n",
       "Company                  0.623592           0.602960                0.998283   \n",
       "Specific Bean Origin     0.908851           0.985489                0.843555   \n",
       "Company Location         0.256445           0.388509                1.000000   \n",
       "Bean Type                1.000000           0.399026                0.334257   \n",
       "Broad Bean Origin        0.399026           1.000000                0.454140   \n",
       "Broad Company Location   0.334257           0.454140                1.000000   \n",
       "Bean Origin World        0.428427           1.000000                0.298511   \n",
       "\n",
       "                        Bean Origin World  \n",
       "Company                          0.632280  \n",
       "Specific Bean Origin             0.994288  \n",
       "Company Location                 0.365876  \n",
       "Bean Type                        0.428427  \n",
       "Broad Bean Origin                1.000000  \n",
       "Broad Company Location           0.298511  \n",
       "Bean Origin World                1.000000  "
      ]
     },
     "execution_count": 45,
     "metadata": {},
     "output_type": "execute_result"
    }
   ],
   "source": [
    "import association_metrics as am\n",
    "\n",
    "XC = df_train_new.apply(lambda x: x.astype(\"category\") if x.dtype == \"object\" else x)\n",
    "cramersv = am.CramersV(XC)\n",
    "cramersv.fit()"
   ]
  },
  {
   "cell_type": "markdown",
   "id": "c7000807",
   "metadata": {},
   "source": [
    "Мы видим, что нектоторые признаки имеют значение V-меры связи близкую к 1 (максимуму):\n",
    "* Broad Company Location и Company\n",
    "* Company Location и Company\n",
    "* Broad Bean Origin и Bean Origin\n",
    "\n",
    "Но пока не будем спешить отбрасывать часть их этих признаков. Они могут повысить качество модели, тренированной на данных с ними."
   ]
  },
  {
   "cell_type": "markdown",
   "id": "214b7803",
   "metadata": {},
   "source": [
    "# 7 Models"
   ]
  },
  {
   "cell_type": "markdown",
   "id": "28dd3750",
   "metadata": {},
   "source": [
    "На этом этапе мы будем строить модели регрессии для предсказания рейтинга шоколада. Будем использовать CatBooostRegressor. Эта библиотека сама кодирует категориальные признаки, переданные модели. В данных содержится множество категориальных признаков и кодирование их с применением стандартных техник не только отнимет много времени на разработку, но и может дать результат, худший, чем тот, который покажет CatBoost."
   ]
  },
  {
   "cell_type": "code",
   "execution_count": 46,
   "id": "f06b0a26",
   "metadata": {},
   "outputs": [],
   "source": [
    "from sklearn.model_selection import train_test_split\n",
    "from sklearn.metrics import r2_score, mean_squared_error, mean_absolute_error, explained_variance_score\n",
    "\n",
    "from category_encoders.ordinal import OrdinalEncoder\n",
    "from category_encoders.one_hot import OneHotEncoder\n",
    "from category_encoders.target_encoder import TargetEncoder\n",
    "from category_encoders.leave_one_out import LeaveOneOutEncoder\n",
    "\n",
    "from sklearn.preprocessing import StandardScaler, MinMaxScaler\n",
    "from sklearn.inspection import permutation_importance\n",
    "\n",
    "from sklearn.model_selection import GridSearchCV, cross_val_score\n",
    "\n",
    "from catboost import CatBoostRegressor"
   ]
  },
  {
   "cell_type": "markdown",
   "id": "94f11fe1",
   "metadata": {},
   "source": [
    "## 7.1 CatBoost with default hyperparameters"
   ]
  },
  {
   "cell_type": "markdown",
   "id": "cf3d6085",
   "metadata": {},
   "source": [
    "Сначала посмотрим, как покажет себя регрессор с гиперпараметрами по умолчанию"
   ]
  },
  {
   "cell_type": "code",
   "execution_count": 47,
   "id": "eba5965f",
   "metadata": {},
   "outputs": [],
   "source": [
    "def train_cb_regressor(data_train: pd.DataFrame, tunning:bool=False, n_trials:int=10):\n",
    "    X = data_train.drop('Rating', axis=1)\n",
    "    y = data_train.Rating\n",
    "\n",
    "    X_train, X_val, y_train, y_val = train_test_split(X, y, test_size=0.3)\n",
    "\n",
    "    categorical_features_indices = np.where(X.dtypes == object)[0]\n",
    "    \n",
    "    model = CatBoostRegressor(cat_features=categorical_features_indices,\n",
    "                              logging_level='Silent')\n",
    "    \n",
    "    # Optuna\n",
    "    if tunning:\n",
    "        def objective(trial):\n",
    "            param = {\n",
    "                \"n_estimators\": trial.suggest_int(\"n_estimators\", 10, 1000),\n",
    "                \"max_depth\": trial.suggest_int(\"max_depth\", 1, 10),\n",
    "                \"learning_rate\": trial.suggest_float(\"learning_rate\", 0.001, 0.2, step=0.001)\n",
    "                #\"min_child_samples\": trial.suggest_categorical('min_child_samples', [1, 4, 8, 16, 32])\n",
    "            }\n",
    "\n",
    "            estimator = CatBoostRegressor(**param,\n",
    "                                          cat_features=categorical_features_indices,\n",
    "                                          custom_metric='R2',\n",
    "                                          verbose=False)\n",
    "\n",
    "            estimator.fit(X_train, y_train)\n",
    "            pred = estimator.predict(X_val)\n",
    "\n",
    "            return mean_squared_error(y_val, pred, squared=False)\n",
    "        \n",
    "        study = optuna.create_study(direction=\"minimize\")\n",
    "        study.optimize(objective, n_trials=n_trials, n_jobs=-1)\n",
    "        #print(study.best_trial)\n",
    "        print(\"Best params:\", study.best_trial.params)\n",
    "        model = CatBoostRegressor(**study.best_params,\n",
    "                                 cat_features=categorical_features_indices,\n",
    "                                 logging_level='Silent')\n",
    "    \n",
    "    cv_scores = cross_val_score(model, X, y, cv=3, scoring='r2')\n",
    "    model.fit(X_train, y_train,\n",
    "             eval_set=(X_val, y_val))\n",
    "\n",
    "    y_pred_val = model.predict(X_val)\n",
    "\n",
    "    print(\"R2 scores\")\n",
    "    print(f\"On validation sample = {round(r2_score(y_val, y_pred_val), 3)}\")\n",
    "    print(f\"All CV scores = {', '.join(map(lambda x: str(round(x, 3)), cv_scores))}\")\n",
    "    print(f\"Mean CV score = {round(cv_scores.mean(), 3)}\")\n",
    "    \n",
    "    model_permutation_importance = permutation_importance(model,\n",
    "                                                          X_val,\n",
    "                                                          y_val,\n",
    "                                                          scoring='r2',\n",
    "                                                          n_repeats=20,\n",
    "                                                          n_jobs=-1)\n",
    "\n",
    "    df_importance = pd.DataFrame({'Feature': model.feature_names_,\n",
    "                                  'CatBoost Importance': model.feature_importances_,\n",
    "                                  'Permutation Importance': model_permutation_importance.importances_mean,\n",
    "                                  'Permutation Importance std': model_permutation_importance.importances_std})\\\n",
    "                                  .sort_values(by='CatBoost Importance', ascending=False)\n",
    "    display(df_importance)\n",
    "    return model"
   ]
  },
  {
   "cell_type": "code",
   "execution_count": 48,
   "id": "000c1b61",
   "metadata": {},
   "outputs": [
    {
     "data": {
      "text/plain": [
       "Index(['Company', 'Specific Bean Origin', 'REF', 'Review', 'Cocoa Percent',\n",
       "       'Company Location', 'Rating', 'Bean Type', 'Broad Bean Origin',\n",
       "       'Broad Company Location', 'SBO complexity', 'Bean Origin World'],\n",
       "      dtype='object')"
      ]
     },
     "execution_count": 48,
     "metadata": {},
     "output_type": "execute_result"
    }
   ],
   "source": [
    "df_train.columns"
   ]
  },
  {
   "cell_type": "markdown",
   "id": "cacf1c05",
   "metadata": {},
   "source": [
    "Ниже мы тренируем CatBoost с гиперпараметрам по умолчанию на данных с заполненными и незаполненными пропусками"
   ]
  },
  {
   "cell_type": "code",
   "execution_count": 49,
   "id": "124cfb98",
   "metadata": {
    "scrolled": false
   },
   "outputs": [
    {
     "name": "stdout",
     "output_type": "stream",
     "text": [
      "R2 scores\n",
      "On validation sample = 0.181\n",
      "All CV scores = 0.123, 0.217, 0.257\n",
      "Mean CV score = 0.199\n"
     ]
    },
    {
     "data": {
      "text/html": [
       "<div>\n",
       "<style scoped>\n",
       "    .dataframe tbody tr th:only-of-type {\n",
       "        vertical-align: middle;\n",
       "    }\n",
       "\n",
       "    .dataframe tbody tr th {\n",
       "        vertical-align: top;\n",
       "    }\n",
       "\n",
       "    .dataframe thead th {\n",
       "        text-align: right;\n",
       "    }\n",
       "</style>\n",
       "<table border=\"1\" class=\"dataframe\">\n",
       "  <thead>\n",
       "    <tr style=\"text-align: right;\">\n",
       "      <th></th>\n",
       "      <th>Feature</th>\n",
       "      <th>CatBoost Importance</th>\n",
       "      <th>Permutation Importance</th>\n",
       "      <th>Permutation Importance std</th>\n",
       "    </tr>\n",
       "  </thead>\n",
       "  <tbody>\n",
       "    <tr>\n",
       "      <th>0</th>\n",
       "      <td>Company</td>\n",
       "      <td>20.418660</td>\n",
       "      <td>0.171020</td>\n",
       "      <td>0.034670</td>\n",
       "    </tr>\n",
       "    <tr>\n",
       "      <th>4</th>\n",
       "      <td>Cocoa Percent</td>\n",
       "      <td>18.115189</td>\n",
       "      <td>0.111468</td>\n",
       "      <td>0.020851</td>\n",
       "    </tr>\n",
       "    <tr>\n",
       "      <th>2</th>\n",
       "      <td>REF</td>\n",
       "      <td>10.914847</td>\n",
       "      <td>0.030277</td>\n",
       "      <td>0.008281</td>\n",
       "    </tr>\n",
       "    <tr>\n",
       "      <th>6</th>\n",
       "      <td>Bean Type</td>\n",
       "      <td>10.414886</td>\n",
       "      <td>-0.004479</td>\n",
       "      <td>0.013022</td>\n",
       "    </tr>\n",
       "    <tr>\n",
       "      <th>5</th>\n",
       "      <td>Company Location</td>\n",
       "      <td>7.342267</td>\n",
       "      <td>0.007912</td>\n",
       "      <td>0.006614</td>\n",
       "    </tr>\n",
       "    <tr>\n",
       "      <th>7</th>\n",
       "      <td>Broad Bean Origin</td>\n",
       "      <td>6.993170</td>\n",
       "      <td>0.003628</td>\n",
       "      <td>0.005891</td>\n",
       "    </tr>\n",
       "    <tr>\n",
       "      <th>10</th>\n",
       "      <td>Bean Origin World</td>\n",
       "      <td>6.053329</td>\n",
       "      <td>0.005405</td>\n",
       "      <td>0.004097</td>\n",
       "    </tr>\n",
       "    <tr>\n",
       "      <th>9</th>\n",
       "      <td>SBO complexity</td>\n",
       "      <td>5.826530</td>\n",
       "      <td>0.018372</td>\n",
       "      <td>0.008093</td>\n",
       "    </tr>\n",
       "    <tr>\n",
       "      <th>1</th>\n",
       "      <td>Specific Bean Origin</td>\n",
       "      <td>5.395377</td>\n",
       "      <td>0.005985</td>\n",
       "      <td>0.006449</td>\n",
       "    </tr>\n",
       "    <tr>\n",
       "      <th>8</th>\n",
       "      <td>Broad Company Location</td>\n",
       "      <td>4.981180</td>\n",
       "      <td>-0.003236</td>\n",
       "      <td>0.004360</td>\n",
       "    </tr>\n",
       "    <tr>\n",
       "      <th>3</th>\n",
       "      <td>Review</td>\n",
       "      <td>3.544565</td>\n",
       "      <td>0.013985</td>\n",
       "      <td>0.006052</td>\n",
       "    </tr>\n",
       "  </tbody>\n",
       "</table>\n",
       "</div>"
      ],
      "text/plain": [
       "                   Feature  CatBoost Importance  Permutation Importance  \\\n",
       "0                  Company            20.418660                0.171020   \n",
       "4            Cocoa Percent            18.115189                0.111468   \n",
       "2                      REF            10.914847                0.030277   \n",
       "6                Bean Type            10.414886               -0.004479   \n",
       "5         Company Location             7.342267                0.007912   \n",
       "7        Broad Bean Origin             6.993170                0.003628   \n",
       "10       Bean Origin World             6.053329                0.005405   \n",
       "9           SBO complexity             5.826530                0.018372   \n",
       "1     Specific Bean Origin             5.395377                0.005985   \n",
       "8   Broad Company Location             4.981180               -0.003236   \n",
       "3                   Review             3.544565                0.013985   \n",
       "\n",
       "    Permutation Importance std  \n",
       "0                     0.034670  \n",
       "4                     0.020851  \n",
       "2                     0.008281  \n",
       "6                     0.013022  \n",
       "5                     0.006614  \n",
       "7                     0.005891  \n",
       "10                    0.004097  \n",
       "9                     0.008093  \n",
       "1                     0.006449  \n",
       "8                     0.004360  \n",
       "3                     0.006052  "
      ]
     },
     "metadata": {},
     "output_type": "display_data"
    },
    {
     "data": {
      "text/plain": [
       "<catboost.core.CatBoostRegressor at 0x7f3f6dc9c210>"
      ]
     },
     "execution_count": 49,
     "metadata": {},
     "output_type": "execute_result"
    }
   ],
   "source": [
    "# Пропуски заполнены\n",
    "train_cb_regressor(df_train_new)"
   ]
  },
  {
   "cell_type": "code",
   "execution_count": 50,
   "id": "89787120",
   "metadata": {
    "scrolled": false
   },
   "outputs": [
    {
     "name": "stdout",
     "output_type": "stream",
     "text": [
      "R2 scores\n",
      "On validation sample = 0.192\n",
      "All CV scores = 0.116, 0.23, 0.239\n",
      "Mean CV score = 0.195\n"
     ]
    },
    {
     "data": {
      "text/html": [
       "<div>\n",
       "<style scoped>\n",
       "    .dataframe tbody tr th:only-of-type {\n",
       "        vertical-align: middle;\n",
       "    }\n",
       "\n",
       "    .dataframe tbody tr th {\n",
       "        vertical-align: top;\n",
       "    }\n",
       "\n",
       "    .dataframe thead th {\n",
       "        text-align: right;\n",
       "    }\n",
       "</style>\n",
       "<table border=\"1\" class=\"dataframe\">\n",
       "  <thead>\n",
       "    <tr style=\"text-align: right;\">\n",
       "      <th></th>\n",
       "      <th>Feature</th>\n",
       "      <th>CatBoost Importance</th>\n",
       "      <th>Permutation Importance</th>\n",
       "      <th>Permutation Importance std</th>\n",
       "    </tr>\n",
       "  </thead>\n",
       "  <tbody>\n",
       "    <tr>\n",
       "      <th>0</th>\n",
       "      <td>Company</td>\n",
       "      <td>23.561308</td>\n",
       "      <td>0.131114</td>\n",
       "      <td>0.022743</td>\n",
       "    </tr>\n",
       "    <tr>\n",
       "      <th>4</th>\n",
       "      <td>Cocoa Percent</td>\n",
       "      <td>18.745677</td>\n",
       "      <td>0.078675</td>\n",
       "      <td>0.015425</td>\n",
       "    </tr>\n",
       "    <tr>\n",
       "      <th>6</th>\n",
       "      <td>Bean Type</td>\n",
       "      <td>10.959834</td>\n",
       "      <td>0.016643</td>\n",
       "      <td>0.013720</td>\n",
       "    </tr>\n",
       "    <tr>\n",
       "      <th>5</th>\n",
       "      <td>Company Location</td>\n",
       "      <td>9.039162</td>\n",
       "      <td>0.019753</td>\n",
       "      <td>0.007685</td>\n",
       "    </tr>\n",
       "    <tr>\n",
       "      <th>2</th>\n",
       "      <td>REF</td>\n",
       "      <td>8.175296</td>\n",
       "      <td>0.017767</td>\n",
       "      <td>0.006831</td>\n",
       "    </tr>\n",
       "    <tr>\n",
       "      <th>7</th>\n",
       "      <td>Broad Bean Origin</td>\n",
       "      <td>6.989332</td>\n",
       "      <td>0.002689</td>\n",
       "      <td>0.003483</td>\n",
       "    </tr>\n",
       "    <tr>\n",
       "      <th>10</th>\n",
       "      <td>Bean Origin World</td>\n",
       "      <td>5.735166</td>\n",
       "      <td>-0.004223</td>\n",
       "      <td>0.003612</td>\n",
       "    </tr>\n",
       "    <tr>\n",
       "      <th>9</th>\n",
       "      <td>SBO complexity</td>\n",
       "      <td>5.650761</td>\n",
       "      <td>0.029512</td>\n",
       "      <td>0.008977</td>\n",
       "    </tr>\n",
       "    <tr>\n",
       "      <th>3</th>\n",
       "      <td>Review</td>\n",
       "      <td>5.588846</td>\n",
       "      <td>0.007527</td>\n",
       "      <td>0.004378</td>\n",
       "    </tr>\n",
       "    <tr>\n",
       "      <th>8</th>\n",
       "      <td>Broad Company Location</td>\n",
       "      <td>4.595166</td>\n",
       "      <td>-0.000801</td>\n",
       "      <td>0.003202</td>\n",
       "    </tr>\n",
       "    <tr>\n",
       "      <th>1</th>\n",
       "      <td>Specific Bean Origin</td>\n",
       "      <td>0.959453</td>\n",
       "      <td>-0.000641</td>\n",
       "      <td>0.001922</td>\n",
       "    </tr>\n",
       "  </tbody>\n",
       "</table>\n",
       "</div>"
      ],
      "text/plain": [
       "                   Feature  CatBoost Importance  Permutation Importance  \\\n",
       "0                  Company            23.561308                0.131114   \n",
       "4            Cocoa Percent            18.745677                0.078675   \n",
       "6                Bean Type            10.959834                0.016643   \n",
       "5         Company Location             9.039162                0.019753   \n",
       "2                      REF             8.175296                0.017767   \n",
       "7        Broad Bean Origin             6.989332                0.002689   \n",
       "10       Bean Origin World             5.735166               -0.004223   \n",
       "9           SBO complexity             5.650761                0.029512   \n",
       "3                   Review             5.588846                0.007527   \n",
       "8   Broad Company Location             4.595166               -0.000801   \n",
       "1     Specific Bean Origin             0.959453               -0.000641   \n",
       "\n",
       "    Permutation Importance std  \n",
       "0                     0.022743  \n",
       "4                     0.015425  \n",
       "6                     0.013720  \n",
       "5                     0.007685  \n",
       "2                     0.006831  \n",
       "7                     0.003483  \n",
       "10                    0.003612  \n",
       "9                     0.008977  \n",
       "3                     0.004378  \n",
       "8                     0.003202  \n",
       "1                     0.001922  "
      ]
     },
     "metadata": {},
     "output_type": "display_data"
    },
    {
     "data": {
      "text/plain": [
       "<catboost.core.CatBoostRegressor at 0x7f3f6dcbfa10>"
      ]
     },
     "execution_count": 50,
     "metadata": {},
     "output_type": "execute_result"
    }
   ],
   "source": [
    "# В пропусках уникальное значение \"Unknown\"\n",
    "train_cb_regressor(df_train)"
   ]
  },
  {
   "cell_type": "markdown",
   "id": "536b4d28",
   "metadata": {},
   "source": [
    "Как видно, результаты сильно зависят от разбиения выборки на тренировчную и тестовую часть. Но одно можно сказать наверняка: колонку \"Specific Bean Origin\" можно выкинуть. Также мы видим, что качество предсказаний (на валидационной части и cross validation) очень близко для данных с заполненными пропусками и с незаполненными"
   ]
  },
  {
   "cell_type": "markdown",
   "id": "bf1f8a49",
   "metadata": {},
   "source": [
    "## 7.2 Hyperparameters tunning"
   ]
  },
  {
   "cell_type": "markdown",
   "id": "071800b3",
   "metadata": {},
   "source": [
    "Подберём гиперпараметры регрессора. Видно, что обе модели, с заполненными и незаполненными пропусками улучшили свои метрики."
   ]
  },
  {
   "cell_type": "code",
   "execution_count": 51,
   "id": "fc4edaf9",
   "metadata": {
    "scrolled": false
   },
   "outputs": [
    {
     "name": "stdout",
     "output_type": "stream",
     "text": [
      "Best params: {'n_estimators': 123, 'max_depth': 2, 'learning_rate': 0.181}\n",
      "R2 scores\n",
      "On validation sample = 0.235\n",
      "All CV scores = 0.133, 0.251, 0.243\n",
      "Mean CV score = 0.209\n"
     ]
    },
    {
     "data": {
      "text/html": [
       "<div>\n",
       "<style scoped>\n",
       "    .dataframe tbody tr th:only-of-type {\n",
       "        vertical-align: middle;\n",
       "    }\n",
       "\n",
       "    .dataframe tbody tr th {\n",
       "        vertical-align: top;\n",
       "    }\n",
       "\n",
       "    .dataframe thead th {\n",
       "        text-align: right;\n",
       "    }\n",
       "</style>\n",
       "<table border=\"1\" class=\"dataframe\">\n",
       "  <thead>\n",
       "    <tr style=\"text-align: right;\">\n",
       "      <th></th>\n",
       "      <th>Feature</th>\n",
       "      <th>CatBoost Importance</th>\n",
       "      <th>Permutation Importance</th>\n",
       "      <th>Permutation Importance std</th>\n",
       "    </tr>\n",
       "  </thead>\n",
       "  <tbody>\n",
       "    <tr>\n",
       "      <th>0</th>\n",
       "      <td>Company</td>\n",
       "      <td>30.109549</td>\n",
       "      <td>0.178658</td>\n",
       "      <td>0.014748</td>\n",
       "    </tr>\n",
       "    <tr>\n",
       "      <th>4</th>\n",
       "      <td>Cocoa Percent</td>\n",
       "      <td>27.787423</td>\n",
       "      <td>0.139974</td>\n",
       "      <td>0.023851</td>\n",
       "    </tr>\n",
       "    <tr>\n",
       "      <th>2</th>\n",
       "      <td>REF</td>\n",
       "      <td>10.264065</td>\n",
       "      <td>0.013697</td>\n",
       "      <td>0.009902</td>\n",
       "    </tr>\n",
       "    <tr>\n",
       "      <th>6</th>\n",
       "      <td>Bean Type</td>\n",
       "      <td>9.973796</td>\n",
       "      <td>0.018252</td>\n",
       "      <td>0.006853</td>\n",
       "    </tr>\n",
       "    <tr>\n",
       "      <th>3</th>\n",
       "      <td>Review</td>\n",
       "      <td>7.406503</td>\n",
       "      <td>0.008481</td>\n",
       "      <td>0.007515</td>\n",
       "    </tr>\n",
       "    <tr>\n",
       "      <th>9</th>\n",
       "      <td>SBO complexity</td>\n",
       "      <td>5.341618</td>\n",
       "      <td>0.029655</td>\n",
       "      <td>0.008383</td>\n",
       "    </tr>\n",
       "    <tr>\n",
       "      <th>5</th>\n",
       "      <td>Company Location</td>\n",
       "      <td>3.880149</td>\n",
       "      <td>0.003122</td>\n",
       "      <td>0.005010</td>\n",
       "    </tr>\n",
       "    <tr>\n",
       "      <th>1</th>\n",
       "      <td>Specific Bean Origin</td>\n",
       "      <td>1.537402</td>\n",
       "      <td>0.001365</td>\n",
       "      <td>0.002676</td>\n",
       "    </tr>\n",
       "    <tr>\n",
       "      <th>8</th>\n",
       "      <td>Broad Company Location</td>\n",
       "      <td>1.504870</td>\n",
       "      <td>0.000286</td>\n",
       "      <td>0.001310</td>\n",
       "    </tr>\n",
       "    <tr>\n",
       "      <th>7</th>\n",
       "      <td>Broad Bean Origin</td>\n",
       "      <td>1.362985</td>\n",
       "      <td>0.004114</td>\n",
       "      <td>0.001384</td>\n",
       "    </tr>\n",
       "    <tr>\n",
       "      <th>10</th>\n",
       "      <td>Bean Origin World</td>\n",
       "      <td>0.831638</td>\n",
       "      <td>-0.000310</td>\n",
       "      <td>0.001461</td>\n",
       "    </tr>\n",
       "  </tbody>\n",
       "</table>\n",
       "</div>"
      ],
      "text/plain": [
       "                   Feature  CatBoost Importance  Permutation Importance  \\\n",
       "0                  Company            30.109549                0.178658   \n",
       "4            Cocoa Percent            27.787423                0.139974   \n",
       "2                      REF            10.264065                0.013697   \n",
       "6                Bean Type             9.973796                0.018252   \n",
       "3                   Review             7.406503                0.008481   \n",
       "9           SBO complexity             5.341618                0.029655   \n",
       "5         Company Location             3.880149                0.003122   \n",
       "1     Specific Bean Origin             1.537402                0.001365   \n",
       "8   Broad Company Location             1.504870                0.000286   \n",
       "7        Broad Bean Origin             1.362985                0.004114   \n",
       "10       Bean Origin World             0.831638               -0.000310   \n",
       "\n",
       "    Permutation Importance std  \n",
       "0                     0.014748  \n",
       "4                     0.023851  \n",
       "2                     0.009902  \n",
       "6                     0.006853  \n",
       "3                     0.007515  \n",
       "9                     0.008383  \n",
       "5                     0.005010  \n",
       "1                     0.002676  \n",
       "8                     0.001310  \n",
       "7                     0.001384  \n",
       "10                    0.001461  "
      ]
     },
     "metadata": {},
     "output_type": "display_data"
    }
   ],
   "source": [
    "model_cb1 = train_cb_regressor(df_train, True, 100)\n",
    "cb_regressor_params = model_cb1.get_params()"
   ]
  },
  {
   "cell_type": "code",
   "execution_count": 52,
   "id": "f4eb0e2d",
   "metadata": {
    "scrolled": true
   },
   "outputs": [
    {
     "name": "stdout",
     "output_type": "stream",
     "text": [
      "Best params: {'n_estimators': 706, 'max_depth': 5, 'learning_rate': 0.029}\n",
      "R2 scores\n",
      "On validation sample = 0.218\n",
      "All CV scores = 0.132, 0.241, 0.262\n",
      "Mean CV score = 0.211\n"
     ]
    },
    {
     "data": {
      "text/html": [
       "<div>\n",
       "<style scoped>\n",
       "    .dataframe tbody tr th:only-of-type {\n",
       "        vertical-align: middle;\n",
       "    }\n",
       "\n",
       "    .dataframe tbody tr th {\n",
       "        vertical-align: top;\n",
       "    }\n",
       "\n",
       "    .dataframe thead th {\n",
       "        text-align: right;\n",
       "    }\n",
       "</style>\n",
       "<table border=\"1\" class=\"dataframe\">\n",
       "  <thead>\n",
       "    <tr style=\"text-align: right;\">\n",
       "      <th></th>\n",
       "      <th>Feature</th>\n",
       "      <th>CatBoost Importance</th>\n",
       "      <th>Permutation Importance</th>\n",
       "      <th>Permutation Importance std</th>\n",
       "    </tr>\n",
       "  </thead>\n",
       "  <tbody>\n",
       "    <tr>\n",
       "      <th>0</th>\n",
       "      <td>Company</td>\n",
       "      <td>22.385771</td>\n",
       "      <td>0.177059</td>\n",
       "      <td>0.024456</td>\n",
       "    </tr>\n",
       "    <tr>\n",
       "      <th>4</th>\n",
       "      <td>Cocoa Percent</td>\n",
       "      <td>20.253290</td>\n",
       "      <td>0.105238</td>\n",
       "      <td>0.018139</td>\n",
       "    </tr>\n",
       "    <tr>\n",
       "      <th>2</th>\n",
       "      <td>REF</td>\n",
       "      <td>10.190364</td>\n",
       "      <td>0.030735</td>\n",
       "      <td>0.009875</td>\n",
       "    </tr>\n",
       "    <tr>\n",
       "      <th>10</th>\n",
       "      <td>Bean Origin World</td>\n",
       "      <td>8.058428</td>\n",
       "      <td>0.006203</td>\n",
       "      <td>0.005024</td>\n",
       "    </tr>\n",
       "    <tr>\n",
       "      <th>6</th>\n",
       "      <td>Bean Type</td>\n",
       "      <td>7.776285</td>\n",
       "      <td>0.012804</td>\n",
       "      <td>0.005430</td>\n",
       "    </tr>\n",
       "    <tr>\n",
       "      <th>5</th>\n",
       "      <td>Company Location</td>\n",
       "      <td>7.184851</td>\n",
       "      <td>0.006359</td>\n",
       "      <td>0.004843</td>\n",
       "    </tr>\n",
       "    <tr>\n",
       "      <th>9</th>\n",
       "      <td>SBO complexity</td>\n",
       "      <td>5.595123</td>\n",
       "      <td>0.021348</td>\n",
       "      <td>0.007551</td>\n",
       "    </tr>\n",
       "    <tr>\n",
       "      <th>7</th>\n",
       "      <td>Broad Bean Origin</td>\n",
       "      <td>5.547643</td>\n",
       "      <td>-0.001407</td>\n",
       "      <td>0.003635</td>\n",
       "    </tr>\n",
       "    <tr>\n",
       "      <th>3</th>\n",
       "      <td>Review</td>\n",
       "      <td>5.018115</td>\n",
       "      <td>0.017706</td>\n",
       "      <td>0.005843</td>\n",
       "    </tr>\n",
       "    <tr>\n",
       "      <th>8</th>\n",
       "      <td>Broad Company Location</td>\n",
       "      <td>4.995131</td>\n",
       "      <td>-0.001548</td>\n",
       "      <td>0.002501</td>\n",
       "    </tr>\n",
       "    <tr>\n",
       "      <th>1</th>\n",
       "      <td>Specific Bean Origin</td>\n",
       "      <td>2.994997</td>\n",
       "      <td>0.007540</td>\n",
       "      <td>0.006342</td>\n",
       "    </tr>\n",
       "  </tbody>\n",
       "</table>\n",
       "</div>"
      ],
      "text/plain": [
       "                   Feature  CatBoost Importance  Permutation Importance  \\\n",
       "0                  Company            22.385771                0.177059   \n",
       "4            Cocoa Percent            20.253290                0.105238   \n",
       "2                      REF            10.190364                0.030735   \n",
       "10       Bean Origin World             8.058428                0.006203   \n",
       "6                Bean Type             7.776285                0.012804   \n",
       "5         Company Location             7.184851                0.006359   \n",
       "9           SBO complexity             5.595123                0.021348   \n",
       "7        Broad Bean Origin             5.547643               -0.001407   \n",
       "3                   Review             5.018115                0.017706   \n",
       "8   Broad Company Location             4.995131               -0.001548   \n",
       "1     Specific Bean Origin             2.994997                0.007540   \n",
       "\n",
       "    Permutation Importance std  \n",
       "0                     0.024456  \n",
       "4                     0.018139  \n",
       "2                     0.009875  \n",
       "10                    0.005024  \n",
       "6                     0.005430  \n",
       "5                     0.004843  \n",
       "9                     0.007551  \n",
       "7                     0.003635  \n",
       "3                     0.005843  \n",
       "8                     0.002501  \n",
       "1                     0.006342  "
      ]
     },
     "metadata": {},
     "output_type": "display_data"
    }
   ],
   "source": [
    "model_cb2 = train_cb_regressor(df_train_new, True, 100)\n",
    "cb_regressor_new_params = model_cb2.get_params()"
   ]
  },
  {
   "cell_type": "markdown",
   "id": "4f18cf31",
   "metadata": {},
   "source": [
    "# 8 Pipelines"
   ]
  },
  {
   "cell_type": "markdown",
   "id": "766ea67a",
   "metadata": {},
   "source": [
    "Здесь мы напишем классы вместо наших функций предобработки, чтобы их можно было обернуть в sklearn Pipeline"
   ]
  },
  {
   "cell_type": "markdown",
   "id": "a167ed1e",
   "metadata": {},
   "source": [
    "## 8.1 Data preprocessing class"
   ]
  },
  {
   "cell_type": "markdown",
   "id": "b4f06191",
   "metadata": {},
   "source": [
    "Весь процесс предобработки данных до замены пропусков"
   ]
  },
  {
   "cell_type": "code",
   "execution_count": 8,
   "id": "76624539",
   "metadata": {},
   "outputs": [],
   "source": [
    "class DataPreprocessor(BaseEstimator, TransformerMixin):\n",
    "    \"\"\"\n",
    "    Класс форматирует данные, чтобы подготовить их к работе.\n",
    "    Этот класс можно в ключать в sklearn.Pipeline\n",
    "    \"\"\"\n",
    "    def __init__(self):\n",
    "        pass\n",
    "        \n",
    "        \n",
    "    def fit(self, X: pd.DataFrame, y: pd.Series=None):\n",
    "        \"\"\"Метод fit() этому классу не нужен, он ничего не делает\"\"\"\n",
    "        return self\n",
    "    \n",
    "    \n",
    "    def transform(self, X: pd.DataFrame, y: pd.Series=None) -> pd.DataFrame:\n",
    "        \"\"\"Метод transform() преобразует данные\"\"\"\n",
    "        X_ = X.copy()\n",
    "        X_['Cocoa Percent'] = X_['Cocoa Percent'].apply(lambda x: float(x.strip('%')))\n",
    "        X_ = X_.fillna(\"Unknown\")\n",
    "        X_['Broad Bean Origin'] = X_['Broad Bean Origin'].replace('\\xa0', \"Unknown\")\n",
    "        X_['Bean Type'] = X_['Bean Type'].replace('\\xa0', \"Unknown\")\n",
    "        X_.replace(\n",
    "        {\n",
    "            'Eucador': 'Ecuador',\n",
    "            'Domincan Republic': 'Dominican Republic',\n",
    "            'Niacragua': 'Nicaragua'\n",
    "        },\n",
    "        inplace=True)\n",
    "        \n",
    "        return X_"
   ]
  },
  {
   "cell_type": "markdown",
   "id": "5b97b12c",
   "metadata": {},
   "source": [
    "## 8.2 Feature engineering class"
   ]
  },
  {
   "cell_type": "markdown",
   "id": "ac18fa08",
   "metadata": {},
   "source": [
    "Добавление новых предикторов"
   ]
  },
  {
   "cell_type": "code",
   "execution_count": 9,
   "id": "3ef1e2f1",
   "metadata": {},
   "outputs": [],
   "source": [
    "class FeatureEngineering(BaseEstimator, TransformerMixin):\n",
    "    \"\"\"Класс для добавления новых признаков в данные\n",
    "    Может быть включен в sklearn.Pipeline\n",
    "    \"\"\"\n",
    "    BROAD_LOCATION = {'Europe': ['U.K.', 'Switzerland', 'France', 'Belgium', 'Spain', 'Italy',\n",
    "                                  'Austria', 'Sweden', 'Ireland', 'Poland', 'Hungary', 'Germany',\n",
    "                                  'Denmark', 'Lithuania', 'Scotland', 'Finland', 'Iceland',\n",
    "                                  'Amsterdam', 'Wales', 'Netherlands', 'Portugal', 'Czech Republic'],\n",
    "                       'North America': ['U.S.A.', 'Canada'],\n",
    "                       'Africa': ['Madagascar', 'South Africa', 'Ghana', 'Sao Tome', 'Tanzania',\n",
    "                                  'Indonesia', 'Congo', 'Liberia', 'Principe', 'Sao Tome & Principe',\n",
    "                                  'Gabon', 'Ivory Coast', 'Uganda', 'Nigeria', 'West Africa'],\n",
    "                       'Caribbean': ['Colombia', 'Venezuela', 'Honduras', 'Guatemala',\n",
    "                                     'Domincan Republic', 'Grenada', 'Puerto Rico', 'Costa Rica',\n",
    "                                     'St. Lucia', 'Nicaragua', 'Martinique', 'Niacragua', 'Cost Rica, Ven',\n",
    "                                     'Trinidad', 'Panama', 'Jamaica', 'Haiti', 'Cuba', 'Venezuela, Ghana',\n",
    "                                     'Ven.,Ecu.,Peru,Nic.', 'Tobago', 'Carribean(DR/Jam/Tri)',\n",
    "                                     'Venezuela, Java', 'Ven, Bolivia, D.R.', 'Venezuela, Carribean',\n",
    "                                     'Dominican Republic', 'Carribean'],\n",
    "                       'Asia & Oceania': ['Japan', 'Vietnam', 'Philippines', 'Fiji', 'Australia',\n",
    "                                          'South Korea', 'Israel', 'Singapore', 'India', 'Russia',\n",
    "                                          'New Zealand', 'Papua New Guinea', 'Hawaii', 'Solomon Islands',\n",
    "                                          'Sri Lanka', 'Malaysia', 'Samoa', 'Philippines', 'Togo',\n",
    "                                          'Vanuatu'],\n",
    "                       'South America': ['Ecuador', 'Brazil', 'Peru', 'Eucador', 'Argentina',\n",
    "                                         'Chile', 'Mexico', 'Bolivia', 'Suriname', 'Peru, Dom. Rep',\n",
    "                                         'Central and S. America', 'Colombia, Ecuador', 'Dom. Rep., Madagascar',\n",
    "                                         'South America', 'Belize', 'El Salvador'],\n",
    "                       'Mixed': ['Trinidad, Ecuador', 'South America, Africa', 'PNG, Vanuatu, Mad',\n",
    "                                 'Mad., Java, PNG', 'Peru, Mad., Dom. Rep.', 'Indonesia, Ghana', 'Madagascar & Ecuador',\n",
    "                                 'Venez,Africa,Brasil,Peru,Mex', 'DR, Ecuador, Peru', 'Dominican Rep., Bali',\n",
    "                                 'Peru, Madagascar', 'Venezuela, Dom. Rep.', 'Peru, Ecuador, Venezuela',\n",
    "                                 'Ven., Trinidad, Mad.', 'Ven., Indonesia, Ecuad.', 'Ghana, Domin. Rep',\n",
    "                                 'Peru, Belize', 'Guat., D.R., Peru, Mad., PNG']\n",
    "                       }\n",
    "    \n",
    "    \n",
    "    def __init__(self, add_bean_origin_world=False):\n",
    "        self.add_bean_origin_world = add_bean_origin_world\n",
    "    \n",
    "    def location_in_list(self, location: str):\n",
    "        for k, v in self.BROAD_LOCATION.items():\n",
    "            if location in v:\n",
    "                return k\n",
    "        return 'Other'\n",
    "\n",
    "    @staticmethod\n",
    "    def length_bin(s: str, min_val:int=0, max_val:int=50, step:int=10) -> int:\n",
    "        n = len(s)\n",
    "        bins = np.arange(min_val, max_val+step, step)\n",
    "        for i in range(bins.shape[0]):\n",
    "            if n > bins[i] and n <= bins[i+1]:\n",
    "                return i\n",
    "        \n",
    "    def fit(self, X: pd.DataFrame, y: pd.Series=None):\n",
    "        return self\n",
    "    \n",
    "    def transform(self, X: pd.DataFrame, y: pd.Series=None) -> pd.DataFrame:\n",
    "        X_ = X.copy()\n",
    "        X_['Broad Company Location'] = X_['Company Location'].apply(lambda x: self.location_in_list(x))\n",
    "        X_['SBO complexity'] = X_['Specific Bean Origin'].apply(lambda x: x.count('.') + x.count(',') + x.count(' '))\n",
    "        if self.add_bean_origin_world:\n",
    "            X_['Bean Origin World'] = X_['Broad Bean Origin'].apply(lambda x: self.location_in_list(x))\n",
    "        \n",
    "        return X_"
   ]
  },
  {
   "cell_type": "markdown",
   "id": "1c8a3c30",
   "metadata": {},
   "source": [
    "## 8.3 FeatureFixer class"
   ]
  },
  {
   "cell_type": "markdown",
   "id": "7018aa3a",
   "metadata": {},
   "source": [
    "Адаптируем функцию заполнения пропусков FeatureFixer для построения Pipilines. Также, исключим момент обучения его на тестовых данных (что, скорее всего ухудшит качество прогнозов)."
   ]
  },
  {
   "cell_type": "code",
   "execution_count": 10,
   "id": "8e58eddc",
   "metadata": {},
   "outputs": [],
   "source": [
    "optuna.logging.set_verbosity(optuna.logging.INFO)"
   ]
  },
  {
   "cell_type": "code",
   "execution_count": 11,
   "id": "14295616",
   "metadata": {},
   "outputs": [],
   "source": [
    "class FeatureFixer(BaseEstimator, TransformerMixin):\n",
    "    \n",
    "    \"\"\"\n",
    "    column - признак, который мы будем прогнозировать ('Broad Bean Origin' или 'Bean Type')\n",
    "    cols_to_drop - колонки, которые необходимо исключить при обуении модели, наприме, если в них есть пропуски\n",
    "    n_top - число наиболее часто встречающихся значений для обучения\n",
    "    n_trial - число итераций обучения для Optuna\n",
    "    marker - строка, являющая индикатором пропуска в данных\n",
    "    \"\"\"\n",
    "    def __init__(self,\n",
    "                 column:str,\n",
    "                 cols_to_drop:list,\n",
    "                 n_top:int,\n",
    "                 catboost_params:dict=None,\n",
    "                 tunning:bool=False,\n",
    "                 n_trials:int=3,\n",
    "                 marker:str=\"Unknown\",\n",
    "                 target:str='Rating'):\n",
    "        self.column = column\n",
    "        self.cols_to_drop = cols_to_drop\n",
    "        self.n_top = n_top\n",
    "        self.n_trials = n_trials\n",
    "        self.marker = marker\n",
    "        self.tunning = tunning\n",
    "        self.target = target\n",
    "        self.model = CatBoostClassifier()\n",
    "        self.catboost_params = catboost_params\n",
    "        \n",
    "    \n",
    "    @staticmethod\n",
    "    def label_accuracy(y_true: pd.Series, y_pred: np.ndarray):\n",
    "        \"\"\"Простая метрика для оценки качества модели\"\"\"\n",
    "        df_pred = pd.DataFrame({'True values': y_true.values, 'Predicted values': y_pred[:, 0]})\n",
    "        return (df_pred['True values'] == df_pred['Predicted values']).sum() / df_pred.shape[0]\n",
    "        \n",
    "        \n",
    "    def hyperparameters_tunning(self, X:pd.DataFrame, y:pd.Series, categorical_features_indices: pd.Series) -> CatBoostClassifier:\n",
    "        \"\"\"Подбор гиперпараметров модели\"\"\"\n",
    "        X_train, X_val, y_train, y_val = train_test_split(X, y, test_size=0.3)\n",
    "        \n",
    "        def objective(trial):\n",
    "            param = {\n",
    "                \"n_estimators\": trial.suggest_int(\"n_estimators\", 10, 1000),\n",
    "                \"max_depth\": trial.suggest_int(\"max_depth\", 1, 10),\n",
    "                \"learning_rate\": trial.suggest_float(\"learning_rate\", 0.001, 0.1, step=0.001)\n",
    "            }\n",
    "\n",
    "            estimator = CatBoostClassifier(**param,\n",
    "                                           cat_features=categorical_features_indices,\n",
    "                                           verbose=False)\n",
    "\n",
    "            estimator.fit(X_train, y_train)\n",
    "            pred = estimator.predict(X_val)\n",
    "\n",
    "            return self.label_accuracy(y_val, pred)\n",
    "\n",
    "        study = optuna.create_study(direction=\"maximize\")\n",
    "        study.optimize(objective, n_trials=self.n_trials, n_jobs=-1)\n",
    "        #print(study.best_trial)\n",
    "        \n",
    "        self.best_params = study.best_params\n",
    "        best_model = CatBoostClassifier(**study.best_params,\n",
    "                                       cat_features=categorical_features_indices,\n",
    "                                       logging_level='Silent')\n",
    "        \n",
    "        best_model.fit(X_train, y_train)\n",
    "        y_pred = best_model.predict(X_val)\n",
    "        \n",
    "        print(f\"Best accuracy = {self.label_accuracy(y_val, y_pred)}\")\n",
    "        return best_model\n",
    "        \n",
    "        \n",
    "    def fit(self, X: pd.DataFrame, y=None):\n",
    "        \"\"\"Обучение модели заполнения пропусков\"\"\"\n",
    "        # part of data to train on\n",
    "        X_train = X[(X[self.column] != self.marker)].drop(self.cols_to_drop+[self.column], axis=1)\n",
    "        y_train = X[(X[self.column] != self.marker)][self.column]\n",
    "        \n",
    "        # Most probable bean origins\n",
    "        top_values = y_train.value_counts()[:self.n_top].index\n",
    "        top_values_mask = y_train.apply(lambda x: x in top_values)\n",
    "\n",
    "        # train on top n values of column only\n",
    "        X_train = X_train[top_values_mask]\n",
    "        y_train = y_train[top_values_mask]\n",
    "        \n",
    "        categorical_features_indices = np.where(X_train.dtypes == object)[0]\n",
    "        if self.catboost_params == None:\n",
    "            self.model = CatBoostClassifier(cat_features=categorical_features_indices,\n",
    "                                            verbose=False)\n",
    "        else:\n",
    "            self.model = CatBoostClassifier(**self.catboost_params)\n",
    "        if self.tunning:\n",
    "            self.model = self.hyperparameters_tunning(X_train, y_train, categorical_features_indices)\n",
    "        self.model.fit(X_train, y_train)\n",
    "        self.df_importance = pd.DataFrame({'Feature': self.model.feature_names_,\n",
    "                                           'CatBoost Importance': self.model.feature_importances_})\\\n",
    "                                           .sort_values(by='CatBoost Importance', ascending=False)\n",
    "        \n",
    "        return self\n",
    "        \n",
    "    \n",
    "    def transform(self, X: pd.DataFrame) -> pd.DataFrame:\n",
    "        \"\"\"Применяем к данным\"\"\"\n",
    "        X_ = X.copy()\n",
    "        # part of data to apply to\n",
    "        if self.target in X.columns:\n",
    "            X_test = X_[(X_[self.column] == self.marker)].drop(self.cols_to_drop+[self.column], axis=1)\n",
    "        else:\n",
    "            X_test = X_[(X_[self.column] == self.marker)].drop(self.cols_to_drop+[self.column], axis=1)\n",
    "        # prediction for column\n",
    "        column_pred = self.model.predict(X_test)\n",
    "        X_.loc[(X_[self.column] == self.marker), self.column] = column_pred\n",
    "        return X_\n",
    "\n",
    "    \n",
    "    def fit_transform(self, X: pd.DataFrame, y=None) -> pd.DataFrame:\n",
    "        \"\"\"Обучение + применение, можно использовать на train\"\"\"\n",
    "        self.fit(X, y)\n",
    "        return self.transform(X)\n",
    "        \n",
    "        \n",
    "    def predict(self, X_test: pd.DataFrame) -> np.ndarray:\n",
    "        y_pred = self.model.predict(X_test)\n",
    "        return y_pred[:, 0]\n",
    "    "
   ]
  },
  {
   "cell_type": "markdown",
   "id": "e0655865",
   "metadata": {},
   "source": [
    "Перезагружаем данные, чтобы снова получить исходные наборы."
   ]
  },
  {
   "cell_type": "code",
   "execution_count": 58,
   "id": "e7cb1e78",
   "metadata": {},
   "outputs": [],
   "source": [
    "df_train = pd.read_csv('data_initial/chocolate_train.csv')\n",
    "df_test = pd.read_csv('data_initial/chocolate_test_new.csv')\n",
    "\n",
    "X_train = df_train.drop('Rating', axis=1)\n",
    "y_train = df_train['Rating']\n",
    "\n",
    "X_test = df_test"
   ]
  },
  {
   "cell_type": "code",
   "execution_count": 59,
   "id": "10494cf4",
   "metadata": {},
   "outputs": [],
   "source": [
    "pipeline = Pipeline(steps=[\n",
    "    ('data_preprocessor', DataPreprocessor()),\n",
    "    ('feature_adder_1', FeatureEngineering(add_bean_origin_world=False)),\n",
    "    ('feature_fixer_1', FeatureFixer('Broad Bean Origin', ['Bean Type'], n_top=11)),\n",
    "    ('feature_fixer_2', FeatureFixer('Bean Type', [], n_top=7)),\n",
    "    ('feature_adder_2', FeatureEngineering(add_bean_origin_world=True)),\n",
    "    ])"
   ]
  },
  {
   "cell_type": "code",
   "execution_count": 60,
   "id": "a19144bd",
   "metadata": {
    "scrolled": false
   },
   "outputs": [
    {
     "data": {
      "text/html": [
       "<div>\n",
       "<style scoped>\n",
       "    .dataframe tbody tr th:only-of-type {\n",
       "        vertical-align: middle;\n",
       "    }\n",
       "\n",
       "    .dataframe tbody tr th {\n",
       "        vertical-align: top;\n",
       "    }\n",
       "\n",
       "    .dataframe thead th {\n",
       "        text-align: right;\n",
       "    }\n",
       "</style>\n",
       "<table border=\"1\" class=\"dataframe\">\n",
       "  <thead>\n",
       "    <tr style=\"text-align: right;\">\n",
       "      <th></th>\n",
       "      <th>Company</th>\n",
       "      <th>Specific Bean Origin</th>\n",
       "      <th>REF</th>\n",
       "      <th>Review</th>\n",
       "      <th>Cocoa Percent</th>\n",
       "      <th>Company Location</th>\n",
       "      <th>Bean Type</th>\n",
       "      <th>Broad Bean Origin</th>\n",
       "      <th>Broad Company Location</th>\n",
       "      <th>SBO complexity</th>\n",
       "      <th>Bean Origin World</th>\n",
       "    </tr>\n",
       "  </thead>\n",
       "  <tbody>\n",
       "    <tr>\n",
       "      <th>0</th>\n",
       "      <td>Willie's Cacao</td>\n",
       "      <td>Rio Caribe</td>\n",
       "      <td>457</td>\n",
       "      <td>2009</td>\n",
       "      <td>72.0</td>\n",
       "      <td>U.K.</td>\n",
       "      <td>Trinitario</td>\n",
       "      <td>Venezuela</td>\n",
       "      <td>Europe</td>\n",
       "      <td>1</td>\n",
       "      <td>Caribbean</td>\n",
       "    </tr>\n",
       "    <tr>\n",
       "      <th>1</th>\n",
       "      <td>Beschle (Felchlin)</td>\n",
       "      <td>Ocumare, Premier Cru, Quizas No. 2</td>\n",
       "      <td>508</td>\n",
       "      <td>2010</td>\n",
       "      <td>72.0</td>\n",
       "      <td>Switzerland</td>\n",
       "      <td>Criollo</td>\n",
       "      <td>Venezuela</td>\n",
       "      <td>Europe</td>\n",
       "      <td>8</td>\n",
       "      <td>Caribbean</td>\n",
       "    </tr>\n",
       "    <tr>\n",
       "      <th>2</th>\n",
       "      <td>Dark Forest</td>\n",
       "      <td>Tanzania</td>\n",
       "      <td>1554</td>\n",
       "      <td>2015</td>\n",
       "      <td>70.0</td>\n",
       "      <td>U.S.A.</td>\n",
       "      <td>Criollo</td>\n",
       "      <td>Tanzania</td>\n",
       "      <td>North America</td>\n",
       "      <td>0</td>\n",
       "      <td>Africa</td>\n",
       "    </tr>\n",
       "    <tr>\n",
       "      <th>3</th>\n",
       "      <td>Brasstown aka It's Chocolate</td>\n",
       "      <td>Cooproagro</td>\n",
       "      <td>1125</td>\n",
       "      <td>2013</td>\n",
       "      <td>72.0</td>\n",
       "      <td>U.S.A.</td>\n",
       "      <td>Trinitario</td>\n",
       "      <td>Dominican Republic</td>\n",
       "      <td>North America</td>\n",
       "      <td>0</td>\n",
       "      <td>Caribbean</td>\n",
       "    </tr>\n",
       "    <tr>\n",
       "      <th>4</th>\n",
       "      <td>Pralus</td>\n",
       "      <td>Java, Indonesie</td>\n",
       "      <td>32</td>\n",
       "      <td>2006</td>\n",
       "      <td>75.0</td>\n",
       "      <td>France</td>\n",
       "      <td>Criollo</td>\n",
       "      <td>Indonesia</td>\n",
       "      <td>Europe</td>\n",
       "      <td>2</td>\n",
       "      <td>Africa</td>\n",
       "    </tr>\n",
       "    <tr>\n",
       "      <th>...</th>\n",
       "      <td>...</td>\n",
       "      <td>...</td>\n",
       "      <td>...</td>\n",
       "      <td>...</td>\n",
       "      <td>...</td>\n",
       "      <td>...</td>\n",
       "      <td>...</td>\n",
       "      <td>...</td>\n",
       "      <td>...</td>\n",
       "      <td>...</td>\n",
       "      <td>...</td>\n",
       "    </tr>\n",
       "    <tr>\n",
       "      <th>1250</th>\n",
       "      <td>Artisan du Chocolat</td>\n",
       "      <td>Madagascar</td>\n",
       "      <td>363</td>\n",
       "      <td>2009</td>\n",
       "      <td>80.0</td>\n",
       "      <td>U.K.</td>\n",
       "      <td>Criollo, Trinitario</td>\n",
       "      <td>Madagascar</td>\n",
       "      <td>Europe</td>\n",
       "      <td>0</td>\n",
       "      <td>Africa</td>\n",
       "    </tr>\n",
       "    <tr>\n",
       "      <th>1251</th>\n",
       "      <td>Marana</td>\n",
       "      <td>Cusco</td>\n",
       "      <td>1884</td>\n",
       "      <td>2016</td>\n",
       "      <td>70.0</td>\n",
       "      <td>Peru</td>\n",
       "      <td>Criollo</td>\n",
       "      <td>Peru</td>\n",
       "      <td>South America</td>\n",
       "      <td>0</td>\n",
       "      <td>South America</td>\n",
       "    </tr>\n",
       "    <tr>\n",
       "      <th>1252</th>\n",
       "      <td>Arete</td>\n",
       "      <td>Nacional</td>\n",
       "      <td>1534</td>\n",
       "      <td>2015</td>\n",
       "      <td>68.0</td>\n",
       "      <td>U.S.A.</td>\n",
       "      <td>Forastero (Nacional)</td>\n",
       "      <td>Peru</td>\n",
       "      <td>North America</td>\n",
       "      <td>0</td>\n",
       "      <td>South America</td>\n",
       "    </tr>\n",
       "    <tr>\n",
       "      <th>1253</th>\n",
       "      <td>Fresco</td>\n",
       "      <td>Conacado, #212, LR, SC</td>\n",
       "      <td>642</td>\n",
       "      <td>2011</td>\n",
       "      <td>72.0</td>\n",
       "      <td>U.S.A.</td>\n",
       "      <td>Trinitario</td>\n",
       "      <td>Dominican Republic</td>\n",
       "      <td>North America</td>\n",
       "      <td>6</td>\n",
       "      <td>Caribbean</td>\n",
       "    </tr>\n",
       "    <tr>\n",
       "      <th>1254</th>\n",
       "      <td>Zak's</td>\n",
       "      <td>Madagascar, Batch 2</td>\n",
       "      <td>1578</td>\n",
       "      <td>2015</td>\n",
       "      <td>70.0</td>\n",
       "      <td>U.S.A.</td>\n",
       "      <td>Trinitario</td>\n",
       "      <td>Madagascar</td>\n",
       "      <td>North America</td>\n",
       "      <td>3</td>\n",
       "      <td>Africa</td>\n",
       "    </tr>\n",
       "  </tbody>\n",
       "</table>\n",
       "<p>1255 rows × 11 columns</p>\n",
       "</div>"
      ],
      "text/plain": [
       "                           Company                Specific Bean Origin   REF  \\\n",
       "0                   Willie's Cacao                          Rio Caribe   457   \n",
       "1               Beschle (Felchlin)  Ocumare, Premier Cru, Quizas No. 2   508   \n",
       "2                      Dark Forest                            Tanzania  1554   \n",
       "3     Brasstown aka It's Chocolate                          Cooproagro  1125   \n",
       "4                           Pralus                     Java, Indonesie    32   \n",
       "...                            ...                                 ...   ...   \n",
       "1250           Artisan du Chocolat                          Madagascar   363   \n",
       "1251                        Marana                               Cusco  1884   \n",
       "1252                         Arete                            Nacional  1534   \n",
       "1253                        Fresco              Conacado, #212, LR, SC   642   \n",
       "1254                         Zak's                 Madagascar, Batch 2  1578   \n",
       "\n",
       "      Review  Cocoa Percent Company Location             Bean Type  \\\n",
       "0       2009           72.0             U.K.            Trinitario   \n",
       "1       2010           72.0      Switzerland               Criollo   \n",
       "2       2015           70.0           U.S.A.               Criollo   \n",
       "3       2013           72.0           U.S.A.            Trinitario   \n",
       "4       2006           75.0           France               Criollo   \n",
       "...      ...            ...              ...                   ...   \n",
       "1250    2009           80.0             U.K.   Criollo, Trinitario   \n",
       "1251    2016           70.0             Peru               Criollo   \n",
       "1252    2015           68.0           U.S.A.  Forastero (Nacional)   \n",
       "1253    2011           72.0           U.S.A.            Trinitario   \n",
       "1254    2015           70.0           U.S.A.            Trinitario   \n",
       "\n",
       "       Broad Bean Origin Broad Company Location  SBO complexity  \\\n",
       "0              Venezuela                 Europe               1   \n",
       "1              Venezuela                 Europe               8   \n",
       "2               Tanzania          North America               0   \n",
       "3     Dominican Republic          North America               0   \n",
       "4              Indonesia                 Europe               2   \n",
       "...                  ...                    ...             ...   \n",
       "1250          Madagascar                 Europe               0   \n",
       "1251                Peru          South America               0   \n",
       "1252                Peru          North America               0   \n",
       "1253  Dominican Republic          North America               6   \n",
       "1254          Madagascar          North America               3   \n",
       "\n",
       "     Bean Origin World  \n",
       "0            Caribbean  \n",
       "1            Caribbean  \n",
       "2               Africa  \n",
       "3            Caribbean  \n",
       "4               Africa  \n",
       "...                ...  \n",
       "1250            Africa  \n",
       "1251     South America  \n",
       "1252     South America  \n",
       "1253         Caribbean  \n",
       "1254            Africa  \n",
       "\n",
       "[1255 rows x 11 columns]"
      ]
     },
     "execution_count": 60,
     "metadata": {},
     "output_type": "execute_result"
    }
   ],
   "source": [
    "pipeline.fit_transform(X_train, y_train)"
   ]
  },
  {
   "cell_type": "code",
   "execution_count": 61,
   "id": "a335da60",
   "metadata": {},
   "outputs": [],
   "source": [
    "X_test = pipeline.transform(X_test)"
   ]
  },
  {
   "cell_type": "code",
   "execution_count": 62,
   "id": "8f073ecb",
   "metadata": {},
   "outputs": [
    {
     "data": {
      "text/html": [
       "<div>\n",
       "<style scoped>\n",
       "    .dataframe tbody tr th:only-of-type {\n",
       "        vertical-align: middle;\n",
       "    }\n",
       "\n",
       "    .dataframe tbody tr th {\n",
       "        vertical-align: top;\n",
       "    }\n",
       "\n",
       "    .dataframe thead th {\n",
       "        text-align: right;\n",
       "    }\n",
       "</style>\n",
       "<table border=\"1\" class=\"dataframe\">\n",
       "  <thead>\n",
       "    <tr style=\"text-align: right;\">\n",
       "      <th></th>\n",
       "      <th>Company</th>\n",
       "      <th>Specific Bean Origin</th>\n",
       "      <th>REF</th>\n",
       "      <th>Review</th>\n",
       "      <th>Cocoa Percent</th>\n",
       "      <th>Company Location</th>\n",
       "      <th>Bean Type</th>\n",
       "      <th>Broad Bean Origin</th>\n",
       "      <th>Broad Company Location</th>\n",
       "      <th>SBO complexity</th>\n",
       "      <th>Bean Origin World</th>\n",
       "    </tr>\n",
       "  </thead>\n",
       "  <tbody>\n",
       "    <tr>\n",
       "      <th>0</th>\n",
       "      <td>Ohiyo</td>\n",
       "      <td>San Juan Estate, Gran Couva</td>\n",
       "      <td>1594</td>\n",
       "      <td>2015</td>\n",
       "      <td>70.0</td>\n",
       "      <td>U.S.A.</td>\n",
       "      <td>Trinitario</td>\n",
       "      <td>Trinidad</td>\n",
       "      <td>North America</td>\n",
       "      <td>5</td>\n",
       "      <td>Caribbean</td>\n",
       "    </tr>\n",
       "    <tr>\n",
       "      <th>1</th>\n",
       "      <td>Blanxart</td>\n",
       "      <td>Organic Dark</td>\n",
       "      <td>322</td>\n",
       "      <td>2009</td>\n",
       "      <td>72.0</td>\n",
       "      <td>Spain</td>\n",
       "      <td>Forastero (Arriba)</td>\n",
       "      <td>Ecuador</td>\n",
       "      <td>Europe</td>\n",
       "      <td>1</td>\n",
       "      <td>South America</td>\n",
       "    </tr>\n",
       "    <tr>\n",
       "      <th>2</th>\n",
       "      <td>Brazen</td>\n",
       "      <td>Maya Mountain</td>\n",
       "      <td>1518</td>\n",
       "      <td>2015</td>\n",
       "      <td>80.0</td>\n",
       "      <td>U.S.A.</td>\n",
       "      <td>Trinitario</td>\n",
       "      <td>Belize</td>\n",
       "      <td>North America</td>\n",
       "      <td>1</td>\n",
       "      <td>South America</td>\n",
       "    </tr>\n",
       "    <tr>\n",
       "      <th>3</th>\n",
       "      <td>Patric</td>\n",
       "      <td>Madagascar</td>\n",
       "      <td>439</td>\n",
       "      <td>2009</td>\n",
       "      <td>67.0</td>\n",
       "      <td>U.S.A.</td>\n",
       "      <td>Trinitario</td>\n",
       "      <td>Madagascar</td>\n",
       "      <td>North America</td>\n",
       "      <td>0</td>\n",
       "      <td>Africa</td>\n",
       "    </tr>\n",
       "    <tr>\n",
       "      <th>4</th>\n",
       "      <td>Potomac</td>\n",
       "      <td>Upala, Batch 12</td>\n",
       "      <td>607</td>\n",
       "      <td>2010</td>\n",
       "      <td>82.0</td>\n",
       "      <td>U.S.A.</td>\n",
       "      <td>Matina</td>\n",
       "      <td>Costa Rica</td>\n",
       "      <td>North America</td>\n",
       "      <td>3</td>\n",
       "      <td>Caribbean</td>\n",
       "    </tr>\n",
       "  </tbody>\n",
       "</table>\n",
       "</div>"
      ],
      "text/plain": [
       "    Company         Specific Bean Origin   REF  Review  Cocoa Percent  \\\n",
       "0     Ohiyo  San Juan Estate, Gran Couva  1594    2015           70.0   \n",
       "1  Blanxart                 Organic Dark   322    2009           72.0   \n",
       "2    Brazen                Maya Mountain  1518    2015           80.0   \n",
       "3    Patric                   Madagascar   439    2009           67.0   \n",
       "4   Potomac              Upala, Batch 12   607    2010           82.0   \n",
       "\n",
       "  Company Location           Bean Type Broad Bean Origin  \\\n",
       "0           U.S.A.          Trinitario          Trinidad   \n",
       "1            Spain  Forastero (Arriba)           Ecuador   \n",
       "2           U.S.A.          Trinitario            Belize   \n",
       "3           U.S.A.          Trinitario        Madagascar   \n",
       "4           U.S.A.              Matina        Costa Rica   \n",
       "\n",
       "  Broad Company Location  SBO complexity Bean Origin World  \n",
       "0          North America               5         Caribbean  \n",
       "1                 Europe               1     South America  \n",
       "2          North America               1     South America  \n",
       "3          North America               0            Africa  \n",
       "4          North America               3         Caribbean  "
      ]
     },
     "execution_count": 62,
     "metadata": {},
     "output_type": "execute_result"
    }
   ],
   "source": [
    "X_test.head()"
   ]
  },
  {
   "cell_type": "markdown",
   "id": "a53c7ebd",
   "metadata": {},
   "source": [
    "Это была проверка того, что трансформация данных работает как задумано"
   ]
  },
  {
   "cell_type": "markdown",
   "id": "7d6278b0",
   "metadata": {},
   "source": [
    "## 8.4 Regression class (for estimation of rating)"
   ]
  },
  {
   "cell_type": "markdown",
   "id": "7359f598",
   "metadata": {},
   "source": [
    "Напишем собственный класс регрессии на основе Catboost, который можно встроить в наш pipeline и протестируем его работу"
   ]
  },
  {
   "cell_type": "code",
   "execution_count": 13,
   "id": "2f4cb430",
   "metadata": {},
   "outputs": [],
   "source": [
    "from catboost import CatBoostRegressor"
   ]
  },
  {
   "cell_type": "code",
   "execution_count": 14,
   "id": "88e88463",
   "metadata": {},
   "outputs": [],
   "source": [
    "class MyCatBoostRegressor(BaseEstimator, RegressorMixin):\n",
    "    \n",
    "    \"\"\"\n",
    "    n_trial - число итераций обучения для Optuna\n",
    "    \"\"\"\n",
    "    def __init__(self, catboost_params:dict=None, tunning:bool=False, n_trials:int=3):\n",
    "        self.tunning = tunning\n",
    "        self.n_trials = n_trials\n",
    "        self.model = CatBoostRegressor()\n",
    "        self.catboost_params = catboost_params\n",
    "        \n",
    "        \n",
    "    def hyperparameters_tunning(self, X:pd.DataFrame, y:pd.Series, categorical_features_indices: pd.Series) -> CatBoostRegressor:\n",
    "        \"\"\"Подбор гиперпараметров модели\"\"\"\n",
    "        X_train, X_val, y_train, y_val = train_test_split(X, y, test_size=0.3)\n",
    "        \n",
    "        def objective(trial):\n",
    "            param = {\n",
    "                \"n_estimators\": trial.suggest_int(\"n_estimators\", 10, 1000),\n",
    "                \"max_depth\": trial.suggest_int(\"max_depth\", 1, 10),\n",
    "                \"learning_rate\": trial.suggest_float(\"learning_rate\", 0.001, 0.1, step=0.001)\n",
    "            }\n",
    "\n",
    "            estimator = CatBoostRegressor(**param,\n",
    "                                          cat_features=categorical_features_indices,\n",
    "                                          verbose=False)\n",
    "\n",
    "            estimator.fit(X_train, y_train)\n",
    "            pred = estimator.predict(X_val)\n",
    "\n",
    "            return mean_squared_error(y_val, pred, squared=False)\n",
    "\n",
    "        study = optuna.create_study(direction=\"minimize\")\n",
    "        study.optimize(objective, n_trials=self.n_trials, n_jobs=-1)\n",
    "        #print(study.best_trial)\n",
    "        \n",
    "        self.best_params = study.best_params\n",
    "        print(\"Best params:\", study.best_trial.params)\n",
    "        best_model = CatBoostRegressor(**study.best_params,\n",
    "                                       cat_features=categorical_features_indices,\n",
    "                                       logging_level='Silent')\n",
    "        \n",
    "        best_model.fit(X_train, y_train)\n",
    "        y_pred = best_model.predict(X_val)\n",
    "        \n",
    "        print(f\"Best MSE on val = {mean_squared_error(y_val, y_pred)}\")\n",
    "        print(f\"Best R2 on val = {r2_score(y_val, y_pred)}\")\n",
    "        return best_model\n",
    "        \n",
    "        \n",
    "    def fit(self, X: pd.DataFrame, y: pd.Series):\n",
    "        \"\"\"Обучение регрессора\"\"\"\n",
    "        #X, y = check_X_y(X, y)\n",
    "        #self.X_ = X\n",
    "        #self.y_ = y\n",
    "        categorical_features_indices = np.where(X.dtypes == object)[0]\n",
    "        if self.catboost_params == None:\n",
    "            self.model = CatBoostRegressor(cat_features=categorical_features_indices,\n",
    "                                          logging_level='Silent')\n",
    "        else:\n",
    "            self.model = CatBoostRegressor(**self.catboost_params)\n",
    "        if self.tunning:\n",
    "            self.model = self.hyperparameters_tunning(X, y, categorical_features_indices)\n",
    "        self.model.fit(X, y)\n",
    "        self.df_importance = pd.DataFrame({'Feature': self.model.feature_names_,\n",
    "                                           'CatBoost Importance': self.model.feature_importances_})\\\n",
    "                                           .sort_values(by='CatBoost Importance', ascending=False)\n",
    "        \n",
    "        return self\n",
    "    \n",
    "    \n",
    "    def cross_validate(self, X: pd.DataFrame, y: pd.Series) -> None:\n",
    "        \"\"\"Кроссвалидация моедли\"\"\"\n",
    "        print(\"Cross validation for model with parameters\", self.model.get_params(), sep='\\n')\n",
    "        cv_scores = cross_val_score(self.model, X, y, cv=3, scoring='r2')\n",
    "        print(\"R2 scores\")\n",
    "        print(f\"All CV scores = {', '.join(map(lambda x: str(round(x, 3)), cv_scores))}\")\n",
    "        print(f\"Mean CV score = {round(cv_scores.mean(), 3)}\")\n",
    "        \n",
    "        \n",
    "    def predict(self, X: pd.DataFrame) -> np.ndarray:\n",
    "        y_pred = self.model.predict(X)\n",
    "        return y_pred\n",
    "    "
   ]
  },
  {
   "cell_type": "code",
   "execution_count": 64,
   "id": "e24bfc35",
   "metadata": {},
   "outputs": [],
   "source": [
    "pipeline = Pipeline(steps=[\n",
    "    ('data_preprocessor', DataPreprocessor()),\n",
    "    ('feature_adder', FeatureEngineering()),\n",
    "    ('regressor', MyCatBoostRegressor())\n",
    "    ])"
   ]
  },
  {
   "cell_type": "code",
   "execution_count": 65,
   "id": "c79dfb95",
   "metadata": {},
   "outputs": [
    {
     "data": {
      "text/html": [
       "<style>#sk-container-id-1 {color: black;background-color: white;}#sk-container-id-1 pre{padding: 0;}#sk-container-id-1 div.sk-toggleable {background-color: white;}#sk-container-id-1 label.sk-toggleable__label {cursor: pointer;display: block;width: 100%;margin-bottom: 0;padding: 0.3em;box-sizing: border-box;text-align: center;}#sk-container-id-1 label.sk-toggleable__label-arrow:before {content: \"▸\";float: left;margin-right: 0.25em;color: #696969;}#sk-container-id-1 label.sk-toggleable__label-arrow:hover:before {color: black;}#sk-container-id-1 div.sk-estimator:hover label.sk-toggleable__label-arrow:before {color: black;}#sk-container-id-1 div.sk-toggleable__content {max-height: 0;max-width: 0;overflow: hidden;text-align: left;background-color: #f0f8ff;}#sk-container-id-1 div.sk-toggleable__content pre {margin: 0.2em;color: black;border-radius: 0.25em;background-color: #f0f8ff;}#sk-container-id-1 input.sk-toggleable__control:checked~div.sk-toggleable__content {max-height: 200px;max-width: 100%;overflow: auto;}#sk-container-id-1 input.sk-toggleable__control:checked~label.sk-toggleable__label-arrow:before {content: \"▾\";}#sk-container-id-1 div.sk-estimator input.sk-toggleable__control:checked~label.sk-toggleable__label {background-color: #d4ebff;}#sk-container-id-1 div.sk-label input.sk-toggleable__control:checked~label.sk-toggleable__label {background-color: #d4ebff;}#sk-container-id-1 input.sk-hidden--visually {border: 0;clip: rect(1px 1px 1px 1px);clip: rect(1px, 1px, 1px, 1px);height: 1px;margin: -1px;overflow: hidden;padding: 0;position: absolute;width: 1px;}#sk-container-id-1 div.sk-estimator {font-family: monospace;background-color: #f0f8ff;border: 1px dotted black;border-radius: 0.25em;box-sizing: border-box;margin-bottom: 0.5em;}#sk-container-id-1 div.sk-estimator:hover {background-color: #d4ebff;}#sk-container-id-1 div.sk-parallel-item::after {content: \"\";width: 100%;border-bottom: 1px solid gray;flex-grow: 1;}#sk-container-id-1 div.sk-label:hover label.sk-toggleable__label {background-color: #d4ebff;}#sk-container-id-1 div.sk-serial::before {content: \"\";position: absolute;border-left: 1px solid gray;box-sizing: border-box;top: 0;bottom: 0;left: 50%;z-index: 0;}#sk-container-id-1 div.sk-serial {display: flex;flex-direction: column;align-items: center;background-color: white;padding-right: 0.2em;padding-left: 0.2em;position: relative;}#sk-container-id-1 div.sk-item {position: relative;z-index: 1;}#sk-container-id-1 div.sk-parallel {display: flex;align-items: stretch;justify-content: center;background-color: white;position: relative;}#sk-container-id-1 div.sk-item::before, #sk-container-id-1 div.sk-parallel-item::before {content: \"\";position: absolute;border-left: 1px solid gray;box-sizing: border-box;top: 0;bottom: 0;left: 50%;z-index: -1;}#sk-container-id-1 div.sk-parallel-item {display: flex;flex-direction: column;z-index: 1;position: relative;background-color: white;}#sk-container-id-1 div.sk-parallel-item:first-child::after {align-self: flex-end;width: 50%;}#sk-container-id-1 div.sk-parallel-item:last-child::after {align-self: flex-start;width: 50%;}#sk-container-id-1 div.sk-parallel-item:only-child::after {width: 0;}#sk-container-id-1 div.sk-dashed-wrapped {border: 1px dashed gray;margin: 0 0.4em 0.5em 0.4em;box-sizing: border-box;padding-bottom: 0.4em;background-color: white;}#sk-container-id-1 div.sk-label label {font-family: monospace;font-weight: bold;display: inline-block;line-height: 1.2em;}#sk-container-id-1 div.sk-label-container {text-align: center;}#sk-container-id-1 div.sk-container {/* jupyter's `normalize.less` sets `[hidden] { display: none; }` but bootstrap.min.css set `[hidden] { display: none !important; }` so we also need the `!important` here to be able to override the default hidden behavior on the sphinx rendered scikit-learn.org. See: https://github.com/scikit-learn/scikit-learn/issues/21755 */display: inline-block !important;position: relative;}#sk-container-id-1 div.sk-text-repr-fallback {display: none;}</style><div id=\"sk-container-id-1\" class=\"sk-top-container\"><div class=\"sk-text-repr-fallback\"><pre>Pipeline(steps=[(&#x27;data_preprocessor&#x27;, DataPreprocessor()),\n",
       "                (&#x27;feature_adder&#x27;, FeatureEngineering()),\n",
       "                (&#x27;regressor&#x27;, MyCatBoostRegressor())])</pre><b>In a Jupyter environment, please rerun this cell to show the HTML representation or trust the notebook. <br />On GitHub, the HTML representation is unable to render, please try loading this page with nbviewer.org.</b></div><div class=\"sk-container\" hidden><div class=\"sk-item sk-dashed-wrapped\"><div class=\"sk-label-container\"><div class=\"sk-label sk-toggleable\"><input class=\"sk-toggleable__control sk-hidden--visually\" id=\"sk-estimator-id-1\" type=\"checkbox\" ><label for=\"sk-estimator-id-1\" class=\"sk-toggleable__label sk-toggleable__label-arrow\">Pipeline</label><div class=\"sk-toggleable__content\"><pre>Pipeline(steps=[(&#x27;data_preprocessor&#x27;, DataPreprocessor()),\n",
       "                (&#x27;feature_adder&#x27;, FeatureEngineering()),\n",
       "                (&#x27;regressor&#x27;, MyCatBoostRegressor())])</pre></div></div></div><div class=\"sk-serial\"><div class=\"sk-item\"><div class=\"sk-estimator sk-toggleable\"><input class=\"sk-toggleable__control sk-hidden--visually\" id=\"sk-estimator-id-2\" type=\"checkbox\" ><label for=\"sk-estimator-id-2\" class=\"sk-toggleable__label sk-toggleable__label-arrow\">DataPreprocessor</label><div class=\"sk-toggleable__content\"><pre>DataPreprocessor()</pre></div></div></div><div class=\"sk-item\"><div class=\"sk-estimator sk-toggleable\"><input class=\"sk-toggleable__control sk-hidden--visually\" id=\"sk-estimator-id-3\" type=\"checkbox\" ><label for=\"sk-estimator-id-3\" class=\"sk-toggleable__label sk-toggleable__label-arrow\">FeatureEngineering</label><div class=\"sk-toggleable__content\"><pre>FeatureEngineering()</pre></div></div></div><div class=\"sk-item\"><div class=\"sk-estimator sk-toggleable\"><input class=\"sk-toggleable__control sk-hidden--visually\" id=\"sk-estimator-id-4\" type=\"checkbox\" ><label for=\"sk-estimator-id-4\" class=\"sk-toggleable__label sk-toggleable__label-arrow\">MyCatBoostRegressor</label><div class=\"sk-toggleable__content\"><pre>MyCatBoostRegressor()</pre></div></div></div></div></div></div></div>"
      ],
      "text/plain": [
       "Pipeline(steps=[('data_preprocessor', DataPreprocessor()),\n",
       "                ('feature_adder', FeatureEngineering()),\n",
       "                ('regressor', MyCatBoostRegressor())])"
      ]
     },
     "execution_count": 65,
     "metadata": {},
     "output_type": "execute_result"
    }
   ],
   "source": [
    "pipeline"
   ]
  },
  {
   "cell_type": "code",
   "execution_count": 66,
   "id": "9388dc53",
   "metadata": {},
   "outputs": [
    {
     "data": {
      "text/html": [
       "<style>#sk-container-id-2 {color: black;background-color: white;}#sk-container-id-2 pre{padding: 0;}#sk-container-id-2 div.sk-toggleable {background-color: white;}#sk-container-id-2 label.sk-toggleable__label {cursor: pointer;display: block;width: 100%;margin-bottom: 0;padding: 0.3em;box-sizing: border-box;text-align: center;}#sk-container-id-2 label.sk-toggleable__label-arrow:before {content: \"▸\";float: left;margin-right: 0.25em;color: #696969;}#sk-container-id-2 label.sk-toggleable__label-arrow:hover:before {color: black;}#sk-container-id-2 div.sk-estimator:hover label.sk-toggleable__label-arrow:before {color: black;}#sk-container-id-2 div.sk-toggleable__content {max-height: 0;max-width: 0;overflow: hidden;text-align: left;background-color: #f0f8ff;}#sk-container-id-2 div.sk-toggleable__content pre {margin: 0.2em;color: black;border-radius: 0.25em;background-color: #f0f8ff;}#sk-container-id-2 input.sk-toggleable__control:checked~div.sk-toggleable__content {max-height: 200px;max-width: 100%;overflow: auto;}#sk-container-id-2 input.sk-toggleable__control:checked~label.sk-toggleable__label-arrow:before {content: \"▾\";}#sk-container-id-2 div.sk-estimator input.sk-toggleable__control:checked~label.sk-toggleable__label {background-color: #d4ebff;}#sk-container-id-2 div.sk-label input.sk-toggleable__control:checked~label.sk-toggleable__label {background-color: #d4ebff;}#sk-container-id-2 input.sk-hidden--visually {border: 0;clip: rect(1px 1px 1px 1px);clip: rect(1px, 1px, 1px, 1px);height: 1px;margin: -1px;overflow: hidden;padding: 0;position: absolute;width: 1px;}#sk-container-id-2 div.sk-estimator {font-family: monospace;background-color: #f0f8ff;border: 1px dotted black;border-radius: 0.25em;box-sizing: border-box;margin-bottom: 0.5em;}#sk-container-id-2 div.sk-estimator:hover {background-color: #d4ebff;}#sk-container-id-2 div.sk-parallel-item::after {content: \"\";width: 100%;border-bottom: 1px solid gray;flex-grow: 1;}#sk-container-id-2 div.sk-label:hover label.sk-toggleable__label {background-color: #d4ebff;}#sk-container-id-2 div.sk-serial::before {content: \"\";position: absolute;border-left: 1px solid gray;box-sizing: border-box;top: 0;bottom: 0;left: 50%;z-index: 0;}#sk-container-id-2 div.sk-serial {display: flex;flex-direction: column;align-items: center;background-color: white;padding-right: 0.2em;padding-left: 0.2em;position: relative;}#sk-container-id-2 div.sk-item {position: relative;z-index: 1;}#sk-container-id-2 div.sk-parallel {display: flex;align-items: stretch;justify-content: center;background-color: white;position: relative;}#sk-container-id-2 div.sk-item::before, #sk-container-id-2 div.sk-parallel-item::before {content: \"\";position: absolute;border-left: 1px solid gray;box-sizing: border-box;top: 0;bottom: 0;left: 50%;z-index: -1;}#sk-container-id-2 div.sk-parallel-item {display: flex;flex-direction: column;z-index: 1;position: relative;background-color: white;}#sk-container-id-2 div.sk-parallel-item:first-child::after {align-self: flex-end;width: 50%;}#sk-container-id-2 div.sk-parallel-item:last-child::after {align-self: flex-start;width: 50%;}#sk-container-id-2 div.sk-parallel-item:only-child::after {width: 0;}#sk-container-id-2 div.sk-dashed-wrapped {border: 1px dashed gray;margin: 0 0.4em 0.5em 0.4em;box-sizing: border-box;padding-bottom: 0.4em;background-color: white;}#sk-container-id-2 div.sk-label label {font-family: monospace;font-weight: bold;display: inline-block;line-height: 1.2em;}#sk-container-id-2 div.sk-label-container {text-align: center;}#sk-container-id-2 div.sk-container {/* jupyter's `normalize.less` sets `[hidden] { display: none; }` but bootstrap.min.css set `[hidden] { display: none !important; }` so we also need the `!important` here to be able to override the default hidden behavior on the sphinx rendered scikit-learn.org. See: https://github.com/scikit-learn/scikit-learn/issues/21755 */display: inline-block !important;position: relative;}#sk-container-id-2 div.sk-text-repr-fallback {display: none;}</style><div id=\"sk-container-id-2\" class=\"sk-top-container\"><div class=\"sk-text-repr-fallback\"><pre>Pipeline(steps=[(&#x27;data_preprocessor&#x27;, DataPreprocessor()),\n",
       "                (&#x27;feature_adder&#x27;, FeatureEngineering()),\n",
       "                (&#x27;regressor&#x27;, MyCatBoostRegressor())])</pre><b>In a Jupyter environment, please rerun this cell to show the HTML representation or trust the notebook. <br />On GitHub, the HTML representation is unable to render, please try loading this page with nbviewer.org.</b></div><div class=\"sk-container\" hidden><div class=\"sk-item sk-dashed-wrapped\"><div class=\"sk-label-container\"><div class=\"sk-label sk-toggleable\"><input class=\"sk-toggleable__control sk-hidden--visually\" id=\"sk-estimator-id-5\" type=\"checkbox\" ><label for=\"sk-estimator-id-5\" class=\"sk-toggleable__label sk-toggleable__label-arrow\">Pipeline</label><div class=\"sk-toggleable__content\"><pre>Pipeline(steps=[(&#x27;data_preprocessor&#x27;, DataPreprocessor()),\n",
       "                (&#x27;feature_adder&#x27;, FeatureEngineering()),\n",
       "                (&#x27;regressor&#x27;, MyCatBoostRegressor())])</pre></div></div></div><div class=\"sk-serial\"><div class=\"sk-item\"><div class=\"sk-estimator sk-toggleable\"><input class=\"sk-toggleable__control sk-hidden--visually\" id=\"sk-estimator-id-6\" type=\"checkbox\" ><label for=\"sk-estimator-id-6\" class=\"sk-toggleable__label sk-toggleable__label-arrow\">DataPreprocessor</label><div class=\"sk-toggleable__content\"><pre>DataPreprocessor()</pre></div></div></div><div class=\"sk-item\"><div class=\"sk-estimator sk-toggleable\"><input class=\"sk-toggleable__control sk-hidden--visually\" id=\"sk-estimator-id-7\" type=\"checkbox\" ><label for=\"sk-estimator-id-7\" class=\"sk-toggleable__label sk-toggleable__label-arrow\">FeatureEngineering</label><div class=\"sk-toggleable__content\"><pre>FeatureEngineering()</pre></div></div></div><div class=\"sk-item\"><div class=\"sk-estimator sk-toggleable\"><input class=\"sk-toggleable__control sk-hidden--visually\" id=\"sk-estimator-id-8\" type=\"checkbox\" ><label for=\"sk-estimator-id-8\" class=\"sk-toggleable__label sk-toggleable__label-arrow\">MyCatBoostRegressor</label><div class=\"sk-toggleable__content\"><pre>MyCatBoostRegressor()</pre></div></div></div></div></div></div></div>"
      ],
      "text/plain": [
       "Pipeline(steps=[('data_preprocessor', DataPreprocessor()),\n",
       "                ('feature_adder', FeatureEngineering()),\n",
       "                ('regressor', MyCatBoostRegressor())])"
      ]
     },
     "execution_count": 66,
     "metadata": {},
     "output_type": "execute_result"
    }
   ],
   "source": [
    "df_train = pd.read_csv('data_initial/chocolate_train.csv')\n",
    "df_test = pd.read_csv('data_initial/chocolate_test_new.csv')\n",
    "\n",
    "X_train = df_train.drop('Rating', axis=1)\n",
    "y_train = df_train['Rating']\n",
    "\n",
    "X_test = df_test\n",
    "\n",
    "pipeline.fit(X_train, y_train)"
   ]
  },
  {
   "cell_type": "code",
   "execution_count": 68,
   "id": "e08259a6",
   "metadata": {
    "scrolled": false
   },
   "outputs": [
    {
     "data": {
      "text/plain": [
       "array([3.29967614, 2.92639963, 3.01277952, 3.51639906, 2.92220467,\n",
       "       2.89483375, 3.06116488, 3.14808   , 3.20538993, 2.79258897])"
      ]
     },
     "execution_count": 68,
     "metadata": {},
     "output_type": "execute_result"
    }
   ],
   "source": [
    "pipeline.predict(X_test)[:10]"
   ]
  },
  {
   "cell_type": "markdown",
   "id": "d5370e35",
   "metadata": {},
   "source": [
    "# 9 Stacking"
   ]
  },
  {
   "cell_type": "code",
   "execution_count": 69,
   "id": "77acf2c2",
   "metadata": {},
   "outputs": [],
   "source": [
    "def make_prediction(model, data_test, filename):\n",
    "    X_test_ = data_test.copy()\n",
    "    pred = model.predict(X_test_)\n",
    "    df_submission = X_test_\n",
    "    df_submission['id'] = np.arange(len(X_test_))\n",
    "    df_submission['Rating'] = pred\n",
    "    df_submission = df_submission[['id','Rating']]\n",
    "    df_submission.to_csv(f\"{filename}.csv\", index=False)"
   ]
  },
  {
   "cell_type": "markdown",
   "id": "17f7856f",
   "metadata": {},
   "source": [
    "## 9.1 Stacking from SKLearn Linear model"
   ]
  },
  {
   "cell_type": "markdown",
   "id": "7e4f665a",
   "metadata": {},
   "source": [
    "Перезагружаем исходные данные и создаём два пайплайна. Каждый из пайплайнов принимает на вход эти данные. Один из них заполняет пропуски с помощью классификатора CatBoost, другой - уникальным значением \"Unknown\". Затем обучаем CatBoost регрессоры на каждой из моделей и применяем stacking с помощью линейной регрессии. "
   ]
  },
  {
   "cell_type": "code",
   "execution_count": 70,
   "id": "28ba067d",
   "metadata": {},
   "outputs": [],
   "source": [
    "df_train = pd.read_csv('data_initial/chocolate_train.csv')\n",
    "df_test = pd.read_csv('data_initial/chocolate_test_new.csv')\n",
    "\n",
    "X_train = df_train.drop('Rating', axis=1)\n",
    "y_train = df_train['Rating']\n",
    "\n",
    "X_test = df_test"
   ]
  },
  {
   "cell_type": "code",
   "execution_count": 75,
   "id": "85e35e32",
   "metadata": {},
   "outputs": [],
   "source": [
    "pipeline1 = Pipeline(steps=[\n",
    "    ('data_preprocessor', DataPreprocessor()),\n",
    "    ('feature_adder', FeatureEngineering(add_bean_origin_world=True)),\n",
    "    ('regressor', MyCatBoostRegressor(catboost_params=cb_regressor_params))\n",
    "    ])\n",
    "\n",
    "pipeline2 = Pipeline(steps=[\n",
    "    ('data_preprocessor', DataPreprocessor()),\n",
    "    ('feature_adder_1', FeatureEngineering(add_bean_origin_world=False)),\n",
    "    ('feature_fixer_1', FeatureFixer('Broad Bean Origin', ['Bean Type'], n_top=11, catboost_params=fixer1_params)),\n",
    "    ('feature_fixer_2', FeatureFixer('Bean Type', [], n_top=7, catboost_params=fixer2_params)),\n",
    "    ('feature_adder_2', FeatureEngineering(add_bean_origin_world=True)),\n",
    "    ('regressor', MyCatBoostRegressor(catboost_params=cb_regressor_new_params))\n",
    "    ])"
   ]
  },
  {
   "cell_type": "code",
   "execution_count": 77,
   "id": "7094c0b6",
   "metadata": {},
   "outputs": [
    {
     "data": {
      "text/html": [
       "<style>#sk-container-id-3 {color: black;background-color: white;}#sk-container-id-3 pre{padding: 0;}#sk-container-id-3 div.sk-toggleable {background-color: white;}#sk-container-id-3 label.sk-toggleable__label {cursor: pointer;display: block;width: 100%;margin-bottom: 0;padding: 0.3em;box-sizing: border-box;text-align: center;}#sk-container-id-3 label.sk-toggleable__label-arrow:before {content: \"▸\";float: left;margin-right: 0.25em;color: #696969;}#sk-container-id-3 label.sk-toggleable__label-arrow:hover:before {color: black;}#sk-container-id-3 div.sk-estimator:hover label.sk-toggleable__label-arrow:before {color: black;}#sk-container-id-3 div.sk-toggleable__content {max-height: 0;max-width: 0;overflow: hidden;text-align: left;background-color: #f0f8ff;}#sk-container-id-3 div.sk-toggleable__content pre {margin: 0.2em;color: black;border-radius: 0.25em;background-color: #f0f8ff;}#sk-container-id-3 input.sk-toggleable__control:checked~div.sk-toggleable__content {max-height: 200px;max-width: 100%;overflow: auto;}#sk-container-id-3 input.sk-toggleable__control:checked~label.sk-toggleable__label-arrow:before {content: \"▾\";}#sk-container-id-3 div.sk-estimator input.sk-toggleable__control:checked~label.sk-toggleable__label {background-color: #d4ebff;}#sk-container-id-3 div.sk-label input.sk-toggleable__control:checked~label.sk-toggleable__label {background-color: #d4ebff;}#sk-container-id-3 input.sk-hidden--visually {border: 0;clip: rect(1px 1px 1px 1px);clip: rect(1px, 1px, 1px, 1px);height: 1px;margin: -1px;overflow: hidden;padding: 0;position: absolute;width: 1px;}#sk-container-id-3 div.sk-estimator {font-family: monospace;background-color: #f0f8ff;border: 1px dotted black;border-radius: 0.25em;box-sizing: border-box;margin-bottom: 0.5em;}#sk-container-id-3 div.sk-estimator:hover {background-color: #d4ebff;}#sk-container-id-3 div.sk-parallel-item::after {content: \"\";width: 100%;border-bottom: 1px solid gray;flex-grow: 1;}#sk-container-id-3 div.sk-label:hover label.sk-toggleable__label {background-color: #d4ebff;}#sk-container-id-3 div.sk-serial::before {content: \"\";position: absolute;border-left: 1px solid gray;box-sizing: border-box;top: 0;bottom: 0;left: 50%;z-index: 0;}#sk-container-id-3 div.sk-serial {display: flex;flex-direction: column;align-items: center;background-color: white;padding-right: 0.2em;padding-left: 0.2em;position: relative;}#sk-container-id-3 div.sk-item {position: relative;z-index: 1;}#sk-container-id-3 div.sk-parallel {display: flex;align-items: stretch;justify-content: center;background-color: white;position: relative;}#sk-container-id-3 div.sk-item::before, #sk-container-id-3 div.sk-parallel-item::before {content: \"\";position: absolute;border-left: 1px solid gray;box-sizing: border-box;top: 0;bottom: 0;left: 50%;z-index: -1;}#sk-container-id-3 div.sk-parallel-item {display: flex;flex-direction: column;z-index: 1;position: relative;background-color: white;}#sk-container-id-3 div.sk-parallel-item:first-child::after {align-self: flex-end;width: 50%;}#sk-container-id-3 div.sk-parallel-item:last-child::after {align-self: flex-start;width: 50%;}#sk-container-id-3 div.sk-parallel-item:only-child::after {width: 0;}#sk-container-id-3 div.sk-dashed-wrapped {border: 1px dashed gray;margin: 0 0.4em 0.5em 0.4em;box-sizing: border-box;padding-bottom: 0.4em;background-color: white;}#sk-container-id-3 div.sk-label label {font-family: monospace;font-weight: bold;display: inline-block;line-height: 1.2em;}#sk-container-id-3 div.sk-label-container {text-align: center;}#sk-container-id-3 div.sk-container {/* jupyter's `normalize.less` sets `[hidden] { display: none; }` but bootstrap.min.css set `[hidden] { display: none !important; }` so we also need the `!important` here to be able to override the default hidden behavior on the sphinx rendered scikit-learn.org. See: https://github.com/scikit-learn/scikit-learn/issues/21755 */display: inline-block !important;position: relative;}#sk-container-id-3 div.sk-text-repr-fallback {display: none;}</style><div id=\"sk-container-id-3\" class=\"sk-top-container\"><div class=\"sk-text-repr-fallback\"><pre>StackingRegressor(estimators=[(&#x27;CatBoost_default&#x27;,\n",
       "                               Pipeline(steps=[(&#x27;data_preprocessor&#x27;,\n",
       "                                                DataPreprocessor()),\n",
       "                                               (&#x27;feature_adder&#x27;,\n",
       "                                                FeatureEngineering(add_bean_origin_world=True)),\n",
       "                                               (&#x27;regressor&#x27;,\n",
       "                                                MyCatBoostRegressor(catboost_params={&#x27;cat_features&#x27;: array([ 0,  1,  5,  6,  7,  8, 10]),\n",
       "                                                                                     &#x27;learning_rate&#x27;: 0.181,\n",
       "                                                                                     &#x27;logging_level&#x27;: &#x27;Silent&#x27;,\n",
       "                                                                                     &#x27;loss_function&#x27;: &#x27;RMSE&#x27;,\n",
       "                                                                                     &#x27;max_depth&#x27;: 2,\n",
       "                                                                                     &#x27;n_es...\n",
       "                                                                              &#x27;n_estimators&#x27;: 782},\n",
       "                                                             cols_to_drop=[],\n",
       "                                                             column=&#x27;Bean Type&#x27;,\n",
       "                                                             n_top=7)),\n",
       "                                               (&#x27;feature_adder_2&#x27;,\n",
       "                                                FeatureEngineering(add_bean_origin_world=True)),\n",
       "                                               (&#x27;regressor&#x27;,\n",
       "                                                MyCatBoostRegressor(catboost_params={&#x27;cat_features&#x27;: array([ 0,  1,  5,  6,  7,  8, 10]),\n",
       "                                                                                     &#x27;learning_rate&#x27;: 0.029,\n",
       "                                                                                     &#x27;logging_level&#x27;: &#x27;Silent&#x27;,\n",
       "                                                                                     &#x27;loss_function&#x27;: &#x27;RMSE&#x27;,\n",
       "                                                                                     &#x27;max_depth&#x27;: 5,\n",
       "                                                                                     &#x27;n_estimators&#x27;: 706}))]))],\n",
       "                  final_estimator=LinearRegression())</pre><b>In a Jupyter environment, please rerun this cell to show the HTML representation or trust the notebook. <br />On GitHub, the HTML representation is unable to render, please try loading this page with nbviewer.org.</b></div><div class=\"sk-container\" hidden><div class=\"sk-item sk-dashed-wrapped\"><div class=\"sk-label-container\"><div class=\"sk-label sk-toggleable\"><input class=\"sk-toggleable__control sk-hidden--visually\" id=\"sk-estimator-id-9\" type=\"checkbox\" ><label for=\"sk-estimator-id-9\" class=\"sk-toggleable__label sk-toggleable__label-arrow\">StackingRegressor</label><div class=\"sk-toggleable__content\"><pre>StackingRegressor(estimators=[(&#x27;CatBoost_default&#x27;,\n",
       "                               Pipeline(steps=[(&#x27;data_preprocessor&#x27;,\n",
       "                                                DataPreprocessor()),\n",
       "                                               (&#x27;feature_adder&#x27;,\n",
       "                                                FeatureEngineering(add_bean_origin_world=True)),\n",
       "                                               (&#x27;regressor&#x27;,\n",
       "                                                MyCatBoostRegressor(catboost_params={&#x27;cat_features&#x27;: array([ 0,  1,  5,  6,  7,  8, 10]),\n",
       "                                                                                     &#x27;learning_rate&#x27;: 0.181,\n",
       "                                                                                     &#x27;logging_level&#x27;: &#x27;Silent&#x27;,\n",
       "                                                                                     &#x27;loss_function&#x27;: &#x27;RMSE&#x27;,\n",
       "                                                                                     &#x27;max_depth&#x27;: 2,\n",
       "                                                                                     &#x27;n_es...\n",
       "                                                                              &#x27;n_estimators&#x27;: 782},\n",
       "                                                             cols_to_drop=[],\n",
       "                                                             column=&#x27;Bean Type&#x27;,\n",
       "                                                             n_top=7)),\n",
       "                                               (&#x27;feature_adder_2&#x27;,\n",
       "                                                FeatureEngineering(add_bean_origin_world=True)),\n",
       "                                               (&#x27;regressor&#x27;,\n",
       "                                                MyCatBoostRegressor(catboost_params={&#x27;cat_features&#x27;: array([ 0,  1,  5,  6,  7,  8, 10]),\n",
       "                                                                                     &#x27;learning_rate&#x27;: 0.029,\n",
       "                                                                                     &#x27;logging_level&#x27;: &#x27;Silent&#x27;,\n",
       "                                                                                     &#x27;loss_function&#x27;: &#x27;RMSE&#x27;,\n",
       "                                                                                     &#x27;max_depth&#x27;: 5,\n",
       "                                                                                     &#x27;n_estimators&#x27;: 706}))]))],\n",
       "                  final_estimator=LinearRegression())</pre></div></div></div><div class=\"sk-serial\"><div class=\"sk-item\"><div class=\"sk-parallel\"><div class=\"sk-parallel-item\"><div class=\"sk-item\"><div class=\"sk-label-container\"><div class=\"sk-label sk-toggleable\"><label>CatBoost_default</label></div></div><div class=\"sk-serial\"><div class=\"sk-item\"><div class=\"sk-serial\"><div class=\"sk-item\"><div class=\"sk-estimator sk-toggleable\"><input class=\"sk-toggleable__control sk-hidden--visually\" id=\"sk-estimator-id-10\" type=\"checkbox\" ><label for=\"sk-estimator-id-10\" class=\"sk-toggleable__label sk-toggleable__label-arrow\">DataPreprocessor</label><div class=\"sk-toggleable__content\"><pre>DataPreprocessor()</pre></div></div></div><div class=\"sk-item\"><div class=\"sk-estimator sk-toggleable\"><input class=\"sk-toggleable__control sk-hidden--visually\" id=\"sk-estimator-id-11\" type=\"checkbox\" ><label for=\"sk-estimator-id-11\" class=\"sk-toggleable__label sk-toggleable__label-arrow\">FeatureEngineering</label><div class=\"sk-toggleable__content\"><pre>FeatureEngineering(add_bean_origin_world=True)</pre></div></div></div><div class=\"sk-item\"><div class=\"sk-estimator sk-toggleable\"><input class=\"sk-toggleable__control sk-hidden--visually\" id=\"sk-estimator-id-12\" type=\"checkbox\" ><label for=\"sk-estimator-id-12\" class=\"sk-toggleable__label sk-toggleable__label-arrow\">MyCatBoostRegressor</label><div class=\"sk-toggleable__content\"><pre>MyCatBoostRegressor(catboost_params={&#x27;cat_features&#x27;: array([ 0,  1,  5,  6,  7,  8, 10]),\n",
       "                                     &#x27;learning_rate&#x27;: 0.181,\n",
       "                                     &#x27;logging_level&#x27;: &#x27;Silent&#x27;,\n",
       "                                     &#x27;loss_function&#x27;: &#x27;RMSE&#x27;, &#x27;max_depth&#x27;: 2,\n",
       "                                     &#x27;n_estimators&#x27;: 123})</pre></div></div></div></div></div></div></div></div><div class=\"sk-parallel-item\"><div class=\"sk-item\"><div class=\"sk-label-container\"><div class=\"sk-label sk-toggleable\"><label>CatBoost_imputer</label></div></div><div class=\"sk-serial\"><div class=\"sk-item\"><div class=\"sk-serial\"><div class=\"sk-item\"><div class=\"sk-estimator sk-toggleable\"><input class=\"sk-toggleable__control sk-hidden--visually\" id=\"sk-estimator-id-13\" type=\"checkbox\" ><label for=\"sk-estimator-id-13\" class=\"sk-toggleable__label sk-toggleable__label-arrow\">DataPreprocessor</label><div class=\"sk-toggleable__content\"><pre>DataPreprocessor()</pre></div></div></div><div class=\"sk-item\"><div class=\"sk-estimator sk-toggleable\"><input class=\"sk-toggleable__control sk-hidden--visually\" id=\"sk-estimator-id-14\" type=\"checkbox\" ><label for=\"sk-estimator-id-14\" class=\"sk-toggleable__label sk-toggleable__label-arrow\">FeatureEngineering</label><div class=\"sk-toggleable__content\"><pre>FeatureEngineering()</pre></div></div></div><div class=\"sk-item\"><div class=\"sk-estimator sk-toggleable\"><input class=\"sk-toggleable__control sk-hidden--visually\" id=\"sk-estimator-id-15\" type=\"checkbox\" ><label for=\"sk-estimator-id-15\" class=\"sk-toggleable__label sk-toggleable__label-arrow\">FeatureFixer</label><div class=\"sk-toggleable__content\"><pre>FeatureFixer(catboost_params={&#x27;cat_features&#x27;: array([0, 1, 5, 6]),\n",
       "                              &#x27;learning_rate&#x27;: 0.012, &#x27;logging_level&#x27;: &#x27;Silent&#x27;,\n",
       "                              &#x27;max_depth&#x27;: 9, &#x27;n_estimators&#x27;: 341},\n",
       "             cols_to_drop=[&#x27;Bean Type&#x27;], column=&#x27;Broad Bean Origin&#x27;, n_top=11)</pre></div></div></div><div class=\"sk-item\"><div class=\"sk-estimator sk-toggleable\"><input class=\"sk-toggleable__control sk-hidden--visually\" id=\"sk-estimator-id-16\" type=\"checkbox\" ><label for=\"sk-estimator-id-16\" class=\"sk-toggleable__label sk-toggleable__label-arrow\">FeatureFixer</label><div class=\"sk-toggleable__content\"><pre>FeatureFixer(catboost_params={&#x27;cat_features&#x27;: array([0, 1, 5, 6, 7]),\n",
       "                              &#x27;learning_rate&#x27;: 0.041, &#x27;logging_level&#x27;: &#x27;Silent&#x27;,\n",
       "                              &#x27;max_depth&#x27;: 6, &#x27;n_estimators&#x27;: 782},\n",
       "             cols_to_drop=[], column=&#x27;Bean Type&#x27;, n_top=7)</pre></div></div></div><div class=\"sk-item\"><div class=\"sk-estimator sk-toggleable\"><input class=\"sk-toggleable__control sk-hidden--visually\" id=\"sk-estimator-id-17\" type=\"checkbox\" ><label for=\"sk-estimator-id-17\" class=\"sk-toggleable__label sk-toggleable__label-arrow\">FeatureEngineering</label><div class=\"sk-toggleable__content\"><pre>FeatureEngineering(add_bean_origin_world=True)</pre></div></div></div><div class=\"sk-item\"><div class=\"sk-estimator sk-toggleable\"><input class=\"sk-toggleable__control sk-hidden--visually\" id=\"sk-estimator-id-18\" type=\"checkbox\" ><label for=\"sk-estimator-id-18\" class=\"sk-toggleable__label sk-toggleable__label-arrow\">MyCatBoostRegressor</label><div class=\"sk-toggleable__content\"><pre>MyCatBoostRegressor(catboost_params={&#x27;cat_features&#x27;: array([ 0,  1,  5,  6,  7,  8, 10]),\n",
       "                                     &#x27;learning_rate&#x27;: 0.029,\n",
       "                                     &#x27;logging_level&#x27;: &#x27;Silent&#x27;,\n",
       "                                     &#x27;loss_function&#x27;: &#x27;RMSE&#x27;, &#x27;max_depth&#x27;: 5,\n",
       "                                     &#x27;n_estimators&#x27;: 706})</pre></div></div></div></div></div></div></div></div></div></div><div class=\"sk-item\"><div class=\"sk-parallel\"><div class=\"sk-parallel-item\"><div class=\"sk-item\"><div class=\"sk-label-container\"><div class=\"sk-label sk-toggleable\"><label>final_estimator</label></div></div><div class=\"sk-serial\"><div class=\"sk-item\"><div class=\"sk-estimator sk-toggleable\"><input class=\"sk-toggleable__control sk-hidden--visually\" id=\"sk-estimator-id-19\" type=\"checkbox\" ><label for=\"sk-estimator-id-19\" class=\"sk-toggleable__label sk-toggleable__label-arrow\">LinearRegression</label><div class=\"sk-toggleable__content\"><pre>LinearRegression()</pre></div></div></div></div></div></div></div></div></div></div></div></div>"
      ],
      "text/plain": [
       "StackingRegressor(estimators=[('CatBoost_default',\n",
       "                               Pipeline(steps=[('data_preprocessor',\n",
       "                                                DataPreprocessor()),\n",
       "                                               ('feature_adder',\n",
       "                                                FeatureEngineering(add_bean_origin_world=True)),\n",
       "                                               ('regressor',\n",
       "                                                MyCatBoostRegressor(catboost_params={'cat_features': array([ 0,  1,  5,  6,  7,  8, 10]),\n",
       "                                                                                     'learning_rate': 0.181,\n",
       "                                                                                     'logging_level': 'Silent',\n",
       "                                                                                     'loss_function': 'RMSE',\n",
       "                                                                                     'max_depth': 2,\n",
       "                                                                                     'n_es...\n",
       "                                                                              'n_estimators': 782},\n",
       "                                                             cols_to_drop=[],\n",
       "                                                             column='Bean Type',\n",
       "                                                             n_top=7)),\n",
       "                                               ('feature_adder_2',\n",
       "                                                FeatureEngineering(add_bean_origin_world=True)),\n",
       "                                               ('regressor',\n",
       "                                                MyCatBoostRegressor(catboost_params={'cat_features': array([ 0,  1,  5,  6,  7,  8, 10]),\n",
       "                                                                                     'learning_rate': 0.029,\n",
       "                                                                                     'logging_level': 'Silent',\n",
       "                                                                                     'loss_function': 'RMSE',\n",
       "                                                                                     'max_depth': 5,\n",
       "                                                                                     'n_estimators': 706}))]))],\n",
       "                  final_estimator=LinearRegression())"
      ]
     },
     "execution_count": 77,
     "metadata": {},
     "output_type": "execute_result"
    }
   ],
   "source": [
    "estimators = [(\"CatBoost_default\", pipeline1), (\"CatBoost_imputer\", pipeline2)]\n",
    "stacking_model = StackingRegressor(estimators=estimators, final_estimator=LinearRegression())\n",
    "stacking_model"
   ]
  },
  {
   "cell_type": "code",
   "execution_count": 78,
   "id": "7489fd82",
   "metadata": {
    "scrolled": false
   },
   "outputs": [
    {
     "data": {
      "text/html": [
       "<style>#sk-container-id-4 {color: black;background-color: white;}#sk-container-id-4 pre{padding: 0;}#sk-container-id-4 div.sk-toggleable {background-color: white;}#sk-container-id-4 label.sk-toggleable__label {cursor: pointer;display: block;width: 100%;margin-bottom: 0;padding: 0.3em;box-sizing: border-box;text-align: center;}#sk-container-id-4 label.sk-toggleable__label-arrow:before {content: \"▸\";float: left;margin-right: 0.25em;color: #696969;}#sk-container-id-4 label.sk-toggleable__label-arrow:hover:before {color: black;}#sk-container-id-4 div.sk-estimator:hover label.sk-toggleable__label-arrow:before {color: black;}#sk-container-id-4 div.sk-toggleable__content {max-height: 0;max-width: 0;overflow: hidden;text-align: left;background-color: #f0f8ff;}#sk-container-id-4 div.sk-toggleable__content pre {margin: 0.2em;color: black;border-radius: 0.25em;background-color: #f0f8ff;}#sk-container-id-4 input.sk-toggleable__control:checked~div.sk-toggleable__content {max-height: 200px;max-width: 100%;overflow: auto;}#sk-container-id-4 input.sk-toggleable__control:checked~label.sk-toggleable__label-arrow:before {content: \"▾\";}#sk-container-id-4 div.sk-estimator input.sk-toggleable__control:checked~label.sk-toggleable__label {background-color: #d4ebff;}#sk-container-id-4 div.sk-label input.sk-toggleable__control:checked~label.sk-toggleable__label {background-color: #d4ebff;}#sk-container-id-4 input.sk-hidden--visually {border: 0;clip: rect(1px 1px 1px 1px);clip: rect(1px, 1px, 1px, 1px);height: 1px;margin: -1px;overflow: hidden;padding: 0;position: absolute;width: 1px;}#sk-container-id-4 div.sk-estimator {font-family: monospace;background-color: #f0f8ff;border: 1px dotted black;border-radius: 0.25em;box-sizing: border-box;margin-bottom: 0.5em;}#sk-container-id-4 div.sk-estimator:hover {background-color: #d4ebff;}#sk-container-id-4 div.sk-parallel-item::after {content: \"\";width: 100%;border-bottom: 1px solid gray;flex-grow: 1;}#sk-container-id-4 div.sk-label:hover label.sk-toggleable__label {background-color: #d4ebff;}#sk-container-id-4 div.sk-serial::before {content: \"\";position: absolute;border-left: 1px solid gray;box-sizing: border-box;top: 0;bottom: 0;left: 50%;z-index: 0;}#sk-container-id-4 div.sk-serial {display: flex;flex-direction: column;align-items: center;background-color: white;padding-right: 0.2em;padding-left: 0.2em;position: relative;}#sk-container-id-4 div.sk-item {position: relative;z-index: 1;}#sk-container-id-4 div.sk-parallel {display: flex;align-items: stretch;justify-content: center;background-color: white;position: relative;}#sk-container-id-4 div.sk-item::before, #sk-container-id-4 div.sk-parallel-item::before {content: \"\";position: absolute;border-left: 1px solid gray;box-sizing: border-box;top: 0;bottom: 0;left: 50%;z-index: -1;}#sk-container-id-4 div.sk-parallel-item {display: flex;flex-direction: column;z-index: 1;position: relative;background-color: white;}#sk-container-id-4 div.sk-parallel-item:first-child::after {align-self: flex-end;width: 50%;}#sk-container-id-4 div.sk-parallel-item:last-child::after {align-self: flex-start;width: 50%;}#sk-container-id-4 div.sk-parallel-item:only-child::after {width: 0;}#sk-container-id-4 div.sk-dashed-wrapped {border: 1px dashed gray;margin: 0 0.4em 0.5em 0.4em;box-sizing: border-box;padding-bottom: 0.4em;background-color: white;}#sk-container-id-4 div.sk-label label {font-family: monospace;font-weight: bold;display: inline-block;line-height: 1.2em;}#sk-container-id-4 div.sk-label-container {text-align: center;}#sk-container-id-4 div.sk-container {/* jupyter's `normalize.less` sets `[hidden] { display: none; }` but bootstrap.min.css set `[hidden] { display: none !important; }` so we also need the `!important` here to be able to override the default hidden behavior on the sphinx rendered scikit-learn.org. See: https://github.com/scikit-learn/scikit-learn/issues/21755 */display: inline-block !important;position: relative;}#sk-container-id-4 div.sk-text-repr-fallback {display: none;}</style><div id=\"sk-container-id-4\" class=\"sk-top-container\"><div class=\"sk-text-repr-fallback\"><pre>StackingRegressor(estimators=[(&#x27;CatBoost_default&#x27;,\n",
       "                               Pipeline(steps=[(&#x27;data_preprocessor&#x27;,\n",
       "                                                DataPreprocessor()),\n",
       "                                               (&#x27;feature_adder&#x27;,\n",
       "                                                FeatureEngineering(add_bean_origin_world=True)),\n",
       "                                               (&#x27;regressor&#x27;,\n",
       "                                                MyCatBoostRegressor(catboost_params={&#x27;cat_features&#x27;: array([ 0,  1,  5,  6,  7,  8, 10]),\n",
       "                                                                                     &#x27;learning_rate&#x27;: 0.181,\n",
       "                                                                                     &#x27;logging_level&#x27;: &#x27;Silent&#x27;,\n",
       "                                                                                     &#x27;loss_function&#x27;: &#x27;RMSE&#x27;,\n",
       "                                                                                     &#x27;max_depth&#x27;: 2,\n",
       "                                                                                     &#x27;n_es...\n",
       "                                                                              &#x27;n_estimators&#x27;: 782},\n",
       "                                                             cols_to_drop=[],\n",
       "                                                             column=&#x27;Bean Type&#x27;,\n",
       "                                                             n_top=7)),\n",
       "                                               (&#x27;feature_adder_2&#x27;,\n",
       "                                                FeatureEngineering(add_bean_origin_world=True)),\n",
       "                                               (&#x27;regressor&#x27;,\n",
       "                                                MyCatBoostRegressor(catboost_params={&#x27;cat_features&#x27;: array([ 0,  1,  5,  6,  7,  8, 10]),\n",
       "                                                                                     &#x27;learning_rate&#x27;: 0.029,\n",
       "                                                                                     &#x27;logging_level&#x27;: &#x27;Silent&#x27;,\n",
       "                                                                                     &#x27;loss_function&#x27;: &#x27;RMSE&#x27;,\n",
       "                                                                                     &#x27;max_depth&#x27;: 5,\n",
       "                                                                                     &#x27;n_estimators&#x27;: 706}))]))],\n",
       "                  final_estimator=LinearRegression())</pre><b>In a Jupyter environment, please rerun this cell to show the HTML representation or trust the notebook. <br />On GitHub, the HTML representation is unable to render, please try loading this page with nbviewer.org.</b></div><div class=\"sk-container\" hidden><div class=\"sk-item sk-dashed-wrapped\"><div class=\"sk-label-container\"><div class=\"sk-label sk-toggleable\"><input class=\"sk-toggleable__control sk-hidden--visually\" id=\"sk-estimator-id-20\" type=\"checkbox\" ><label for=\"sk-estimator-id-20\" class=\"sk-toggleable__label sk-toggleable__label-arrow\">StackingRegressor</label><div class=\"sk-toggleable__content\"><pre>StackingRegressor(estimators=[(&#x27;CatBoost_default&#x27;,\n",
       "                               Pipeline(steps=[(&#x27;data_preprocessor&#x27;,\n",
       "                                                DataPreprocessor()),\n",
       "                                               (&#x27;feature_adder&#x27;,\n",
       "                                                FeatureEngineering(add_bean_origin_world=True)),\n",
       "                                               (&#x27;regressor&#x27;,\n",
       "                                                MyCatBoostRegressor(catboost_params={&#x27;cat_features&#x27;: array([ 0,  1,  5,  6,  7,  8, 10]),\n",
       "                                                                                     &#x27;learning_rate&#x27;: 0.181,\n",
       "                                                                                     &#x27;logging_level&#x27;: &#x27;Silent&#x27;,\n",
       "                                                                                     &#x27;loss_function&#x27;: &#x27;RMSE&#x27;,\n",
       "                                                                                     &#x27;max_depth&#x27;: 2,\n",
       "                                                                                     &#x27;n_es...\n",
       "                                                                              &#x27;n_estimators&#x27;: 782},\n",
       "                                                             cols_to_drop=[],\n",
       "                                                             column=&#x27;Bean Type&#x27;,\n",
       "                                                             n_top=7)),\n",
       "                                               (&#x27;feature_adder_2&#x27;,\n",
       "                                                FeatureEngineering(add_bean_origin_world=True)),\n",
       "                                               (&#x27;regressor&#x27;,\n",
       "                                                MyCatBoostRegressor(catboost_params={&#x27;cat_features&#x27;: array([ 0,  1,  5,  6,  7,  8, 10]),\n",
       "                                                                                     &#x27;learning_rate&#x27;: 0.029,\n",
       "                                                                                     &#x27;logging_level&#x27;: &#x27;Silent&#x27;,\n",
       "                                                                                     &#x27;loss_function&#x27;: &#x27;RMSE&#x27;,\n",
       "                                                                                     &#x27;max_depth&#x27;: 5,\n",
       "                                                                                     &#x27;n_estimators&#x27;: 706}))]))],\n",
       "                  final_estimator=LinearRegression())</pre></div></div></div><div class=\"sk-serial\"><div class=\"sk-item\"><div class=\"sk-parallel\"><div class=\"sk-parallel-item\"><div class=\"sk-item\"><div class=\"sk-label-container\"><div class=\"sk-label sk-toggleable\"><label>CatBoost_default</label></div></div><div class=\"sk-serial\"><div class=\"sk-item\"><div class=\"sk-serial\"><div class=\"sk-item\"><div class=\"sk-estimator sk-toggleable\"><input class=\"sk-toggleable__control sk-hidden--visually\" id=\"sk-estimator-id-21\" type=\"checkbox\" ><label for=\"sk-estimator-id-21\" class=\"sk-toggleable__label sk-toggleable__label-arrow\">DataPreprocessor</label><div class=\"sk-toggleable__content\"><pre>DataPreprocessor()</pre></div></div></div><div class=\"sk-item\"><div class=\"sk-estimator sk-toggleable\"><input class=\"sk-toggleable__control sk-hidden--visually\" id=\"sk-estimator-id-22\" type=\"checkbox\" ><label for=\"sk-estimator-id-22\" class=\"sk-toggleable__label sk-toggleable__label-arrow\">FeatureEngineering</label><div class=\"sk-toggleable__content\"><pre>FeatureEngineering(add_bean_origin_world=True)</pre></div></div></div><div class=\"sk-item\"><div class=\"sk-estimator sk-toggleable\"><input class=\"sk-toggleable__control sk-hidden--visually\" id=\"sk-estimator-id-23\" type=\"checkbox\" ><label for=\"sk-estimator-id-23\" class=\"sk-toggleable__label sk-toggleable__label-arrow\">MyCatBoostRegressor</label><div class=\"sk-toggleable__content\"><pre>MyCatBoostRegressor(catboost_params={&#x27;cat_features&#x27;: array([ 0,  1,  5,  6,  7,  8, 10]),\n",
       "                                     &#x27;learning_rate&#x27;: 0.181,\n",
       "                                     &#x27;logging_level&#x27;: &#x27;Silent&#x27;,\n",
       "                                     &#x27;loss_function&#x27;: &#x27;RMSE&#x27;, &#x27;max_depth&#x27;: 2,\n",
       "                                     &#x27;n_estimators&#x27;: 123})</pre></div></div></div></div></div></div></div></div><div class=\"sk-parallel-item\"><div class=\"sk-item\"><div class=\"sk-label-container\"><div class=\"sk-label sk-toggleable\"><label>CatBoost_imputer</label></div></div><div class=\"sk-serial\"><div class=\"sk-item\"><div class=\"sk-serial\"><div class=\"sk-item\"><div class=\"sk-estimator sk-toggleable\"><input class=\"sk-toggleable__control sk-hidden--visually\" id=\"sk-estimator-id-24\" type=\"checkbox\" ><label for=\"sk-estimator-id-24\" class=\"sk-toggleable__label sk-toggleable__label-arrow\">DataPreprocessor</label><div class=\"sk-toggleable__content\"><pre>DataPreprocessor()</pre></div></div></div><div class=\"sk-item\"><div class=\"sk-estimator sk-toggleable\"><input class=\"sk-toggleable__control sk-hidden--visually\" id=\"sk-estimator-id-25\" type=\"checkbox\" ><label for=\"sk-estimator-id-25\" class=\"sk-toggleable__label sk-toggleable__label-arrow\">FeatureEngineering</label><div class=\"sk-toggleable__content\"><pre>FeatureEngineering()</pre></div></div></div><div class=\"sk-item\"><div class=\"sk-estimator sk-toggleable\"><input class=\"sk-toggleable__control sk-hidden--visually\" id=\"sk-estimator-id-26\" type=\"checkbox\" ><label for=\"sk-estimator-id-26\" class=\"sk-toggleable__label sk-toggleable__label-arrow\">FeatureFixer</label><div class=\"sk-toggleable__content\"><pre>FeatureFixer(catboost_params={&#x27;cat_features&#x27;: array([0, 1, 5, 6]),\n",
       "                              &#x27;learning_rate&#x27;: 0.012, &#x27;logging_level&#x27;: &#x27;Silent&#x27;,\n",
       "                              &#x27;max_depth&#x27;: 9, &#x27;n_estimators&#x27;: 341},\n",
       "             cols_to_drop=[&#x27;Bean Type&#x27;], column=&#x27;Broad Bean Origin&#x27;, n_top=11)</pre></div></div></div><div class=\"sk-item\"><div class=\"sk-estimator sk-toggleable\"><input class=\"sk-toggleable__control sk-hidden--visually\" id=\"sk-estimator-id-27\" type=\"checkbox\" ><label for=\"sk-estimator-id-27\" class=\"sk-toggleable__label sk-toggleable__label-arrow\">FeatureFixer</label><div class=\"sk-toggleable__content\"><pre>FeatureFixer(catboost_params={&#x27;cat_features&#x27;: array([0, 1, 5, 6, 7]),\n",
       "                              &#x27;learning_rate&#x27;: 0.041, &#x27;logging_level&#x27;: &#x27;Silent&#x27;,\n",
       "                              &#x27;max_depth&#x27;: 6, &#x27;n_estimators&#x27;: 782},\n",
       "             cols_to_drop=[], column=&#x27;Bean Type&#x27;, n_top=7)</pre></div></div></div><div class=\"sk-item\"><div class=\"sk-estimator sk-toggleable\"><input class=\"sk-toggleable__control sk-hidden--visually\" id=\"sk-estimator-id-28\" type=\"checkbox\" ><label for=\"sk-estimator-id-28\" class=\"sk-toggleable__label sk-toggleable__label-arrow\">FeatureEngineering</label><div class=\"sk-toggleable__content\"><pre>FeatureEngineering(add_bean_origin_world=True)</pre></div></div></div><div class=\"sk-item\"><div class=\"sk-estimator sk-toggleable\"><input class=\"sk-toggleable__control sk-hidden--visually\" id=\"sk-estimator-id-29\" type=\"checkbox\" ><label for=\"sk-estimator-id-29\" class=\"sk-toggleable__label sk-toggleable__label-arrow\">MyCatBoostRegressor</label><div class=\"sk-toggleable__content\"><pre>MyCatBoostRegressor(catboost_params={&#x27;cat_features&#x27;: array([ 0,  1,  5,  6,  7,  8, 10]),\n",
       "                                     &#x27;learning_rate&#x27;: 0.029,\n",
       "                                     &#x27;logging_level&#x27;: &#x27;Silent&#x27;,\n",
       "                                     &#x27;loss_function&#x27;: &#x27;RMSE&#x27;, &#x27;max_depth&#x27;: 5,\n",
       "                                     &#x27;n_estimators&#x27;: 706})</pre></div></div></div></div></div></div></div></div></div></div><div class=\"sk-item\"><div class=\"sk-parallel\"><div class=\"sk-parallel-item\"><div class=\"sk-item\"><div class=\"sk-label-container\"><div class=\"sk-label sk-toggleable\"><label>final_estimator</label></div></div><div class=\"sk-serial\"><div class=\"sk-item\"><div class=\"sk-estimator sk-toggleable\"><input class=\"sk-toggleable__control sk-hidden--visually\" id=\"sk-estimator-id-30\" type=\"checkbox\" ><label for=\"sk-estimator-id-30\" class=\"sk-toggleable__label sk-toggleable__label-arrow\">LinearRegression</label><div class=\"sk-toggleable__content\"><pre>LinearRegression()</pre></div></div></div></div></div></div></div></div></div></div></div></div>"
      ],
      "text/plain": [
       "StackingRegressor(estimators=[('CatBoost_default',\n",
       "                               Pipeline(steps=[('data_preprocessor',\n",
       "                                                DataPreprocessor()),\n",
       "                                               ('feature_adder',\n",
       "                                                FeatureEngineering(add_bean_origin_world=True)),\n",
       "                                               ('regressor',\n",
       "                                                MyCatBoostRegressor(catboost_params={'cat_features': array([ 0,  1,  5,  6,  7,  8, 10]),\n",
       "                                                                                     'learning_rate': 0.181,\n",
       "                                                                                     'logging_level': 'Silent',\n",
       "                                                                                     'loss_function': 'RMSE',\n",
       "                                                                                     'max_depth': 2,\n",
       "                                                                                     'n_es...\n",
       "                                                                              'n_estimators': 782},\n",
       "                                                             cols_to_drop=[],\n",
       "                                                             column='Bean Type',\n",
       "                                                             n_top=7)),\n",
       "                                               ('feature_adder_2',\n",
       "                                                FeatureEngineering(add_bean_origin_world=True)),\n",
       "                                               ('regressor',\n",
       "                                                MyCatBoostRegressor(catboost_params={'cat_features': array([ 0,  1,  5,  6,  7,  8, 10]),\n",
       "                                                                                     'learning_rate': 0.029,\n",
       "                                                                                     'logging_level': 'Silent',\n",
       "                                                                                     'loss_function': 'RMSE',\n",
       "                                                                                     'max_depth': 5,\n",
       "                                                                                     'n_estimators': 706}))]))],\n",
       "                  final_estimator=LinearRegression())"
      ]
     },
     "execution_count": 78,
     "metadata": {},
     "output_type": "execute_result"
    }
   ],
   "source": [
    "stacking_model.fit(X_train, y_train)"
   ]
  },
  {
   "cell_type": "code",
   "execution_count": 79,
   "id": "e70d12db",
   "metadata": {},
   "outputs": [
    {
     "data": {
      "text/plain": [
       "array([3.15725122, 3.12045202, 3.08200307, 3.35847016, 2.9940845 ,\n",
       "       2.82306496, 3.09157955, 3.12627058, 3.22040164, 2.70114585])"
      ]
     },
     "execution_count": 79,
     "metadata": {},
     "output_type": "execute_result"
    }
   ],
   "source": [
    "stacking_model.predict(X_test)[:10]"
   ]
  },
  {
   "cell_type": "code",
   "execution_count": 80,
   "id": "61762742",
   "metadata": {},
   "outputs": [],
   "source": [
    "make_prediction(stacking_model, X_test, \"Stacking_linear_v4\")"
   ]
  },
  {
   "cell_type": "markdown",
   "id": "60b367e0",
   "metadata": {},
   "source": [
    "## 9.2 Save model"
   ]
  },
  {
   "cell_type": "code",
   "execution_count": 82,
   "id": "b0c7f616",
   "metadata": {},
   "outputs": [],
   "source": [
    "pickle.dump(stacking_model, open(\"stacking_linear2.pickle\", 'wb'))"
   ]
  },
  {
   "cell_type": "code",
   "execution_count": 83,
   "id": "26ea9d0d",
   "metadata": {},
   "outputs": [],
   "source": [
    "saved_model = pickle.load(open(\"stacking_linear2.pickle\", 'rb'))"
   ]
  },
  {
   "cell_type": "code",
   "execution_count": null,
   "id": "07fd87a7",
   "metadata": {},
   "outputs": [],
   "source": []
  },
  {
   "cell_type": "markdown",
   "id": "168ac582",
   "metadata": {},
   "source": [
    "# 10 More models"
   ]
  },
  {
   "cell_type": "code",
   "execution_count": 15,
   "id": "c786469f",
   "metadata": {},
   "outputs": [],
   "source": [
    "saved_model = pickle.load(open(\"stacking_linear2.pickle\", 'rb'))"
   ]
  },
  {
   "cell_type": "code",
   "execution_count": 34,
   "id": "1b2fc2a3",
   "metadata": {},
   "outputs": [
    {
     "data": {
      "text/plain": [
       "{'learning_rate': 0.181,\n",
       " 'loss_function': 'RMSE',\n",
       " 'logging_level': 'Silent',\n",
       " 'max_depth': 2,\n",
       " 'n_estimators': 123,\n",
       " 'cat_features': array([ 0,  1,  5,  6,  7,  8, 10])}"
      ]
     },
     "execution_count": 34,
     "metadata": {},
     "output_type": "execute_result"
    }
   ],
   "source": [
    "saved_model.estimators[0][1][2].catboost_params"
   ]
  },
  {
   "cell_type": "code",
   "execution_count": 35,
   "id": "984963bf",
   "metadata": {},
   "outputs": [
    {
     "data": {
      "text/html": [
       "<style>#sk-container-id-7 {color: black;background-color: white;}#sk-container-id-7 pre{padding: 0;}#sk-container-id-7 div.sk-toggleable {background-color: white;}#sk-container-id-7 label.sk-toggleable__label {cursor: pointer;display: block;width: 100%;margin-bottom: 0;padding: 0.3em;box-sizing: border-box;text-align: center;}#sk-container-id-7 label.sk-toggleable__label-arrow:before {content: \"▸\";float: left;margin-right: 0.25em;color: #696969;}#sk-container-id-7 label.sk-toggleable__label-arrow:hover:before {color: black;}#sk-container-id-7 div.sk-estimator:hover label.sk-toggleable__label-arrow:before {color: black;}#sk-container-id-7 div.sk-toggleable__content {max-height: 0;max-width: 0;overflow: hidden;text-align: left;background-color: #f0f8ff;}#sk-container-id-7 div.sk-toggleable__content pre {margin: 0.2em;color: black;border-radius: 0.25em;background-color: #f0f8ff;}#sk-container-id-7 input.sk-toggleable__control:checked~div.sk-toggleable__content {max-height: 200px;max-width: 100%;overflow: auto;}#sk-container-id-7 input.sk-toggleable__control:checked~label.sk-toggleable__label-arrow:before {content: \"▾\";}#sk-container-id-7 div.sk-estimator input.sk-toggleable__control:checked~label.sk-toggleable__label {background-color: #d4ebff;}#sk-container-id-7 div.sk-label input.sk-toggleable__control:checked~label.sk-toggleable__label {background-color: #d4ebff;}#sk-container-id-7 input.sk-hidden--visually {border: 0;clip: rect(1px 1px 1px 1px);clip: rect(1px, 1px, 1px, 1px);height: 1px;margin: -1px;overflow: hidden;padding: 0;position: absolute;width: 1px;}#sk-container-id-7 div.sk-estimator {font-family: monospace;background-color: #f0f8ff;border: 1px dotted black;border-radius: 0.25em;box-sizing: border-box;margin-bottom: 0.5em;}#sk-container-id-7 div.sk-estimator:hover {background-color: #d4ebff;}#sk-container-id-7 div.sk-parallel-item::after {content: \"\";width: 100%;border-bottom: 1px solid gray;flex-grow: 1;}#sk-container-id-7 div.sk-label:hover label.sk-toggleable__label {background-color: #d4ebff;}#sk-container-id-7 div.sk-serial::before {content: \"\";position: absolute;border-left: 1px solid gray;box-sizing: border-box;top: 0;bottom: 0;left: 50%;z-index: 0;}#sk-container-id-7 div.sk-serial {display: flex;flex-direction: column;align-items: center;background-color: white;padding-right: 0.2em;padding-left: 0.2em;position: relative;}#sk-container-id-7 div.sk-item {position: relative;z-index: 1;}#sk-container-id-7 div.sk-parallel {display: flex;align-items: stretch;justify-content: center;background-color: white;position: relative;}#sk-container-id-7 div.sk-item::before, #sk-container-id-7 div.sk-parallel-item::before {content: \"\";position: absolute;border-left: 1px solid gray;box-sizing: border-box;top: 0;bottom: 0;left: 50%;z-index: -1;}#sk-container-id-7 div.sk-parallel-item {display: flex;flex-direction: column;z-index: 1;position: relative;background-color: white;}#sk-container-id-7 div.sk-parallel-item:first-child::after {align-self: flex-end;width: 50%;}#sk-container-id-7 div.sk-parallel-item:last-child::after {align-self: flex-start;width: 50%;}#sk-container-id-7 div.sk-parallel-item:only-child::after {width: 0;}#sk-container-id-7 div.sk-dashed-wrapped {border: 1px dashed gray;margin: 0 0.4em 0.5em 0.4em;box-sizing: border-box;padding-bottom: 0.4em;background-color: white;}#sk-container-id-7 div.sk-label label {font-family: monospace;font-weight: bold;display: inline-block;line-height: 1.2em;}#sk-container-id-7 div.sk-label-container {text-align: center;}#sk-container-id-7 div.sk-container {/* jupyter's `normalize.less` sets `[hidden] { display: none; }` but bootstrap.min.css set `[hidden] { display: none !important; }` so we also need the `!important` here to be able to override the default hidden behavior on the sphinx rendered scikit-learn.org. See: https://github.com/scikit-learn/scikit-learn/issues/21755 */display: inline-block !important;position: relative;}#sk-container-id-7 div.sk-text-repr-fallback {display: none;}</style><div id=\"sk-container-id-7\" class=\"sk-top-container\"><div class=\"sk-text-repr-fallback\"><pre>StackingRegressor(estimators=[(&#x27;CatBoost_default&#x27;,\n",
       "                               Pipeline(steps=[(&#x27;data_preprocessor&#x27;,\n",
       "                                                DataPreprocessor()),\n",
       "                                               (&#x27;feature_adder&#x27;,\n",
       "                                                FeatureEngineering(add_bean_origin_world=True)),\n",
       "                                               (&#x27;regressor&#x27;,\n",
       "                                                MyCatBoostRegressor(catboost_params={&#x27;cat_features&#x27;: array([ 0,  1,  5,  6,  7,  8, 10]),\n",
       "                                                                                     &#x27;learning_rate&#x27;: 0.181,\n",
       "                                                                                     &#x27;logging_level&#x27;: &#x27;Silent&#x27;,\n",
       "                                                                                     &#x27;loss_function&#x27;: &#x27;RMSE&#x27;,\n",
       "                                                                                     &#x27;max_depth&#x27;: 2,\n",
       "                                                                                     &#x27;n_es...\n",
       "                                                                              &#x27;n_estimators&#x27;: 782},\n",
       "                                                             cols_to_drop=[],\n",
       "                                                             column=&#x27;Bean Type&#x27;,\n",
       "                                                             n_top=7)),\n",
       "                                               (&#x27;feature_adder_2&#x27;,\n",
       "                                                FeatureEngineering(add_bean_origin_world=True)),\n",
       "                                               (&#x27;regressor&#x27;,\n",
       "                                                MyCatBoostRegressor(catboost_params={&#x27;cat_features&#x27;: array([ 0,  1,  5,  6,  7,  8, 10]),\n",
       "                                                                                     &#x27;learning_rate&#x27;: 0.029,\n",
       "                                                                                     &#x27;logging_level&#x27;: &#x27;Silent&#x27;,\n",
       "                                                                                     &#x27;loss_function&#x27;: &#x27;RMSE&#x27;,\n",
       "                                                                                     &#x27;max_depth&#x27;: 5,\n",
       "                                                                                     &#x27;n_estimators&#x27;: 706}))]))],\n",
       "                  final_estimator=LinearRegression())</pre><b>In a Jupyter environment, please rerun this cell to show the HTML representation or trust the notebook. <br />On GitHub, the HTML representation is unable to render, please try loading this page with nbviewer.org.</b></div><div class=\"sk-container\" hidden><div class=\"sk-item sk-dashed-wrapped\"><div class=\"sk-label-container\"><div class=\"sk-label sk-toggleable\"><input class=\"sk-toggleable__control sk-hidden--visually\" id=\"sk-estimator-id-20\" type=\"checkbox\" ><label for=\"sk-estimator-id-20\" class=\"sk-toggleable__label sk-toggleable__label-arrow\">StackingRegressor</label><div class=\"sk-toggleable__content\"><pre>StackingRegressor(estimators=[(&#x27;CatBoost_default&#x27;,\n",
       "                               Pipeline(steps=[(&#x27;data_preprocessor&#x27;,\n",
       "                                                DataPreprocessor()),\n",
       "                                               (&#x27;feature_adder&#x27;,\n",
       "                                                FeatureEngineering(add_bean_origin_world=True)),\n",
       "                                               (&#x27;regressor&#x27;,\n",
       "                                                MyCatBoostRegressor(catboost_params={&#x27;cat_features&#x27;: array([ 0,  1,  5,  6,  7,  8, 10]),\n",
       "                                                                                     &#x27;learning_rate&#x27;: 0.181,\n",
       "                                                                                     &#x27;logging_level&#x27;: &#x27;Silent&#x27;,\n",
       "                                                                                     &#x27;loss_function&#x27;: &#x27;RMSE&#x27;,\n",
       "                                                                                     &#x27;max_depth&#x27;: 2,\n",
       "                                                                                     &#x27;n_es...\n",
       "                                                                              &#x27;n_estimators&#x27;: 782},\n",
       "                                                             cols_to_drop=[],\n",
       "                                                             column=&#x27;Bean Type&#x27;,\n",
       "                                                             n_top=7)),\n",
       "                                               (&#x27;feature_adder_2&#x27;,\n",
       "                                                FeatureEngineering(add_bean_origin_world=True)),\n",
       "                                               (&#x27;regressor&#x27;,\n",
       "                                                MyCatBoostRegressor(catboost_params={&#x27;cat_features&#x27;: array([ 0,  1,  5,  6,  7,  8, 10]),\n",
       "                                                                                     &#x27;learning_rate&#x27;: 0.029,\n",
       "                                                                                     &#x27;logging_level&#x27;: &#x27;Silent&#x27;,\n",
       "                                                                                     &#x27;loss_function&#x27;: &#x27;RMSE&#x27;,\n",
       "                                                                                     &#x27;max_depth&#x27;: 5,\n",
       "                                                                                     &#x27;n_estimators&#x27;: 706}))]))],\n",
       "                  final_estimator=LinearRegression())</pre></div></div></div><div class=\"sk-serial\"><div class=\"sk-item\"><div class=\"sk-parallel\"><div class=\"sk-parallel-item\"><div class=\"sk-item\"><div class=\"sk-label-container\"><div class=\"sk-label sk-toggleable\"><label>CatBoost_default</label></div></div><div class=\"sk-serial\"><div class=\"sk-item\"><div class=\"sk-serial\"><div class=\"sk-item\"><div class=\"sk-estimator sk-toggleable\"><input class=\"sk-toggleable__control sk-hidden--visually\" id=\"sk-estimator-id-21\" type=\"checkbox\" ><label for=\"sk-estimator-id-21\" class=\"sk-toggleable__label sk-toggleable__label-arrow\">DataPreprocessor</label><div class=\"sk-toggleable__content\"><pre>DataPreprocessor()</pre></div></div></div><div class=\"sk-item\"><div class=\"sk-estimator sk-toggleable\"><input class=\"sk-toggleable__control sk-hidden--visually\" id=\"sk-estimator-id-22\" type=\"checkbox\" ><label for=\"sk-estimator-id-22\" class=\"sk-toggleable__label sk-toggleable__label-arrow\">FeatureEngineering</label><div class=\"sk-toggleable__content\"><pre>FeatureEngineering(add_bean_origin_world=True)</pre></div></div></div><div class=\"sk-item\"><div class=\"sk-estimator sk-toggleable\"><input class=\"sk-toggleable__control sk-hidden--visually\" id=\"sk-estimator-id-23\" type=\"checkbox\" ><label for=\"sk-estimator-id-23\" class=\"sk-toggleable__label sk-toggleable__label-arrow\">MyCatBoostRegressor</label><div class=\"sk-toggleable__content\"><pre>MyCatBoostRegressor(catboost_params={&#x27;cat_features&#x27;: array([ 0,  1,  5,  6,  7,  8, 10]),\n",
       "                                     &#x27;learning_rate&#x27;: 0.181,\n",
       "                                     &#x27;logging_level&#x27;: &#x27;Silent&#x27;,\n",
       "                                     &#x27;loss_function&#x27;: &#x27;RMSE&#x27;, &#x27;max_depth&#x27;: 2,\n",
       "                                     &#x27;n_estimators&#x27;: 123})</pre></div></div></div></div></div></div></div></div><div class=\"sk-parallel-item\"><div class=\"sk-item\"><div class=\"sk-label-container\"><div class=\"sk-label sk-toggleable\"><label>CatBoost_imputer</label></div></div><div class=\"sk-serial\"><div class=\"sk-item\"><div class=\"sk-serial\"><div class=\"sk-item\"><div class=\"sk-estimator sk-toggleable\"><input class=\"sk-toggleable__control sk-hidden--visually\" id=\"sk-estimator-id-24\" type=\"checkbox\" ><label for=\"sk-estimator-id-24\" class=\"sk-toggleable__label sk-toggleable__label-arrow\">DataPreprocessor</label><div class=\"sk-toggleable__content\"><pre>DataPreprocessor()</pre></div></div></div><div class=\"sk-item\"><div class=\"sk-estimator sk-toggleable\"><input class=\"sk-toggleable__control sk-hidden--visually\" id=\"sk-estimator-id-25\" type=\"checkbox\" ><label for=\"sk-estimator-id-25\" class=\"sk-toggleable__label sk-toggleable__label-arrow\">FeatureEngineering</label><div class=\"sk-toggleable__content\"><pre>FeatureEngineering()</pre></div></div></div><div class=\"sk-item\"><div class=\"sk-estimator sk-toggleable\"><input class=\"sk-toggleable__control sk-hidden--visually\" id=\"sk-estimator-id-26\" type=\"checkbox\" ><label for=\"sk-estimator-id-26\" class=\"sk-toggleable__label sk-toggleable__label-arrow\">FeatureFixer</label><div class=\"sk-toggleable__content\"><pre>FeatureFixer(catboost_params={&#x27;cat_features&#x27;: array([0, 1, 5, 6]),\n",
       "                              &#x27;learning_rate&#x27;: 0.012, &#x27;logging_level&#x27;: &#x27;Silent&#x27;,\n",
       "                              &#x27;max_depth&#x27;: 9, &#x27;n_estimators&#x27;: 341},\n",
       "             cols_to_drop=[&#x27;Bean Type&#x27;], column=&#x27;Broad Bean Origin&#x27;, n_top=11)</pre></div></div></div><div class=\"sk-item\"><div class=\"sk-estimator sk-toggleable\"><input class=\"sk-toggleable__control sk-hidden--visually\" id=\"sk-estimator-id-27\" type=\"checkbox\" ><label for=\"sk-estimator-id-27\" class=\"sk-toggleable__label sk-toggleable__label-arrow\">FeatureFixer</label><div class=\"sk-toggleable__content\"><pre>FeatureFixer(catboost_params={&#x27;cat_features&#x27;: array([0, 1, 5, 6, 7]),\n",
       "                              &#x27;learning_rate&#x27;: 0.041, &#x27;logging_level&#x27;: &#x27;Silent&#x27;,\n",
       "                              &#x27;max_depth&#x27;: 6, &#x27;n_estimators&#x27;: 782},\n",
       "             cols_to_drop=[], column=&#x27;Bean Type&#x27;, n_top=7)</pre></div></div></div><div class=\"sk-item\"><div class=\"sk-estimator sk-toggleable\"><input class=\"sk-toggleable__control sk-hidden--visually\" id=\"sk-estimator-id-28\" type=\"checkbox\" ><label for=\"sk-estimator-id-28\" class=\"sk-toggleable__label sk-toggleable__label-arrow\">FeatureEngineering</label><div class=\"sk-toggleable__content\"><pre>FeatureEngineering(add_bean_origin_world=True)</pre></div></div></div><div class=\"sk-item\"><div class=\"sk-estimator sk-toggleable\"><input class=\"sk-toggleable__control sk-hidden--visually\" id=\"sk-estimator-id-29\" type=\"checkbox\" ><label for=\"sk-estimator-id-29\" class=\"sk-toggleable__label sk-toggleable__label-arrow\">MyCatBoostRegressor</label><div class=\"sk-toggleable__content\"><pre>MyCatBoostRegressor(catboost_params={&#x27;cat_features&#x27;: array([ 0,  1,  5,  6,  7,  8, 10]),\n",
       "                                     &#x27;learning_rate&#x27;: 0.029,\n",
       "                                     &#x27;logging_level&#x27;: &#x27;Silent&#x27;,\n",
       "                                     &#x27;loss_function&#x27;: &#x27;RMSE&#x27;, &#x27;max_depth&#x27;: 5,\n",
       "                                     &#x27;n_estimators&#x27;: 706})</pre></div></div></div></div></div></div></div></div></div></div><div class=\"sk-item\"><div class=\"sk-parallel\"><div class=\"sk-parallel-item\"><div class=\"sk-item\"><div class=\"sk-label-container\"><div class=\"sk-label sk-toggleable\"><label>final_estimator</label></div></div><div class=\"sk-serial\"><div class=\"sk-item\"><div class=\"sk-estimator sk-toggleable\"><input class=\"sk-toggleable__control sk-hidden--visually\" id=\"sk-estimator-id-30\" type=\"checkbox\" ><label for=\"sk-estimator-id-30\" class=\"sk-toggleable__label sk-toggleable__label-arrow\">LinearRegression</label><div class=\"sk-toggleable__content\"><pre>LinearRegression()</pre></div></div></div></div></div></div></div></div></div></div></div></div>"
      ],
      "text/plain": [
       "StackingRegressor(estimators=[('CatBoost_default',\n",
       "                               Pipeline(steps=[('data_preprocessor',\n",
       "                                                DataPreprocessor()),\n",
       "                                               ('feature_adder',\n",
       "                                                FeatureEngineering(add_bean_origin_world=True)),\n",
       "                                               ('regressor',\n",
       "                                                MyCatBoostRegressor(catboost_params={'cat_features': array([ 0,  1,  5,  6,  7,  8, 10]),\n",
       "                                                                                     'learning_rate': 0.181,\n",
       "                                                                                     'logging_level': 'Silent',\n",
       "                                                                                     'loss_function': 'RMSE',\n",
       "                                                                                     'max_depth': 2,\n",
       "                                                                                     'n_es...\n",
       "                                                                              'n_estimators': 782},\n",
       "                                                             cols_to_drop=[],\n",
       "                                                             column='Bean Type',\n",
       "                                                             n_top=7)),\n",
       "                                               ('feature_adder_2',\n",
       "                                                FeatureEngineering(add_bean_origin_world=True)),\n",
       "                                               ('regressor',\n",
       "                                                MyCatBoostRegressor(catboost_params={'cat_features': array([ 0,  1,  5,  6,  7,  8, 10]),\n",
       "                                                                                     'learning_rate': 0.029,\n",
       "                                                                                     'logging_level': 'Silent',\n",
       "                                                                                     'loss_function': 'RMSE',\n",
       "                                                                                     'max_depth': 5,\n",
       "                                                                                     'n_estimators': 706}))]))],\n",
       "                  final_estimator=LinearRegression())"
      ]
     },
     "execution_count": 35,
     "metadata": {},
     "output_type": "execute_result"
    }
   ],
   "source": [
    "saved_model"
   ]
  },
  {
   "cell_type": "code",
   "execution_count": null,
   "id": "6f9e4264",
   "metadata": {},
   "outputs": [],
   "source": []
  },
  {
   "cell_type": "code",
   "execution_count": 37,
   "id": "53892b6e",
   "metadata": {},
   "outputs": [
    {
     "data": {
      "text/html": [
       "<div>\n",
       "<style scoped>\n",
       "    .dataframe tbody tr th:only-of-type {\n",
       "        vertical-align: middle;\n",
       "    }\n",
       "\n",
       "    .dataframe tbody tr th {\n",
       "        vertical-align: top;\n",
       "    }\n",
       "\n",
       "    .dataframe thead th {\n",
       "        text-align: right;\n",
       "    }\n",
       "</style>\n",
       "<table border=\"1\" class=\"dataframe\">\n",
       "  <thead>\n",
       "    <tr style=\"text-align: right;\">\n",
       "      <th></th>\n",
       "      <th>Company</th>\n",
       "      <th>Specific Bean Origin</th>\n",
       "      <th>REF</th>\n",
       "      <th>Review</th>\n",
       "      <th>Cocoa Percent</th>\n",
       "      <th>Company Location</th>\n",
       "      <th>Rating</th>\n",
       "      <th>Bean Type</th>\n",
       "      <th>Broad Bean Origin</th>\n",
       "    </tr>\n",
       "  </thead>\n",
       "  <tbody>\n",
       "    <tr>\n",
       "      <th>0</th>\n",
       "      <td>Willie's Cacao</td>\n",
       "      <td>Rio Caribe</td>\n",
       "      <td>457</td>\n",
       "      <td>2009</td>\n",
       "      <td>72%</td>\n",
       "      <td>U.K.</td>\n",
       "      <td>3.25</td>\n",
       "      <td>Trinitario</td>\n",
       "      <td>Venezuela</td>\n",
       "    </tr>\n",
       "    <tr>\n",
       "      <th>1</th>\n",
       "      <td>Beschle (Felchlin)</td>\n",
       "      <td>Ocumare, Premier Cru, Quizas No. 2</td>\n",
       "      <td>508</td>\n",
       "      <td>2010</td>\n",
       "      <td>72%</td>\n",
       "      <td>Switzerland</td>\n",
       "      <td>3.50</td>\n",
       "      <td></td>\n",
       "      <td>Venezuela</td>\n",
       "    </tr>\n",
       "    <tr>\n",
       "      <th>2</th>\n",
       "      <td>Dark Forest</td>\n",
       "      <td>Tanzania</td>\n",
       "      <td>1554</td>\n",
       "      <td>2015</td>\n",
       "      <td>70%</td>\n",
       "      <td>U.S.A.</td>\n",
       "      <td>3.00</td>\n",
       "      <td></td>\n",
       "      <td>Tanzania</td>\n",
       "    </tr>\n",
       "    <tr>\n",
       "      <th>3</th>\n",
       "      <td>Brasstown aka It's Chocolate</td>\n",
       "      <td>Cooproagro</td>\n",
       "      <td>1125</td>\n",
       "      <td>2013</td>\n",
       "      <td>72%</td>\n",
       "      <td>U.S.A.</td>\n",
       "      <td>3.00</td>\n",
       "      <td>Trinitario</td>\n",
       "      <td>Dominican Republic</td>\n",
       "    </tr>\n",
       "    <tr>\n",
       "      <th>4</th>\n",
       "      <td>Pralus</td>\n",
       "      <td>Java, Indonesie</td>\n",
       "      <td>32</td>\n",
       "      <td>2006</td>\n",
       "      <td>75%</td>\n",
       "      <td>France</td>\n",
       "      <td>3.50</td>\n",
       "      <td>Criollo</td>\n",
       "      <td>Indonesia</td>\n",
       "    </tr>\n",
       "    <tr>\n",
       "      <th>...</th>\n",
       "      <td>...</td>\n",
       "      <td>...</td>\n",
       "      <td>...</td>\n",
       "      <td>...</td>\n",
       "      <td>...</td>\n",
       "      <td>...</td>\n",
       "      <td>...</td>\n",
       "      <td>...</td>\n",
       "      <td>...</td>\n",
       "    </tr>\n",
       "    <tr>\n",
       "      <th>1250</th>\n",
       "      <td>Artisan du Chocolat</td>\n",
       "      <td>Madagascar</td>\n",
       "      <td>363</td>\n",
       "      <td>2009</td>\n",
       "      <td>80%</td>\n",
       "      <td>U.K.</td>\n",
       "      <td>3.00</td>\n",
       "      <td>Criollo, Trinitario</td>\n",
       "      <td>Madagascar</td>\n",
       "    </tr>\n",
       "    <tr>\n",
       "      <th>1251</th>\n",
       "      <td>Marana</td>\n",
       "      <td>Cusco</td>\n",
       "      <td>1884</td>\n",
       "      <td>2016</td>\n",
       "      <td>70%</td>\n",
       "      <td>Peru</td>\n",
       "      <td>2.75</td>\n",
       "      <td></td>\n",
       "      <td>Peru</td>\n",
       "    </tr>\n",
       "    <tr>\n",
       "      <th>1252</th>\n",
       "      <td>Arete</td>\n",
       "      <td>Nacional</td>\n",
       "      <td>1534</td>\n",
       "      <td>2015</td>\n",
       "      <td>68%</td>\n",
       "      <td>U.S.A.</td>\n",
       "      <td>3.50</td>\n",
       "      <td>Forastero (Nacional)</td>\n",
       "      <td>Peru</td>\n",
       "    </tr>\n",
       "    <tr>\n",
       "      <th>1253</th>\n",
       "      <td>Fresco</td>\n",
       "      <td>Conacado, #212, LR, SC</td>\n",
       "      <td>642</td>\n",
       "      <td>2011</td>\n",
       "      <td>72%</td>\n",
       "      <td>U.S.A.</td>\n",
       "      <td>3.50</td>\n",
       "      <td></td>\n",
       "      <td>Dominican Republic</td>\n",
       "    </tr>\n",
       "    <tr>\n",
       "      <th>1254</th>\n",
       "      <td>Zak's</td>\n",
       "      <td>Madagascar, Batch 2</td>\n",
       "      <td>1578</td>\n",
       "      <td>2015</td>\n",
       "      <td>70%</td>\n",
       "      <td>U.S.A.</td>\n",
       "      <td>3.25</td>\n",
       "      <td>Trinitario</td>\n",
       "      <td>Madagascar</td>\n",
       "    </tr>\n",
       "  </tbody>\n",
       "</table>\n",
       "<p>1255 rows × 9 columns</p>\n",
       "</div>"
      ],
      "text/plain": [
       "                           Company                Specific Bean Origin   REF  \\\n",
       "0                   Willie's Cacao                          Rio Caribe   457   \n",
       "1               Beschle (Felchlin)  Ocumare, Premier Cru, Quizas No. 2   508   \n",
       "2                      Dark Forest                            Tanzania  1554   \n",
       "3     Brasstown aka It's Chocolate                          Cooproagro  1125   \n",
       "4                           Pralus                     Java, Indonesie    32   \n",
       "...                            ...                                 ...   ...   \n",
       "1250           Artisan du Chocolat                          Madagascar   363   \n",
       "1251                        Marana                               Cusco  1884   \n",
       "1252                         Arete                            Nacional  1534   \n",
       "1253                        Fresco              Conacado, #212, LR, SC   642   \n",
       "1254                         Zak's                 Madagascar, Batch 2  1578   \n",
       "\n",
       "      Review Cocoa Percent Company Location  Rating             Bean Type  \\\n",
       "0       2009           72%             U.K.    3.25            Trinitario   \n",
       "1       2010           72%      Switzerland    3.50                         \n",
       "2       2015           70%           U.S.A.    3.00                         \n",
       "3       2013           72%           U.S.A.    3.00            Trinitario   \n",
       "4       2006           75%           France    3.50               Criollo   \n",
       "...      ...           ...              ...     ...                   ...   \n",
       "1250    2009           80%             U.K.    3.00   Criollo, Trinitario   \n",
       "1251    2016           70%             Peru    2.75                         \n",
       "1252    2015           68%           U.S.A.    3.50  Forastero (Nacional)   \n",
       "1253    2011           72%           U.S.A.    3.50                         \n",
       "1254    2015           70%           U.S.A.    3.25            Trinitario   \n",
       "\n",
       "       Broad Bean Origin  \n",
       "0              Venezuela  \n",
       "1              Venezuela  \n",
       "2               Tanzania  \n",
       "3     Dominican Republic  \n",
       "4              Indonesia  \n",
       "...                  ...  \n",
       "1250          Madagascar  \n",
       "1251                Peru  \n",
       "1252                Peru  \n",
       "1253  Dominican Republic  \n",
       "1254          Madagascar  \n",
       "\n",
       "[1255 rows x 9 columns]"
      ]
     },
     "execution_count": 37,
     "metadata": {},
     "output_type": "execute_result"
    }
   ],
   "source": [
    "df_train"
   ]
  },
  {
   "cell_type": "code",
   "execution_count": null,
   "id": "2b5423f9",
   "metadata": {},
   "outputs": [],
   "source": []
  },
  {
   "cell_type": "markdown",
   "id": "69778cf7",
   "metadata": {},
   "source": [
    "## 10.1 New models"
   ]
  },
  {
   "cell_type": "code",
   "execution_count": 40,
   "id": "98c2cd4b",
   "metadata": {},
   "outputs": [],
   "source": [
    "df_train = preprocessing_step1(df_train)\n",
    "df_test = preprocessing_step1(df_test)"
   ]
  },
  {
   "cell_type": "code",
   "execution_count": 41,
   "id": "f9182262",
   "metadata": {},
   "outputs": [
    {
     "data": {
      "text/plain": [
       "Company                  object\n",
       "Specific Bean Origin     object\n",
       "REF                       int64\n",
       "Review                    int64\n",
       "Cocoa Percent           float64\n",
       "Company Location         object\n",
       "Rating                  float64\n",
       "Bean Type                object\n",
       "Broad Bean Origin        object\n",
       "dtype: object"
      ]
     },
     "execution_count": 41,
     "metadata": {},
     "output_type": "execute_result"
    }
   ],
   "source": []
  },
  {
   "cell_type": "code",
   "execution_count": null,
   "id": "6c9bcbaa",
   "metadata": {},
   "outputs": [],
   "source": []
  }
 ],
 "metadata": {
  "kernelspec": {
   "display_name": "Python 3 (ipykernel)",
   "language": "python",
   "name": "python3"
  },
  "language_info": {
   "codemirror_mode": {
    "name": "ipython",
    "version": 3
   },
   "file_extension": ".py",
   "mimetype": "text/x-python",
   "name": "python",
   "nbconvert_exporter": "python",
   "pygments_lexer": "ipython3",
   "version": "3.11.3"
  },
  "toc": {
   "base_numbering": 1,
   "nav_menu": {},
   "number_sections": false,
   "sideBar": true,
   "skip_h1_title": false,
   "title_cell": "Table of Contents",
   "title_sidebar": "Contents",
   "toc_cell": true,
   "toc_position": {
    "height": "calc(100% - 180px)",
    "left": "10px",
    "top": "150px",
    "width": "215.4px"
   },
   "toc_section_display": true,
   "toc_window_display": true
  }
 },
 "nbformat": 4,
 "nbformat_minor": 5
}
